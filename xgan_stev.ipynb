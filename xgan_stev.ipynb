{
  "nbformat": 4,
  "nbformat_minor": 0,
  "metadata": {
    "colab": {
      "name": "xgan_stev.ipynb",
      "provenance": [],
      "collapsed_sections": [],
      "toc_visible": true,
      "include_colab_link": true
    },
    "kernelspec": {
      "name": "python3",
      "display_name": "Python 3"
    },
    "accelerator": "GPU",
    "widgets": {
      "application/vnd.jupyter.widget-state+json": {
        "bc692fe97f6d45599d3c1d9b016b6b71": {
          "model_module": "@jupyter-widgets/controls",
          "model_name": "HBoxModel",
          "state": {
            "_view_name": "HBoxView",
            "_dom_classes": [],
            "_model_name": "HBoxModel",
            "_view_module": "@jupyter-widgets/controls",
            "_model_module_version": "1.5.0",
            "_view_count": null,
            "_view_module_version": "1.5.0",
            "box_style": "",
            "layout": "IPY_MODEL_f04012140c934568aabdea30fd4f6b21",
            "_model_module": "@jupyter-widgets/controls",
            "children": [
              "IPY_MODEL_b253571582bc4036b1920ef3d89428c2",
              "IPY_MODEL_25d9fe69a5c9427aaafa9782cca9ef80"
            ]
          }
        },
        "f04012140c934568aabdea30fd4f6b21": {
          "model_module": "@jupyter-widgets/base",
          "model_name": "LayoutModel",
          "state": {
            "_view_name": "LayoutView",
            "grid_template_rows": null,
            "right": null,
            "justify_content": null,
            "_view_module": "@jupyter-widgets/base",
            "overflow": null,
            "_model_module_version": "1.2.0",
            "_view_count": null,
            "flex_flow": null,
            "width": null,
            "min_width": null,
            "border": null,
            "align_items": null,
            "bottom": null,
            "_model_module": "@jupyter-widgets/base",
            "top": null,
            "grid_column": null,
            "overflow_y": null,
            "overflow_x": null,
            "grid_auto_flow": null,
            "grid_area": null,
            "grid_template_columns": null,
            "flex": null,
            "_model_name": "LayoutModel",
            "justify_items": null,
            "grid_row": null,
            "max_height": null,
            "align_content": null,
            "visibility": null,
            "align_self": null,
            "height": null,
            "min_height": null,
            "padding": null,
            "grid_auto_rows": null,
            "grid_gap": null,
            "max_width": null,
            "order": null,
            "_view_module_version": "1.2.0",
            "grid_template_areas": null,
            "object_position": null,
            "object_fit": null,
            "grid_auto_columns": null,
            "margin": null,
            "display": null,
            "left": null
          }
        },
        "b253571582bc4036b1920ef3d89428c2": {
          "model_module": "@jupyter-widgets/controls",
          "model_name": "FloatProgressModel",
          "state": {
            "_view_name": "ProgressView",
            "style": "IPY_MODEL_2327c5b493964f628c85aa9c62abbcee",
            "_dom_classes": [],
            "description": "  0%",
            "_model_name": "FloatProgressModel",
            "bar_style": "",
            "max": 700,
            "_view_module": "@jupyter-widgets/controls",
            "_model_module_version": "1.5.0",
            "value": 3,
            "_view_count": null,
            "_view_module_version": "1.5.0",
            "orientation": "horizontal",
            "min": 0,
            "description_tooltip": null,
            "_model_module": "@jupyter-widgets/controls",
            "layout": "IPY_MODEL_162fe1a6cfab4709b7cfed87af1bbb60"
          }
        },
        "25d9fe69a5c9427aaafa9782cca9ef80": {
          "model_module": "@jupyter-widgets/controls",
          "model_name": "HTMLModel",
          "state": {
            "_view_name": "HTMLView",
            "style": "IPY_MODEL_1d8361f71b964c4f9699e18bac2ecfd3",
            "_dom_classes": [],
            "description": "",
            "_model_name": "HTMLModel",
            "placeholder": "​",
            "_view_module": "@jupyter-widgets/controls",
            "_model_module_version": "1.5.0",
            "value": " 3/700 [01:13&lt;4:44:16, 24.47s/it]",
            "_view_count": null,
            "_view_module_version": "1.5.0",
            "description_tooltip": null,
            "_model_module": "@jupyter-widgets/controls",
            "layout": "IPY_MODEL_d7c61d241b4748d6b342f3079ed4e22e"
          }
        },
        "2327c5b493964f628c85aa9c62abbcee": {
          "model_module": "@jupyter-widgets/controls",
          "model_name": "ProgressStyleModel",
          "state": {
            "_view_name": "StyleView",
            "_model_name": "ProgressStyleModel",
            "description_width": "initial",
            "_view_module": "@jupyter-widgets/base",
            "_model_module_version": "1.5.0",
            "_view_count": null,
            "_view_module_version": "1.2.0",
            "bar_color": null,
            "_model_module": "@jupyter-widgets/controls"
          }
        },
        "162fe1a6cfab4709b7cfed87af1bbb60": {
          "model_module": "@jupyter-widgets/base",
          "model_name": "LayoutModel",
          "state": {
            "_view_name": "LayoutView",
            "grid_template_rows": null,
            "right": null,
            "justify_content": null,
            "_view_module": "@jupyter-widgets/base",
            "overflow": null,
            "_model_module_version": "1.2.0",
            "_view_count": null,
            "flex_flow": null,
            "width": null,
            "min_width": null,
            "border": null,
            "align_items": null,
            "bottom": null,
            "_model_module": "@jupyter-widgets/base",
            "top": null,
            "grid_column": null,
            "overflow_y": null,
            "overflow_x": null,
            "grid_auto_flow": null,
            "grid_area": null,
            "grid_template_columns": null,
            "flex": null,
            "_model_name": "LayoutModel",
            "justify_items": null,
            "grid_row": null,
            "max_height": null,
            "align_content": null,
            "visibility": null,
            "align_self": null,
            "height": null,
            "min_height": null,
            "padding": null,
            "grid_auto_rows": null,
            "grid_gap": null,
            "max_width": null,
            "order": null,
            "_view_module_version": "1.2.0",
            "grid_template_areas": null,
            "object_position": null,
            "object_fit": null,
            "grid_auto_columns": null,
            "margin": null,
            "display": null,
            "left": null
          }
        },
        "1d8361f71b964c4f9699e18bac2ecfd3": {
          "model_module": "@jupyter-widgets/controls",
          "model_name": "DescriptionStyleModel",
          "state": {
            "_view_name": "StyleView",
            "_model_name": "DescriptionStyleModel",
            "description_width": "",
            "_view_module": "@jupyter-widgets/base",
            "_model_module_version": "1.5.0",
            "_view_count": null,
            "_view_module_version": "1.2.0",
            "_model_module": "@jupyter-widgets/controls"
          }
        },
        "d7c61d241b4748d6b342f3079ed4e22e": {
          "model_module": "@jupyter-widgets/base",
          "model_name": "LayoutModel",
          "state": {
            "_view_name": "LayoutView",
            "grid_template_rows": null,
            "right": null,
            "justify_content": null,
            "_view_module": "@jupyter-widgets/base",
            "overflow": null,
            "_model_module_version": "1.2.0",
            "_view_count": null,
            "flex_flow": null,
            "width": null,
            "min_width": null,
            "border": null,
            "align_items": null,
            "bottom": null,
            "_model_module": "@jupyter-widgets/base",
            "top": null,
            "grid_column": null,
            "overflow_y": null,
            "overflow_x": null,
            "grid_auto_flow": null,
            "grid_area": null,
            "grid_template_columns": null,
            "flex": null,
            "_model_name": "LayoutModel",
            "justify_items": null,
            "grid_row": null,
            "max_height": null,
            "align_content": null,
            "visibility": null,
            "align_self": null,
            "height": null,
            "min_height": null,
            "padding": null,
            "grid_auto_rows": null,
            "grid_gap": null,
            "max_width": null,
            "order": null,
            "_view_module_version": "1.2.0",
            "grid_template_areas": null,
            "object_position": null,
            "object_fit": null,
            "grid_auto_columns": null,
            "margin": null,
            "display": null,
            "left": null
          }
        }
      }
    }
  },
  "cells": [
    {
      "cell_type": "markdown",
      "metadata": {
        "id": "view-in-github",
        "colab_type": "text"
      },
      "source": [
        "<a href=\"https://colab.research.google.com/github/Leinadh/avatar-image-generator/blob/master/xgan_stev.ipynb\" target=\"_parent\"><img src=\"https://colab.research.google.com/assets/colab-badge.svg\" alt=\"Open In Colab\"/></a>"
      ]
    },
    {
      "cell_type": "markdown",
      "metadata": {
        "id": "lyxTeUm0OP8Q",
        "colab_type": "text"
      },
      "source": [
        "# **XGAN: Unsupervised Image-to-Image Translation for Many-to-Many Mapping Problems**\n",
        "\n",
        "Implementation of XGAN model for automatic cartoon generation from real faces. "
      ]
    },
    {
      "cell_type": "code",
      "metadata": {
        "id": "t71ETfNSHosY",
        "colab_type": "code",
        "colab": {
          "base_uri": "https://localhost:8080/",
          "height": 35
        },
        "outputId": "23e78cdd-09c3-476a-ca2f-125701407575"
      },
      "source": [
        "from google.colab import drive\n",
        "drive.mount('/content/drive')"
      ],
      "execution_count": 1,
      "outputs": [
        {
          "output_type": "stream",
          "text": [
            "Mounted at /content/drive\n"
          ],
          "name": "stdout"
        }
      ]
    },
    {
      "cell_type": "code",
      "metadata": {
        "id": "_QroqqvjYQLy",
        "colab_type": "code",
        "colab": {
          "base_uri": "https://localhost:8080/",
          "height": 1000
        },
        "outputId": "578a8aa0-2ca0-4574-8b99-2b804ca8ba1e"
      },
      "source": [
        "!pip install wandb"
      ],
      "execution_count": 2,
      "outputs": [
        {
          "output_type": "stream",
          "text": [
            "Collecting wandb\n",
            "\u001b[?25l  Downloading https://files.pythonhosted.org/packages/2e/d2/f864e4fea30223a694b1454fbe8634eab70d409b5185ec56914bae04d1e8/wandb-0.10.2-py2.py3-none-any.whl (1.6MB)\n",
            "\u001b[K     |████████████████████████████████| 1.6MB 2.9MB/s \n",
            "\u001b[?25hCollecting GitPython>=1.0.0\n",
            "\u001b[?25l  Downloading https://files.pythonhosted.org/packages/09/bc/ae32e07e89cc25b9e5c793d19a1e5454d30a8e37d95040991160f942519e/GitPython-3.1.8-py3-none-any.whl (159kB)\n",
            "\u001b[K     |████████████████████████████████| 163kB 16.7MB/s \n",
            "\u001b[?25hCollecting docker-pycreds>=0.4.0\n",
            "  Downloading https://files.pythonhosted.org/packages/f5/e8/f6bd1eee09314e7e6dee49cbe2c5e22314ccdb38db16c9fc72d2fa80d054/docker_pycreds-0.4.0-py2.py3-none-any.whl\n",
            "Collecting configparser>=3.8.1\n",
            "  Downloading https://files.pythonhosted.org/packages/4b/6b/01baa293090240cf0562cc5eccb69c6f5006282127f2b846fad011305c79/configparser-5.0.0-py3-none-any.whl\n",
            "Collecting subprocess32>=3.5.3\n",
            "\u001b[?25l  Downloading https://files.pythonhosted.org/packages/32/c8/564be4d12629b912ea431f1a50eb8b3b9d00f1a0b1ceff17f266be190007/subprocess32-3.5.4.tar.gz (97kB)\n",
            "\u001b[K     |████████████████████████████████| 102kB 7.6MB/s \n",
            "\u001b[?25hRequirement already satisfied: promise<3,>=2.0 in /usr/local/lib/python3.6/dist-packages (from wandb) (2.3)\n",
            "Collecting shortuuid>=0.5.0\n",
            "  Downloading https://files.pythonhosted.org/packages/25/a6/2ecc1daa6a304e7f1b216f0896b26156b78e7c38e1211e9b798b4716c53d/shortuuid-1.0.1-py3-none-any.whl\n",
            "Collecting sentry-sdk>=0.4.0\n",
            "\u001b[?25l  Downloading https://files.pythonhosted.org/packages/6f/0f/fabe13834484d499064198f8ecf6904a4ce569246ce41d2d747432a8f3c8/sentry_sdk-0.17.8-py2.py3-none-any.whl (120kB)\n",
            "\u001b[K     |████████████████████████████████| 122kB 17.2MB/s \n",
            "\u001b[?25hRequirement already satisfied: PyYAML in /usr/local/lib/python3.6/dist-packages (from wandb) (3.13)\n",
            "Requirement already satisfied: python-dateutil>=2.6.1 in /usr/local/lib/python3.6/dist-packages (from wandb) (2.8.1)\n",
            "Requirement already satisfied: six>=1.13.0 in /usr/local/lib/python3.6/dist-packages (from wandb) (1.15.0)\n",
            "Requirement already satisfied: Click>=7.0 in /usr/local/lib/python3.6/dist-packages (from wandb) (7.1.2)\n",
            "Requirement already satisfied: psutil>=5.0.0 in /usr/local/lib/python3.6/dist-packages (from wandb) (5.4.8)\n",
            "Requirement already satisfied: requests<3,>=2.0.0 in /usr/local/lib/python3.6/dist-packages (from wandb) (2.23.0)\n",
            "Collecting watchdog>=0.8.3\n",
            "\u001b[?25l  Downloading https://files.pythonhosted.org/packages/0e/06/121302598a4fc01aca942d937f4a2c33430b7181137b35758913a8db10ad/watchdog-0.10.3.tar.gz (94kB)\n",
            "\u001b[K     |████████████████████████████████| 102kB 7.7MB/s \n",
            "\u001b[?25hRequirement already satisfied: protobuf>=3.12.0 in /usr/local/lib/python3.6/dist-packages (from wandb) (3.12.4)\n",
            "Collecting gitdb<5,>=4.0.1\n",
            "\u001b[?25l  Downloading https://files.pythonhosted.org/packages/48/11/d1800bca0a3bae820b84b7d813ad1eff15a48a64caea9c823fc8c1b119e8/gitdb-4.0.5-py3-none-any.whl (63kB)\n",
            "\u001b[K     |████████████████████████████████| 71kB 6.6MB/s \n",
            "\u001b[?25hRequirement already satisfied: certifi in /usr/local/lib/python3.6/dist-packages (from sentry-sdk>=0.4.0->wandb) (2020.6.20)\n",
            "Requirement already satisfied: urllib3>=1.10.0 in /usr/local/lib/python3.6/dist-packages (from sentry-sdk>=0.4.0->wandb) (1.24.3)\n",
            "Requirement already satisfied: idna<3,>=2.5 in /usr/local/lib/python3.6/dist-packages (from requests<3,>=2.0.0->wandb) (2.10)\n",
            "Requirement already satisfied: chardet<4,>=3.0.2 in /usr/local/lib/python3.6/dist-packages (from requests<3,>=2.0.0->wandb) (3.0.4)\n",
            "Collecting pathtools>=0.1.1\n",
            "  Downloading https://files.pythonhosted.org/packages/e7/7f/470d6fcdf23f9f3518f6b0b76be9df16dcc8630ad409947f8be2eb0ed13a/pathtools-0.1.2.tar.gz\n",
            "Requirement already satisfied: setuptools in /usr/local/lib/python3.6/dist-packages (from protobuf>=3.12.0->wandb) (50.3.0)\n",
            "Collecting smmap<4,>=3.0.1\n",
            "  Downloading https://files.pythonhosted.org/packages/b0/9a/4d409a6234eb940e6a78dfdfc66156e7522262f5f2fecca07dc55915952d/smmap-3.0.4-py2.py3-none-any.whl\n",
            "Building wheels for collected packages: subprocess32, watchdog, pathtools\n",
            "  Building wheel for subprocess32 (setup.py) ... \u001b[?25l\u001b[?25hdone\n",
            "  Created wheel for subprocess32: filename=subprocess32-3.5.4-cp36-none-any.whl size=6489 sha256=b70bf79dde724a91e9e13689d887e2dd160c3922f9effed975038f4e3b4d940d\n",
            "  Stored in directory: /root/.cache/pip/wheels/68/39/1a/5e402bdfdf004af1786c8b853fd92f8c4a04f22aad179654d1\n",
            "  Building wheel for watchdog (setup.py) ... \u001b[?25l\u001b[?25hdone\n",
            "  Created wheel for watchdog: filename=watchdog-0.10.3-cp36-none-any.whl size=73873 sha256=ac34e5d4a2bf2b082c87919fd6a1f09c465f58acfdcc675c0d29043a61e3387d\n",
            "  Stored in directory: /root/.cache/pip/wheels/a8/1d/38/2c19bb311f67cc7b4d07a2ec5ea36ab1a0a0ea50db994a5bc7\n",
            "  Building wheel for pathtools (setup.py) ... \u001b[?25l\u001b[?25hdone\n",
            "  Created wheel for pathtools: filename=pathtools-0.1.2-cp36-none-any.whl size=8785 sha256=e6e2893342cddfcc363a65d6b93d0421789b0f2dad6da63f78333e9ccd35935b\n",
            "  Stored in directory: /root/.cache/pip/wheels/0b/04/79/c3b0c3a0266a3cb4376da31e5bfe8bba0c489246968a68e843\n",
            "Successfully built subprocess32 watchdog pathtools\n",
            "Installing collected packages: smmap, gitdb, GitPython, docker-pycreds, configparser, subprocess32, shortuuid, sentry-sdk, pathtools, watchdog, wandb\n",
            "Successfully installed GitPython-3.1.8 configparser-5.0.0 docker-pycreds-0.4.0 gitdb-4.0.5 pathtools-0.1.2 sentry-sdk-0.17.8 shortuuid-1.0.1 smmap-3.0.4 subprocess32-3.5.4 wandb-0.10.2 watchdog-0.10.3\n"
          ],
          "name": "stdout"
        }
      ]
    },
    {
      "cell_type": "code",
      "metadata": {
        "id": "lgHsjngYYV7p",
        "colab_type": "code",
        "colab": {
          "base_uri": "https://localhost:8080/",
          "height": 35
        },
        "outputId": "2106c854-c3d7-4aca-a4a2-4058e73a95ab"
      },
      "source": [
        "!wandb login 17d2772d85cbda79162bd975e45fdfbf3bb18911"
      ],
      "execution_count": 3,
      "outputs": [
        {
          "output_type": "stream",
          "text": [
            "\u001b[34m\u001b[1mwandb\u001b[0m: Appending key for api.wandb.ai to your netrc file: /root/.netrc\n"
          ],
          "name": "stdout"
        }
      ]
    },
    {
      "cell_type": "code",
      "metadata": {
        "id": "fUybXBHLbjXb",
        "colab_type": "code",
        "colab": {
          "base_uri": "https://localhost:8080/",
          "height": 127
        },
        "outputId": "be88bb7f-db8d-43c8-b282-90e2629dc023"
      },
      "source": [
        "!git clone https://github.com/Leinadh/avatar-image-generator.git"
      ],
      "execution_count": 4,
      "outputs": [
        {
          "output_type": "stream",
          "text": [
            "Cloning into 'avatar-image-generator'...\n",
            "remote: Enumerating objects: 33068, done.\u001b[K\n",
            "remote: Total 33068 (delta 0), reused 0 (delta 0), pack-reused 33068\u001b[K\n",
            "Receiving objects: 100% (33068/33068), 1.37 GiB | 15.09 MiB/s, done.\n",
            "Resolving deltas: 100% (59/59), done.\n",
            "Checking out files: 100% (33638/33638), done.\n"
          ],
          "name": "stdout"
        }
      ]
    },
    {
      "cell_type": "code",
      "metadata": {
        "id": "yBH2r_0xCuKd",
        "colab_type": "code",
        "colab": {}
      },
      "source": [
        "!rm -r avatar-image-generator/datasets/face_datasets/face_images_wo_bg/ avatar-image-generator/datasets/face_datasets/vgg_face_dataset/\n",
        "!rm -r avatar-image-generator/datasets/cartoon_datasets/*.csv avatar-image-generator/datasets/cartoon_datasets/cartoonset100k_limited/"
      ],
      "execution_count": 5,
      "outputs": []
    },
    {
      "cell_type": "code",
      "metadata": {
        "id": "ODmcmZ6C935X",
        "colab_type": "code",
        "colab": {}
      },
      "source": [
        "#!cd avatar-image-generator/; git pull"
      ],
      "execution_count": 6,
      "outputs": []
    },
    {
      "cell_type": "code",
      "metadata": {
        "id": "SSRoiFlsqt9O",
        "colab_type": "code",
        "colab": {}
      },
      "source": [
        "import wandb"
      ],
      "execution_count": 7,
      "outputs": []
    },
    {
      "cell_type": "code",
      "metadata": {
        "id": "1H-xFcMAqu19",
        "colab_type": "code",
        "colab": {
          "base_uri": "https://localhost:8080/",
          "height": 161
        },
        "outputId": "02b988e9-90c6-4b15-ca39-7a440543ab19"
      },
      "source": [
        "wandb.init(project=\"avatar_image_generator\")\n",
        "wandb.watch_called = False"
      ],
      "execution_count": 8,
      "outputs": [
        {
          "output_type": "stream",
          "text": [
            "\u001b[34m\u001b[1mwandb\u001b[0m: Currently logged in as: \u001b[33mstevramos\u001b[0m (use `wandb login --relogin` to force relogin)\n",
            "\u001b[34m\u001b[1mwandb\u001b[0m: Tracking run with wandb version 0.10.2\n",
            "\u001b[34m\u001b[1mwandb\u001b[0m: Run data is saved locally in wandb/run-20200928_073208-1b9k0zez\n",
            "\u001b[34m\u001b[1mwandb\u001b[0m: Syncing run \u001b[33mrose-water-1\u001b[0m\n"
          ],
          "name": "stderr"
        },
        {
          "output_type": "display_data",
          "data": {
            "text/html": [
              "\n",
              "                Logging results to <a href=\"https://wandb.com\" target=\"_blank\">Weights & Biases</a> <a href=\"https://docs.wandb.com/integrations/jupyter.html\" target=\"_blank\">(Documentation)</a>.<br/>\n",
              "                Project page: <a href=\"https://wandb.ai/stevramos/avatar_image_generator\" target=\"_blank\">https://wandb.ai/stevramos/avatar_image_generator</a><br/>\n",
              "                Run page: <a href=\"https://wandb.ai/stevramos/avatar_image_generator/runs/1b9k0zez\" target=\"_blank\">https://wandb.ai/stevramos/avatar_image_generator/runs/1b9k0zez</a><br/>\n",
              "            "
            ],
            "text/plain": [
              "<IPython.core.display.HTML object>"
            ]
          },
          "metadata": {
            "tags": []
          }
        },
        {
          "output_type": "stream",
          "text": [
            "\n"
          ],
          "name": "stdout"
        }
      ]
    },
    {
      "cell_type": "code",
      "metadata": {
        "id": "K7gkUn72PKtV",
        "colab_type": "code",
        "colab": {}
      },
      "source": [
        "import math\n",
        "import numpy as np\n",
        "import pandas as pd\n",
        "import matplotlib.pyplot as plt\n",
        "%matplotlib inline\n",
        "import os, sys \n",
        "\n",
        "import torch\n",
        "import torch.nn as nn\n",
        "import torch.nn.functional as F\n",
        "\n",
        "import torchvision.transforms as transforms\n",
        "import torchvision\n",
        "from torch.autograd import Variable\n",
        "from torch.utils.data import DataLoader\n",
        "\n",
        "from tqdm.notebook import tqdm\n",
        "from PIL import Image\n",
        "\n",
        "import logging\n",
        "\n"
      ],
      "execution_count": 9,
      "outputs": []
    },
    {
      "cell_type": "code",
      "metadata": {
        "id": "z_KdV1bdj0tH",
        "colab_type": "code",
        "colab": {}
      },
      "source": [
        "def configure_model():\n",
        "\n",
        "  config = wandb.config \n",
        "\n",
        "  config.seed = 0\n",
        "  ### hyperparameters ###\n",
        "\n",
        "  config.batch_size = 32\n",
        "  config.image_size = 64\n",
        "  config.use_gpu = True\n",
        "  config.workers = 4\n",
        "\n",
        "  config.dropout_rate_eshared = 0.5\n",
        "  config.dropout_rate_cdann = 0.5\n",
        "\n",
        "  config.learning_rate_opTotal = 1e-4\n",
        "\n",
        "  config.learning_rate_opDisc = 1e-3\n",
        "  config.b1_disc = 0.5\n",
        "\n",
        "  config.learning_rate_opCdann = 1e-3\n",
        "  config.b1_cdann = 0.99\n",
        "\n",
        "  config.learning_rate_denoiser = 1e-3\n",
        "\n",
        "  config.ws = 0.5\n",
        "  config.wg = 0.7\n",
        "\n",
        "  config.num_epochs = 700\n",
        "\n",
        "  return config"
      ],
      "execution_count": 10,
      "outputs": []
    },
    {
      "cell_type": "code",
      "metadata": {
        "id": "JC6FQf5Vk55O",
        "colab_type": "code",
        "colab": {}
      },
      "source": [
        "# cambiar esto\n",
        "\n",
        "config = configure_model()"
      ],
      "execution_count": 11,
      "outputs": []
    },
    {
      "cell_type": "code",
      "metadata": {
        "id": "RYXcezzaNbll",
        "colab_type": "code",
        "colab": {}
      },
      "source": [
        "torch.manual_seed(config.seed)\n",
        "np.random.seed(config.seed)"
      ],
      "execution_count": 12,
      "outputs": []
    },
    {
      "cell_type": "markdown",
      "metadata": {
        "id": "YGjCLck3Q2Sx",
        "colab_type": "text"
      },
      "source": [
        "## Preprocessing images - faces"
      ]
    },
    {
      "cell_type": "code",
      "metadata": {
        "id": "hmHGcw6GicJ1",
        "colab_type": "code",
        "colab": {}
      },
      "source": [
        "import cv2\n",
        "import helper"
      ],
      "execution_count": 13,
      "outputs": []
    },
    {
      "cell_type": "code",
      "metadata": {
        "id": "zZByrNR2SCK1",
        "colab_type": "code",
        "colab": {
          "base_uri": "https://localhost:8080/",
          "height": 287
        },
        "outputId": "61aa68bb-8bfc-48e3-b5b1-3ac3503d7b9a"
      },
      "source": [
        "path_faces = '/content/avatar-image-generator/datasets/face_datasets/face_images_wo_bg_permissive/'\n",
        "\n",
        "img = cv2.imread(path_faces + 'A.J._Buckley_1_wo_bg.jpg')\n",
        "img = cv2.cvtColor(img, cv2.COLOR_RGB2BGR)\n",
        "print(img.shape)\n",
        "plt.imshow(img)\n",
        "plt.show()"
      ],
      "execution_count": 14,
      "outputs": [
        {
          "output_type": "stream",
          "text": [
            "(254, 222, 3)\n"
          ],
          "name": "stdout"
        },
        {
          "output_type": "display_data",
          "data": {
            "image/png": "[encoded data removed]",
            "text/plain": [
              "<Figure size 432x288 with 1 Axes>"
            ]
          },
          "metadata": {
            "tags": [],
            "needs_background": "light"
          }
        }
      ]
    },
    {
      "cell_type": "code",
      "metadata": {
        "id": "o8kvJ-ZvPKWg",
        "colab_type": "code",
        "colab": {
          "base_uri": "https://localhost:8080/",
          "height": 238
        },
        "outputId": "edafb1ba-1521-461f-d2e8-d3c9325b2a76"
      },
      "source": [
        "path_faces = '/content/avatar-image-generator/datasets/face_datasets/'\n",
        "\n",
        "transform = transforms.Compose([\n",
        "                transforms.Resize((config.image_size,config.image_size)) ,\n",
        "                transforms.ToTensor(),\n",
        "                # transforms.Normalize((0.5,0.5,0.5), (0.5,0.5,0.5))\n",
        "                ])\n",
        "\n",
        "dataset_faces = torchvision.datasets.ImageFolder(path_faces, transform=transform)\n",
        "\n",
        "train_dataset_faces, test_dataset_faces = torch.utils.data.random_split(dataset_faces,\n",
        "                                                                                (int(len(dataset_faces)*0.9),len(dataset_faces) - int(len(dataset_faces)*0.9)))\n",
        "\n",
        "\n",
        "train_loader_faces = torch.utils.data.DataLoader(\n",
        "    train_dataset_faces,\n",
        "    batch_size=config.batch_size,\n",
        "    shuffle=True,\n",
        "    num_workers = config.workers)\n",
        "\n",
        "test_loader_faces = torch.utils.data.DataLoader(\n",
        "    test_dataset_faces,\n",
        "    batch_size=config.batch_size,\n",
        "    shuffle=True,\n",
        "    num_workers = config.workers)\n",
        "\n",
        "dataiter = iter(train_loader_faces)\n",
        "images_faces = dataiter.next()\n",
        "\n",
        "# show images\n",
        "# print(images[0])\n",
        "plt.imshow(torchvision.utils.make_grid(images_faces[0]).permute(1, 2, 0))"
      ],
      "execution_count": 15,
      "outputs": [
        {
          "output_type": "execute_result",
          "data": {
            "text/plain": [
              "<matplotlib.image.AxesImage at 0x7f8d2d62cfd0>"
            ]
          },
          "metadata": {
            "tags": []
          },
          "execution_count": 15
        },
        {
          "output_type": "display_data",
          "data": {
            "image/png": "[encoded data removed]",
            "text/plain": [
              "<Figure size 432x288 with 1 Axes>"
            ]
          },
          "metadata": {
            "tags": [],
            "needs_background": "light"
          }
        }
      ]
    },
    {
      "cell_type": "markdown",
      "metadata": {
        "id": "7ZR1a97GNBva",
        "colab_type": "text"
      },
      "source": [
        "# Preprocessing cartoons"
      ]
    },
    {
      "cell_type": "code",
      "metadata": {
        "id": "CyBc-jKoks7Y",
        "colab_type": "code",
        "colab": {
          "base_uri": "https://localhost:8080/",
          "height": 287
        },
        "outputId": "0edbe120-ec3e-476d-9c75-358ece36cce1"
      },
      "source": [
        "path_cartoons = '/content/avatar-image-generator/datasets/cartoon_datasets/cartoonset10k/'\n",
        "\n",
        "img = cv2.imread(path_cartoons + 'cs10000053986926948907.png')\n",
        "img = cv2.cvtColor(img, cv2.COLOR_RGB2BGR)\n",
        "print(img.shape)\n",
        "plt.imshow(img)\n",
        "plt.show()"
      ],
      "execution_count": 16,
      "outputs": [
        {
          "output_type": "stream",
          "text": [
            "(500, 500, 3)\n"
          ],
          "name": "stdout"
        },
        {
          "output_type": "display_data",
          "data": {
            "image/png": "[encoded data removed]",
            "text/plain": [
              "<Figure size 432x288 with 1 Axes>"
            ]
          },
          "metadata": {
            "tags": [],
            "needs_background": "light"
          }
        }
      ]
    },
    {
      "cell_type": "code",
      "metadata": {
        "id": "eqKda-eEndXO",
        "colab_type": "code",
        "colab": {
          "base_uri": "https://localhost:8080/",
          "height": 238
        },
        "outputId": "4ca81e64-5162-4394-9d75-4198c5f382ba"
      },
      "source": [
        "path_cartoons = '/content/avatar-image-generator/datasets/cartoon_datasets/'\n",
        "\n",
        "transform = transforms.Compose([\n",
        "                transforms.CenterCrop(400),\n",
        "                transforms.Resize((config.image_size,config.image_size)) ,\n",
        "                transforms.ToTensor(),\n",
        "                # transforms.Normalize((0.5,0.5,0.5), (0.5,0.5,0.5))\n",
        "                ])\n",
        "\n",
        "\n",
        "dataset_cartoons = torchvision.datasets.ImageFolder(path_cartoons, transform=transform)\n",
        "\n",
        "train_dataset_cartoons, test_dataset_cartoons = torch.utils.data.random_split(dataset_cartoons,\n",
        "                                                                                (int(len(dataset_cartoons)*0.9),len(dataset_cartoons) - int(len(dataset_cartoons)*0.9)))\n",
        "\n",
        "\n",
        "train_loader_cartoons = torch.utils.data.DataLoader(\n",
        "    train_dataset_cartoons,\n",
        "    batch_size=config.batch_size,\n",
        "    shuffle=True,\n",
        "    num_workers = config.workers)\n",
        "\n",
        "test_loader_cartoons = torch.utils.data.DataLoader(\n",
        "    test_dataset_cartoons,\n",
        "    batch_size=config.batch_size,\n",
        "    shuffle=True,\n",
        "    num_workers = config.workers)\n",
        "\n",
        "dataiter = iter(train_loader_cartoons)\n",
        "images_cartoon = dataiter.next()\n",
        "\n",
        "# show images\n",
        "# print(images[0])\n",
        "plt.imshow(torchvision.utils.make_grid(images_cartoon[0]).permute(1, 2, 0))"
      ],
      "execution_count": 17,
      "outputs": [
        {
          "output_type": "execute_result",
          "data": {
            "text/plain": [
              "<matplotlib.image.AxesImage at 0x7f8d2a720748>"
            ]
          },
          "metadata": {
            "tags": []
          },
          "execution_count": 17
        },
        {
          "output_type": "display_data",
          "data": {
            "image/png": "[encoded data removed]",
            "text/plain": [
              "<Figure size 432x288 with 1 Axes>"
            ]
          },
          "metadata": {
            "tags": [],
            "needs_background": "light"
          }
        }
      ]
    },
    {
      "cell_type": "markdown",
      "metadata": {
        "id": "AItqMhEabtnf",
        "colab_type": "text"
      },
      "source": [
        "## XGAN Model"
      ]
    },
    {
      "cell_type": "markdown",
      "metadata": {
        "id": "6_KAFhFYCrko",
        "colab_type": "text"
      },
      "source": [
        "### Classes"
      ]
    },
    {
      "cell_type": "code",
      "metadata": {
        "id": "tcJwPAHocULf",
        "colab_type": "code",
        "colab": {}
      },
      "source": [
        "class Encoder(nn.Module):\n",
        "  def __init__(self):\n",
        "    super(Encoder, self).__init__()\n",
        "    #c=capacity\n",
        "    self.conv1 = nn.Conv2d(in_channels=3, out_channels=32, kernel_size=3, stride=2, padding=1, bias=False) # out: 32 x 32 x 32\n",
        "    self.b1 = nn.BatchNorm2d(32) \n",
        "    self.conv2 = nn.Conv2d(in_channels=32, out_channels=64, kernel_size=3, stride=2, padding=1, bias=False) #out: 16 x 16 x 64\n",
        "    self.b2 = nn.BatchNorm2d(64) \n",
        "\n",
        "  def forward(self, x):\n",
        "    x = F.relu(self.conv1(x)) #try selu\n",
        "    x = self.b1(x)\n",
        "    x = F.relu(self.conv2(x))\n",
        "    x = self.b2(x)\n",
        "\n",
        "    return x  \n",
        "\n",
        "\n",
        "class Eshared(nn.Module):\n",
        "  def __init__(self, dropout_rate):\n",
        "    super(Eshared, self).__init__()\n",
        "    self.conv3 = nn.Conv2d(in_channels=64, out_channels=128, kernel_size=3, stride=2, padding=1, bias=False)\n",
        "    self.b3 = nn.BatchNorm2d(128)\n",
        "    self.conv4 = nn.Conv2d(in_channels=128, out_channels=256, kernel_size=3, stride=2, padding=1, bias=False)\n",
        "    self.b4 = nn.BatchNorm2d(256)\n",
        "    self.flatten = nn.Flatten()\n",
        "    self.fc1 = nn.Linear(in_features = 4*4*256, out_features = 1024, bias=False)\n",
        "    self.bfc1 = nn.BatchNorm1d(1024)\n",
        "    self.dropout2 = nn.Dropout(dropout_rate)\n",
        "    self.fc2 = nn.Linear(in_features = 1024, out_features = 1024, bias=False)\n",
        "    self.bfc2 = nn.BatchNorm1d(1024)\n",
        "\n",
        "  def forward(self,x):\n",
        "    x = F.relu(self.conv3(x))\n",
        "    x = self.b3(x)\n",
        "    x = F.relu(self.conv4(x))\n",
        "    x = self.b4(x)\n",
        "    x = self.flatten(x)\n",
        "    x = F.relu(self.fc1(x))\n",
        "    x = self.bfc1(x)\n",
        "    x = self.dropout2(x)      \n",
        "    x = F.relu(self.fc2(x))\n",
        "    x = self.bfc2(x) \n",
        "\n",
        "    return x\n",
        "    \n",
        "\n",
        "class Dshared(nn.Module):\n",
        "  def __init__(self):\n",
        "    super(Dshared, self).__init__()\n",
        "    #c = capacity\n",
        "    self.deconv1 = nn.ConvTranspose2d(in_channels=1024, out_channels=512, kernel_size=4, stride=2, bias=False)\n",
        "    self.bd1 = nn.BatchNorm2d(512)\n",
        "    self.deconv2 = nn.ConvTranspose2d(in_channels=512, out_channels=256, kernel_size=2, stride=2, bias=False)\n",
        "    self.bd2 = nn.BatchNorm2d(256)\n",
        "  \n",
        "  def forward(self,x):\n",
        "    x = x.view(-1,1024,1,1)\n",
        "    x = F.relu(self.deconv1(x))\n",
        "    x = self.bd1(x)\n",
        "    x = F.relu(self.deconv2(x))\n",
        "    x = self.bd2(x)\n",
        "\n",
        "    return x\n",
        "\n",
        "class Decoder(nn.Module):\n",
        "  def __init__(self):\n",
        "    super(Decoder, self).__init__()\n",
        "    #c = capacity\n",
        "    self.deconv3 = nn.ConvTranspose2d(in_channels=256, out_channels=128, kernel_size=2, stride=2, bias=False)\n",
        "    self.bd3 = nn.BatchNorm2d(128)\n",
        "    self.deconv4 = nn.ConvTranspose2d(in_channels=128, out_channels=64, kernel_size=2, stride=2, bias=False)\n",
        "    self.bd4 = nn.BatchNorm2d(64)\n",
        "    self.deconv5 = nn.ConvTranspose2d(in_channels=64, out_channels=3, kernel_size=2, stride=2)\n",
        "  \n",
        "  def forward(self,x):\n",
        "    x = F.relu(self.deconv3(x))\n",
        "    x = self.bd3(x)\n",
        "    x = F.relu(self.deconv4(x))\n",
        "    x = self.bd4(x)\n",
        "    x = torch.tanh(self.deconv5(x))\n",
        "\n",
        "    return x\n",
        "\n",
        "\n",
        "class GradReverse(torch.autograd.Function):\n",
        "  @staticmethod\n",
        "  def forward(ctx, x):\n",
        "    return x.view_as(x)\n",
        "\n",
        "  @staticmethod\n",
        "  def backward(ctx, grad_output):\n",
        "    return grad_output.neg() * 0.5\n",
        "\n",
        "\n",
        "def grad_reverse(x):\n",
        "  return GradReverse.apply(x)\n",
        "\n",
        "\n",
        "class Cdann(nn.Module):\n",
        "  def __init__(self, dropout_rate):\n",
        "    super(Cdann, self).__init__()\n",
        "    self.fc1 = nn.Linear(in_features = 1024, out_features = 512)\n",
        "    self.fc2 = nn.Linear(in_features = 512 , out_features = 256)\n",
        "    self.dropout2 = nn.Dropout(dropout_rate)\n",
        "    self.fc3 = nn.Linear(in_features = 256 , out_features = 128)\n",
        "    self.fc4 = nn.Linear(in_features = 128 , out_features = 64)\n",
        "    self.dropout4 = nn.Dropout(dropout_rate)\n",
        "    self.fc5 = nn.Linear(in_features = 64 , out_features = 32)\n",
        "    self.fc6 = nn.Linear(in_features = 32 , out_features = 16)\n",
        "    self.dropout6 = nn.Dropout(dropout_rate)\n",
        "    self.fc7 = nn.Linear(in_features = 16, out_features = 1)\n",
        "\n",
        "  def forward(self, x):\n",
        "    x = grad_reverse(x)\n",
        "    x = F.relu(self.fc1(x))\n",
        "    x = F.relu(self.fc2(x))\n",
        "    x = self.dropout2(x)\n",
        "    x = F.relu(self.fc3(x))\n",
        "    x = F.relu(self.fc4(x))\n",
        "    x = self.dropout4(x)\n",
        "    x = F.relu(self.fc5(x))\n",
        "    x = F.relu(self.fc6(x))\n",
        "    x = self.dropout6(x)\n",
        "    x = torch.sigmoid(self.fc7(x))\n",
        "\n",
        "    return x\n",
        "\n",
        "class Discriminator(nn.Module):\n",
        "  def __init__(self):\n",
        "    super(Discriminator, self).__init__()\n",
        "    self.conv1 = nn.Conv2d(in_channels=3, out_channels=16, kernel_size=3, stride=2, padding=1) # out: 32 x 32 x 32 \n",
        "    self.conv2 = nn.Conv2d(in_channels=16, out_channels=32, kernel_size=3, stride=2, padding=1, bias=False) # out: 32 x 32 x 32\n",
        "    self.b2 = nn.BatchNorm2d(32)\n",
        "    self.conv3 = nn.Conv2d(in_channels=32, out_channels=32, kernel_size=3, stride=2, padding=1, bias=False) # out: 32 x 32 x 32\n",
        "    self.b3 = nn.BatchNorm2d(32)  \n",
        "    self.conv4 = nn.Conv2d(in_channels=32, out_channels=32, kernel_size=3, stride=2, padding=1) # out: 32 x 32 x 32 \n",
        "    self.flatten = nn.Flatten()\n",
        "    self.fc1 = nn.Linear(in_features = 4*4*32, out_features = 1)\n",
        "\n",
        "  def forward(self, x):\n",
        "    x = F.leaky_relu(self.conv1(x), 0.2)\n",
        "    x = F.leaky_relu(self.conv2(x), 0.2)\n",
        "    x = self.b2(x)\n",
        "    x = F.leaky_relu(self.conv3(x), 0.2)\n",
        "    x = self.b3(x)\n",
        "    x = F.leaky_relu(self.conv4(x), 0.2)\n",
        "    x = self.flatten(x)\n",
        "    x = torch.sigmoid(self.fc1(x))\n",
        "\n",
        "    return x\n",
        "\n",
        "class Denoiser(nn.Module):\n",
        "  def __init__(self):\n",
        "    super(Denoiser, self).__init__()\n",
        "    \n",
        "    self.encoder = nn.Sequential(\n",
        "        nn.Conv2d(3, 64, kernel_size=3, padding=1),\n",
        "        nn.ReLU(),\n",
        "        nn.MaxPool2d(2, 2))\n",
        "    \n",
        "    self.decoder = nn.Sequential(\n",
        "        nn.Conv2d(64, 64, kernel_size=3, padding=1),\n",
        "        nn.ReLU(),\n",
        "        nn.Upsample(scale_factor=2),\n",
        "        nn.Conv2d(64, 3, kernel_size=3, padding=1))\n",
        "    \n",
        "  def forward(self,x):\n",
        "    return self.decoder(self.encoder(x))"
      ],
      "execution_count": 18,
      "outputs": []
    },
    {
      "cell_type": "markdown",
      "metadata": {
        "id": "0gOinOGOClMb",
        "colab_type": "text"
      },
      "source": [
        "### Losses functions"
      ]
    },
    {
      "cell_type": "code",
      "metadata": {
        "id": "9OHjn6PF30Oz",
        "colab_type": "code",
        "colab": {}
      },
      "source": [
        "def Lrec(image_rec, image_orig):\n",
        "\n",
        "  image_rec_r = image_rec.view(-1,64*64*3)\n",
        "  image_orig_r = image_orig.view(-1,64*64*3)\n",
        "  #mse\n",
        "  rec_loss = torch.norm(image_rec_r - image_orig_r, p=2, dim=1)\n",
        "  rec_loss = torch.mean(rec_loss)\n",
        "\n",
        "\n",
        "  return rec_loss\n",
        "\n",
        "\n",
        "def Lsem(encoder,encoder_rec):\n",
        "\n",
        "  encoder = encoder.view(-1,1024)\n",
        "  encoder_rec = encoder_rec.view(-1,1024)\n",
        "\n",
        "  sem_loss = torch.norm(encoder - encoder_rec, p=1, dim=1)\n",
        "  \n",
        "  sem_loss = torch.mean(sem_loss)\n",
        "\n",
        "  return sem_loss \n"
      ],
      "execution_count": 19,
      "outputs": []
    },
    {
      "cell_type": "markdown",
      "metadata": {
        "id": "m2vx3zX0SWCn",
        "colab_type": "text"
      },
      "source": [
        "## Utils"
      ]
    },
    {
      "cell_type": "code",
      "metadata": {
        "id": "n_GBySikNfh9",
        "colab_type": "code",
        "colab": {}
      },
      "source": [
        "def init_logger(log_file=None, log_dir=None):\n",
        "  \n",
        "  fmt = '%(asctime)s %(filename)s[line:%(lineno)d] %(levelname)s: %(message)s'\n",
        "\n",
        "  if log_dir is None:\n",
        "    log_dir = '~/temp/log/'\n",
        "\n",
        "  if not os.path.exists(log_dir):\n",
        "        print(\"Creating dir\")\n",
        "        os.makedirs(log_dir)\n",
        "\n",
        "  log_file = os.path.join(log_dir, log_file)\n",
        "\n",
        "  print('log file path:' + log_file)\n",
        "\n",
        "  logging.basicConfig(level=logging.INFO,\n",
        "                      filename=log_file,\n",
        "                      format=fmt)\n",
        "  \n",
        "  \n",
        "  return logging  "
      ],
      "execution_count": 20,
      "outputs": []
    },
    {
      "cell_type": "code",
      "metadata": {
        "id": "0nfS10FGR9NE",
        "colab_type": "code",
        "colab": {}
      },
      "source": [
        "def weights_init(m):\n",
        "    classname = m.__class__.__name__\n",
        "    if classname.find('Conv') != -1:\n",
        "        #print('Applied to:: ', m.__class__.__name__)\n",
        "        #nn.init.normal_(m.weight.data, 0.0, 0.02)\n",
        "        nn.init.kaiming_uniform_(m.weight.data )\n",
        "    elif classname.find('BatchNorm') != -1:\n",
        "        nn.init.normal_(m.weight.data, 1.0, 0.02)\n",
        "        nn.init.constant_(m.bias.data, 0)\n",
        "\n",
        "def save_weights(path_gen, path_sub, n):\n",
        "  \n",
        "  torch.save(e1.state_dict(), os.path.join(path_sub, 'e1.pth'))\n",
        "  torch.save(e2.state_dict(), os.path.join(path_sub, 'e2.pth'))\n",
        "  torch.save(e_shared.state_dict(), os.path.join(path_sub, 'e_shared.pth'))\n",
        "  torch.save(d_shared.state_dict(), os.path.join(path_sub, 'd_shared.pth'))\n",
        "  torch.save(d1.state_dict(), os.path.join(path_sub, 'd1.pth'))\n",
        "  torch.save(d2.state_dict(), os.path.join(path_sub, 'd2.pth'))\n",
        "  torch.save(c_dann.state_dict(), os.path.join(path_sub, 'c_dann.pth'))\n",
        "  torch.save(discriminator1.state_dict(), os.path.join(path_sub, 'disc1.pth'))\n",
        "  torch.save(denoiser.state_dict(), os.path.join(path_sub, 'denoiser.pth'))\n",
        "\n",
        "  wandb.save(os.path.join(path_sub,'*.pth'),base_path='/'.join(path_gen.split('/')[:-2]))\n"
      ],
      "execution_count": 21,
      "outputs": []
    },
    {
      "cell_type": "markdown",
      "metadata": {
        "id": "SFMFiv2jSPj_",
        "colab_type": "text"
      },
      "source": [
        "## GPU"
      ]
    },
    {
      "cell_type": "code",
      "metadata": {
        "id": "1T2b80Rp0c06",
        "colab_type": "code",
        "colab": {
          "base_uri": "https://localhost:8080/",
          "height": 35
        },
        "outputId": "2377e2c0-3017-4a23-ba0f-b33cf3d7e16f"
      },
      "source": [
        "print(\"it is cuda available? \", torch.cuda.is_available())\n",
        "device = torch.device(\"cuda:0\" if config.use_gpu and torch.cuda.is_available() else \"cpu\")"
      ],
      "execution_count": 22,
      "outputs": [
        {
          "output_type": "stream",
          "text": [
            "it is cuda available?  True\n"
          ],
          "name": "stdout"
        }
      ]
    },
    {
      "cell_type": "markdown",
      "metadata": {
        "id": "TSwQzfAkSjKn",
        "colab_type": "text"
      },
      "source": [
        "## Training"
      ]
    },
    {
      "cell_type": "code",
      "metadata": {
        "id": "6SmC7a5bLbMf",
        "colab_type": "code",
        "colab": {}
      },
      "source": [
        "#change the path save weighs\n",
        "save_cp = True\n",
        "\n",
        "if save_cp:\n",
        "  path_save_weights = \"/content/drive/My Drive/Made with ML/weights_train_stev_v6/\"\n",
        "\n",
        "  try:\n",
        "      os.mkdir(path_save_weights)\n",
        "  except OSError:\n",
        "      pass"
      ],
      "execution_count": 23,
      "outputs": []
    },
    {
      "cell_type": "code",
      "metadata": {
        "id": "LP0fqTZ0mOZW",
        "colab_type": "code",
        "colab": {
          "base_uri": "https://localhost:8080/",
          "height": 35
        },
        "outputId": "e30ae50d-aa9e-4d69-bd5e-dbc5e452c575"
      },
      "source": [
        "logging = init_logger(log_file='logfile.log',log_dir=path_save_weights)"
      ],
      "execution_count": 24,
      "outputs": [
        {
          "output_type": "stream",
          "text": [
            "log file path:/content/drive/My Drive/Made with ML/weights_train_stev_v6/logfile.log\n"
          ],
          "name": "stdout"
        }
      ]
    },
    {
      "cell_type": "code",
      "metadata": {
        "id": "tDF_7JEykEVx",
        "colab_type": "code",
        "colab": {}
      },
      "source": [
        "def train(config, model, device, train_loader_faces, train_loader_cartoons, optimizers, criterion_bc, criterionDenoiser):\n",
        "  \n",
        "  e1, e2, d1, d2, e_shared, d_shared, c_dann, discriminator1, denoiser = model\n",
        "  optimizerDenoiser, optimizerDisc1, optimizerTotal, optimizerCdann = optimizers \n",
        "  \n",
        "  e1.train()\n",
        "  e2.train()\n",
        "  e_shared.train()\n",
        "  d_shared.train()\n",
        "  d1.train()\n",
        "  d2.train()\n",
        "  c_dann.train()\n",
        "  discriminator1.train()\n",
        "  denoiser.train()\n",
        "\n",
        "  for faces_batch, cartoons_batch in zip(train_loader_faces, train_loader_cartoons):\n",
        "\n",
        "    faces_batch,_ = faces_batch\n",
        "    faces_batch = Variable(faces_batch.type(torch.Tensor))\n",
        "    class_faces = Variable(torch.ones(faces_batch.size(0)))\n",
        "    faces_batch = faces_batch.to(device)\n",
        "    class_faces = class_faces.to(device)\n",
        "    \n",
        "    cartoons_batch,_ = cartoons_batch\n",
        "    cartoons_batch = Variable(cartoons_batch.type(torch.Tensor))\n",
        "    class_cartoons = Variable(torch.zeros(cartoons_batch.size(0)))\n",
        "    cartoons_batch = cartoons_batch.to(device)\n",
        "    class_cartoons = class_cartoons.to(device)\n",
        "    \n",
        "    e1.zero_grad()\n",
        "    e2.zero_grad()\n",
        "    e_shared.zero_grad()\n",
        "    d_shared.zero_grad()\n",
        "    d1.zero_grad()\n",
        "    d2.zero_grad()\n",
        "    c_dann.zero_grad()\n",
        "    discriminator1.zero_grad()\n",
        "    denoiser.zero_grad()\n",
        "\n",
        "    #architecture\n",
        "    faces_enc1 = e1(faces_batch)\n",
        "    faces_encoder = e_shared(faces_enc1)\n",
        "    faces_decoder = d_shared(faces_encoder)\n",
        "    faces_rec = d1(faces_decoder)\n",
        "    cartoons_construct = d2(faces_decoder)\n",
        "    cartoons_construct_enc2 = e2(cartoons_construct)\n",
        "    cartoons_construct_encoder = e_shared(cartoons_construct_enc2)\n",
        "\n",
        "    cartoons_enc2 = e2(cartoons_batch)\n",
        "    cartoons_encoder = e_shared(cartoons_enc2)\n",
        "    cartoons_decoder = d_shared(cartoons_encoder)\n",
        "    cartoons_rec = d2(cartoons_decoder)\n",
        "    faces_construct = d1(cartoons_decoder)\n",
        "    faces_construct_enc1 = e1(faces_construct)\n",
        "    faces_construct_encoder = e_shared(faces_construct_enc1)\n",
        "\n",
        "\n",
        "    # Denoiser\n",
        "    cartoons_denoised = denoiser(cartoons_rec.detach())\n",
        "\n",
        "    # Train Denoiser\n",
        "\n",
        "    loss_denoiser = criterionDenoiser(cartoons_batch, cartoons_denoised)\n",
        "    loss_denoiser.backward()\n",
        "    optimizerDenoiser.step()\n",
        "\n",
        "\n",
        "\n",
        "    #discriminator face(1)->cartoon(2)\n",
        "\n",
        "      #train discriminator\n",
        "    data_cartoons = torch.cat([cartoons_batch, cartoons_construct.detach()], 0)\n",
        "    label_class = torch.cat([class_cartoons, class_faces], 0)   \n",
        "    output = discriminator1(data_cartoons) \n",
        "    loss_disc1 = criterion_bc(output.squeeze(), label_class)\n",
        "    loss_disc1.backward()\n",
        "    optimizerDisc1.step()\n",
        "\n",
        "    #train generator\n",
        "    data_classifier = torch.cat([faces_encoder, cartoons_encoder], 0)\n",
        "    label_classifier = torch.cat([class_faces, class_cartoons], 0)\n",
        "\n",
        "    label_output = c_dann(data_classifier) \n",
        "\n",
        "\n",
        "    loss_rec1 = Lrec(faces_batch, faces_rec)\n",
        "    loss_rec2 = Lrec(cartoons_batch, cartoons_rec)\n",
        "    loss_rec =  loss_rec1 + loss_rec2\n",
        "\n",
        "    error_classifier = criterion_bc(label_output.squeeze(),label_classifier) \n",
        "\n",
        "    loss_sem1 = Lsem(faces_encoder.detach(), cartoons_construct_encoder) \n",
        "    loss_sem2 = Lsem(cartoons_encoder.detach(), faces_construct_encoder) \n",
        "    loss_sem = loss_sem1 + loss_sem2\n",
        "\n",
        "          \n",
        "    class_faces.fill_(0)\n",
        "\n",
        "    output = discriminator1(cartoons_construct)\n",
        "\n",
        "    loss_gen1 = criterion_bc(output.squeeze(), class_faces)\n",
        "\n",
        "\n",
        "\n",
        "    loss_total = loss_rec + error_classifier + config.ws*loss_sem + config.wg*loss_gen1\n",
        "    loss_total.backward()\n",
        "\n",
        "\n",
        "    optimizerTotal.step()\n",
        "    optimizerCdann.step()\n",
        "\n",
        "\n",
        "  return loss_rec1, loss_rec2, error_classifier,loss_sem1, loss_sem2, loss_disc1, loss_gen1, loss_total, loss_denoiser"
      ],
      "execution_count": 25,
      "outputs": []
    },
    {
      "cell_type": "code",
      "metadata": {
        "id": "yd4cNyGBnP4p",
        "colab_type": "code",
        "colab": {}
      },
      "source": [
        "def test_image(model, device, images_faces):\n",
        "\n",
        "  e1, e2, d1, d2, e_shared, d_shared, c_dann, discriminator1, denoiser = model\n",
        "\n",
        "  e1.eval()\n",
        "  e2.eval()\n",
        "  e_shared.eval()\n",
        "  d_shared.eval()\n",
        "  d1.eval()\n",
        "  d2.eval()\n",
        "  c_dann.eval()\n",
        "  discriminator1.eval()\n",
        "  denoiser.eval()\n",
        "\n",
        "  with torch.no_grad():\n",
        "      output = e1(images_faces[0].to(device))\n",
        "      output = e_shared(output)\n",
        "      output = d_shared(output)\n",
        "      output = d2(output)\n",
        "      output = denoiser(output)\n",
        "    \n",
        "\n",
        "  # generated_images = torchvision.utils.make_grid(output.cpu()).permute(1, 2, 0)\n",
        "\n",
        "  return output.cpu()"
      ],
      "execution_count": 26,
      "outputs": []
    },
    {
      "cell_type": "code",
      "metadata": {
        "id": "lCWfxyfVWhXy",
        "colab_type": "code",
        "colab": {}
      },
      "source": [
        "def init_optimizers(model, config):\n",
        "\n",
        "  e1, e2, d1, d2, e_shared, d_shared, c_dann, discriminator1, denoiser = model\n",
        "\n",
        "  listDisc1 = list(discriminator1.parameters())\n",
        "  optimizerDisc1 = torch.optim.Adam(listDisc1, lr=config.learning_rate_opDisc, betas=(config.b1_disc, 0.999))\n",
        "\n",
        "  listParameters = list(e1.parameters()) + list(e2.parameters()) + list(e_shared.parameters()) + list(d_shared.parameters()) + list(d1.parameters()) + list(d2.parameters())\n",
        "  optimizerTotal = torch.optim.RMSprop(listParameters, lr=config.learning_rate_opTotal, weight_decay=0.01)\n",
        "\n",
        "  optimizerCdann = torch.optim.Adam(c_dann.parameters(), lr=config.learning_rate_opCdann, betas=(config.b1_cdann, 0.999))\n",
        "\n",
        "  optimizerDenoiser = torch.optim.Adam(denoiser.parameters(), lr=config.learning_rate_denoiser)\n",
        "\n",
        "  return (optimizerDenoiser, optimizerDisc1, optimizerTotal, optimizerCdann) "
      ],
      "execution_count": 27,
      "outputs": []
    },
    {
      "cell_type": "code",
      "metadata": {
        "id": "agqEWBjmVll1",
        "colab_type": "code",
        "colab": {}
      },
      "source": [
        "def init_model(device, config, use_wandb=True):\n",
        "\n",
        "  e1 = Encoder()\n",
        "  e2 = Encoder()\n",
        "  e_shared = Eshared(config.dropout_rate_eshared)\n",
        "  d_shared = Dshared()\n",
        "  d1 = Decoder()\n",
        "  d2 = Decoder()\n",
        "  c_dann = Cdann(config.dropout_rate_cdann)\n",
        "  discriminator1 = Discriminator()\n",
        "  denoiser = Denoiser()\n",
        "\n",
        "  e1.to(device)\n",
        "  e2.to(device)\n",
        "  e_shared.to(device)\n",
        "  d_shared.to(device)\n",
        "  d1.to(device)\n",
        "  d2.to(device)\n",
        "  c_dann.to(device)\n",
        "  discriminator1.to(device)\n",
        "  denoiser = denoiser.to(device)\n",
        "  \n",
        "  e1.apply(weights_init)\n",
        "  e2.apply(weights_init)\n",
        "  e_shared.apply(weights_init)\n",
        "  d_shared.apply(weights_init)\n",
        "  d1.apply(weights_init)\n",
        "  d2.apply(weights_init)\n",
        "  c_dann.apply(weights_init)\n",
        "  discriminator1.apply(weights_init)\n",
        "  denoiser.apply(weights_init)\n",
        "\n",
        "  if use_wandb:\n",
        "    wandb.watch(e1, log=\"all\")\n",
        "    wandb.watch(e2, log=\"all\")\n",
        "    wandb.watch(e_shared, log=\"all\")\n",
        "    wandb.watch(d_shared, log=\"all\")\n",
        "    wandb.watch(d1, log=\"all\")\n",
        "    wandb.watch(d2, log=\"all\")\n",
        "    wandb.watch(c_dann, log=\"all\")\n",
        "    wandb.watch(discriminator1, log=\"all\")\n",
        "    wandb.watch(denoiser, log=\"all\")\n",
        "\n",
        "  return (e1, e2, d1, d2, e_shared, d_shared, c_dann, discriminator1, denoiser)\n"
      ],
      "execution_count": 28,
      "outputs": []
    },
    {
      "cell_type": "code",
      "metadata": {
        "id": "pOfRKFUGPAWj",
        "colab_type": "code",
        "colab": {}
      },
      "source": [
        "def model_train(config, device, train_loader_faces, test_loader_faces, train_loader_cartoons):\n",
        "\n",
        "  model = init_model(device, config)\n",
        "  optimizers = init_optimizers(model, config)\n",
        "\n",
        "  train_loss_rec1 = []\n",
        "  train_loss_rec2 = []\n",
        "  train_loss_cdan = []\n",
        "  train_loss_sem1 = []\n",
        "  train_loss_sem2 = []\n",
        "  train_disc1 = []\n",
        "  train_gen1 = []\n",
        "  train_loss_total = []\n",
        "  train_loss_denoiser = []\n",
        "\n",
        "  criterion_bc = nn.BCELoss()\n",
        "  criterionDenoiser = nn.L1Loss()\n",
        "\n",
        "  criterion_bc.to(device) \n",
        "  criterionDenoiser.to(device) \n",
        "\n",
        "  dataiter = iter(test_loader_faces)\n",
        "  images_faces_to_test = dataiter.next()\n",
        "\n",
        "  for epoch in tqdm(range(config.num_epochs)):\n",
        "    loss_rec1, loss_rec2, error_classifier,loss_sem1, loss_sem2, loss_disc1, loss_gen1, loss_total, loss_denoiser = train(config, model, device, train_loader_faces, train_loader_cartoons, optimizers, criterion_bc, criterionDenoiser)\n",
        "    generated_images = test_image(model, device, images_faces_to_test)\n",
        "\n",
        "\n",
        "    logging.info('Train Epoch [{}/{}], Loss rec1: {:.4f}, Loss rec2: {:.4f},'\n",
        "                                      ' Loss classifier: {:.4f}, Loss semantic 1->2: {:.4f}, Loss semantic 2->1: {:.4f},'\n",
        "                                      ' Loss disc1: {:.4f}, Loss gen1: {:.4f}, Loss total: {:.4f}'\n",
        "                                      .format(epoch+1, config.num_epochs, loss_rec1.item(),\n",
        "                                              loss_rec2.item(), error_classifier.item(),\n",
        "                                              loss_sem1.item(), loss_sem2.item(),\n",
        "                                              loss_disc1.item(), loss_gen1.item(), loss_total.item()))\n",
        "\n",
        "    wandb.log({\"train_epoch\":epoch+1,\n",
        "               \"Generated images\": [wandb.Image(img) for img in generated_images],\n",
        "              \"loss_rec1\":loss_rec1.item(),\n",
        "              \"loss_rec2\":loss_rec2.item(),\n",
        "              \"loss_classifier\":error_classifier.item(),\n",
        "              \"loss_semantic12\":loss_sem1.item(),\n",
        "              \"loss_semantic21\":loss_sem2.item(),\n",
        "              \"loss_disc1\":loss_disc1.item(),\n",
        "              \"loss_gen1\":loss_gen1.item(),\n",
        "              \"loss_total\":loss_total.item()})\n",
        "\n",
        "\n",
        "    if save_cp and ((epoch+1)%25)==0:\n",
        "      path_save_epoch = path_save_weights + 'epoch_{}'.format(epoch+1)\n",
        "      try:\n",
        "          os.mkdir(path_save_epoch)\n",
        "      except OSError:\n",
        "          pass\n",
        "      save_weights(path_save_weights, path_save_epoch, epoch)    \n",
        "      logging.info(f'Checkpoint {epoch + 1} saved !')\n",
        "\n",
        "    train_loss_rec1.append(loss_rec1.item())\n",
        "    train_loss_rec2.append(loss_rec2.item())\n",
        "    train_loss_cdan.append(error_classifier.item())\n",
        "    train_loss_sem1.append(loss_sem1.item())\n",
        "    train_loss_sem2.append(loss_sem2.item())\n",
        "    train_disc1.append(loss_disc1.item())\n",
        "    train_gen1.append(loss_gen1.item())\n",
        "    train_loss_total.append(loss_total.item())\n",
        "    train_loss_denoiser.append(loss_denoiser.item())\n",
        "\n",
        "    print(\"Losses\")\n",
        "    print('Epoch [{}/{}], Loss rec1: {:.4f}'.format(epoch+1, config.num_epochs, loss_rec1.item()))\n",
        "    print('Epoch [{}/{}], Loss rec2: {:.4f}'.format(epoch+1, config.num_epochs, loss_rec2.item()))\n",
        "    print('Epoch [{}/{}], Loss classifier: {:.4f}'.format(epoch+1, config.num_epochs, error_classifier.item()))\n",
        "    print('Epoch [{}/{}], Loss semantic 1->2: {:.4f}'.format(epoch+1, config.num_epochs, loss_sem1.item()))\n",
        "    print('Epoch [{}/{}], Loss semantic 2->1: {:.4f}'.format(epoch+1, config.num_epochs, loss_sem2.item()))    \n",
        "    print('Epoch [{}/{}], Loss disc1: {:.4f}'.format(epoch+1, config.num_epochs, loss_disc1.item()))\n",
        "    print('Epoch [{}/{}], Loss gen1: {:.4f}'.format(epoch+1, config.num_epochs, loss_gen1.item()))\n",
        "    print('Epoch [{}/{}], Loss total: {:.4f}'.format(epoch+1, config.num_epochs, loss_total.item()))\n",
        "    print('Epoch [{}/{}], Loss denoiser: {:.4f}'.format(epoch+1, config.num_epochs, loss_denoiser.item()))"
      ],
      "execution_count": 29,
      "outputs": []
    },
    {
      "cell_type": "code",
      "metadata": {
        "id": "C39uZVstVXnJ",
        "colab_type": "code",
        "colab": {
          "base_uri": "https://localhost:8080/",
          "height": 600,
          "referenced_widgets": [
            "bc692fe97f6d45599d3c1d9b016b6b71",
            "f04012140c934568aabdea30fd4f6b21",
            "b253571582bc4036b1920ef3d89428c2",
            "25d9fe69a5c9427aaafa9782cca9ef80",
            "2327c5b493964f628c85aa9c62abbcee",
            "162fe1a6cfab4709b7cfed87af1bbb60",
            "1d8361f71b964c4f9699e18bac2ecfd3",
            "d7c61d241b4748d6b342f3079ed4e22e"
          ]
        },
        "outputId": "c0d89c3a-a618-481e-8c89-2891ffaa9146"
      },
      "source": [
        "model_train(config, device, train_loader_faces, test_loader_faces, train_loader_cartoons)"
      ],
      "execution_count": null,
      "outputs": [
        {
          "output_type": "display_data",
          "data": {
            "application/vnd.jupyter.widget-view+json": {
              "model_id": "bc692fe97f6d45599d3c1d9b016b6b71",
              "version_minor": 0,
              "version_major": 2
            },
            "text/plain": [
              "HBox(children=(FloatProgress(value=0.0, max=700.0), HTML(value='')))"
            ]
          },
          "metadata": {
            "tags": []
          }
        },
        {
          "output_type": "stream",
          "text": [
            "Losses\n",
            "Epoch [1/700], Loss rec1: 122.0447\n",
            "Epoch [1/700], Loss rec2: 130.1321\n",
            "Epoch [1/700], Loss classifier: 0.6256\n",
            "Epoch [1/700], Loss semantic 1->2: 874.7820\n",
            "Epoch [1/700], Loss semantic 2->1: 732.6044\n",
            "Epoch [1/700], Loss disc1: 0.0425\n",
            "Epoch [1/700], Loss gen1: 0.8722\n",
            "Epoch [1/700], Loss total: 1057.1061\n",
            "Epoch [1/700], Loss denoiser: 0.2685\n",
            "Losses\n",
            "Epoch [2/700], Loss rec1: 120.4488\n",
            "Epoch [2/700], Loss rec2: 123.7982\n",
            "Epoch [2/700], Loss classifier: 0.3861\n",
            "Epoch [2/700], Loss semantic 1->2: 691.7399\n",
            "Epoch [2/700], Loss semantic 2->1: 615.9471\n",
            "Epoch [2/700], Loss disc1: 0.0050\n",
            "Epoch [2/700], Loss gen1: 0.6215\n",
            "Epoch [2/700], Loss total: 898.9117\n",
            "Epoch [2/700], Loss denoiser: 0.2191\n",
            "Losses\n",
            "Epoch [3/700], Loss rec1: 106.1634\n",
            "Epoch [3/700], Loss rec2: 112.3774\n",
            "Epoch [3/700], Loss classifier: 0.3512\n",
            "Epoch [3/700], Loss semantic 1->2: 503.7367\n",
            "Epoch [3/700], Loss semantic 2->1: 469.9510\n",
            "Epoch [3/700], Loss disc1: 0.0045\n",
            "Epoch [3/700], Loss gen1: 0.5643\n",
            "Epoch [3/700], Loss total: 706.1309\n",
            "Epoch [3/700], Loss denoiser: 0.2055\n"
          ],
          "name": "stdout"
        }
      ]
    },
    {
      "cell_type": "markdown",
      "metadata": {
        "id": "W2k5O1x8q7ei",
        "colab_type": "text"
      },
      "source": [
        "## Validating model"
      ]
    },
    {
      "cell_type": "code",
      "metadata": {
        "id": "EVZfF9UOG-zA",
        "colab_type": "code",
        "colab": {}
      },
      "source": [
        "def load_weights_xgan(path_load_weights, e1, e2, e_shared, d_shared, d1, d2, denoiser):\n",
        "  \n",
        "  e1.load_state_dict(torch.load(path_load_weights + 'e1.pth'))\n",
        "  e2.load_state_dict(torch.load(path_load_weights + 'e2.pth'))\n",
        "  e_shared.load_state_dict(torch.load(path_load_weights + 'e_shared.pth'))\n",
        "  d_shared.load_state_dict(torch.load(path_load_weights + 'd_shared.pth'))\n",
        "  d1.load_state_dict(torch.load(path_load_weights + 'd1.pth'))\n",
        "  d2.load_state_dict(torch.load(path_load_weights + 'd2.pth'))\n",
        "  denoiser.load_state_dict(torch.load(path_load_weights + 'denoiser.pth'))\n",
        "\n",
        "  return"
      ],
      "execution_count": null,
      "outputs": []
    },
    {
      "cell_type": "code",
      "metadata": {
        "id": "D4x_t_-TlTpD",
        "colab_type": "code",
        "colab": {}
      },
      "source": [
        "e1, e2, d1, d2, e_shared, d_shared, c_dann, discriminator1, denoiser = init_model(device, config, use_wandb=False)"
      ],
      "execution_count": null,
      "outputs": []
    },
    {
      "cell_type": "code",
      "metadata": {
        "id": "IC0fL3k5mB35",
        "colab_type": "code",
        "colab": {}
      },
      "source": [
        "  e1.eval()\n",
        "  e2.eval()\n",
        "  e_shared.eval()\n",
        "  d_shared.eval()\n",
        "  d1.eval()\n",
        "  d2.eval()\n",
        "  c_dann.eval()\n",
        "  discriminator1.eval()\n",
        "  denoiser.eval()"
      ],
      "execution_count": null,
      "outputs": []
    },
    {
      "cell_type": "code",
      "metadata": {
        "id": "HfWYJtrHGbXg",
        "colab_type": "code",
        "colab": {}
      },
      "source": [
        "use_weights_just_trained = True\n",
        "\n",
        "if not use_weights_just_trained:\n",
        "  path_load_weights = \"/content/drive/My Drive/Made with ML/weights_train_stev_v6/epoch_700/\"\n",
        "  load_weights_xgan(path_load_weights, e1, e2, e_shared, d_shared, d1, d2, denoiser)\n",
        "\n"
      ],
      "execution_count": null,
      "outputs": []
    },
    {
      "cell_type": "markdown",
      "metadata": {
        "id": "GEbZdDy8rAci",
        "colab_type": "text"
      },
      "source": [
        "### Faces domain"
      ]
    },
    {
      "cell_type": "markdown",
      "metadata": {
        "id": "Yg8TxZPGq8qT",
        "colab_type": "text"
      },
      "source": [
        "#### Original faces"
      ]
    },
    {
      "cell_type": "code",
      "metadata": {
        "id": "gFIGuMCejhnM",
        "colab_type": "code",
        "colab": {}
      },
      "source": [
        "dataiter = iter(test_loader_faces)\n",
        "images_faces = dataiter.next()\n",
        "\n",
        "# show images\n",
        "# print(images[0])\n",
        "plt.imshow(torchvision.utils.make_grid(images_faces[0]).permute(1, 2, 0))"
      ],
      "execution_count": null,
      "outputs": []
    },
    {
      "cell_type": "markdown",
      "metadata": {
        "id": "ChRlxLqGq_7q",
        "colab_type": "text"
      },
      "source": [
        "#### Rec faces"
      ]
    },
    {
      "cell_type": "code",
      "metadata": {
        "id": "dMjF28qtKoNC",
        "colab_type": "code",
        "colab": {}
      },
      "source": [
        "with torch.no_grad():\n",
        "    output = e1(images_faces[0].to(device))\n",
        "    output = e_shared(output)\n",
        "    output = d_shared(output)\n",
        "    output = d1(output)\n",
        "  \n",
        "\n",
        "plt.imshow(torchvision.utils.make_grid(output.cpu()).permute(1, 2, 0))\n",
        "plt.show()"
      ],
      "execution_count": null,
      "outputs": []
    },
    {
      "cell_type": "markdown",
      "metadata": {
        "id": "kxMPVNourE6s",
        "colab_type": "text"
      },
      "source": [
        "#### Face to cartoon"
      ]
    },
    {
      "cell_type": "code",
      "metadata": {
        "id": "emOaURkka-b1",
        "colab_type": "code",
        "colab": {}
      },
      "source": [
        "with torch.no_grad():\n",
        "    output = e1(images_faces[0].to(device))\n",
        "    output = e_shared(output)\n",
        "    output = d_shared(output)\n",
        "    output = d2(output)\n",
        "    output = denoiser(output)\n",
        "  \n",
        "\n",
        "\n",
        "plt.imshow(torchvision.utils.make_grid(output.cpu()).permute(1, 2, 0))\n",
        "plt.show()"
      ],
      "execution_count": null,
      "outputs": []
    },
    {
      "cell_type": "markdown",
      "metadata": {
        "id": "II-ql4rIq20I",
        "colab_type": "text"
      },
      "source": [
        "### Cartoons domain"
      ]
    },
    {
      "cell_type": "markdown",
      "metadata": {
        "id": "5cZNU6zSrjqX",
        "colab_type": "text"
      },
      "source": [
        "#### Original cartoons"
      ]
    },
    {
      "cell_type": "code",
      "metadata": {
        "id": "LIiOG2J5qTcF",
        "colab_type": "code",
        "colab": {}
      },
      "source": [
        "dataiter = iter(test_loader_cartoons)\n",
        "images_cartoon = dataiter.next()\n",
        "\n",
        "# show images\n",
        "# print(images[0])\n",
        "plt.imshow(torchvision.utils.make_grid(images_cartoon[0]).permute(1, 2, 0))"
      ],
      "execution_count": null,
      "outputs": []
    },
    {
      "cell_type": "markdown",
      "metadata": {
        "colab_type": "text",
        "id": "4dHkJUr6rSya"
      },
      "source": [
        "#### Rec cartoon\n"
      ]
    },
    {
      "cell_type": "code",
      "metadata": {
        "id": "loldMxIyn0cm",
        "colab_type": "code",
        "colab": {}
      },
      "source": [
        "with torch.no_grad():\n",
        "    output = e2(images_cartoon[0].to(device))\n",
        "    output = e_shared(output)\n",
        "    output = d_shared(output)\n",
        "    output = d2(output)\n",
        "    output = denoiser(output)\n",
        "\n",
        "\n",
        "plt.imshow(torchvision.utils.make_grid(output.cpu()).permute(1, 2, 0))\n",
        "plt.show()"
      ],
      "execution_count": null,
      "outputs": []
    },
    {
      "cell_type": "markdown",
      "metadata": {
        "colab_type": "text",
        "id": "wdfTTJZYrSNm"
      },
      "source": [
        "#### Cartoon to face"
      ]
    },
    {
      "cell_type": "code",
      "metadata": {
        "id": "rndjAI_3kQbY",
        "colab_type": "code",
        "colab": {}
      },
      "source": [
        "with torch.no_grad():\n",
        "    output = e2(images_cartoon[0].to(device))\n",
        "    output = e_shared(output)\n",
        "    output = d_shared(output)\n",
        "    output = d1(output)\n",
        "\n",
        "\n",
        "\n",
        "plt.imshow(torchvision.utils.make_grid(output.cpu()).permute(1, 2, 0))\n",
        "plt.show()"
      ],
      "execution_count": null,
      "outputs": []
    },
    {
      "cell_type": "markdown",
      "metadata": {
        "id": "uIRaxCcbLs4o",
        "colab_type": "text"
      },
      "source": [
        "## Testing model"
      ]
    },
    {
      "cell_type": "code",
      "metadata": {
        "id": "LmsIfpKzASry",
        "colab_type": "code",
        "colab": {}
      },
      "source": [
        "!pip install keras-segmentation"
      ],
      "execution_count": null,
      "outputs": []
    },
    {
      "cell_type": "code",
      "metadata": {
        "id": "N1sTfEfWe_1J",
        "colab_type": "code",
        "colab": {}
      },
      "source": [
        "from keras_segmentation.pretrained import pspnet_50_ADE_20K , pspnet_101_cityscapes, pspnet_101_voc12\n",
        "import cv2\n",
        "import os"
      ],
      "execution_count": null,
      "outputs": []
    },
    {
      "cell_type": "code",
      "metadata": {
        "id": "GLC1YEaWe_Vk",
        "colab_type": "code",
        "colab": {}
      },
      "source": [
        "def remove_background(img_mask, img1, output_path, output_file):\n",
        "\n",
        "\n",
        "  seg_gray = cv2.cvtColor(img_mask, cv2.COLOR_BGR2GRAY)\n",
        "  #_,fg_mask = cv2.threshold(seg_gray, 0, 255, cv2.THRESH_BINARY|cv2.THRESH_OTSU)\n",
        "  _,bg_mask = cv2.threshold(seg_gray, 0, 255, cv2.THRESH_BINARY_INV|cv2.THRESH_OTSU)\n",
        "\n",
        "  ## convert mask to 3-channels\n",
        "  #fg_mask = cv2.cvtColor(fg_mask, cv2.COLOR_GRAY2BGR)\n",
        "  bg_mask = cv2.cvtColor(bg_mask, cv2.COLOR_GRAY2BGR)\n",
        "\n",
        "  ## cv2.bitwise_and to extract the region\n",
        "  #fg = cv2.bitwise_or(img, fg_mask)\n",
        "  bg = cv2.bitwise_or(img1, bg_mask)\n",
        "\n",
        "  ## save \n",
        "  ##cv2.imwrite(\"fg.jpg\", fg)\n",
        "  \n",
        "  # bg = cv2.cvtColor(bg, cv2.COLOR_RGB2BGR)\n",
        "  \n",
        "  cv2.imwrite(output_path + output_file, bg)\n"
      ],
      "execution_count": null,
      "outputs": []
    },
    {
      "cell_type": "code",
      "metadata": {
        "id": "KZTyscBqfGok",
        "colab_type": "code",
        "colab": {}
      },
      "source": [
        "model = pspnet_101_voc12()"
      ],
      "execution_count": null,
      "outputs": []
    },
    {
      "cell_type": "code",
      "metadata": {
        "id": "ymJEBbEVfJtK",
        "colab_type": "code",
        "colab": {}
      },
      "source": [
        "#remove background\n",
        "path = '/content/drive/My Drive/Made with ML/datasets/faces_pucp/data/'\n",
        "mask_path = '/content/masks/images/'\n",
        "output_path = '/content/faces_people_wo_bg/images/'\n",
        "\n",
        "dir_path = os.path.dirname(mask_path)\n",
        "if not os.path.exists(dir_path):\n",
        "  os.makedirs(dir_path)\n",
        "\n",
        "dir_path = os.path.dirname(output_path)\n",
        "if not os.path.exists(dir_path):\n",
        "  os.makedirs(dir_path)\n",
        "\n",
        "\n",
        "for filename in tqdm(os.listdir(path)):\n",
        "  # filename = filename.split('/')[1] \n",
        "  mask_file = filename.split('.')[0] + \"_mask.png\"\n",
        "  output_file = filename.split('.')[0] + \"_wo_bg.jpg\"\n",
        "\n",
        "\n",
        "\n",
        "  #img1 = cv2.imread(path + filename) #READ BGR\n",
        "\n",
        "  #if (img1.shape != 3): \n",
        "   # continue\n",
        "\n",
        "  #else:\n",
        "\n",
        "  out = model.predict_segmentation(\n",
        "    inp= path + filename,\n",
        "    out_fname= mask_path + mask_file\n",
        "  )\n",
        "  \n",
        "  img_mask = cv2.imread(mask_path + mask_file)\n",
        "  img1 = cv2.imread(path + filename) #READ BGR\n",
        "\n",
        "  remove_background(img_mask, img1, output_path, output_file)"
      ],
      "execution_count": null,
      "outputs": []
    },
    {
      "cell_type": "code",
      "metadata": {
        "id": "VfSg6OGBLvP-",
        "colab_type": "code",
        "colab": {}
      },
      "source": [
        "path_test_images = '/content/faces_people_wo_bg/'\n",
        "\n",
        "transform = transforms.Compose([\n",
        "                               \n",
        "                transforms.Resize((config.image_size,config.image_size)) ,\n",
        "                transforms.CenterCrop(64), \n",
        "                transforms.ToTensor(),\n",
        "                # transforms.Normalize((0.5,0.5,0.5), (0.5,0.5,0.5))\n",
        "                ])\n",
        "\n",
        "dataset_test_images = torchvision.datasets.ImageFolder(path_test_images, transform=transform)\n",
        "\n",
        "test_loader_images = torch.utils.data.DataLoader(\n",
        "    dataset_test_images,\n",
        "    batch_size=config.batch_size,\n",
        "    shuffle=True,\n",
        "    num_workers = config.workers)\n",
        "\n",
        "dataiter = iter(test_loader_images)\n",
        "test_images = dataiter.next()\n",
        "\n",
        "\n",
        "plt.imshow(torchvision.utils.make_grid(test_images[0]).permute(1, 2, 0))"
      ],
      "execution_count": null,
      "outputs": []
    },
    {
      "cell_type": "code",
      "metadata": {
        "id": "PcwdUskrkDH_",
        "colab_type": "code",
        "colab": {}
      },
      "source": [
        "input_img = test_images[0]\n",
        "x = torch.cat(8*[input_img])\n",
        "x.shape"
      ],
      "execution_count": null,
      "outputs": []
    },
    {
      "cell_type": "code",
      "metadata": {
        "id": "QL1X7jADkKVv",
        "colab_type": "code",
        "colab": {}
      },
      "source": [
        "plt.imshow(torchvision.utils.make_grid(x).permute(1, 2, 0))"
      ],
      "execution_count": null,
      "outputs": []
    },
    {
      "cell_type": "code",
      "metadata": {
        "id": "6FcZGDQckXbg",
        "colab_type": "code",
        "colab": {}
      },
      "source": [
        "with torch.no_grad():\n",
        "    output = e1(x.to(device))\n",
        "    output = e_shared(output)\n",
        "    output = d_shared(output)\n",
        "    output = d2(output)\n",
        "    output = denoiser(output)\n",
        "  \n",
        "\n",
        "plt.imshow(torchvision.utils.make_grid(output.cpu()).permute(1, 2, 0))\n",
        "plt.show()"
      ],
      "execution_count": null,
      "outputs": []
    },
    {
      "cell_type": "code",
      "metadata": {
        "id": "QY-uODR6cOHw",
        "colab_type": "code",
        "colab": {}
      },
      "source": [
        "with torch.no_grad():\n",
        "    output = e1(test_images[0].to(device))\n",
        "    output = e_shared(output)\n",
        "    output = d_shared(output)\n",
        "    output = d2(output)\n",
        "    output = denoiser(output)\n",
        "\n",
        "plt.imshow(torchvision.utils.make_grid(output.cpu()).permute(1, 2, 0))\n",
        "plt.show()"
      ],
      "execution_count": null,
      "outputs": []
    },
    {
      "cell_type": "code",
      "metadata": {
        "id": "yHr2ShRqOyc4",
        "colab_type": "code",
        "colab": {}
      },
      "source": [
        ""
      ],
      "execution_count": null,
      "outputs": []
    }
  ]
}