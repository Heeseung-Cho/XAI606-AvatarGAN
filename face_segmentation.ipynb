{
  "nbformat": 4,
  "nbformat_minor": 0,
  "metadata": {
    "colab": {
      "name": "face_segmentation.ipynb",
      "provenance": [],
      "collapsed_sections": [],
      "authorship_tag": "ABX9TyMM7ODFHGUuSsTTY9u5Zx82",
      "include_colab_link": true
    },
    "kernelspec": {
      "name": "python3",
      "display_name": "Python 3"
    }
  },
  "cells": [
    {
      "cell_type": "markdown",
      "metadata": {
        "id": "view-in-github",
        "colab_type": "text"
      },
      "source": [
        "<a href=\"https://colab.research.google.com/github/Leinadh/PeruvianImageGenerator/blob/master/face_segmentation.ipynb\" target=\"_parent\"><img src=\"https://colab.research.google.com/assets/colab-badge.svg\" alt=\"Open In Colab\"/></a>"
      ]
    },
    {
      "cell_type": "code",
      "metadata": {
        "id": "opYS4xCynqx1",
        "colab_type": "code",
        "colab": {
          "base_uri": "https://localhost:8080/",
          "height": 129
        },
        "outputId": "90c88ea8-1449-445b-9ad4-70736e37aa87"
      },
      "source": [
        "from google.colab import drive\n",
        "drive.mount('/content/drive')"
      ],
      "execution_count": 1,
      "outputs": [
        {
          "output_type": "stream",
          "text": [
            "Go to this URL in a browser: https://accounts.google.com/o/oauth2/auth?client_id=947318989803-6bn6qk8qdgf4n4g3pfee6491hc0brc4i.apps.googleusercontent.com&redirect_uri=urn%3aietf%3awg%3aoauth%3a2.0%3aoob&response_type=code&scope=email%20https%3a%2f%2fwww.googleapis.com%2fauth%2fdocs.test%20https%3a%2f%2fwww.googleapis.com%2fauth%2fdrive%20https%3a%2f%2fwww.googleapis.com%2fauth%2fdrive.photos.readonly%20https%3a%2f%2fwww.googleapis.com%2fauth%2fpeopleapi.readonly\n",
            "\n",
            "Enter your authorization code:\n",
            "··········\n",
            "Mounted at /content/drive\n"
          ],
          "name": "stdout"
        }
      ]
    },
    {
      "cell_type": "code",
      "metadata": {
        "id": "5L-D644Q_liL",
        "colab_type": "code",
        "colab": {
          "base_uri": "https://localhost:8080/",
          "height": 1000
        },
        "outputId": "180ea92e-aac4-448e-d3a5-ba42671f25de"
      },
      "source": [
        "!tar -zxvf '/content/drive/My Drive/Made with ML/datasets/vgg_face_dataset.tar.gz'"
      ],
      "execution_count": 2,
      "outputs": [
        {
          "output_type": "stream",
          "text": [
            "vgg_face_dataset/\n",
            "vgg_face_dataset/files/\n",
            "vgg_face_dataset/licence.txt\n",
            "vgg_face_dataset/README\n",
            "vgg_face_dataset/files/A.J._Buckley.txt\n",
            "vgg_face_dataset/files/A.R._Rahman.txt\n",
            "vgg_face_dataset/files/A_P_J_Abdul_Kalam.txt\n",
            "vgg_face_dataset/files/Aamir_Khan.txt\n",
            "vgg_face_dataset/files/Aaron_Staton.txt\n",
            "vgg_face_dataset/files/Aaron_Tveit.txt\n",
            "vgg_face_dataset/files/Aaron_Yoo.txt\n",
            "vgg_face_dataset/files/Abbie_Cornish.txt\n",
            "vgg_face_dataset/files/Abel_Ferrara.txt\n",
            "vgg_face_dataset/files/Abigail_Breslin.txt\n",
            "vgg_face_dataset/files/Abigail_Klein.txt\n",
            "vgg_face_dataset/files/Abigail_Spencer.txt\n",
            "vgg_face_dataset/files/Abraham_Benrubi.txt\n",
            "vgg_face_dataset/files/Adam_Baldwin.txt\n",
            "vgg_face_dataset/files/Adam_Beach.txt\n",
            "vgg_face_dataset/files/Adam_Brody.txt\n",
            "vgg_face_dataset/files/Adam_Buxton.txt\n",
            "vgg_face_dataset/files/Adam_Copeland.txt\n",
            "vgg_face_dataset/files/Adam_Driver.txt\n",
            "vgg_face_dataset/files/Adam_G._Sevani.txt\n",
            "vgg_face_dataset/files/Adam_Garcia.txt\n",
            "vgg_face_dataset/files/Adam_Godley.txt\n",
            "vgg_face_dataset/files/Adam_Goldberg.txt\n",
            "vgg_face_dataset/files/Adam_Gregory.txt\n",
            "vgg_face_dataset/files/Adam_Hicks.txt\n",
            "vgg_face_dataset/files/Adam_Lambert.txt\n",
            "vgg_face_dataset/files/Adam_Levine.txt\n",
            "vgg_face_dataset/files/Adam_Rodriguez.txt\n",
            "vgg_face_dataset/files/Adelaide_Clemens.txt\n",
            "vgg_face_dataset/files/Adelaide_Kane.txt\n",
            "vgg_face_dataset/files/Adina_Porter.txt\n",
            "vgg_face_dataset/files/Aditya_Roy_Kapoor.txt\n",
            "vgg_face_dataset/files/Adrian_Grenier.txt\n",
            "vgg_face_dataset/files/Adrian_Paul.txt\n",
            "vgg_face_dataset/files/Adriana_Barraza.txt\n",
            "vgg_face_dataset/files/Adrianne_Curry.txt\n",
            "vgg_face_dataset/files/Adrianne_Palicki.txt\n",
            "vgg_face_dataset/files/Adrienne_Barbeau.txt\n",
            "vgg_face_dataset/files/Agyness_Deyn.txt\n",
            "vgg_face_dataset/files/Aida_Turturro.txt\n",
            "vgg_face_dataset/files/Aidan_Gillen.txt\n",
            "vgg_face_dataset/files/Aidan_Turner.txt\n",
            "vgg_face_dataset/files/Ajay_Devgn.txt\n",
            "vgg_face_dataset/files/Akshay_Kumar.txt\n",
            "vgg_face_dataset/files/Alain_Delon.txt\n",
            "vgg_face_dataset/files/Alan_Alda.txt\n",
            "vgg_face_dataset/files/Alan_Cumming.txt\n",
            "vgg_face_dataset/files/Alan_Dale.txt\n",
            "vgg_face_dataset/files/Alan_Ladd.txt\n",
            "vgg_face_dataset/files/Alan_Rickman.txt\n",
            "vgg_face_dataset/files/Alan_Tudyk.txt\n",
            "vgg_face_dataset/files/Alba_Rohrwacher.txt\n",
            "vgg_face_dataset/files/Aldis_Hodge.txt\n",
            "vgg_face_dataset/files/Alessandra_Torresani.txt\n",
            "vgg_face_dataset/files/Alex_Borstein.txt\n",
            "vgg_face_dataset/files/Alex_Kingston.txt\n",
            "vgg_face_dataset/files/Alex_Newell.txt\n",
            "vgg_face_dataset/files/Alex_Pettyfer.txt\n",
            "vgg_face_dataset/files/Alex_Trebek.txt\n",
            "vgg_face_dataset/files/Alex_Wolff.txt\n",
            "vgg_face_dataset/files/Alexa_Davalos.txt\n",
            "vgg_face_dataset/files/Alexander_Gould.txt\n",
            "vgg_face_dataset/files/Alexander_Koch.txt\n",
            "vgg_face_dataset/files/Alexander_Ludwig.txt\n",
            "vgg_face_dataset/files/Alexander_Siddig.txt\n",
            "vgg_face_dataset/files/Alexandra_Breckenridge.txt\n",
            "vgg_face_dataset/files/Alexandra_Chando.txt\n",
            "vgg_face_dataset/files/Alexandra_Daddario.txt\n",
            "vgg_face_dataset/files/Alexandra_Roach.txt\n",
            "vgg_face_dataset/files/Alexandria_Deberry.txt\n",
            "vgg_face_dataset/files/Alexia_Fast.txt\n",
            "vgg_face_dataset/files/Alexie_Gilmore.txt\n",
            "vgg_face_dataset/files/Alexis_Dziena.txt\n",
            "vgg_face_dataset/files/Alexis_Knapp.txt\n",
            "vgg_face_dataset/files/Alexz_Johnson.txt\n",
            "vgg_face_dataset/files/Alfre_Woodard.txt\n",
            "vgg_face_dataset/files/Alfred_Enoch.txt\n",
            "vgg_face_dataset/files/Alfred_Hitchcock.txt\n",
            "vgg_face_dataset/files/Alfred_Molina.txt\n",
            "vgg_face_dataset/files/Ali_Fedotowsky.txt\n",
            "vgg_face_dataset/files/Ali_Landry.txt\n",
            "vgg_face_dataset/files/Alice_Braga.txt\n",
            "vgg_face_dataset/files/Alice_Cooper.txt\n",
            "vgg_face_dataset/files/Alice_Englert.txt\n",
            "vgg_face_dataset/files/Alice_Eve.txt\n",
            "vgg_face_dataset/files/Alice_Greczyn.txt\n",
            "vgg_face_dataset/files/Alicja_Bachleda.txt\n",
            "vgg_face_dataset/files/Alison_Arngrim.txt\n",
            "vgg_face_dataset/files/Alison_Eastwood.txt\n",
            "vgg_face_dataset/files/Alison_Pill.txt\n",
            "vgg_face_dataset/files/Alison_Steadman.txt\n",
            "vgg_face_dataset/files/Alison_Sweeney.txt\n",
            "vgg_face_dataset/files/Allie_Gonino.txt\n",
            "vgg_face_dataset/files/Allison_Williams.txt\n",
            "vgg_face_dataset/files/Amanda_Detmer.txt\n",
            "vgg_face_dataset/files/Amanda_Seyfried.txt\n",
            "vgg_face_dataset/files/Amandla_Stenberg.txt\n",
            "vgg_face_dataset/files/Amaury_Nolasco.txt\n",
            "vgg_face_dataset/files/Amber_Riley.txt\n",
            "vgg_face_dataset/files/America_Ferrera.txt\n",
            "vgg_face_dataset/files/Amitabh_Bachchan.txt\n",
            "vgg_face_dataset/files/Amy_Davidson.txt\n",
            "vgg_face_dataset/files/Amy_Nuttall.txt\n",
            "vgg_face_dataset/files/Amy_Poehler.txt\n",
            "vgg_face_dataset/files/Amy_Schumer.txt\n",
            "vgg_face_dataset/files/Ana_Gasteyer.txt\n",
            "vgg_face_dataset/files/Ana_Ivanovic.txt\n",
            "vgg_face_dataset/files/Ana_Mulvoy-Ten.txt\n",
            "vgg_face_dataset/files/Anastasia_Griffith.txt\n",
            "vgg_face_dataset/files/Andre_Braugher.txt\n",
            "vgg_face_dataset/files/Andrea_Bowen.txt\n",
            "vgg_face_dataset/files/Andrea_Riseborough.txt\n",
            "vgg_face_dataset/files/Andrea_Roth.txt\n",
            "vgg_face_dataset/files/Andres_Iniesta.txt\n",
            "vgg_face_dataset/files/Andrew_Buchan.txt\n",
            "vgg_face_dataset/files/Andrew_Dice_Clay.txt\n",
            "vgg_face_dataset/files/Andrew_Garfield.txt\n",
            "vgg_face_dataset/files/Andrew_Keegan.txt\n",
            "vgg_face_dataset/files/Andrew_Lee_Potts.txt\n",
            "vgg_face_dataset/files/Andrew_Marr.txt\n",
            "vgg_face_dataset/files/Andrew_McCarthy.txt\n",
            "vgg_face_dataset/files/Andrew_Rannells.txt\n",
            "vgg_face_dataset/files/Andrew_Scott.txt\n",
            "vgg_face_dataset/files/Andy_Milonakis.txt\n",
            "vgg_face_dataset/files/Andy_Murray.txt\n",
            "vgg_face_dataset/files/Andy_Richter.txt\n",
            "vgg_face_dataset/files/Andy_Samberg.txt\n",
            "vgg_face_dataset/files/Andy_Whitfield.txt\n",
            "vgg_face_dataset/files/Aneurin_Barnard.txt\n",
            "vgg_face_dataset/files/Ang_Lee.txt\n",
            "vgg_face_dataset/files/Angel_Coulby.txt\n",
            "vgg_face_dataset/files/Angela_Kinsey.txt\n",
            "vgg_face_dataset/files/Angell_Conwell.txt\n",
            "vgg_face_dataset/files/Anika_Noni_Rose.txt\n",
            "vgg_face_dataset/files/Anil_Kapoor.txt\n",
            "vgg_face_dataset/files/Anita_Briem.txt\n",
            "vgg_face_dataset/files/Ann-Margret.txt\n",
            "vgg_face_dataset/files/Anna_Gunn.txt\n",
            "vgg_face_dataset/files/Anna_Maria_Perez_de_Tagle.txt\n",
            "vgg_face_dataset/files/Anna_Wintour.txt\n",
            "vgg_face_dataset/files/Annabeth_Gish.txt\n",
            "vgg_face_dataset/files/Annaleigh_Ashford.txt\n",
            "vgg_face_dataset/files/AnnaSophia_Robb.txt\n",
            "vgg_face_dataset/files/Anne_Archer.txt\n",
            "vgg_face_dataset/files/Anne_Hathaway.txt\n",
            "vgg_face_dataset/files/Annie_Clark.txt\n",
            "vgg_face_dataset/files/Ansel_Elgort.txt\n",
            "vgg_face_dataset/files/Anson_Mount.txt\n",
            "vgg_face_dataset/files/Anthony_Anderson.txt\n",
            "vgg_face_dataset/files/Anthony_Head.txt\n",
            "vgg_face_dataset/files/Anthony_Mackie.txt\n",
            "vgg_face_dataset/files/Anthony_Rapp.txt\n",
            "vgg_face_dataset/files/Anton_Yelchin.txt\n",
            "vgg_face_dataset/files/Antonia_Campbell-Hughes.txt\n",
            "vgg_face_dataset/files/Antonio_Cupo.txt\n",
            "vgg_face_dataset/files/Aramis_Knight.txt\n",
            "vgg_face_dataset/files/Arden_Cho.txt\n",
            "vgg_face_dataset/files/Arden_Myrin.txt\n",
            "vgg_face_dataset/files/Arian_Foster.txt\n",
            "vgg_face_dataset/files/Ariana_Richards.txt\n",
            "vgg_face_dataset/files/Ariane_Moffatt.txt\n",
            "vgg_face_dataset/files/Arielle_Vandenberg.txt\n",
            "vgg_face_dataset/files/Armand_Assante.txt\n",
            "vgg_face_dataset/files/Armie_Hammer.txt\n",
            "vgg_face_dataset/files/Arnold_Vosloo.txt\n",
            "vgg_face_dataset/files/Asa_Butterfield.txt\n",
            "vgg_face_dataset/files/Ashley_Greene.txt\n",
            "vgg_face_dataset/files/Ashley_Hinshaw.txt\n",
            "vgg_face_dataset/files/Ashley_Jensen.txt\n",
            "vgg_face_dataset/files/Ashley_Jones.txt\n",
            "vgg_face_dataset/files/Ashley_Madekwe.txt\n",
            "vgg_face_dataset/files/Ashley_Rickards.txt\n",
            "vgg_face_dataset/files/Ashton_Holmes.txt\n",
            "vgg_face_dataset/files/Atticus_Shaffer.txt\n",
            "vgg_face_dataset/files/Audra_McDonald.txt\n",
            "vgg_face_dataset/files/Audrey_Hepburn.txt\n",
            "vgg_face_dataset/files/Audrina_Patridge.txt\n",
            "vgg_face_dataset/files/Austin_North.txt\n",
            "vgg_face_dataset/files/Autumn_Reeser.txt\n",
            "vgg_face_dataset/files/Ava_Allan.txt\n",
            "vgg_face_dataset/files/Avan_Jogia.txt\n",
            "vgg_face_dataset/files/Azita_Ghanizada.txt\n",
            "vgg_face_dataset/files/B.J._Novak.txt\n",
            "vgg_face_dataset/files/Bahar_Soomekh.txt\n",
            "vgg_face_dataset/files/Bai_Ling.txt\n",
            "vgg_face_dataset/files/Bailey_Chase.txt\n",
            "vgg_face_dataset/files/Barbara_Eden.txt\n",
            "vgg_face_dataset/files/Barbara_Hershey.txt\n",
            "vgg_face_dataset/files/Barry_Watson.txt\n",
            "vgg_face_dataset/files/Bear_Grylls.txt\n",
            "vgg_face_dataset/files/Beatrice_Rosen.txt\n",
            "vgg_face_dataset/files/Beau_Mirchoff.txt\n",
            "vgg_face_dataset/files/Becca_Tobin.txt\n",
            "vgg_face_dataset/files/Becki_Newton.txt\n",
            "vgg_face_dataset/files/Bellamy_Young.txt\n",
            "vgg_face_dataset/files/Ben_Chaplin.txt\n",
            "vgg_face_dataset/files/Ben_Daniels.txt\n",
            "vgg_face_dataset/files/Ben_Feldman.txt\n",
            "vgg_face_dataset/files/Ben_McKenzie.txt\n",
            "vgg_face_dataset/files/Ben_Miller.txt\n",
            "vgg_face_dataset/files/Ben_Stiller.txt\n",
            "vgg_face_dataset/files/Ben_Whishaw.txt\n",
            "vgg_face_dataset/files/Benjamin_Stockham.txt\n",
            "vgg_face_dataset/files/Beth_Grant.txt\n",
            "vgg_face_dataset/files/Beth_Ostrosky.txt\n",
            "vgg_face_dataset/files/Bethany_Mota.txt\n",
            "vgg_face_dataset/files/Betsy_Russell.txt\n",
            "vgg_face_dataset/files/Betty_White.txt\n",
            "vgg_face_dataset/files/Beverley_Mitchell.txt\n",
            "vgg_face_dataset/files/Bianca_Lawson.txt\n",
            "vgg_face_dataset/files/Bill_Duke.txt\n",
            "vgg_face_dataset/files/Bill_Nighy.txt\n",
            "vgg_face_dataset/files/Bill_Pullman.txt\n",
            "vgg_face_dataset/files/Billie_Joe_Armstrong.txt\n",
            "vgg_face_dataset/files/Billy_Burke.txt\n",
            "vgg_face_dataset/files/Billy_Campbell.txt\n",
            "vgg_face_dataset/files/Billy_Connolly.txt\n",
            "vgg_face_dataset/files/Billy_Dee_Williams.txt\n",
            "vgg_face_dataset/files/Billy_Miller.txt\n",
            "vgg_face_dataset/files/Billy_Unger.txt\n",
            "vgg_face_dataset/files/Bingbing_Fan.txt\n",
            "vgg_face_dataset/files/Bingbing_Li.txt\n",
            "vgg_face_dataset/files/Blair_Underwood.txt\n",
            "vgg_face_dataset/files/Blake_Lively.txt\n",
            "vgg_face_dataset/files/Blake_Michael.txt\n",
            "vgg_face_dataset/files/Blake_Shelton.txt\n",
            "vgg_face_dataset/files/Bob_Barker.txt\n",
            "vgg_face_dataset/files/Bobby_Cannavale.txt\n",
            "vgg_face_dataset/files/Bojana_Novakovic.txt\n",
            "vgg_face_dataset/files/Bonnie_Bedelia.txt\n",
            "vgg_face_dataset/files/Bonnie_Somerville.txt\n",
            "vgg_face_dataset/files/Bonnie_Wright.txt\n",
            "vgg_face_dataset/files/Booboo_Stewart.txt\n",
            "vgg_face_dataset/files/Boris_Kodjoe.txt\n",
            "vgg_face_dataset/files/Brad_Paisley.txt\n",
            "vgg_face_dataset/files/Bradley_Cooper.txt\n",
            "vgg_face_dataset/files/Bradley_Steven_Perry.txt\n",
            "vgg_face_dataset/files/Brande_Roderick.txt\n",
            "vgg_face_dataset/files/Brandon_T._Jackson.txt\n",
            "vgg_face_dataset/files/Branka_Katic.txt\n",
            "vgg_face_dataset/files/Breckin_Meyer.txt\n",
            "vgg_face_dataset/files/Brenda_Blethyn.txt\n",
            "vgg_face_dataset/files/Brenda_Song.txt\n",
            "vgg_face_dataset/files/Brenda_Vaccaro.txt\n",
            "vgg_face_dataset/files/Brendan_Gleeson.txt\n",
            "vgg_face_dataset/files/Brendan_Hines.txt\n",
            "vgg_face_dataset/files/Bret_McKenzie.txt\n",
            "vgg_face_dataset/files/Brett_Davern.txt\n",
            "vgg_face_dataset/files/Brett_Lee.txt\n",
            "vgg_face_dataset/files/Brian_Blessed.txt\n",
            "vgg_face_dataset/files/Brian_Cox.txt\n",
            "vgg_face_dataset/files/Brian_Dennehy.txt\n",
            "vgg_face_dataset/files/Bridget_Moynahan.txt\n",
            "vgg_face_dataset/files/Bridget_Regan.txt\n",
            "vgg_face_dataset/files/Brigitte_Nielsen.txt\n",
            "vgg_face_dataset/files/Brit_Marling.txt\n",
            "vgg_face_dataset/files/Britne_Oldford.txt\n",
            "vgg_face_dataset/files/Brittany_Curran.txt\n",
            "vgg_face_dataset/files/Brooke_Burke-Charvet.txt\n",
            "vgg_face_dataset/files/Brooke_Hogan.txt\n",
            "vgg_face_dataset/files/Bruce_Boxleitner.txt\n",
            "vgg_face_dataset/files/Bruce_McGill.txt\n",
            "vgg_face_dataset/files/Bruno_Ganz.txt\n",
            "vgg_face_dataset/files/Bruno_Mars.txt\n",
            "vgg_face_dataset/files/Bryan_Greenberg.txt\n",
            "vgg_face_dataset/files/Burt_Reynolds.txt\n",
            "vgg_face_dataset/files/Caitlin_FitzGerald.txt\n",
            "vgg_face_dataset/files/Caitriona_Balfe.txt\n",
            "vgg_face_dataset/files/Caity_Lotz.txt\n",
            "vgg_face_dataset/files/Callan_McAuliffe.txt\n",
            "vgg_face_dataset/files/Callie_Thorne.txt\n",
            "vgg_face_dataset/files/Cameron_Boyce.txt\n",
            "vgg_face_dataset/files/Cameron_Bright.txt\n",
            "vgg_face_dataset/files/Cameron_Richardson.txt\n",
            "vgg_face_dataset/files/Camilla_Belle.txt\n",
            "vgg_face_dataset/files/Camille_Grammer.txt\n",
            "vgg_face_dataset/files/Camille_Guaty.txt\n",
            "vgg_face_dataset/files/Camille_Winbush.txt\n",
            "vgg_face_dataset/files/Candace_Cameron_Bure.txt\n",
            "vgg_face_dataset/files/Candice_Accola.txt\n",
            "vgg_face_dataset/files/Candice_Patton.txt\n",
            "vgg_face_dataset/files/Candice_Swanepoel.txt\n",
            "vgg_face_dataset/files/Candis_Cayne.txt\n",
            "vgg_face_dataset/files/Cara_Delevingne.txt\n",
            "vgg_face_dataset/files/Carey_Mulligan.txt\n",
            "vgg_face_dataset/files/Carla_Gallo.txt\n",
            "vgg_face_dataset/files/Carlos_Ponce.txt\n",
            "vgg_face_dataset/files/Carly_Chaikin.txt\n",
            "vgg_face_dataset/files/Carly_Craig.txt\n",
            "vgg_face_dataset/files/Carmine_Giovinazzo.txt\n",
            "vgg_face_dataset/files/Caroline_Rhea.txt\n",
            "vgg_face_dataset/files/Carolyn_Hennesy.txt\n",
            "vgg_face_dataset/files/Carolyn_Jones.txt\n",
            "vgg_face_dataset/files/Carrie_Ann_Inaba.txt\n",
            "vgg_face_dataset/files/Carrie_Brownstein.txt\n",
            "vgg_face_dataset/files/Carrie_Fisher.txt\n",
            "vgg_face_dataset/files/Carrie_Keagan.txt\n",
            "vgg_face_dataset/files/Carrie_Preston.txt\n",
            "vgg_face_dataset/files/Carrie_Underwood.txt\n",
            "vgg_face_dataset/files/Carroll_Baker.txt\n",
            "vgg_face_dataset/files/Carter_Jenkins.txt\n",
            "vgg_face_dataset/files/Casey_Affleck.txt\n",
            "vgg_face_dataset/files/Casey_Wilson.txt\n",
            "vgg_face_dataset/files/Cassandra_Peterson.txt\n",
            "vgg_face_dataset/files/Cassandra_Scerbo.txt\n",
            "vgg_face_dataset/files/Cassi_Thomson.txt\n",
            "vgg_face_dataset/files/Catalina_Sandino_Moreno.txt\n",
            "vgg_face_dataset/files/Caterina_Murino.txt\n",
            "vgg_face_dataset/files/Caterina_Scorsone.txt\n",
            "vgg_face_dataset/files/Catherine_Hardwicke.txt\n",
            "vgg_face_dataset/files/CCH_Pounder.txt\n",
            "vgg_face_dataset/files/Cedric_the_Entertainer.txt\n",
            "vgg_face_dataset/files/CeeLo_Green.txt\n",
            "vgg_face_dataset/files/Celeste_Holm.txt\n",
            "vgg_face_dataset/files/Celia_Imrie.txt\n",
            "vgg_face_dataset/files/Celia_Weston.txt\n",
            "vgg_face_dataset/files/Cerina_Vincent.txt\n",
            "vgg_face_dataset/files/Chace_Crawford.txt\n",
            "vgg_face_dataset/files/Chadwick_Boseman.txt\n",
            "vgg_face_dataset/files/Charice.txt\n",
            "vgg_face_dataset/files/Charlene_Amoia.txt\n",
            "vgg_face_dataset/files/Charlene_Tilton.txt\n",
            "vgg_face_dataset/files/Charles_Dance.txt\n",
            "vgg_face_dataset/files/Charles_Durning.txt\n",
            "vgg_face_dataset/files/Charles_Michael_Davis.txt\n",
            "vgg_face_dataset/files/Charles_S._Dutton.txt\n",
            "vgg_face_dataset/files/Charlie_Bewley.txt\n",
            "vgg_face_dataset/files/Charlie_Day.txt\n",
            "vgg_face_dataset/files/Charlotte_Gainsbourg.txt\n",
            "vgg_face_dataset/files/Charlotte_Rae.txt\n",
            "vgg_face_dataset/files/Charlotte_Ross.txt\n",
            "vgg_face_dataset/files/Charlotte_Sullivan.txt\n",
            "vgg_face_dataset/files/Charlyne_Yi.txt\n",
            "vgg_face_dataset/files/Charo.txt\n",
            "vgg_face_dataset/files/Chase_Masterson.txt\n",
            "vgg_face_dataset/files/Chazz_Palminteri.txt\n",
            "vgg_face_dataset/files/Chelsea_Handler.txt\n",
            "vgg_face_dataset/files/Chelsea_Hobbs.txt\n",
            "vgg_face_dataset/files/Chelsea_Kane.txt\n",
            "vgg_face_dataset/files/Chelsea_Peretti.txt\n",
            "vgg_face_dataset/files/Cher.txt\n",
            "vgg_face_dataset/files/Cheri_Oteri.txt\n",
            "vgg_face_dataset/files/Cherie_Lunghi.txt\n",
            "vgg_face_dataset/files/Cheryl_Burke.txt\n",
            "vgg_face_dataset/files/Cheryl_Ladd.txt\n",
            "vgg_face_dataset/files/Chi_McBride.txt\n",
            "vgg_face_dataset/files/Chiara_Mastroianni.txt\n",
            "vgg_face_dataset/files/Chin_Han.txt\n",
            "vgg_face_dataset/files/China_Anne_McClain.txt\n",
            "vgg_face_dataset/files/China_Chow.txt\n",
            "vgg_face_dataset/files/Chiwetel_Ejiofor.txt\n",
            "vgg_face_dataset/files/Chloe_Bennet.txt\n",
            "vgg_face_dataset/files/Chloe_Bridges.txt\n",
            "vgg_face_dataset/files/Chloe_Dykstra.txt\n",
            "vgg_face_dataset/files/Chris_Bauer.txt\n",
            "vgg_face_dataset/files/Chris_Brown.txt\n",
            "vgg_face_dataset/files/Chris_Carmack.txt\n",
            "vgg_face_dataset/files/Chris_Colfer.txt\n",
            "vgg_face_dataset/files/Chris_Hemsworth.txt\n",
            "vgg_face_dataset/files/Chris_Lowell.txt\n",
            "vgg_face_dataset/files/Chris_Marquette.txt\n",
            "vgg_face_dataset/files/Chris_Martin.txt\n",
            "vgg_face_dataset/files/Chris_Messina.txt\n",
            "vgg_face_dataset/files/Chris_Pine.txt\n",
            "vgg_face_dataset/files/Chris_Riggi.txt\n",
            "vgg_face_dataset/files/Chris_Young.txt\n",
            "vgg_face_dataset/files/Chris_Zylka.txt\n",
            "vgg_face_dataset/files/Christa_B._Allen.txt\n",
            "vgg_face_dataset/files/Christian_Kane.txt\n",
            "vgg_face_dataset/files/Christian_Serratos.txt\n",
            "vgg_face_dataset/files/Christie_Brinkley.txt\n",
            "vgg_face_dataset/files/Christina_Hendricks.txt\n",
            "vgg_face_dataset/files/Christina_Milian.txt\n",
            "vgg_face_dataset/files/Christina_Moore.txt\n",
            "vgg_face_dataset/files/Christina_Ricci.txt\n",
            "vgg_face_dataset/files/Christine_Baranski.txt\n",
            "vgg_face_dataset/files/Christine_Lahti.txt\n",
            "vgg_face_dataset/files/Christine_Lakin.txt\n",
            "vgg_face_dataset/files/Christine_Teigen.txt\n",
            "vgg_face_dataset/files/Christopher_Abbott.txt\n",
            "vgg_face_dataset/files/Christopher_Egan.txt\n",
            "vgg_face_dataset/files/Christopher_McDonald.txt\n",
            "vgg_face_dataset/files/Christopher_Mintz-Plasse.txt\n",
            "vgg_face_dataset/files/Christy_Carlson_Romano.txt\n",
            "vgg_face_dataset/files/Ciara_Bravo.txt\n",
            "vgg_face_dataset/files/Cicely_Tyson.txt\n",
            "vgg_face_dataset/files/Cierra_Ramirez.txt\n",
            "vgg_face_dataset/files/Cilla_Black.txt\n",
            "vgg_face_dataset/files/Cillian_Murphy.txt\n",
            "vgg_face_dataset/files/Cindy_Williams.txt\n",
            "vgg_face_dataset/files/Claire_Coffee.txt\n",
            "vgg_face_dataset/files/Claire_Forlani.txt\n",
            "vgg_face_dataset/files/Clara_Bow.txt\n",
            "vgg_face_dataset/files/Clara_Lago.txt\n",
            "vgg_face_dataset/files/Clark_Duke.txt\n",
            "vgg_face_dataset/files/Clark_Gable.txt\n",
            "vgg_face_dataset/files/Clark_Gregg.txt\n",
            "vgg_face_dataset/files/Claude_Rains.txt\n",
            "vgg_face_dataset/files/Claudia_Black.txt\n",
            "vgg_face_dataset/files/Claudia_Lee.txt\n",
            "vgg_face_dataset/files/Claudia_Wells.txt\n",
            "vgg_face_dataset/files/Clea_DuVall.txt\n",
            "vgg_face_dataset/files/Cliff_Curtis.txt\n",
            "vgg_face_dataset/files/Clive_Owen.txt\n",
            "vgg_face_dataset/files/Cody_Linley.txt\n",
            "vgg_face_dataset/files/Colin_Donnell.txt\n",
            "vgg_face_dataset/files/Colin_Egglesfield.txt\n",
            "vgg_face_dataset/files/Colin_Ferguson.txt\n",
            "vgg_face_dataset/files/Colin_Firth.txt\n",
            "vgg_face_dataset/files/Colin_Hanks.txt\n",
            "vgg_face_dataset/files/Colton_Haynes.txt\n",
            "vgg_face_dataset/files/Common.txt\n",
            "vgg_face_dataset/files/Conchata_Ferrell.txt\n",
            "vgg_face_dataset/files/Connie_Britton.txt\n",
            "vgg_face_dataset/files/Connie_Nielsen.txt\n",
            "vgg_face_dataset/files/Connie_Stevens.txt\n",
            "vgg_face_dataset/files/Connor_Trinneer.txt\n",
            "vgg_face_dataset/files/Constance_Zimmer.txt\n",
            "vgg_face_dataset/files/Corbin_Bleu.txt\n",
            "vgg_face_dataset/files/Corey_Sevier.txt\n",
            "vgg_face_dataset/files/Corey_Stoll.txt\n",
            "vgg_face_dataset/files/Corin_Nemec.txt\n",
            "vgg_face_dataset/files/Cory_Monteith.txt\n",
            "vgg_face_dataset/files/Costas_Mandylor.txt\n",
            "vgg_face_dataset/files/Cote_de_Pablo.txt\n",
            "vgg_face_dataset/files/Courtney_Thorne-Smith.txt\n",
            "vgg_face_dataset/files/Craig_Bierko.txt\n",
            "vgg_face_dataset/files/Craig_Ferguson.txt\n",
            "vgg_face_dataset/files/Craig_Horner.txt\n",
            "vgg_face_dataset/files/Craig_Olejnik.txt\n",
            "vgg_face_dataset/files/Craig_Parker.txt\n",
            "vgg_face_dataset/files/Craig_Robinson.txt\n",
            "vgg_face_dataset/files/Cristin_Milioti.txt\n",
            "vgg_face_dataset/files/Crystal_Allen.txt\n",
            "vgg_face_dataset/files/Crystal_Bernard.txt\n",
            "vgg_face_dataset/files/Crystal_Reed.txt\n",
            "vgg_face_dataset/files/Cyndi_Lauper.txt\n",
            "vgg_face_dataset/files/Cynthia_Daniel.txt\n",
            "vgg_face_dataset/files/D.B._Sweeney.txt\n",
            "vgg_face_dataset/files/D.B._Woodside.txt\n",
            "vgg_face_dataset/files/Dakota_Fanning.txt\n",
            "vgg_face_dataset/files/Dale_Dickey.txt\n",
            "vgg_face_dataset/files/Damian_Lewis.txt\n",
            "vgg_face_dataset/files/Damon_Lindelof.txt\n",
            "vgg_face_dataset/files/Damon_Wayans.txt\n",
            "vgg_face_dataset/files/Dan_Aykroyd.txt\n",
            "vgg_face_dataset/files/Dan_Fogler.txt\n",
            "vgg_face_dataset/files/Dan_Stevens.txt\n",
            "vgg_face_dataset/files/Dana_Delany.txt\n",
            "vgg_face_dataset/files/Dane_Cook.txt\n",
            "vgg_face_dataset/files/Danica_McKellar.txt\n",
            "vgg_face_dataset/files/Daniel_Auteuil.txt\n",
            "vgg_face_dataset/files/Daniel_Craig.txt\n",
            "vgg_face_dataset/files/Daniel_Dae_Kim.txt\n",
            "vgg_face_dataset/files/Daniel_Feuerriegel.txt\n",
            "vgg_face_dataset/files/Daniel_Franzese.txt\n",
            "vgg_face_dataset/files/Daniel_Lavoie.txt\n",
            "vgg_face_dataset/files/Daniel_Stern.txt\n",
            "vgg_face_dataset/files/Daniel_Tosh.txt\n",
            "vgg_face_dataset/files/Daniela_Ruah.txt\n",
            "vgg_face_dataset/files/Daniella_Monet.txt\n",
            "vgg_face_dataset/files/Danielle_Campbell.txt\n",
            "vgg_face_dataset/files/Danielle_Fishel.txt\n",
            "vgg_face_dataset/files/Danielle_Panabaker.txt\n",
            "vgg_face_dataset/files/Danny_Dyer.txt\n",
            "vgg_face_dataset/files/Danny_Masterson.txt\n",
            "vgg_face_dataset/files/Danny_McBride.txt\n",
            "vgg_face_dataset/files/Danny_Pino.txt\n",
            "vgg_face_dataset/files/Danny_Webb.txt\n",
            "vgg_face_dataset/files/Daphne_Zuniga.txt\n",
            "vgg_face_dataset/files/Daren_Kagasoff.txt\n",
            "vgg_face_dataset/files/Darin_Brooks.txt\n",
            "vgg_face_dataset/files/Darren_Criss.txt\n",
            "vgg_face_dataset/files/Dave_Annable.txt\n",
            "vgg_face_dataset/files/Dave_Bautista.txt\n",
            "vgg_face_dataset/files/Dave_Foley.txt\n",
            "vgg_face_dataset/files/David_Attenborough.txt\n",
            "vgg_face_dataset/files/David_Cassidy.txt\n",
            "vgg_face_dataset/files/David_Chokachi.txt\n",
            "vgg_face_dataset/files/David_Denman.txt\n",
            "vgg_face_dataset/files/David_Eigenberg.txt\n",
            "vgg_face_dataset/files/David_Faustino.txt\n",
            "vgg_face_dataset/files/David_Giuntoli.txt\n",
            "vgg_face_dataset/files/David_Harewood.txt\n",
            "vgg_face_dataset/files/David_Hedison.txt\n",
            "vgg_face_dataset/files/David_Henrie.txt\n",
            "vgg_face_dataset/files/David_James_Elliott.txt\n",
            "vgg_face_dataset/files/David_Jason.txt\n",
            "vgg_face_dataset/files/David_Koechner.txt\n",
            "vgg_face_dataset/files/David_Kross.txt\n",
            "vgg_face_dataset/files/David_Lambert.txt\n",
            "vgg_face_dataset/files/David_Letterman.txt\n",
            "vgg_face_dataset/files/David_Lyons.txt\n",
            "vgg_face_dataset/files/David_Mamet.txt\n",
            "vgg_face_dataset/files/David_Mazouz.txt\n",
            "vgg_face_dataset/files/David_Morrissey.txt\n",
            "vgg_face_dataset/files/David_Morse.txt\n",
            "vgg_face_dataset/files/David_Niven.txt\n",
            "vgg_face_dataset/files/David_Oyelowo.txt\n",
            "vgg_face_dataset/files/David_Schwimmer.txt\n",
            "vgg_face_dataset/files/David_Strathairn.txt\n",
            "vgg_face_dataset/files/David_Suchet.txt\n",
            "vgg_face_dataset/files/David_Sutcliffe.txt\n",
            "vgg_face_dataset/files/David_Tennant.txt\n",
            "vgg_face_dataset/files/David_Thewlis.txt\n",
            "vgg_face_dataset/files/David_Warner.txt\n",
            "vgg_face_dataset/files/David_Wenham.txt\n",
            "vgg_face_dataset/files/David_Wright.txt\n",
            "vgg_face_dataset/files/David_Zayas.txt\n",
            "vgg_face_dataset/files/Dawn_French.txt\n",
            "vgg_face_dataset/files/Dawn_Olivieri.txt\n",
            "vgg_face_dataset/files/Dawn_Wells.txt\n",
            "vgg_face_dataset/files/Dawna_Lee_Heising.txt\n",
            "vgg_face_dataset/files/Dean_Cain.txt\n",
            "vgg_face_dataset/files/Dean_Geyer.txt\n",
            "vgg_face_dataset/files/Dean_Martin.txt\n",
            "vgg_face_dataset/files/Debby_Ryan.txt\n",
            "vgg_face_dataset/files/Debi_Mazar.txt\n",
            "vgg_face_dataset/files/Deborah_Kerr.txt\n",
            "vgg_face_dataset/files/Debra_Jo_Rupp.txt\n",
            "vgg_face_dataset/files/Debra_Wilson.txt\n",
            "vgg_face_dataset/files/Debra_Winger.txt\n",
            "vgg_face_dataset/files/DeForest_Kelley.txt\n",
            "vgg_face_dataset/files/Deidre_Hall.txt\n",
            "vgg_face_dataset/files/Della_Reese.txt\n",
            "vgg_face_dataset/files/Demian_Bichir.txt\n",
            "vgg_face_dataset/files/Denis_Leary.txt\n",
            "vgg_face_dataset/files/Denise_Crosby.txt\n",
            "vgg_face_dataset/files/Denise_Richards.txt\n",
            "vgg_face_dataset/files/Dennis_Franz.txt\n",
            "vgg_face_dataset/files/Dennis_Haysbert.txt\n",
            "vgg_face_dataset/files/Dennis_Weaver.txt\n",
            "vgg_face_dataset/files/Derek_Hough.txt\n",
            "vgg_face_dataset/files/Derek_Jacobi.txt\n",
            "vgg_face_dataset/files/Derek_Mears.txt\n",
            "vgg_face_dataset/files/Derek_Theler.txt\n",
            "vgg_face_dataset/files/Dermot_Mulroney.txt\n",
            "vgg_face_dataset/files/Desmond_Harrington.txt\n",
            "vgg_face_dataset/files/Devon_Aoki.txt\n",
            "vgg_face_dataset/files/Devon_Bostick.txt\n",
            "vgg_face_dataset/files/Devon_Werkheiser.txt\n",
            "vgg_face_dataset/files/Dexter_Fletcher.txt\n",
            "vgg_face_dataset/files/Diablo_Cody.txt\n",
            "vgg_face_dataset/files/Diana_Rigg.txt\n",
            "vgg_face_dataset/files/Diane_Farr.txt\n",
            "vgg_face_dataset/files/Diane_Keaton.txt\n",
            "vgg_face_dataset/files/Diane_Kruger.txt\n",
            "vgg_face_dataset/files/Dianne_Wiest.txt\n",
            "vgg_face_dataset/files/Dick_Van_Dyke.txt\n",
            "vgg_face_dataset/files/Diedrich_Bader.txt\n",
            "vgg_face_dataset/files/Diego_Klattenhoff.txt\n",
            "vgg_face_dataset/files/Diego_Luna.txt\n",
            "vgg_face_dataset/files/Dina_Manzo.txt\n",
            "vgg_face_dataset/files/Dina_Merrill.txt\n",
            "vgg_face_dataset/files/Dina_Meyer.txt\n",
            "vgg_face_dataset/files/Diogo_Morgado.txt\n",
            "vgg_face_dataset/files/Diora_Baird.txt\n",
            "vgg_face_dataset/files/Dirk_Benedict.txt\n",
            "vgg_face_dataset/files/Dirk_Bogarde.txt\n",
            "vgg_face_dataset/files/Domhnall_Gleeson.txt\n",
            "vgg_face_dataset/files/Dominic_Cooper.txt\n",
            "vgg_face_dataset/files/Dominic_Keating.txt\n",
            "vgg_face_dataset/files/Dominique_Swain.txt\n",
            "vgg_face_dataset/files/Don_Rickles.txt\n",
            "vgg_face_dataset/files/Donal_Logue.txt\n",
            "vgg_face_dataset/files/Donald_Glover.txt\n",
            "vgg_face_dataset/files/Donald_Pleasence.txt\n",
            "vgg_face_dataset/files/Donald_Sutherland.txt\n",
            "vgg_face_dataset/files/Donna_Dixon.txt\n",
            "vgg_face_dataset/files/Donna_Douglas.txt\n",
            "vgg_face_dataset/files/Donna_Mills.txt\n",
            "vgg_face_dataset/files/Donna_Murphy.txt\n",
            "vgg_face_dataset/files/Donna_Reed.txt\n",
            "vgg_face_dataset/files/Donnie_Yen.txt\n",
            "vgg_face_dataset/files/Doona_Bae.txt\n",
            "vgg_face_dataset/files/Dorothy_Dandridge.txt\n",
            "vgg_face_dataset/files/Dorothy_Malone.txt\n",
            "vgg_face_dataset/files/Dot-Marie_Jones.txt\n",
            "vgg_face_dataset/files/Douglas_Booth.txt\n",
            "vgg_face_dataset/files/Douglas_Smith.txt\n",
            "vgg_face_dataset/files/Dougray_Scott.txt\n",
            "vgg_face_dataset/files/Doutzen_Kroes.txt\n",
            "vgg_face_dataset/files/Dove_Cameron.txt\n",
            "vgg_face_dataset/files/Dr._Dre.txt\n",
            "vgg_face_dataset/files/Drake_Bell.txt\n",
            "vgg_face_dataset/files/Drea_de_Matteo.txt\n",
            "vgg_face_dataset/files/Dreama_Walker.txt\n",
            "vgg_face_dataset/files/Drew_Carey.txt\n",
            "vgg_face_dataset/files/Drew_Fuller.txt\n",
            "vgg_face_dataset/files/Drew_Roy.txt\n",
            "vgg_face_dataset/files/Drew_Seeley.txt\n",
            "vgg_face_dataset/files/Dustin_Milligan.txt\n",
            "vgg_face_dataset/files/Dwight_Schultz.txt\n",
            "vgg_face_dataset/files/Dwight_Yoakam.txt\n",
            "vgg_face_dataset/files/Dyan_Cannon.txt\n",
            "vgg_face_dataset/files/Dylan_Baker.txt\n",
            "vgg_face_dataset/files/Dylan_Bruce.txt\n",
            "vgg_face_dataset/files/Dylan_Everett.txt\n",
            "vgg_face_dataset/files/Dylan_McDermott.txt\n",
            "vgg_face_dataset/files/Dylan_Minnette.txt\n",
            "vgg_face_dataset/files/Dylan_Moran.txt\n",
            "vgg_face_dataset/files/Dylan_Neal.txt\n",
            "vgg_face_dataset/files/Dylan_Sprayberry.txt\n",
            "vgg_face_dataset/files/Eamonn_Walker.txt\n",
            "vgg_face_dataset/files/Eartha_Kitt.txt\n",
            "vgg_face_dataset/files/Ed_Begley.txt\n",
            "vgg_face_dataset/files/Ed_Begley_Jr..txt\n",
            "vgg_face_dataset/files/Ed_Weeks.txt\n",
            "vgg_face_dataset/files/Ed_Westwick.txt\n",
            "vgg_face_dataset/files/Eddie_Albert.txt\n",
            "vgg_face_dataset/files/Eddie_Cahill.txt\n",
            "vgg_face_dataset/files/Eddie_Cibrian.txt\n",
            "vgg_face_dataset/files/Eddie_Griffin.txt\n",
            "vgg_face_dataset/files/Eddie_Izzard.txt\n",
            "vgg_face_dataset/files/Eddie_Kaye_Thomas.txt\n",
            "vgg_face_dataset/files/Eddie_McClintock.txt\n",
            "vgg_face_dataset/files/Eddie_Vedder.txt\n",
            "vgg_face_dataset/files/Edgar_Wright.txt\n",
            "vgg_face_dataset/files/Edie_McClurg.txt\n",
            "vgg_face_dataset/files/Eduardo_Noriega.txt\n",
            "vgg_face_dataset/files/Edward_Asner.txt\n",
            "vgg_face_dataset/files/Efren_Ramirez.txt\n",
            "vgg_face_dataset/files/Eileen_Brennan.txt\n",
            "vgg_face_dataset/files/Eileen_Davidson.txt\n",
            "vgg_face_dataset/files/Eion_Bailey.txt\n",
            "vgg_face_dataset/files/Elaine_Cassidy.txt\n",
            "vgg_face_dataset/files/Elaine_Hendrix.txt\n",
            "vgg_face_dataset/files/Eleanor_Parker.txt\n",
            "vgg_face_dataset/files/Eleanor_Tomlinson.txt\n",
            "vgg_face_dataset/files/Electra_Avellan.txt\n",
            "vgg_face_dataset/files/Eli_Roth.txt\n",
            "vgg_face_dataset/files/Eli_Wallach.txt\n",
            "vgg_face_dataset/files/Elias_Koteas.txt\n",
            "vgg_face_dataset/files/Elisa_Donovan.txt\n",
            "vgg_face_dataset/files/Elisabeth_Moss.txt\n",
            "vgg_face_dataset/files/Elisabetta_Canalis.txt\n",
            "vgg_face_dataset/files/Elise_Neal.txt\n",
            "vgg_face_dataset/files/Elizabeth_McGovern.txt\n",
            "vgg_face_dataset/files/Elle_Fanning.txt\n",
            "vgg_face_dataset/files/Elle_Macpherson.txt\n",
            "vgg_face_dataset/files/Ellen_Burstyn.txt\n",
            "vgg_face_dataset/files/Ellen_Wong.txt\n",
            "vgg_face_dataset/files/Elliott_Gould.txt\n",
            "vgg_face_dataset/files/Elodie_Yung.txt\n",
            "vgg_face_dataset/files/Elon_Musk.txt\n",
            "vgg_face_dataset/files/Elyes_Gabel.txt\n",
            "vgg_face_dataset/files/Embeth_Davidtz.txt\n",
            "vgg_face_dataset/files/Emile_Hirsch.txt\n",
            "vgg_face_dataset/files/Emily_Atack.txt\n",
            "vgg_face_dataset/files/Emily_Bergl.txt\n",
            "vgg_face_dataset/files/Emily_Head.txt\n",
            "vgg_face_dataset/files/Emily_Watson.txt\n",
            "vgg_face_dataset/files/Emir_Kusturica.txt\n",
            "vgg_face_dataset/files/Emma_Bunton.txt\n",
            "vgg_face_dataset/files/Emma_Kenney.txt\n",
            "vgg_face_dataset/files/Emma_Rigby.txt\n",
            "vgg_face_dataset/files/Emma_Stone.txt\n",
            "vgg_face_dataset/files/Emmanuelle_Chriqui.txt\n",
            "vgg_face_dataset/files/Emmanuelle_Seigner.txt\n",
            "vgg_face_dataset/files/Emraan_Hashmi.txt\n",
            "vgg_face_dataset/files/Enrico_Colantoni.txt\n",
            "vgg_face_dataset/files/Enrique_Murciano.txt\n",
            "vgg_face_dataset/files/Eoin_Macken.txt\n",
            "vgg_face_dataset/files/Eric_Braeden.txt\n",
            "vgg_face_dataset/files/Eric_Dane.txt\n",
            "vgg_face_dataset/files/Eric_Lively.txt\n",
            "vgg_face_dataset/files/Eric_McCormack.txt\n",
            "vgg_face_dataset/files/Eric_Roberts.txt\n",
            "vgg_face_dataset/files/Eric_Schweig.txt\n",
            "vgg_face_dataset/files/Eric_Winter.txt\n",
            "vgg_face_dataset/files/Erik_Estrada.txt\n",
            "vgg_face_dataset/files/Erik_Per_Sullivan.txt\n",
            "vgg_face_dataset/files/Erin_Andrews.txt\n",
            "vgg_face_dataset/files/Erin_Sanders.txt\n",
            "vgg_face_dataset/files/Eriq_La_Salle.txt\n",
            "vgg_face_dataset/files/Ernest_Borgnine.txt\n",
            "vgg_face_dataset/files/Ernie_Hudson.txt\n",
            "vgg_face_dataset/files/Errol_Flynn.txt\n",
            "vgg_face_dataset/files/Esai_Morales.txt\n",
            "vgg_face_dataset/files/Estelle_Harris.txt\n",
            "vgg_face_dataset/files/Esther_Williams.txt\n",
            "vgg_face_dataset/files/Eugene_Levy.txt\n",
            "vgg_face_dataset/files/Eugenio_Derbez.txt\n",
            "vgg_face_dataset/files/Eva_Green.txt\n",
            "vgg_face_dataset/files/Eva_LaRue.txt\n",
            "vgg_face_dataset/files/Eva_Longoria.txt\n",
            "vgg_face_dataset/files/Eva_Marcille.txt\n",
            "vgg_face_dataset/files/Evan_Handler.txt\n",
            "vgg_face_dataset/files/Evan_Ross.txt\n",
            "vgg_face_dataset/files/Evanna_Lynch.txt\n",
            "vgg_face_dataset/files/Ezra_Miller.txt\n",
            "vgg_face_dataset/files/Faith_Hill.txt\n",
            "vgg_face_dataset/files/Fanny_Ardant.txt\n",
            "vgg_face_dataset/files/Farah_Zeynep_Abdullah.txt\n",
            "vgg_face_dataset/files/Farrah_Abraham.txt\n",
            "vgg_face_dataset/files/Farrah_Fawcett.txt\n",
            "vgg_face_dataset/files/Fawad_Khan.txt\n",
            "vgg_face_dataset/files/Felicia_Day.txt\n",
            "vgg_face_dataset/files/Felicity_Jones.txt\n",
            "vgg_face_dataset/files/Fergie.txt\n",
            "vgg_face_dataset/files/Fernanda_Romero.txt\n",
            "vgg_face_dataset/files/Finola_Hughes.txt\n",
            "vgg_face_dataset/files/Fiona_Gubelmann.txt\n",
            "vgg_face_dataset/files/Fiona_Shaw.txt\n",
            "vgg_face_dataset/files/Fionnula_Flanagan.txt\n",
            "vgg_face_dataset/files/Florence_Henderson.txt\n",
            "vgg_face_dataset/files/Forest_Whitaker.txt\n",
            "vgg_face_dataset/files/Fran_Kranz.txt\n",
            "vgg_face_dataset/files/Frances_McDormand.txt\n",
            "vgg_face_dataset/files/Francesca_Capaldi.txt\n",
            "vgg_face_dataset/files/Francesca_Eastwood.txt\n",
            "vgg_face_dataset/files/Francesca_Neri.txt\n",
            "vgg_face_dataset/files/Francia_Raisa.txt\n",
            "vgg_face_dataset/files/Frank_Lampard.txt\n",
            "vgg_face_dataset/files/Frank_Vincent.txt\n",
            "vgg_face_dataset/files/Frans_Timmermans.txt\n",
            "vgg_face_dataset/files/Fred_Armisen.txt\n",
            "vgg_face_dataset/files/Fred_Astaire.txt\n",
            "vgg_face_dataset/files/Fred_Dryer.txt\n",
            "vgg_face_dataset/files/Fred_Willard.txt\n",
            "vgg_face_dataset/files/Fred_Williamson.txt\n",
            "vgg_face_dataset/files/Freddie_Highmore.txt\n",
            "vgg_face_dataset/files/Freddie_Mercury.txt\n",
            "vgg_face_dataset/files/Freddie_Prinze.txt\n",
            "vgg_face_dataset/files/Freddie_Stroma.txt\n",
            "vgg_face_dataset/files/Freema_Agyeman.txt\n",
            "vgg_face_dataset/files/Freida_Pinto.txt\n",
            "vgg_face_dataset/files/G._Hannelius.txt\n",
            "vgg_face_dataset/files/Gabe_Kaplan.txt\n",
            "vgg_face_dataset/files/Gabourey_Sidibe.txt\n",
            "vgg_face_dataset/files/Gabriel_Byrne.txt\n",
            "vgg_face_dataset/files/Gabriel_Iglesias.txt\n",
            "vgg_face_dataset/files/Gabriel_Macht.txt\n",
            "vgg_face_dataset/files/Gabrielle_Carteris.txt\n",
            "vgg_face_dataset/files/Gage_Golightly.txt\n",
            "vgg_face_dataset/files/Garcelle_Beauvais.txt\n",
            "vgg_face_dataset/files/Garrett_Clayton.txt\n",
            "vgg_face_dataset/files/Garrett_Hedlund.txt\n",
            "vgg_face_dataset/files/Garry_Marshall.txt\n",
            "vgg_face_dataset/files/Gary_Busey.txt\n",
            "vgg_face_dataset/files/Gary_Cooper.txt\n",
            "vgg_face_dataset/files/Gary_Valentine.txt\n",
            "vgg_face_dataset/files/Gaspard_Ulliel.txt\n",
            "vgg_face_dataset/files/Gates_McFadden.txt\n",
            "vgg_face_dataset/files/Gbenga_Akinnagbe.txt\n",
            "vgg_face_dataset/files/Geena_Davis.txt\n",
            "vgg_face_dataset/files/Gemma_Arterton.txt\n",
            "vgg_face_dataset/files/Gemma_Atkinson.txt\n",
            "vgg_face_dataset/files/Gemma_Chan.txt\n",
            "vgg_face_dataset/files/Gena_Rowlands.txt\n",
            "vgg_face_dataset/files/Gene_Kelly.txt\n",
            "vgg_face_dataset/files/Gene_Tierney.txt\n",
            "vgg_face_dataset/files/Gene_Wilder.txt\n",
            "vgg_face_dataset/files/Geno_Segers.txt\n",
            "vgg_face_dataset/files/George_Sampson.txt\n",
            "vgg_face_dataset/files/Georgia_King.txt\n",
            "vgg_face_dataset/files/Georgie_Henley.txt\n",
            "vgg_face_dataset/files/Georgina_Chapman.txt\n",
            "vgg_face_dataset/files/Gerald_McRaney.txt\n",
            "vgg_face_dataset/files/Geri_Halliwell.txt\n",
            "vgg_face_dataset/files/Gia_Coppola.txt\n",
            "vgg_face_dataset/files/Gia_Mantegna.txt\n",
            "vgg_face_dataset/files/Giancarlo_Giannini.txt\n",
            "vgg_face_dataset/files/Gigi_Edgley.txt\n",
            "vgg_face_dataset/files/Gil_Bellows.txt\n",
            "vgg_face_dataset/files/Gilles_Marini.txt\n",
            "vgg_face_dataset/files/Gillian_Jacobs.txt\n",
            "vgg_face_dataset/files/Gina_Carano.txt\n",
            "vgg_face_dataset/files/Gina_McKee.txt\n",
            "vgg_face_dataset/files/Ginger_Rogers.txt\n",
            "vgg_face_dataset/files/Ginnifer_Goodwin.txt\n",
            "vgg_face_dataset/files/Giovanni_Ribisi.txt\n",
            "vgg_face_dataset/files/Giuliana_Rancic.txt\n",
            "vgg_face_dataset/files/Giuseppe_Tornatore.txt\n",
            "vgg_face_dataset/files/Glen_Hansard.txt\n",
            "vgg_face_dataset/files/Glenn_Close.txt\n",
            "vgg_face_dataset/files/Gloria_Grahame.txt\n",
            "vgg_face_dataset/files/Gloria_Macapagal-Arroyo.txt\n",
            "vgg_face_dataset/files/Gloria_Reuben.txt\n",
            "vgg_face_dataset/files/Gloria_Steinem.txt\n",
            "vgg_face_dataset/files/Gloria_Swanson.txt\n",
            "vgg_face_dataset/files/Golshifteh_Farahani.txt\n",
            "vgg_face_dataset/files/Goran_Visnjic.txt\n",
            "vgg_face_dataset/files/Gordon_Ramsay.txt\n",
            "vgg_face_dataset/files/Grace_Lee_Whitney.txt\n",
            "vgg_face_dataset/files/Grace_Park.txt\n",
            "vgg_face_dataset/files/Grace_Zabriskie.txt\n",
            "vgg_face_dataset/files/Gracie_Dzienny.txt\n",
            "vgg_face_dataset/files/Grant_Bowler.txt\n",
            "vgg_face_dataset/files/Greer_Garson.txt\n",
            "vgg_face_dataset/files/Greer_Grammer.txt\n",
            "vgg_face_dataset/files/Greg_Finley.txt\n",
            "vgg_face_dataset/files/Greg_Germann.txt\n",
            "vgg_face_dataset/files/Greg_Grunberg.txt\n",
            "vgg_face_dataset/files/Greg_Vaughan.txt\n",
            "vgg_face_dataset/files/Gregg_Sulkin.txt\n",
            "vgg_face_dataset/files/Gregory_Itzin.txt\n",
            "vgg_face_dataset/files/Gregory_Smith.txt\n",
            "vgg_face_dataset/files/Greta_Gerwig.txt\n",
            "vgg_face_dataset/files/Grey_Damon.txt\n",
            "vgg_face_dataset/files/Gugu_Mbatha-Raw.txt\n",
            "vgg_face_dataset/files/Guillaume_Canet.txt\n",
            "vgg_face_dataset/files/Guy_Pearce.txt\n",
            "vgg_face_dataset/files/Gwendoline_Christie.txt\n",
            "vgg_face_dataset/files/Hailee_Steinfeld.txt\n",
            "vgg_face_dataset/files/Hal_Sparks.txt\n",
            "vgg_face_dataset/files/Haley_Pullos.txt\n",
            "vgg_face_dataset/files/Halston_Sage.txt\n",
            "vgg_face_dataset/files/Hamish_Linklater.txt\n",
            "vgg_face_dataset/files/Hana_Mae_Lee.txt\n",
            "vgg_face_dataset/files/Hannah_Marks.txt\n",
            "vgg_face_dataset/files/Hannah_Murray.txt\n",
            "vgg_face_dataset/files/Hannah_Simone.txt\n",
            "vgg_face_dataset/files/Hannah_Spearritt.txt\n",
            "vgg_face_dataset/files/Hannah_Storm.txt\n",
            "vgg_face_dataset/files/Hans_Zimmer.txt\n",
            "vgg_face_dataset/files/Harry_Connick_Jr..txt\n",
            "vgg_face_dataset/files/Harry_Hamlin.txt\n",
            "vgg_face_dataset/files/Harry_Shum_Jr..txt\n",
            "vgg_face_dataset/files/Harry_Styles.txt\n",
            "vgg_face_dataset/files/Harry_Treadaway.txt\n",
            "vgg_face_dataset/files/Harvey_Keitel.txt\n",
            "vgg_face_dataset/files/Hattie_Morahan.txt\n",
            "vgg_face_dataset/files/Hayley_Marie_Norman.txt\n",
            "vgg_face_dataset/files/Heather_Graham.txt\n",
            "vgg_face_dataset/files/Heather_Hemmens.txt\n",
            "vgg_face_dataset/files/Heather_Matarazzo.txt\n",
            "vgg_face_dataset/files/Heather_Morris.txt\n",
            "vgg_face_dataset/files/Heather_Tom.txt\n",
            "vgg_face_dataset/files/Hector_Elizondo.txt\n",
            "vgg_face_dataset/files/Hedy_Lamarr.txt\n",
            "vgg_face_dataset/files/Heidi_Montag.txt\n",
            "vgg_face_dataset/files/Heike_Makatsch.txt\n",
            "vgg_face_dataset/files/Helen_George.txt\n",
            "vgg_face_dataset/files/Helen_Hunt.txt\n",
            "vgg_face_dataset/files/Helen_McCrory.txt\n",
            "vgg_face_dataset/files/Helen_Mirren.txt\n",
            "vgg_face_dataset/files/Helen_Slater.txt\n",
            "vgg_face_dataset/files/Helena_Bonham_Carter.txt\n",
            "vgg_face_dataset/files/Helena_Christensen.txt\n",
            "vgg_face_dataset/files/Helena_Mattsson.txt\n",
            "vgg_face_dataset/files/Henry_Cavill.txt\n",
            "vgg_face_dataset/files/Henry_Fonda.txt\n",
            "vgg_face_dataset/files/Henry_Simmons.txt\n",
            "vgg_face_dataset/files/Hilarie_Burton.txt\n",
            "vgg_face_dataset/files/Hilary_Swank.txt\n",
            "vgg_face_dataset/files/Hill_Harper.txt\n",
            "vgg_face_dataset/files/Hiroyuki_Sanada.txt\n",
            "vgg_face_dataset/files/Holland_Taylor.txt\n",
            "vgg_face_dataset/files/Holliday_Grainger.txt\n",
            "vgg_face_dataset/files/Holly_Marie_Combs.txt\n",
            "vgg_face_dataset/files/Hope_Davis.txt\n",
            "vgg_face_dataset/files/Hope_Solo.txt\n",
            "vgg_face_dataset/files/Howard_Keel.txt\n",
            "vgg_face_dataset/files/Howie_Mandel.txt\n",
            "vgg_face_dataset/files/Hugh_Bonneville.txt\n",
            "vgg_face_dataset/files/Hugh_Dancy.txt\n",
            "vgg_face_dataset/files/Hugh_Jackman.txt\n",
            "vgg_face_dataset/files/Hugh_Laurie.txt\n",
            "vgg_face_dataset/files/Humphrey_Bogart.txt\n",
            "vgg_face_dataset/files/Hunter_King.txt\n",
            "vgg_face_dataset/files/Hunter_Parrish.txt\n",
            "vgg_face_dataset/files/Hutch_Dano.txt\n",
            "vgg_face_dataset/files/Hye-kyo_Song.txt\n",
            "vgg_face_dataset/files/Iain_Glen.txt\n",
            "vgg_face_dataset/files/Ian_Somerhalder.txt\n",
            "vgg_face_dataset/files/Ida_Lupino.txt\n",
            "vgg_face_dataset/files/Idina_Menzel.txt\n",
            "vgg_face_dataset/files/Idris_Elba.txt\n",
            "vgg_face_dataset/files/Illeana_Douglas.txt\n",
            "vgg_face_dataset/files/Imelda_Staunton.txt\n",
            "vgg_face_dataset/files/Inbar_Lavi.txt\n",
            "vgg_face_dataset/files/India_de_Beaufort.txt\n",
            "vgg_face_dataset/files/India_Eisley.txt\n",
            "vgg_face_dataset/files/Indira_Varma.txt\n",
            "vgg_face_dataset/files/Ingrid_Bergman.txt\n",
            "vgg_face_dataset/files/Irina_Shayk.txt\n",
            "vgg_face_dataset/files/Irrfan_Khan.txt\n",
            "vgg_face_dataset/files/Isabel_Lucas.txt\n",
            "vgg_face_dataset/files/Isla_Fisher.txt\n",
            "vgg_face_dataset/files/Italia_Ricci.txt\n",
            "vgg_face_dataset/files/Ivan_Sergei.txt\n",
            "vgg_face_dataset/files/Ivana_Baquero.txt\n",
            "vgg_face_dataset/files/Iwan_Rheon.txt\n",
            "vgg_face_dataset/files/Izabella_Miko.txt\n",
            "vgg_face_dataset/files/Izabella_Scorupco.txt\n",
            "vgg_face_dataset/files/J.J._Abrams.txt\n",
            "vgg_face_dataset/files/J.K._Simmons.txt\n",
            "vgg_face_dataset/files/Jacinda_Barrett.txt\n",
            "vgg_face_dataset/files/Jack_Black.txt\n",
            "vgg_face_dataset/files/Jack_Coleman.txt\n",
            "vgg_face_dataset/files/Jack_Davenport.txt\n",
            "vgg_face_dataset/files/Jack_Griffo.txt\n",
            "vgg_face_dataset/files/Jack_Lemmon.txt\n",
            "vgg_face_dataset/files/Jack_Ma.txt\n",
            "vgg_face_dataset/files/Jack_Noseworthy.txt\n",
            "vgg_face_dataset/files/Jack_Reynor.txt\n",
            "vgg_face_dataset/files/Jack_Whitehall.txt\n",
            "vgg_face_dataset/files/Jacki_Weaver.txt\n",
            "vgg_face_dataset/files/Jackie_Cruz.txt\n",
            "vgg_face_dataset/files/Jackie_Sandler.txt\n",
            "vgg_face_dataset/files/Jackson_Brundage.txt\n",
            "vgg_face_dataset/files/Jacob_Artist.txt\n",
            "vgg_face_dataset/files/Jacob_Latimore.txt\n",
            "vgg_face_dataset/files/Jacob_Vargas.txt\n",
            "vgg_face_dataset/files/Jacqueline_Emerson.txt\n",
            "vgg_face_dataset/files/Jacqueline_Fernandez.txt\n",
            "vgg_face_dataset/files/Jacqueline_MacInnes_Wood.txt\n",
            "vgg_face_dataset/files/Jade_Ramsey.txt\n",
            "vgg_face_dataset/files/Jaden_Smith.txt\n",
            "vgg_face_dataset/files/Jai_Courtney.txt\n",
            "vgg_face_dataset/files/Jaime_Winstone.txt\n",
            "vgg_face_dataset/files/Jake_Abel.txt\n",
            "vgg_face_dataset/files/Jake_Cherry.txt\n",
            "vgg_face_dataset/files/Jake_Johnson.txt\n",
            "vgg_face_dataset/files/Jake_McDorman.txt\n",
            "vgg_face_dataset/files/Jake_Short.txt\n",
            "vgg_face_dataset/files/Jake_T._Austin.txt\n",
            "vgg_face_dataset/files/Jamel_Debbouze.txt\n",
            "vgg_face_dataset/files/James_Anderson.txt\n",
            "vgg_face_dataset/files/James_Badge_Dale.txt\n",
            "vgg_face_dataset/files/James_Belushi.txt\n",
            "vgg_face_dataset/files/James_Corden.txt\n",
            "vgg_face_dataset/files/James_Cosmo.txt\n",
            "vgg_face_dataset/files/James_Cromwell.txt\n",
            "vgg_face_dataset/files/James_Dean.txt\n",
            "vgg_face_dataset/files/James_Denton.txt\n",
            "vgg_face_dataset/files/James_Earl_Jones.txt\n",
            "vgg_face_dataset/files/James_Frain.txt\n",
            "vgg_face_dataset/files/James_Lafferty.txt\n",
            "vgg_face_dataset/files/James_Lipton.txt\n",
            "vgg_face_dataset/files/James_Marsden.txt\n",
            "vgg_face_dataset/files/James_Maslow.txt\n",
            "vgg_face_dataset/files/James_Mason.txt\n",
            "vgg_face_dataset/files/James_Nesbitt.txt\n",
            "vgg_face_dataset/files/James_Patrick_Stuart.txt\n",
            "vgg_face_dataset/files/James_Purefoy.txt\n",
            "vgg_face_dataset/files/James_Rebhorn.txt\n",
            "vgg_face_dataset/files/James_Roday.txt\n",
            "vgg_face_dataset/files/James_Stewart.txt\n",
            "vgg_face_dataset/files/James_Woods.txt\n",
            "vgg_face_dataset/files/Jami_Gertz.txt\n",
            "vgg_face_dataset/files/Jamie-Lynn_Sigler.txt\n",
            "vgg_face_dataset/files/Jamie_Brewer.txt\n",
            "vgg_face_dataset/files/Jamie_Chung.txt\n",
            "vgg_face_dataset/files/Jamie_Foxx.txt\n",
            "vgg_face_dataset/files/Jamie_Gray_Hyder.txt\n",
            "vgg_face_dataset/files/Jana_Kramer.txt\n",
            "vgg_face_dataset/files/Jana_Pallaske.txt\n",
            "vgg_face_dataset/files/Jane_Badler.txt\n",
            "vgg_face_dataset/files/Jane_Campion.txt\n",
            "vgg_face_dataset/files/Jane_Goldman.txt\n",
            "vgg_face_dataset/files/Jane_Horrocks.txt\n",
            "vgg_face_dataset/files/Jane_Levy.txt\n",
            "vgg_face_dataset/files/Jane_Lynch.txt\n",
            "vgg_face_dataset/files/Jane_Seymour.txt\n",
            "vgg_face_dataset/files/Jane_Wyman.txt\n",
            "vgg_face_dataset/files/Janeane_Garofalo.txt\n",
            "vgg_face_dataset/files/Janel_Moloney.txt\n",
            "vgg_face_dataset/files/Janel_Parrish.txt\n",
            "vgg_face_dataset/files/Janet_Jackson.txt\n",
            "vgg_face_dataset/files/Janet_McTeer.txt\n",
            "vgg_face_dataset/files/Janet_Montgomery.txt\n",
            "vgg_face_dataset/files/Janice_Dickinson.txt\n",
            "vgg_face_dataset/files/Janina_Gavankar.txt\n",
            "vgg_face_dataset/files/Janine_Turner.txt\n",
            "vgg_face_dataset/files/January_Jones.txt\n",
            "vgg_face_dataset/files/Jared_Gilmore.txt\n",
            "vgg_face_dataset/files/Jared_Harris.txt\n",
            "vgg_face_dataset/files/Jared_Leto.txt\n",
            "vgg_face_dataset/files/Jasika_Nicole.txt\n",
            "vgg_face_dataset/files/Jasmine_Guy.txt\n",
            "vgg_face_dataset/files/Jasmine_Waltz.txt\n",
            "vgg_face_dataset/files/Jason_Bateman.txt\n",
            "vgg_face_dataset/files/Jason_Behr.txt\n",
            "vgg_face_dataset/files/Jason_Clarke.txt\n",
            "vgg_face_dataset/files/Jason_David_Frank.txt\n",
            "vgg_face_dataset/files/Jason_Dohring.txt\n",
            "vgg_face_dataset/files/Jason_Dolley.txt\n",
            "vgg_face_dataset/files/Jason_Earles.txt\n",
            "vgg_face_dataset/files/Jason_Gedrick.txt\n",
            "vgg_face_dataset/files/Jason_George.txt\n",
            "vgg_face_dataset/files/Jason_Lewis.txt\n",
            "vgg_face_dataset/files/Jason_Mantzoukas.txt\n",
            "vgg_face_dataset/files/Jason_Momoa.txt\n",
            "vgg_face_dataset/files/Jason_Segel.txt\n",
            "vgg_face_dataset/files/Jay_Baruchel.txt\n",
            "vgg_face_dataset/files/Jayma_Mays.txt\n",
            "vgg_face_dataset/files/Jayne_Atkinson.txt\n",
            "vgg_face_dataset/files/Jayne_Mansfield.txt\n",
            "vgg_face_dataset/files/Jayne_Wisener.txt\n",
            "vgg_face_dataset/files/Jean-Marc_Barr.txt\n",
            "vgg_face_dataset/files/Jean-Paul_Belmondo.txt\n",
            "vgg_face_dataset/files/Jean_Arthur.txt\n",
            "vgg_face_dataset/files/Jean_Harlow.txt\n",
            "vgg_face_dataset/files/Jean_Louisa_Kelly.txt\n",
            "vgg_face_dataset/files/Jean_Reno.txt\n",
            "vgg_face_dataset/files/Jean_Seberg.txt\n",
            "vgg_face_dataset/files/Jean_Simmons.txt\n",
            "vgg_face_dataset/files/Jean_Smart.txt\n",
            "vgg_face_dataset/files/Jeanine_Mason.txt\n",
            "vgg_face_dataset/files/Jeanne_Crain.txt\n",
            "vgg_face_dataset/files/Jeanne_Tripplehorn.txt\n",
            "vgg_face_dataset/files/Jeannie_Mai.txt\n",
            "vgg_face_dataset/files/Jeff_Bezos.txt\n",
            "vgg_face_dataset/files/Jeff_Chandler.txt\n",
            "vgg_face_dataset/files/Jeff_Conaway.txt\n",
            "vgg_face_dataset/files/Jeff_Daniels.txt\n",
            "vgg_face_dataset/files/Jeff_Fahey.txt\n",
            "vgg_face_dataset/files/Jeff_Garlin.txt\n",
            "vgg_face_dataset/files/Jeff_Goldblum.txt\n",
            "vgg_face_dataset/files/Jeffrey_Dean_Morgan.txt\n",
            "vgg_face_dataset/files/Jeffrey_Donovan.txt\n",
            "vgg_face_dataset/files/Jeffrey_Hunter.txt\n",
            "vgg_face_dataset/files/Jeffrey_Nordling.txt\n",
            "vgg_face_dataset/files/Jeffrey_Tambor.txt\n",
            "vgg_face_dataset/files/Jeffrey_Wright.txt\n",
            "vgg_face_dataset/files/Jemaine_Clement.txt\n",
            "vgg_face_dataset/files/Jemima_Rooper.txt\n",
            "vgg_face_dataset/files/Jen_Lilley.txt\n",
            "vgg_face_dataset/files/Jena_Malone.txt\n",
            "vgg_face_dataset/files/Jena_Sims.txt\n",
            "vgg_face_dataset/files/Jenifer_Lewis.txt\n",
            "vgg_face_dataset/files/Jenilee_Harrison.txt\n",
            "vgg_face_dataset/files/Jenn_Brown.txt\n",
            "vgg_face_dataset/files/Jenna_Boyd.txt\n",
            "vgg_face_dataset/files/Jenna_Coleman.txt\n",
            "vgg_face_dataset/files/Jenna_Fischer.txt\n",
            "vgg_face_dataset/files/Jenna_Haze.txt\n",
            "vgg_face_dataset/files/Jenna_Ushkowitz.txt\n",
            "vgg_face_dataset/files/Jennette_McCurdy.txt\n",
            "vgg_face_dataset/files/Jennifer_Beals.txt\n",
            "vgg_face_dataset/files/Jennifer_Carpenter.txt\n",
            "vgg_face_dataset/files/Jennifer_Coolidge.txt\n",
            "vgg_face_dataset/files/Jennifer_Ehle.txt\n",
            "vgg_face_dataset/files/Jennifer_Elise_Cox.txt\n",
            "vgg_face_dataset/files/Jennifer_Esposito.txt\n",
            "vgg_face_dataset/files/Jennifer_Ferrin.txt\n",
            "vgg_face_dataset/files/Jennifer_Finnigan.txt\n",
            "vgg_face_dataset/files/Jennifer_Freeman.txt\n",
            "vgg_face_dataset/files/Jennifer_Jason_Leigh.txt\n",
            "vgg_face_dataset/files/Jennifer_Morrison.txt\n",
            "vgg_face_dataset/files/Jennifer_Saunders.txt\n",
            "vgg_face_dataset/files/Jennifer_Stone.txt\n",
            "vgg_face_dataset/files/Jenny_Slate.txt\n",
            "vgg_face_dataset/files/Jenny_Wade.txt\n",
            "vgg_face_dataset/files/Jensen_Ackles.txt\n",
            "vgg_face_dataset/files/Jeremy_Brett.txt\n",
            "vgg_face_dataset/files/Jeremy_Clarkson.txt\n",
            "vgg_face_dataset/files/Jeremy_Davies.txt\n",
            "vgg_face_dataset/files/Jeremy_Irons.txt\n",
            "vgg_face_dataset/files/Jeremy_Irvine.txt\n",
            "vgg_face_dataset/files/Jeremy_Northam.txt\n",
            "vgg_face_dataset/files/Jeremy_Piven.txt\n",
            "vgg_face_dataset/files/Jeremy_Renner.txt\n",
            "vgg_face_dataset/files/Jeremy_Shada.txt\n",
            "vgg_face_dataset/files/Jeremy_Sisto.txt\n",
            "vgg_face_dataset/files/Jeremy_Sumpter.txt\n",
            "vgg_face_dataset/files/Jerome_Flynn.txt\n",
            "vgg_face_dataset/files/Jerry_Ferrara.txt\n",
            "vgg_face_dataset/files/Jerry_Orbach.txt\n",
            "vgg_face_dataset/files/Jerry_Trainor.txt\n",
            "vgg_face_dataset/files/Jes_Macallan.txt\n",
            "vgg_face_dataset/files/Jesse_Bradford.txt\n",
            "vgg_face_dataset/files/Jesse_Eisenberg.txt\n",
            "vgg_face_dataset/files/Jesse_L._Martin.txt\n",
            "vgg_face_dataset/files/Jesse_McCartney.txt\n",
            "vgg_face_dataset/files/Jesse_Metcalfe.txt\n",
            "vgg_face_dataset/files/Jesse_Plemons.txt\n",
            "vgg_face_dataset/files/Jesse_Spencer.txt\n",
            "vgg_face_dataset/files/Jesse_Williams.txt\n",
            "vgg_face_dataset/files/Jessica_Boehrs.txt\n",
            "vgg_face_dataset/files/Jessica_De_Gouw.txt\n",
            "vgg_face_dataset/files/Jessica_Gomes.txt\n",
            "vgg_face_dataset/files/Jessica_Hecht.txt\n",
            "vgg_face_dataset/files/Jessica_Lowndes.txt\n",
            "vgg_face_dataset/files/Jessica_Marais.txt\n",
            "vgg_face_dataset/files/Jessica_McNamee.txt\n",
            "vgg_face_dataset/files/Jessica_Raine.txt\n",
            "vgg_face_dataset/files/Jessica_Steen.txt\n",
            "vgg_face_dataset/files/Jessica_Walter.txt\n",
            "vgg_face_dataset/files/Jessie_J.txt\n",
            "vgg_face_dataset/files/Jessie_Pavelka.txt\n",
            "vgg_face_dataset/files/Jessy_Schram.txt\n",
            "vgg_face_dataset/files/Jet_Li.txt\n",
            "vgg_face_dataset/files/Jill_Scott.txt\n",
            "vgg_face_dataset/files/Jill_St._John.txt\n",
            "vgg_face_dataset/files/Jill_Wagner.txt\n",
            "vgg_face_dataset/files/Jillian_Harris.txt\n",
            "vgg_face_dataset/files/Jillian_Michaels.txt\n",
            "vgg_face_dataset/files/Jillian_Murray.txt\n",
            "vgg_face_dataset/files/Jillian_Rose_Reed.txt\n",
            "vgg_face_dataset/files/Jim_Beaver.txt\n",
            "vgg_face_dataset/files/Jim_Broadbent.txt\n",
            "vgg_face_dataset/files/Jim_Caviezel.txt\n",
            "vgg_face_dataset/files/Jim_Henson.txt\n",
            "vgg_face_dataset/files/Jim_Jefferies.txt\n",
            "vgg_face_dataset/files/Jim_Sturgess.txt\n",
            "vgg_face_dataset/files/Jimmy_Bennett.txt\n",
            "vgg_face_dataset/files/Jimmy_Fallon.txt\n",
            "vgg_face_dataset/files/JJ_Feild.txt\n",
            "vgg_face_dataset/files/Jo_Champa.txt\n",
            "vgg_face_dataset/files/Jo_Wilfried_Tsonga.txt\n",
            "vgg_face_dataset/files/Joan_Allen.txt\n",
            "vgg_face_dataset/files/Joan_Blondell.txt\n",
            "vgg_face_dataset/files/Joan_Chen.txt\n",
            "vgg_face_dataset/files/Joan_Cusack.txt\n",
            "vgg_face_dataset/files/Joan_Hickson.txt\n",
            "vgg_face_dataset/files/Joan_Rivers.txt\n",
            "vgg_face_dataset/files/Joan_Van_Ark.txt\n",
            "vgg_face_dataset/files/JoAnna_Garcia_Swisher.txt\n",
            "vgg_face_dataset/files/Joanna_Krupa.txt\n",
            "vgg_face_dataset/files/Joanna_Lumley.txt\n",
            "vgg_face_dataset/files/Joanne_Froggatt.txt\n",
            "vgg_face_dataset/files/Joanne_Kelly.txt\n",
            "vgg_face_dataset/files/Joaquim_de_Almeida.txt\n",
            "vgg_face_dataset/files/JoBeth_Williams.txt\n",
            "vgg_face_dataset/files/Jodi_Benson.txt\n",
            "vgg_face_dataset/files/Joe_Armstrong.txt\n",
            "vgg_face_dataset/files/Joe_Flanigan.txt\n",
            "vgg_face_dataset/files/Joe_Jonas.txt\n",
            "vgg_face_dataset/files/Joe_Lando.txt\n",
            "vgg_face_dataset/files/Joe_Lo_Truglio.txt\n",
            "vgg_face_dataset/files/Joe_Manganiello.txt\n",
            "vgg_face_dataset/files/Joe_Morton.txt\n",
            "vgg_face_dataset/files/Joel_Courtney.txt\n",
            "vgg_face_dataset/files/Joel_Edgerton.txt\n",
            "vgg_face_dataset/files/Joel_Gretsch.txt\n",
            "vgg_face_dataset/files/Joel_Kinnaman.txt\n",
            "vgg_face_dataset/files/Joel_McHale.txt\n",
            "vgg_face_dataset/files/Joelle_Carter.txt\n",
            "vgg_face_dataset/files/Joey_Fatone.txt\n",
            "vgg_face_dataset/files/Joey_Heatherton.txt\n",
            "vgg_face_dataset/files/Joey_King.txt\n",
            "vgg_face_dataset/files/Joey_McIntyre.txt\n",
            "vgg_face_dataset/files/Johann_Urb.txt\n",
            "vgg_face_dataset/files/John_Abraham.txt\n",
            "vgg_face_dataset/files/John_Amos.txt\n",
            "vgg_face_dataset/files/John_Barrowman.txt\n",
            "vgg_face_dataset/files/John_C._McGinley.txt\n",
            "vgg_face_dataset/files/John_Carroll_Lynch.txt\n",
            "vgg_face_dataset/files/John_Cena.txt\n",
            "vgg_face_dataset/files/John_Cho.txt\n",
            "vgg_face_dataset/files/John_Cleese.txt\n",
            "vgg_face_dataset/files/John_Corbett.txt\n",
            "vgg_face_dataset/files/John_de_Lancie.txt\n",
            "vgg_face_dataset/files/John_DiMaggio.txt\n",
            "vgg_face_dataset/files/John_Forsythe.txt\n",
            "vgg_face_dataset/files/John_Francis_Daley.txt\n",
            "vgg_face_dataset/files/John_Gallagher_Jr..txt\n",
            "vgg_face_dataset/files/John_Glover.txt\n",
            "vgg_face_dataset/files/John_Goodman.txt\n",
            "vgg_face_dataset/files/John_Hannah.txt\n",
            "vgg_face_dataset/files/John_Hawkes.txt\n",
            "vgg_face_dataset/files/John_Hensley.txt\n",
            "vgg_face_dataset/files/John_Hodgman.txt\n",
            "vgg_face_dataset/files/John_Hurt.txt\n",
            "vgg_face_dataset/files/John_Krasinski.txt\n",
            "vgg_face_dataset/files/John_Larroquette.txt\n",
            "vgg_face_dataset/files/John_Lasseter.txt\n",
            "vgg_face_dataset/files/John_Lloyd_Young.txt\n",
            "vgg_face_dataset/files/John_Mahoney.txt\n",
            "vgg_face_dataset/files/John_Michael_Higgins.txt\n",
            "vgg_face_dataset/files/John_Mulaney.txt\n",
            "vgg_face_dataset/files/John_Nettles.txt\n",
            "vgg_face_dataset/files/John_Noble.txt\n",
            "vgg_face_dataset/files/John_Oliver.txt\n",
            "vgg_face_dataset/files/John_Ratzenberger.txt\n",
            "vgg_face_dataset/files/John_Rhys-Davies.txt\n",
            "vgg_face_dataset/files/John_Ridley.txt\n",
            "vgg_face_dataset/files/John_Ritter.txt\n",
            "vgg_face_dataset/files/John_Savage.txt\n",
            "vgg_face_dataset/files/John_Saxon.txt\n",
            "vgg_face_dataset/files/John_Schneider.txt\n",
            "vgg_face_dataset/files/John_Simm.txt\n",
            "vgg_face_dataset/files/John_Slattery.txt\n",
            "vgg_face_dataset/files/John_Stamos.txt\n",
            "vgg_face_dataset/files/John_Terry.txt\n",
            "vgg_face_dataset/files/John_Turturro.txt\n",
            "vgg_face_dataset/files/John_Witherspoon.txt\n",
            "vgg_face_dataset/files/Johnathon_Schaech.txt\n",
            "vgg_face_dataset/files/Johnny_Galecki.txt\n",
            "vgg_face_dataset/files/Johnny_Knoxville.txt\n",
            "vgg_face_dataset/files/Johnny_Messner.txt\n",
            "vgg_face_dataset/files/Johnny_Whitworth.txt\n",
            "vgg_face_dataset/files/Jon_Bernthal.txt\n",
            "vgg_face_dataset/files/Jon_Favreau.txt\n",
            "vgg_face_dataset/files/Jon_Foster.txt\n",
            "vgg_face_dataset/files/Jon_Huertas.txt\n",
            "vgg_face_dataset/files/Jon_Lovitz.txt\n",
            "vgg_face_dataset/files/Jon_Pertwee.txt\n",
            "vgg_face_dataset/files/Jon_Seda.txt\n",
            "vgg_face_dataset/files/Jonathan_Bennett.txt\n",
            "vgg_face_dataset/files/Jonathan_Brandis.txt\n",
            "vgg_face_dataset/files/Jonathan_Crombie.txt\n",
            "vgg_face_dataset/files/Jonathan_Frakes.txt\n",
            "vgg_face_dataset/files/Jonathan_Jackson.txt\n",
            "vgg_face_dataset/files/Jonathan_Keltz.txt\n",
            "vgg_face_dataset/files/Jonathan_Pryce.txt\n",
            "vgg_face_dataset/files/Jonathan_Rhys_Meyers.txt\n",
            "vgg_face_dataset/files/Jonathan_Sadowski.txt\n",
            "vgg_face_dataset/files/Jonathan_Taylor_Thomas.txt\n",
            "vgg_face_dataset/files/Jordan_Gavaris.txt\n",
            "vgg_face_dataset/files/Jordana_Brewster.txt\n",
            "vgg_face_dataset/files/Jordana_Spiro.txt\n",
            "vgg_face_dataset/files/Jordin_Sparks.txt\n",
            "vgg_face_dataset/files/Jorge_Garcia.txt\n",
            "vgg_face_dataset/files/Jorja_Fox.txt\n",
            "vgg_face_dataset/files/Joseph_Cotten.txt\n",
            "vgg_face_dataset/files/Joseph_Gordon-Levitt.txt\n",
            "vgg_face_dataset/files/Joseph_Lawrence.txt\n",
            "vgg_face_dataset/files/Josh_Brolin.txt\n",
            "vgg_face_dataset/files/Josh_Duhamel.txt\n",
            "vgg_face_dataset/files/Josh_Gad.txt\n",
            "vgg_face_dataset/files/Josh_Groban.txt\n",
            "vgg_face_dataset/files/Josh_Henderson.txt\n",
            "vgg_face_dataset/files/Josh_Holloway.txt\n",
            "vgg_face_dataset/files/Josh_Hutcherson.txt\n",
            "vgg_face_dataset/files/Josh_Lucas.txt\n",
            "vgg_face_dataset/files/Josh_Peck.txt\n",
            "vgg_face_dataset/files/Josh_Radnor.txt\n",
            "vgg_face_dataset/files/Joshua_Jackson.txt\n",
            "vgg_face_dataset/files/Josie_Loren.txt\n",
            "vgg_face_dataset/files/Joss_Stone.txt\n",
            "vgg_face_dataset/files/Joss_Whedon.txt\n",
            "vgg_face_dataset/files/Joyce_DeWitt.txt\n",
            "vgg_face_dataset/files/Joyce_Giraud.txt\n",
            "vgg_face_dataset/files/Judd_Hirsch.txt\n",
            "vgg_face_dataset/files/Judith_Light.txt\n",
            "vgg_face_dataset/files/Judy_Landers.txt\n",
            "vgg_face_dataset/files/Judy_Sheindlin.txt\n",
            "vgg_face_dataset/files/Julia_Garner.txt\n",
            "vgg_face_dataset/files/Julia_Jones.txt\n",
            "vgg_face_dataset/files/Julia_Louis-Dreyfus.txt\n",
            "vgg_face_dataset/files/Julia_Roberts.txt\n",
            "vgg_face_dataset/files/Julia_Stiles.txt\n",
            "vgg_face_dataset/files/Julian_Morris.txt\n",
            "vgg_face_dataset/files/Julian_Sands.txt\n",
            "vgg_face_dataset/files/Julianne_Hough.txt\n",
            "vgg_face_dataset/files/Julianne_Nicholson.txt\n",
            "vgg_face_dataset/files/Julie_Chen.txt\n",
            "vgg_face_dataset/files/Julie_Gonzalo.txt\n",
            "vgg_face_dataset/files/Julie_London.txt\n",
            "vgg_face_dataset/files/Julie_Walters.txt\n",
            "vgg_face_dataset/files/Julie_White.txt\n",
            "vgg_face_dataset/files/Juliet_Mills.txt\n",
            "vgg_face_dataset/files/Juliet_Stevenson.txt\n",
            "vgg_face_dataset/files/June_Foray.txt\n",
            "vgg_face_dataset/files/June_Squibb.txt\n",
            "vgg_face_dataset/files/Justin_Berfield.txt\n",
            "vgg_face_dataset/files/Justin_Bruening.txt\n",
            "vgg_face_dataset/files/Justin_Chatwin.txt\n",
            "vgg_face_dataset/files/Justin_Hartley.txt\n",
            "vgg_face_dataset/files/Justin_Kirk.txt\n",
            "vgg_face_dataset/files/Justina_Machado.txt\n",
            "vgg_face_dataset/files/Justine_Bateman.txt\n",
            "vgg_face_dataset/files/Justine_Ezarik.txt\n",
            "vgg_face_dataset/files/Kaitlin_Olson.txt\n",
            "vgg_face_dataset/files/Kal_Penn.txt\n",
            "vgg_face_dataset/files/Kali_Hawk.txt\n",
            "vgg_face_dataset/files/Kamal_Hassan.txt\n",
            "vgg_face_dataset/files/Kangana_Ranaut.txt\n",
            "vgg_face_dataset/files/Kapil_Sharma.txt\n",
            "vgg_face_dataset/files/Kara_Hayward.txt\n",
            "vgg_face_dataset/files/Karan_Brar.txt\n",
            "vgg_face_dataset/files/Karen_Duffy.txt\n",
            "vgg_face_dataset/files/Kari_Matchett.txt\n",
            "vgg_face_dataset/files/Karina_Smirnoff.txt\n",
            "vgg_face_dataset/files/Karl_Malden.txt\n",
            "vgg_face_dataset/files/Karla_Souza.txt\n",
            "vgg_face_dataset/files/Karolina_Kurkova.txt\n",
            "vgg_face_dataset/files/Karolina_Wydra.txt\n",
            "vgg_face_dataset/files/Karoline_Herfurth.txt\n",
            "vgg_face_dataset/files/Kasia_Smutniak.txt\n",
            "vgg_face_dataset/files/Kat_Dennings.txt\n",
            "vgg_face_dataset/files/Kat_Graham.txt\n",
            "vgg_face_dataset/files/Kate_Beckinsale.txt\n",
            "vgg_face_dataset/files/Kate_Flannery.txt\n",
            "vgg_face_dataset/files/Kate_Mansi.txt\n",
            "vgg_face_dataset/files/Kate_Mara.txt\n",
            "vgg_face_dataset/files/Kate_McKinnon.txt\n",
            "vgg_face_dataset/files/Kate_Micucci.txt\n",
            "vgg_face_dataset/files/Kate_Mulgrew.txt\n",
            "vgg_face_dataset/files/Kate_Vernon.txt\n",
            "vgg_face_dataset/files/Kate_Voegele.txt\n",
            "vgg_face_dataset/files/Kate_Walsh.txt\n",
            "vgg_face_dataset/files/Katee_Sackhoff.txt\n",
            "vgg_face_dataset/files/Katey_Sagal.txt\n",
            "vgg_face_dataset/files/Katharine_McPhee.txt\n",
            "vgg_face_dataset/files/Katherine_Bailess.txt\n",
            "vgg_face_dataset/files/Katherine_Heigl.txt\n",
            "vgg_face_dataset/files/Katherine_Jenkins.txt\n",
            "vgg_face_dataset/files/Katherine_LaNasa.txt\n",
            "vgg_face_dataset/files/Katherine_McNamara.txt\n",
            "vgg_face_dataset/files/Katherine_Moennig.txt\n",
            "vgg_face_dataset/files/Katheryn_Winnick.txt\n",
            "vgg_face_dataset/files/Kathie_Lee_Gifford.txt\n",
            "vgg_face_dataset/files/Kathleen_Quinlan.txt\n",
            "vgg_face_dataset/files/Kathleen_Robertson.txt\n",
            "vgg_face_dataset/files/Kathrine_Narducci.txt\n",
            "vgg_face_dataset/files/Kathryn_Drysdale.txt\n",
            "vgg_face_dataset/files/Kathryn_Erbe.txt\n",
            "vgg_face_dataset/files/Kathryn_Hahn.txt\n",
            "vgg_face_dataset/files/Kathryn_Joosten.txt\n",
            "vgg_face_dataset/files/Kathryn_McCormick.txt\n",
            "vgg_face_dataset/files/Kathryn_Newton.txt\n",
            "vgg_face_dataset/files/Kathryn_Prescott.txt\n",
            "vgg_face_dataset/files/Kathy_Griffin.txt\n",
            "vgg_face_dataset/files/Kathy_Ireland.txt\n",
            "vgg_face_dataset/files/Kathy_Najimy.txt\n",
            "vgg_face_dataset/files/Katie_Aselton.txt\n",
            "vgg_face_dataset/files/Katie_Cassidy.txt\n",
            "vgg_face_dataset/files/Katie_Cleary.txt\n",
            "vgg_face_dataset/files/Katie_Findlay.txt\n",
            "vgg_face_dataset/files/Katie_Leclerc.txt\n",
            "vgg_face_dataset/files/Katie_Lee_Joel.txt\n",
            "vgg_face_dataset/files/Katie_Lowes.txt\n",
            "vgg_face_dataset/files/Katie_Stevens.txt\n",
            "vgg_face_dataset/files/Katrina_Bowden.txt\n",
            "vgg_face_dataset/files/Katrina_Law.txt\n",
            "vgg_face_dataset/files/Katt_Williams.txt\n",
            "vgg_face_dataset/files/Katy_Mixon.txt\n",
            "vgg_face_dataset/files/Katy_Perry.txt\n",
            "vgg_face_dataset/files/Kavan_Smith.txt\n",
            "vgg_face_dataset/files/Kay_Francis.txt\n",
            "vgg_face_dataset/files/Kay_Panabaker.txt\n",
            "vgg_face_dataset/files/Kaya_Scodelario.txt\n",
            "vgg_face_dataset/files/KayCee_Stroh.txt\n",
            "vgg_face_dataset/files/Kayden_Kross.txt\n",
            "vgg_face_dataset/files/Kayla_Collins.txt\n",
            "vgg_face_dataset/files/Kayla_Ewell.txt\n",
            "vgg_face_dataset/files/Kaylee_DeFer.txt\n",
            "vgg_face_dataset/files/Kayvan_Novak.txt\n",
            "vgg_face_dataset/files/Keegan_Allen.txt\n",
            "vgg_face_dataset/files/Keegan_Connor_Tracy.txt\n",
            "vgg_face_dataset/files/Keeley_Hawes.txt\n",
            "vgg_face_dataset/files/Keith_David.txt\n",
            "vgg_face_dataset/files/Keith_Richards.txt\n",
            "vgg_face_dataset/files/Keke_Palmer.txt\n",
            "vgg_face_dataset/files/Kel_Mitchell.txt\n",
            "vgg_face_dataset/files/Kellan_Lutz.txt\n",
            "vgg_face_dataset/files/Kelli_Berglund.txt\n",
            "vgg_face_dataset/files/Kelli_Garner.txt\n",
            "vgg_face_dataset/files/Kelli_Giddish.txt\n",
            "vgg_face_dataset/files/Kelli_Williams.txt\n",
            "vgg_face_dataset/files/Kellie_Martin.txt\n",
            "vgg_face_dataset/files/Kellita_Smith.txt\n",
            "vgg_face_dataset/files/Kelly_Bishop.txt\n",
            "vgg_face_dataset/files/Kelly_Brook.txt\n",
            "vgg_face_dataset/files/Kelly_Carlson.txt\n",
            "vgg_face_dataset/files/Kelly_Kruger.txt\n",
            "vgg_face_dataset/files/Kelly_LeBrock.txt\n",
            "vgg_face_dataset/files/Kelly_Lynch.txt\n",
            "vgg_face_dataset/files/Kelly_Macdonald.txt\n",
            "vgg_face_dataset/files/Kelly_Monaco.txt\n",
            "vgg_face_dataset/files/Kelly_Preston.txt\n",
            "vgg_face_dataset/files/Kelly_Reilly.txt\n",
            "vgg_face_dataset/files/Kelly_Rowan.txt\n",
            "vgg_face_dataset/files/Kelly_Rutherford.txt\n",
            "vgg_face_dataset/files/Ken_Jeong.txt\n",
            "vgg_face_dataset/files/Ken_Marino.txt\n",
            "vgg_face_dataset/files/Kenan_Thompson.txt\n",
            "vgg_face_dataset/files/Kendra_Wilkinson.txt\n",
            "vgg_face_dataset/files/Kenny_Rogers.txt\n",
            "vgg_face_dataset/files/Kenton_Duty.txt\n",
            "vgg_face_dataset/files/Kenya_Moore.txt\n",
            "vgg_face_dataset/files/Keri_Hilson.txt\n",
            "vgg_face_dataset/files/Keri_Lynn_Pratt.txt\n",
            "vgg_face_dataset/files/Keri_Russell.txt\n",
            "vgg_face_dataset/files/Kerry_Washington.txt\n",
            "vgg_face_dataset/files/Kesha.txt\n",
            "vgg_face_dataset/files/Kevin_Alejandro.txt\n",
            "vgg_face_dataset/files/Kevin_Bacon.txt\n",
            "vgg_face_dataset/files/Kevin_Clash.txt\n",
            "vgg_face_dataset/files/Kevin_Hart.txt\n",
            "vgg_face_dataset/files/Kevin_McHale.txt\n",
            "vgg_face_dataset/files/Kevin_Michael_Richardson.txt\n",
            "vgg_face_dataset/files/Kevin_Smith.txt\n",
            "vgg_face_dataset/files/Khandi_Alexander.txt\n",
            "vgg_face_dataset/files/Kid_Rock.txt\n",
            "vgg_face_dataset/files/Kiefer_Sutherland.txt\n",
            "vgg_face_dataset/files/Kiele_Sanchez.txt\n",
            "vgg_face_dataset/files/Kiernan_Shipka.txt\n",
            "vgg_face_dataset/files/Kiersten_Warren.txt\n",
            "vgg_face_dataset/files/Kierston_Wareing.txt\n",
            "vgg_face_dataset/files/Kim_Dickens.txt\n",
            "vgg_face_dataset/files/Kim_Fields.txt\n",
            "vgg_face_dataset/files/Kim_Novak.txt\n",
            "vgg_face_dataset/files/Kim_Raver.txt\n",
            "vgg_face_dataset/files/Kim_Richards.txt\n",
            "vgg_face_dataset/files/Kim_Zolciak-Biermann.txt\n",
            "vgg_face_dataset/files/Kimberly_Elise.txt\n",
            "vgg_face_dataset/files/Kimberly_Williams-Paisley.txt\n",
            "vgg_face_dataset/files/Kirsten_Storms.txt\n",
            "vgg_face_dataset/files/Kirsten_Vangsness.txt\n",
            "vgg_face_dataset/files/Kirstie_Alley.txt\n",
            "vgg_face_dataset/files/Kit_Harington.txt\n",
            "vgg_face_dataset/files/Kodi_Smit-McPhee.txt\n",
            "vgg_face_dataset/files/Kris_Jenner.txt\n",
            "vgg_face_dataset/files/Kristen_Bell.txt\n",
            "vgg_face_dataset/files/Kristen_Johnston.txt\n",
            "vgg_face_dataset/files/Kristen_Schaal.txt\n",
            "vgg_face_dataset/files/Kristen_Stewart.txt\n",
            "vgg_face_dataset/files/Kristen_Wiig.txt\n",
            "vgg_face_dataset/files/Kristian_Alfonso.txt\n",
            "vgg_face_dataset/files/Kristina_Anapau.txt\n",
            "vgg_face_dataset/files/Kristy_Swanson.txt\n",
            "vgg_face_dataset/files/Kriti_Sanon.txt\n",
            "vgg_face_dataset/files/Kuno_Becker.txt\n",
            "vgg_face_dataset/files/Kurt_Fuller.txt\n",
            "vgg_face_dataset/files/Kyle_Bornheimer.txt\n",
            "vgg_face_dataset/files/Kyle_Gallner.txt\n",
            "vgg_face_dataset/files/Kyle_MacLachlan.txt\n",
            "vgg_face_dataset/files/Kyle_Richards.txt\n",
            "vgg_face_dataset/files/Kylie_Minogue.txt\n",
            "vgg_face_dataset/files/Kym_Whitley.txt\n",
            "vgg_face_dataset/files/La_La_Anthony.txt\n",
            "vgg_face_dataset/files/Lacey_Turner.txt\n",
            "vgg_face_dataset/files/Lady_Gaga.txt\n",
            "vgg_face_dataset/files/Lainie_Kazan.txt\n",
            "vgg_face_dataset/files/Lalit_Modi.txt\n",
            "vgg_face_dataset/files/Lana_Wachowski.txt\n",
            "vgg_face_dataset/files/Lara_Pulver.txt\n",
            "vgg_face_dataset/files/Lara_Spencer.txt\n",
            "vgg_face_dataset/files/Laura_Bailey.txt\n",
            "vgg_face_dataset/files/Laura_Bell_Bundy.txt\n",
            "vgg_face_dataset/files/Laura_Benanti.txt\n",
            "vgg_face_dataset/files/Laura_Carmichael.txt\n",
            "vgg_face_dataset/files/Laura_Dern.txt\n",
            "vgg_face_dataset/files/Laura_Haddock.txt\n",
            "vgg_face_dataset/files/Laura_Leighton.txt\n",
            "vgg_face_dataset/files/Laura_Marano.txt\n",
            "vgg_face_dataset/files/Laura_San_Giacomo.txt\n",
            "vgg_face_dataset/files/Laura_Wiggins.txt\n",
            "vgg_face_dataset/files/Lauren_Bowles.txt\n",
            "vgg_face_dataset/files/Lauren_Graham.txt\n",
            "vgg_face_dataset/files/Lauren_London.txt\n",
            "vgg_face_dataset/files/Lauren_Potter.txt\n",
            "vgg_face_dataset/files/Lauren_Storm.txt\n",
            "vgg_face_dataset/files/Laurie_Holden.txt\n",
            "vgg_face_dataset/files/Lauryn_Hill.txt\n",
            "vgg_face_dataset/files/Lavell_Crawford.txt\n",
            "vgg_face_dataset/files/Laverne_Cox.txt\n",
            "vgg_face_dataset/files/Laz_Alonso.txt\n",
            "vgg_face_dataset/files/Lea_Michele.txt\n",
            "vgg_face_dataset/files/Lea_Salonga.txt\n",
            "vgg_face_dataset/files/Lea_Thompson.txt\n",
            "vgg_face_dataset/files/Lee_Grant.txt\n",
            "vgg_face_dataset/files/Lee_Marvin.txt\n",
            "vgg_face_dataset/files/Lee_Meriwether.txt\n",
            "vgg_face_dataset/files/Lee_Remick.txt\n",
            "vgg_face_dataset/files/Lee_Tergesen.txt\n",
            "vgg_face_dataset/files/Leelee_Sobieski.txt\n",
            "vgg_face_dataset/files/Leighton_Meester.txt\n",
            "vgg_face_dataset/files/Leila_Hatami.txt\n",
            "vgg_face_dataset/files/Lena_Dunham.txt\n",
            "vgg_face_dataset/files/Lena_Headey.txt\n",
            "vgg_face_dataset/files/Lena_Horne.txt\n",
            "vgg_face_dataset/files/Lennie_James.txt\n",
            "vgg_face_dataset/files/Leonor_Varela.txt\n",
            "vgg_face_dataset/files/Leonor_Watling.txt\n",
            "vgg_face_dataset/files/Lesley-Anne_Down.txt\n",
            "vgg_face_dataset/files/Lesley_Ann_Warren.txt\n",
            "vgg_face_dataset/files/Lesley_Manville.txt\n",
            "vgg_face_dataset/files/Lesley_Nicol.txt\n",
            "vgg_face_dataset/files/Leslie_Bibb.txt\n",
            "vgg_face_dataset/files/Leslie_Hope.txt\n",
            "vgg_face_dataset/files/Leslie_Mann.txt\n",
            "vgg_face_dataset/files/Leven_Rambin.txt\n",
            "vgg_face_dataset/files/Li_Gong.txt\n",
            "vgg_face_dataset/files/Lia_Marie_Johnson.txt\n",
            "vgg_face_dataset/files/Liam_Aiken.txt\n",
            "vgg_face_dataset/files/Liana_Liberato.txt\n",
            "vgg_face_dataset/files/Liane_Balaban.txt\n",
            "vgg_face_dataset/files/Lilla_Crawford.txt\n",
            "vgg_face_dataset/files/Lillian_Gish.txt\n",
            "vgg_face_dataset/files/Lily_Cole.txt\n",
            "vgg_face_dataset/files/Lily_Collins.txt\n",
            "vgg_face_dataset/files/Lily_Loveless.txt\n",
            "vgg_face_dataset/files/Lily_Rabe.txt\n",
            "vgg_face_dataset/files/Lin_Shaye.txt\n",
            "vgg_face_dataset/files/Linda_Cardellini.txt\n",
            "vgg_face_dataset/files/Linda_Evans.txt\n",
            "vgg_face_dataset/files/Linda_Fiorentino.txt\n",
            "vgg_face_dataset/files/Linda_Gray.txt\n",
            "vgg_face_dataset/files/Linda_Lavin.txt\n",
            "vgg_face_dataset/files/Linda_Thompson.txt\n",
            "vgg_face_dataset/files/Lindsay_Duncan.txt\n",
            "vgg_face_dataset/files/Lindsay_Hartley.txt\n",
            "vgg_face_dataset/files/Lindsay_Price.txt\n",
            "vgg_face_dataset/files/Lindsay_Sloane.txt\n",
            "vgg_face_dataset/files/Lindsey_Gort.txt\n",
            "vgg_face_dataset/files/Lindsey_Morgan.txt\n",
            "vgg_face_dataset/files/Lisa_Edelstein.txt\n",
            "vgg_face_dataset/files/Lisa_Kudrow.txt\n",
            "vgg_face_dataset/files/Lisa_Ray.txt\n",
            "vgg_face_dataset/files/Lisa_Rinna.txt\n",
            "vgg_face_dataset/files/Lisa_Robin_Kelly.txt\n",
            "vgg_face_dataset/files/Lisa_Whelchel.txt\n",
            "vgg_face_dataset/files/Liya_Kebede.txt\n",
            "vgg_face_dataset/files/Lizzy_Caplan.txt\n",
            "vgg_face_dataset/files/LL_Cool_J.txt\n",
            "vgg_face_dataset/files/Loan_Chabanol.txt\n",
            "vgg_face_dataset/files/Lochlyn_Munro.txt\n",
            "vgg_face_dataset/files/Logan_Henderson.txt\n",
            "vgg_face_dataset/files/Logan_Marshall-Green.txt\n",
            "vgg_face_dataset/files/Lola_Glaudini.txt\n",
            "vgg_face_dataset/files/Lolo_Jones.txt\n",
            "vgg_face_dataset/files/Loni_Anderson.txt\n",
            "vgg_face_dataset/files/Lorde.txt\n",
            "vgg_face_dataset/files/Lorenza_Izzo.txt\n",
            "vgg_face_dataset/files/Loreto_Peralta.txt\n",
            "vgg_face_dataset/files/Loretta_Devine.txt\n",
            "vgg_face_dataset/files/Loretta_Swit.txt\n",
            "vgg_face_dataset/files/Loretta_Young.txt\n",
            "vgg_face_dataset/files/Lori_Loughlin.txt\n",
            "vgg_face_dataset/files/Lori_Petty.txt\n",
            "vgg_face_dataset/files/Lori_Singer.txt\n",
            "vgg_face_dataset/files/Lorna_Luft.txt\n",
            "vgg_face_dataset/files/Lotte_Verbeek.txt\n",
            "vgg_face_dataset/files/Lou_Diamond_Phillips.txt\n",
            "vgg_face_dataset/files/Lou_Ferrigno.txt\n",
            "vgg_face_dataset/files/Louis_C.K..txt\n",
            "vgg_face_dataset/files/Louis_Gossett_Jr..txt\n",
            "vgg_face_dataset/files/Louis_Theroux.txt\n",
            "vgg_face_dataset/files/Louis_Tomlinson.txt\n",
            "vgg_face_dataset/files/Louise_Bourgoin.txt\n",
            "vgg_face_dataset/files/Louise_Brealey.txt\n",
            "vgg_face_dataset/files/Luc_Besson.txt\n",
            "vgg_face_dataset/files/Lucas_Bryant.txt\n",
            "vgg_face_dataset/files/Lucas_Cruikshank.txt\n",
            "vgg_face_dataset/files/Lucas_Grabeel.txt\n",
            "vgg_face_dataset/files/Lucas_Till.txt\n",
            "vgg_face_dataset/files/Lucie_Arnaz.txt\n",
            "vgg_face_dataset/files/Lucille_Ball.txt\n",
            "vgg_face_dataset/files/Lucy_Davis.txt\n",
            "vgg_face_dataset/files/Lucy_Hale.txt\n",
            "vgg_face_dataset/files/Lucy_Pinder.txt\n",
            "vgg_face_dataset/files/Lucy_Punch.txt\n",
            "vgg_face_dataset/files/Ludacris.txt\n",
            "vgg_face_dataset/files/Luenell.txt\n",
            "vgg_face_dataset/files/Luke_Arnold.txt\n",
            "vgg_face_dataset/files/Luke_Bilyk.txt\n",
            "vgg_face_dataset/files/Luke_Evans.txt\n",
            "vgg_face_dataset/files/Luke_Mably.txt\n",
            "vgg_face_dataset/files/Luke_Mitchell.txt\n",
            "vgg_face_dataset/files/Luke_Newberry.txt\n",
            "vgg_face_dataset/files/Luke_Perry.txt\n",
            "vgg_face_dataset/files/Luke_Treadaway.txt\n",
            "vgg_face_dataset/files/Luke_Wilson.txt\n",
            "vgg_face_dataset/files/Lupe_Ontiveros.txt\n",
            "vgg_face_dataset/files/Lynn_Cohen.txt\n",
            "vgg_face_dataset/files/Mackenzie_Crook.txt\n",
            "vgg_face_dataset/files/Madalina_Diana_Ghenea.txt\n",
            "vgg_face_dataset/files/Madhuri_Dixit.txt\n",
            "vgg_face_dataset/files/Mads_Mikkelsen.txt\n",
            "vgg_face_dataset/files/Maggie_Gyllenhaal.txt\n",
            "vgg_face_dataset/files/Mahendra_Singh_Dhoni.txt\n",
            "vgg_face_dataset/files/Maitland_Ward.txt\n",
            "vgg_face_dataset/files/Maksim_Chmerkovskiy.txt\n",
            "vgg_face_dataset/files/Malik_Yoba.txt\n",
            "vgg_face_dataset/files/Malin_Akerman.txt\n",
            "vgg_face_dataset/files/Mallika_Sherawat.txt\n",
            "vgg_face_dataset/files/Mamie_Gummer.txt\n",
            "vgg_face_dataset/files/Mandy_Patinkin.txt\n",
            "vgg_face_dataset/files/Manish_Dayal.txt\n",
            "vgg_face_dataset/files/Marc_Blucas.txt\n",
            "vgg_face_dataset/files/Marc_Forster.txt\n",
            "vgg_face_dataset/files/Marc_Webb.txt\n",
            "vgg_face_dataset/files/Marcello_Mastroianni.txt\n",
            "vgg_face_dataset/files/Marcia_Cross.txt\n",
            "vgg_face_dataset/files/Marcia_Gay_Harden.txt\n",
            "vgg_face_dataset/files/Marcia_Wallace.txt\n",
            "vgg_face_dataset/files/Margaret_Colin.txt\n",
            "vgg_face_dataset/files/Margarita_Levieva.txt\n",
            "vgg_face_dataset/files/Margo_Martindale.txt\n",
            "vgg_face_dataset/files/Margot_Kidder.txt\n",
            "vgg_face_dataset/files/Margot_Robbie.txt\n",
            "vgg_face_dataset/files/Maria_Bamford.txt\n",
            "vgg_face_dataset/files/Maria_Bonnevie.txt\n",
            "vgg_face_dataset/files/Maria_Canals-Barrera.txt\n",
            "vgg_face_dataset/files/Maria_de_Medeiros.txt\n",
            "vgg_face_dataset/files/Maria_Grazia_Cucinotta.txt\n",
            "vgg_face_dataset/files/Maria_Menounos.txt\n",
            "vgg_face_dataset/files/Maria_Sharapova.txt\n",
            "vgg_face_dataset/files/Mariana_Klaveno.txt\n",
            "vgg_face_dataset/files/Marie_Avgeropoulos.txt\n",
            "vgg_face_dataset/files/Marie_Osmond.txt\n",
            "vgg_face_dataset/files/Mariel_Hemingway.txt\n",
            "vgg_face_dataset/files/Marilu_Henner.txt\n",
            "vgg_face_dataset/files/Marilyn_Burns.txt\n",
            "vgg_face_dataset/files/Marina_Sirtis.txt\n",
            "vgg_face_dataset/files/Marine_Vacth.txt\n",
            "vgg_face_dataset/files/Mario_Casas.txt\n",
            "vgg_face_dataset/files/Mario_Lopez.txt\n",
            "vgg_face_dataset/files/Marion_Cotillard.txt\n",
            "vgg_face_dataset/files/Marion_Ross.txt\n",
            "vgg_face_dataset/files/Marisa_Coughlan.txt\n",
            "vgg_face_dataset/files/Marisa_Miller.txt\n",
            "vgg_face_dataset/files/Marisa_Ramirez.txt\n",
            "vgg_face_dataset/files/Marisol_Nichols.txt\n",
            "vgg_face_dataset/files/Mark-Paul_Gosselaar.txt\n",
            "vgg_face_dataset/files/Mark_Boone_Junior.txt\n",
            "vgg_face_dataset/files/Mark_Deklin.txt\n",
            "vgg_face_dataset/files/Mark_Feuerstein.txt\n",
            "vgg_face_dataset/files/Mark_Gatiss.txt\n",
            "vgg_face_dataset/files/Mark_Hamill.txt\n",
            "vgg_face_dataset/files/Mark_Harmon.txt\n",
            "vgg_face_dataset/files/Mark_Indelicato.txt\n",
            "vgg_face_dataset/files/Mark_McGrath.txt\n",
            "vgg_face_dataset/files/Mark_Moses.txt\n",
            "vgg_face_dataset/files/Mark_Pellegrino.txt\n",
            "vgg_face_dataset/files/Mark_Ruffalo.txt\n",
            "vgg_face_dataset/files/Mark_Salling.txt\n",
            "vgg_face_dataset/files/Mark_Sheppard.txt\n",
            "vgg_face_dataset/files/Mark_Strong.txt\n",
            "vgg_face_dataset/files/Mark_Valley.txt\n",
            "vgg_face_dataset/files/Mark_Webber.txt\n",
            "vgg_face_dataset/files/Mark_Zuckerberg.txt\n",
            "vgg_face_dataset/files/Marla_Gibbs.txt\n",
            "vgg_face_dataset/files/Marla_Maples.txt\n",
            "vgg_face_dataset/files/Marla_Sokoloff.txt\n",
            "vgg_face_dataset/files/Marlee_Matlin.txt\n",
            "vgg_face_dataset/files/Marlene_Dietrich.txt\n",
            "vgg_face_dataset/files/Marley_Shelton.txt\n",
            "vgg_face_dataset/files/Marlon_Wayans.txt\n",
            "vgg_face_dataset/files/Marshall_Allman.txt\n",
            "vgg_face_dataset/files/Martha_Higareda.txt\n",
            "vgg_face_dataset/files/Martha_Hyer.txt\n",
            "vgg_face_dataset/files/Martha_Plimpton.txt\n",
            "vgg_face_dataset/files/Martin_Clunes.txt\n",
            "vgg_face_dataset/files/Martin_Donovan.txt\n",
            "vgg_face_dataset/files/Martin_Freeman.txt\n",
            "vgg_face_dataset/files/Martin_Henderson.txt\n",
            "vgg_face_dataset/files/Martin_Kove.txt\n",
            "vgg_face_dataset/files/Martin_Shaw.txt\n",
            "vgg_face_dataset/files/Martin_Starr.txt\n",
            "vgg_face_dataset/files/Martina_Gedeck.txt\n",
            "vgg_face_dataset/files/Martine_McCutcheon.txt\n",
            "vgg_face_dataset/files/Marton_Csokas.txt\n",
            "vgg_face_dataset/files/Mary-Louise_Parker.txt\n",
            "vgg_face_dataset/files/Mary_Astor.txt\n",
            "vgg_face_dataset/files/Mary_Elizabeth_Winstead.txt\n",
            "vgg_face_dataset/files/Mary_Jo_Deschanel.txt\n",
            "vgg_face_dataset/files/Mary_Kay_Place.txt\n",
            "vgg_face_dataset/files/Mary_Lynn_Rajskub.txt\n",
            "vgg_face_dataset/files/Mary_McDonnell.txt\n",
            "vgg_face_dataset/files/Mary_Pickford.txt\n",
            "vgg_face_dataset/files/Mary_Stuart_Masterson.txt\n",
            "vgg_face_dataset/files/Masiela_Lusha.txt\n",
            "vgg_face_dataset/files/Mason_Cook.txt\n",
            "vgg_face_dataset/files/Mathew_Horne.txt\n",
            "vgg_face_dataset/files/Mathieu_Amalric.txt\n",
            "vgg_face_dataset/files/Mathieu_Kassovitz.txt\n",
            "vgg_face_dataset/files/Mathilda_May.txt\n",
            "vgg_face_dataset/files/Matt_Bennett.txt\n",
            "vgg_face_dataset/files/Matt_Berry.txt\n",
            "vgg_face_dataset/files/Matt_Bomer.txt\n",
            "vgg_face_dataset/files/Matt_Czuchry.txt\n",
            "vgg_face_dataset/files/Matt_Dallas.txt\n",
            "vgg_face_dataset/files/Matt_Davis.txt\n",
            "vgg_face_dataset/files/Matt_Lanter.txt\n",
            "vgg_face_dataset/files/Matt_Lauria.txt\n",
            "vgg_face_dataset/files/Matt_Letscher.txt\n",
            "vgg_face_dataset/files/Matt_Passmore.txt\n",
            "vgg_face_dataset/files/Matt_Smith.txt\n",
            "vgg_face_dataset/files/Matthew_Davis.txt\n",
            "vgg_face_dataset/files/Matthew_Fox.txt\n",
            "vgg_face_dataset/files/Matthew_Goode.txt\n",
            "vgg_face_dataset/files/Matthew_Lawrence.txt\n",
            "vgg_face_dataset/files/Matthew_Lillard.txt\n",
            "vgg_face_dataset/files/Matthew_Macfadyen.txt\n",
            "vgg_face_dataset/files/Matthew_Modine.txt\n",
            "vgg_face_dataset/files/Matthew_Morrison.txt\n",
            "vgg_face_dataset/files/Matthew_Settle.txt\n",
            "vgg_face_dataset/files/Matthew_Underwood.txt\n",
            "vgg_face_dataset/files/Maud_Adams.txt\n",
            "vgg_face_dataset/files/Max_Adler.txt\n",
            "vgg_face_dataset/files/Max_Carver.txt\n",
            "vgg_face_dataset/files/Max_Charles.txt\n",
            "vgg_face_dataset/files/Max_Ehrich.txt\n",
            "vgg_face_dataset/files/Max_Irons.txt\n",
            "vgg_face_dataset/files/Max_Martini.txt\n",
            "vgg_face_dataset/files/Max_Ryan.txt\n",
            "vgg_face_dataset/files/Max_Schneider.txt\n",
            "vgg_face_dataset/files/Max_Thieriot.txt\n",
            "vgg_face_dataset/files/Maxim_Knight.txt\n",
            "vgg_face_dataset/files/Maximilian_Schell.txt\n",
            "vgg_face_dataset/files/Maya_Rudolph.txt\n",
            "vgg_face_dataset/files/Meat_Loaf.txt\n",
            "vgg_face_dataset/files/Meg_Ryan.txt\n",
            "vgg_face_dataset/files/Megan_Ellison.txt\n",
            "vgg_face_dataset/files/Megan_Fox.txt\n",
            "vgg_face_dataset/files/Megan_Hilty.txt\n",
            "vgg_face_dataset/files/Megan_Park.txt\n",
            "vgg_face_dataset/files/Meghan_Trainor.txt\n",
            "vgg_face_dataset/files/Megyn_Price.txt\n",
            "vgg_face_dataset/files/Mehcad_Brooks.txt\n",
            "vgg_face_dataset/files/Mehdi_Dehbi.txt\n",
            "vgg_face_dataset/files/Melanie_Lynskey.txt\n",
            "vgg_face_dataset/files/Melinda_Clarke.txt\n",
            "vgg_face_dataset/files/Melinda_McGraw.txt\n",
            "vgg_face_dataset/files/Melissa_George.txt\n",
            "vgg_face_dataset/files/Melissa_Leo.txt\n",
            "vgg_face_dataset/files/Melissa_McBride.txt\n",
            "vgg_face_dataset/files/Melissa_McCarthy.txt\n",
            "vgg_face_dataset/files/Melissa_Peterman.txt\n",
            "vgg_face_dataset/files/Melissa_Rauch.txt\n",
            "vgg_face_dataset/files/Melissa_Rycroft.txt\n",
            "vgg_face_dataset/files/Melody_Thomas_Scott.txt\n",
            "vgg_face_dataset/files/Melora_Hardin.txt\n",
            "vgg_face_dataset/files/Mena_Suvari.txt\n",
            "vgg_face_dataset/files/Mercedes_Ruehl.txt\n",
            "vgg_face_dataset/files/Meredith_Baxter.txt\n",
            "vgg_face_dataset/files/Meredith_Monroe.txt\n",
            "vgg_face_dataset/files/Meredith_Salenger.txt\n",
            "vgg_face_dataset/files/Meredith_Vieira.txt\n",
            "vgg_face_dataset/files/Merle_Oberon.txt\n",
            "vgg_face_dataset/files/Merritt_Wever.txt\n",
            "vgg_face_dataset/files/Meta_Golding.txt\n",
            "vgg_face_dataset/files/Mia_Talerico.txt\n",
            "vgg_face_dataset/files/Mia_Wasikowska.txt\n",
            "vgg_face_dataset/files/Michael_Bay.txt\n",
            "vgg_face_dataset/files/Michael_C._Hall.txt\n",
            "vgg_face_dataset/files/Michael_Cera.txt\n",
            "vgg_face_dataset/files/Michael_Copon.txt\n",
            "vgg_face_dataset/files/Michael_Crichton.txt\n",
            "vgg_face_dataset/files/Michael_Cudlitz.txt\n",
            "vgg_face_dataset/files/Michael_Dudikoff.txt\n",
            "vgg_face_dataset/files/Michael_Ealy.txt\n",
            "vgg_face_dataset/files/Michael_Eklund.txt\n",
            "vgg_face_dataset/files/Michael_Emerson.txt\n",
            "vgg_face_dataset/files/Michael_Fassbender.txt\n",
            "vgg_face_dataset/files/Michael_Gambon.txt\n",
            "vgg_face_dataset/files/Michael_Graziadei.txt\n",
            "vgg_face_dataset/files/Michael_Jai_White.txt\n",
            "vgg_face_dataset/files/Michael_K._Williams.txt\n",
            "vgg_face_dataset/files/Michael_Kelly.txt\n",
            "vgg_face_dataset/files/Michael_Madsen.txt\n",
            "vgg_face_dataset/files/Michael_Mando.txt\n",
            "vgg_face_dataset/files/Michael_Muhney.txt\n",
            "vgg_face_dataset/files/Michael_Pitt.txt\n",
            "vgg_face_dataset/files/Michael_Rady.txt\n",
            "vgg_face_dataset/files/Michael_Shannon.txt\n",
            "vgg_face_dataset/files/Michael_Socha.txt\n",
            "vgg_face_dataset/files/Michael_Stahl-David.txt\n",
            "vgg_face_dataset/files/Michael_Steger.txt\n",
            "vgg_face_dataset/files/Michael_Trevino.txt\n",
            "vgg_face_dataset/files/Michael_Trucco.txt\n",
            "vgg_face_dataset/files/Michael_Weatherly.txt\n",
            "vgg_face_dataset/files/Michaela_Conlin.txt\n",
            "vgg_face_dataset/files/Michele_Hicks.txt\n",
            "vgg_face_dataset/files/Michele_Lee.txt\n",
            "vgg_face_dataset/files/Michelle_Borth.txt\n",
            "vgg_face_dataset/files/Michelle_Dockery.txt\n",
            "vgg_face_dataset/files/Michelle_Forbes.txt\n",
            "vgg_face_dataset/files/Michelle_Hurd.txt\n",
            "vgg_face_dataset/files/Michelle_Keegan.txt\n",
            "vgg_face_dataset/files/Michelle_Krusiec.txt\n",
            "vgg_face_dataset/files/Michelle_Monaghan.txt\n",
            "vgg_face_dataset/files/Michelle_Money.txt\n",
            "vgg_face_dataset/files/Michelle_Ryan.txt\n",
            "vgg_face_dataset/files/Michelle_Stafford.txt\n",
            "vgg_face_dataset/files/Michelle_Trachtenberg.txt\n",
            "vgg_face_dataset/files/Michelle_Williams.txt\n",
            "vgg_face_dataset/files/Miguel_Ferrer.txt\n",
            "vgg_face_dataset/files/Mika_Boorem.txt\n",
            "vgg_face_dataset/files/Mike_Dopud.txt\n",
            "vgg_face_dataset/files/Mike_Epps.txt\n",
            "vgg_face_dataset/files/Mike_Starr.txt\n",
            "vgg_face_dataset/files/Mila_Kunis.txt\n",
            "vgg_face_dataset/files/Milena_Govich.txt\n",
            "vgg_face_dataset/files/Miles_Teller.txt\n",
            "vgg_face_dataset/files/Miley_Cyrus.txt\n",
            "vgg_face_dataset/files/Milla_Jovovich.txt\n",
            "vgg_face_dataset/files/Milo_Ventimiglia.txt\n",
            "vgg_face_dataset/files/Mindy_Kaling.txt\n",
            "vgg_face_dataset/files/Mindy_Robinson.txt\n",
            "vgg_face_dataset/files/Mindy_Sterling.txt\n",
            "vgg_face_dataset/files/Mira_Furlan.txt\n",
            "vgg_face_dataset/files/Miranda_Cosgrove.txt\n",
            "vgg_face_dataset/files/Miranda_Hart.txt\n",
            "vgg_face_dataset/files/Miranda_Kerr.txt\n",
            "vgg_face_dataset/files/Miranda_Lambert.txt\n",
            "vgg_face_dataset/files/Miranda_Richardson.txt\n",
            "vgg_face_dataset/files/Mircea_Monroe.txt\n",
            "vgg_face_dataset/files/Mireille_Enos.txt\n",
            "vgg_face_dataset/files/Miriam_Hopkins.txt\n",
            "vgg_face_dataset/files/Miriam_Margolyes.txt\n",
            "vgg_face_dataset/files/Mischa_Barton.txt\n",
            "vgg_face_dataset/files/Misha_Collins.txt\n",
            "vgg_face_dataset/files/Missi_Pyle.txt\n",
            "vgg_face_dataset/files/Missy_Peregrym.txt\n",
            "vgg_face_dataset/files/Mitchel_Musso.txt\n",
            "vgg_face_dataset/files/Mo_Farah.txt\n",
            "vgg_face_dataset/files/Molly_Parker.txt\n",
            "vgg_face_dataset/files/Molly_Ringwald.txt\n",
            "vgg_face_dataset/files/Molly_Shannon.txt\n",
            "vgg_face_dataset/files/Molly_Tarlov.txt\n",
            "vgg_face_dataset/files/Monica_Potter.txt\n",
            "vgg_face_dataset/files/Monica_Raymund.txt\n",
            "vgg_face_dataset/files/Monique_Coleman.txt\n",
            "vgg_face_dataset/files/Moon_Bloodgood.txt\n",
            "vgg_face_dataset/files/Moran_Atias.txt\n",
            "vgg_face_dataset/files/Morena_Baccarin.txt\n",
            "vgg_face_dataset/files/Morgan_Lily.txt\n",
            "vgg_face_dataset/files/Moritz_Bleibtreu.txt\n",
            "vgg_face_dataset/files/Morris_Chestnut.txt\n",
            "vgg_face_dataset/files/Mos_Def.txt\n",
            "vgg_face_dataset/files/Muttiah_Muralitharan.txt\n",
            "vgg_face_dataset/files/Mya.txt\n",
            "vgg_face_dataset/files/MyAnna_Buring.txt\n",
            "vgg_face_dataset/files/Myrna_Loy.txt\n",
            "vgg_face_dataset/files/Nadia_Bjorlin.txt\n",
            "vgg_face_dataset/files/Nadine_Velazquez.txt\n",
            "vgg_face_dataset/files/Nana_Visitor.txt\n",
            "vgg_face_dataset/files/Nancy_Allen.txt\n",
            "vgg_face_dataset/files/Nancy_Cartwright.txt\n",
            "vgg_face_dataset/files/Nancy_Travis.txt\n",
            "vgg_face_dataset/files/Nani.txt\n",
            "vgg_face_dataset/files/Naomie_Harris.txt\n",
            "vgg_face_dataset/files/Naseeruddin_Shah.txt\n",
            "vgg_face_dataset/files/Nasim_Pedrad.txt\n",
            "vgg_face_dataset/files/Natalia_Tena.txt\n",
            "vgg_face_dataset/files/Natalie_Dormer.txt\n",
            "vgg_face_dataset/files/Natalie_Martinez.txt\n",
            "vgg_face_dataset/files/Natalie_Morales.txt\n",
            "vgg_face_dataset/files/Natalie_Portman.txt\n",
            "vgg_face_dataset/files/Natalie_Wood.txt\n",
            "vgg_face_dataset/files/Natalie_Zea.txt\n",
            "vgg_face_dataset/files/Natalya_Rudakova.txt\n",
            "vgg_face_dataset/files/Natascha_McElhone.txt\n",
            "vgg_face_dataset/files/Natasha_Gregson_Wagner.txt\n",
            "vgg_face_dataset/files/Natasha_Richardson.txt\n",
            "vgg_face_dataset/files/Natassia_Malthe.txt\n",
            "vgg_face_dataset/files/Nate_Parker.txt\n",
            "vgg_face_dataset/files/Nathalie_Emmanuel.txt\n",
            "vgg_face_dataset/files/Nathalie_Kelley.txt\n",
            "vgg_face_dataset/files/Nathan_Fillion.txt\n",
            "vgg_face_dataset/files/Nathan_Stewart-Jarrett.txt\n",
            "vgg_face_dataset/files/Nathaniel_Buzolic.txt\n",
            "vgg_face_dataset/files/Naturi_Naughton.txt\n",
            "vgg_face_dataset/files/Nazanin_Boniadi.txt\n",
            "vgg_face_dataset/files/Neal_McDonough.txt\n",
            "vgg_face_dataset/files/Neil_deGrasse_Tyson.txt\n",
            "vgg_face_dataset/files/Neil_Flynn.txt\n",
            "vgg_face_dataset/files/Neil_Gaiman.txt\n",
            "vgg_face_dataset/files/Neil_Jackson.txt\n",
            "vgg_face_dataset/files/Nelly.txt\n",
            "vgg_face_dataset/files/Nelly_Furtado.txt\n",
            "vgg_face_dataset/files/NeNe_Leakes.txt\n",
            "vgg_face_dataset/files/Nestor_Carbonell.txt\n",
            "vgg_face_dataset/files/Neve_Campbell.txt\n",
            "vgg_face_dataset/files/Niall_Horan.txt\n",
            "vgg_face_dataset/files/Nichelle_Nichols.txt\n",
            "vgg_face_dataset/files/Nicholas_Gonzalez.txt\n",
            "vgg_face_dataset/files/Nicholas_Lea.txt\n",
            "vgg_face_dataset/files/Nichole_Galicia.txt\n",
            "vgg_face_dataset/files/Nicholle_Tom.txt\n",
            "vgg_face_dataset/files/Nick_Bateman.txt\n",
            "vgg_face_dataset/files/Nick_Cannon.txt\n",
            "vgg_face_dataset/files/Nick_Cave.txt\n",
            "vgg_face_dataset/files/Nick_Kroll.txt\n",
            "vgg_face_dataset/files/Nick_Thune.txt\n",
            "vgg_face_dataset/files/Nick_Wechsler.txt\n",
            "vgg_face_dataset/files/Nicki_Minaj.txt\n",
            "vgg_face_dataset/files/Nicky_Hilton.txt\n",
            "vgg_face_dataset/files/Nicky_Whelan.txt\n",
            "vgg_face_dataset/files/Nico_Tortorella.txt\n",
            "vgg_face_dataset/files/Nicola_Peltz.txt\n",
            "vgg_face_dataset/files/Nicole_Beharie.txt\n",
            "vgg_face_dataset/files/Nicole_de_Boer.txt\n",
            "vgg_face_dataset/files/Nicole_Eggert.txt\n",
            "vgg_face_dataset/files/Nicole_Richie.txt\n",
            "vgg_face_dataset/files/Nicole_Scherzinger.txt\n",
            "vgg_face_dataset/files/Nicole_Sullivan.txt\n",
            "vgg_face_dataset/files/Nicollette_Sheridan.txt\n",
            "vgg_face_dataset/files/Niecy_Nash.txt\n",
            "vgg_face_dataset/files/Nikki_Blonsky.txt\n",
            "vgg_face_dataset/files/Nikki_Deloach.txt\n",
            "vgg_face_dataset/files/Nikki_Griffin.txt\n",
            "vgg_face_dataset/files/Nikolaj_Coster-Waldau.txt\n",
            "vgg_face_dataset/files/Nimrat_Kaur.txt\n",
            "vgg_face_dataset/files/Nina_Arianda.txt\n",
            "vgg_face_dataset/files/Nina_Dobrev.txt\n",
            "vgg_face_dataset/files/Nina_Hoss.txt\n",
            "vgg_face_dataset/files/Noa_Tishby.txt\n",
            "vgg_face_dataset/files/Noah_Emmerich.txt\n",
            "vgg_face_dataset/files/Noah_Gray-Cabey.txt\n",
            "vgg_face_dataset/files/Noah_Munck.txt\n",
            "vgg_face_dataset/files/Noel_Clarke.txt\n",
            "vgg_face_dataset/files/Noel_Fielding.txt\n",
            "vgg_face_dataset/files/Noomi_Rapace.txt\n",
            "vgg_face_dataset/files/Nora_Arnezeder.txt\n",
            "vgg_face_dataset/files/Nora_Zehetner.txt\n",
            "vgg_face_dataset/files/Norman_Reedus.txt\n",
            "vgg_face_dataset/files/Novak_Djokovic.txt\n",
            "vgg_face_dataset/files/Octavia_Spencer.txt\n",
            "vgg_face_dataset/files/Oded_Fehr.txt\n",
            "vgg_face_dataset/files/Odette_Annable.txt\n",
            "vgg_face_dataset/files/Odeya_Rush.txt\n",
            "vgg_face_dataset/files/Olesya_Rulin.txt\n",
            "vgg_face_dataset/files/Olga_Kurylenko.txt\n",
            "vgg_face_dataset/files/Oliver_Jackson-Cohen.txt\n",
            "vgg_face_dataset/files/Oliver_James.txt\n",
            "vgg_face_dataset/files/Oliver_Platt.txt\n",
            "vgg_face_dataset/files/Olivia_Colman.txt\n",
            "vgg_face_dataset/files/Olivia_Cooke.txt\n",
            "vgg_face_dataset/files/Olivia_de_Havilland.txt\n",
            "vgg_face_dataset/files/Olivia_Grant.txt\n",
            "vgg_face_dataset/files/Olivia_Hallinan.txt\n",
            "vgg_face_dataset/files/Olivia_Holt.txt\n",
            "vgg_face_dataset/files/Olivia_Munn.txt\n",
            "vgg_face_dataset/files/Olivia_Palermo.txt\n",
            "vgg_face_dataset/files/Olivia_Thirlby.txt\n",
            "vgg_face_dataset/files/Olivia_Wilde.txt\n",
            "vgg_face_dataset/files/Olivia_Williams.txt\n",
            "vgg_face_dataset/files/Ollanta_Humala.txt\n",
            "vgg_face_dataset/files/Olly_Alexander.txt\n",
            "vgg_face_dataset/files/Om_Puri.txt\n",
            "vgg_face_dataset/files/Omar_Epps.txt\n",
            "vgg_face_dataset/files/Omar_Gooding.txt\n",
            "vgg_face_dataset/files/Omari_Hardwick.txt\n",
            "vgg_face_dataset/files/Oona_Chaplin.txt\n",
            "vgg_face_dataset/files/Ophelia_Lovibond.txt\n",
            "vgg_face_dataset/files/Orlando_Jones.txt\n",
            "vgg_face_dataset/files/Oscar_Isaac.txt\n",
            "vgg_face_dataset/files/P.J._Byrne.txt\n",
            "vgg_face_dataset/files/Pablo_Schreiber.txt\n",
            "vgg_face_dataset/files/Paddy_Considine.txt\n",
            "vgg_face_dataset/files/Padma_Lakshmi.txt\n",
            "vgg_face_dataset/files/Paget_Brewster.txt\n",
            "vgg_face_dataset/files/Paige_Turco.txt\n",
            "vgg_face_dataset/files/Paloma_Faith.txt\n",
            "vgg_face_dataset/files/Pam_Dawber.txt\n",
            "vgg_face_dataset/files/Pamela_Adlon.txt\n",
            "vgg_face_dataset/files/Paolo_Sorrentino.txt\n",
            "vgg_face_dataset/files/Parineeti_Chopra.txt\n",
            "vgg_face_dataset/files/Pat_Monahan.txt\n",
            "vgg_face_dataset/files/Patricia_Quinn.txt\n",
            "vgg_face_dataset/files/Patricia_Wettig.txt\n",
            "vgg_face_dataset/files/Patrick_Dempsey.txt\n",
            "vgg_face_dataset/files/Patrick_Duffy.txt\n",
            "vgg_face_dataset/files/Patrick_Fischler.txt\n",
            "vgg_face_dataset/files/Patrick_Fugit.txt\n",
            "vgg_face_dataset/files/Patrick_Kilpatrick.txt\n",
            "vgg_face_dataset/files/Patrick_Macnee.txt\n",
            "vgg_face_dataset/files/Patrick_Swayze.txt\n",
            "vgg_face_dataset/files/Patrick_Troughton.txt\n",
            "vgg_face_dataset/files/Patrick_Wilson.txt\n",
            "vgg_face_dataset/files/Patton_Oswalt.txt\n",
            "vgg_face_dataset/files/Paul_Adelstein.txt\n",
            "vgg_face_dataset/files/Paul_Blackthorne.txt\n",
            "vgg_face_dataset/files/Paul_Dano.txt\n",
            "vgg_face_dataset/files/Paul_Feig.txt\n",
            "vgg_face_dataset/files/Paul_Giamatti.txt\n",
            "vgg_face_dataset/files/Paul_Gross.txt\n",
            "vgg_face_dataset/files/Paul_Iacono.txt\n",
            "vgg_face_dataset/files/Paul_Lynde.txt\n",
            "vgg_face_dataset/files/Paul_McGann.txt\n",
            "vgg_face_dataset/files/Paul_Michael_Glaser.txt\n",
            "vgg_face_dataset/files/Paul_Reubens.txt\n",
            "vgg_face_dataset/files/Paul_Rudd.txt\n",
            "vgg_face_dataset/files/Paul_Scheer.txt\n",
            "vgg_face_dataset/files/Paul_Sorvino.txt\n",
            "vgg_face_dataset/files/Paul_Wesley.txt\n",
            "vgg_face_dataset/files/Paula_Jai_Parker.txt\n",
            "vgg_face_dataset/files/Paula_LaBaredas.txt\n",
            "vgg_face_dataset/files/Paulo_Costanzo.txt\n",
            "vgg_face_dataset/files/Paz_de_la_Huerta.txt\n",
            "vgg_face_dataset/files/Penn_Badgley.txt\n",
            "vgg_face_dataset/files/Penn_Jillette.txt\n",
            "vgg_face_dataset/files/Penny_Johnson.txt\n",
            "vgg_face_dataset/files/Penny_Marshall.txt\n",
            "vgg_face_dataset/files/Pernell_Roberts.txt\n",
            "vgg_face_dataset/files/Perrey_Reeves.txt\n",
            "vgg_face_dataset/files/Pete_Postlethwaite.txt\n",
            "vgg_face_dataset/files/Pete_Wentz.txt\n",
            "vgg_face_dataset/files/Peter_Berg.txt\n",
            "vgg_face_dataset/files/Peter_Capaldi.txt\n",
            "vgg_face_dataset/files/Peter_Coyote.txt\n",
            "vgg_face_dataset/files/Peter_Cushing.txt\n",
            "vgg_face_dataset/files/Peter_Facinelli.txt\n",
            "vgg_face_dataset/files/Peter_Gallagher.txt\n",
            "vgg_face_dataset/files/Peter_Graves.txt\n",
            "vgg_face_dataset/files/Peter_Jackson.txt\n",
            "vgg_face_dataset/files/Peter_Jacobson.txt\n",
            "vgg_face_dataset/files/Peter_Krause.txt\n",
            "vgg_face_dataset/files/Peter_Lorre.txt\n",
            "vgg_face_dataset/files/Peter_MacNicol.txt\n",
            "vgg_face_dataset/files/Peter_Pace.txt\n",
            "vgg_face_dataset/files/Peter_Sellers.txt\n",
            "vgg_face_dataset/files/Peter_Stormare.txt\n",
            "vgg_face_dataset/files/Philip_Baker_Hall.txt\n",
            "vgg_face_dataset/files/Philip_Glenister.txt\n",
            "vgg_face_dataset/files/Phyllis_Diller.txt\n",
            "vgg_face_dataset/files/Pierfrancesco_Favino.txt\n",
            "vgg_face_dataset/files/Pierre_Niney.txt\n",
            "vgg_face_dataset/files/Pooja_Kumar.txt\n",
            "vgg_face_dataset/files/Pope_Benedict_XVI.txt\n",
            "vgg_face_dataset/files/Pope_Francis.txt\n",
            "vgg_face_dataset/files/Poppy_Montgomery.txt\n",
            "vgg_face_dataset/files/Powers_Boothe.txt\n",
            "vgg_face_dataset/files/Preity_Zinta.txt\n",
            "vgg_face_dataset/files/Prince.txt\n",
            "vgg_face_dataset/files/Qi_Shu.txt\n",
            "vgg_face_dataset/files/Quentin_Tarantino.txt\n",
            "vgg_face_dataset/files/Rachel_Blanchard.txt\n",
            "vgg_face_dataset/files/Rachel_Dratch.txt\n",
            "vgg_face_dataset/files/Rachel_McAdams.txt\n",
            "vgg_face_dataset/files/Rachel_True.txt\n",
            "vgg_face_dataset/files/Rade_Serbedzija.txt\n",
            "vgg_face_dataset/files/Rafael_Amaya.txt\n",
            "vgg_face_dataset/files/Rafael_Nadal.txt\n",
            "vgg_face_dataset/files/Rainey_Qualley.txt\n",
            "vgg_face_dataset/files/Raini_Rodriguez.txt\n",
            "vgg_face_dataset/files/Rainn_Wilson.txt\n",
            "vgg_face_dataset/files/Ralf_Little.txt\n",
            "vgg_face_dataset/files/Ralph_Macchio.txt\n",
            "vgg_face_dataset/files/Rami_Malek.txt\n",
            "vgg_face_dataset/files/Ranbir_Kapoor.txt\n",
            "vgg_face_dataset/files/Randeep_Hooda.txt\n",
            "vgg_face_dataset/files/Randolph_Mantooth.txt\n",
            "vgg_face_dataset/files/Randy_Harrison.txt\n",
            "vgg_face_dataset/files/Randy_Wayne.txt\n",
            "vgg_face_dataset/files/Raoul_Bova.txt\n",
            "vgg_face_dataset/files/Raphael_Sbarge.txt\n",
            "vgg_face_dataset/files/Raul_Julia.txt\n",
            "vgg_face_dataset/files/Raviv_Ullman.txt\n",
            "vgg_face_dataset/files/Ray_Milland.txt\n",
            "vgg_face_dataset/files/Ray_Winstone.txt\n",
            "vgg_face_dataset/files/Reba_McEntire.txt\n",
            "vgg_face_dataset/files/Rebecca_Budig.txt\n",
            "vgg_face_dataset/files/Rebecca_Creskoff.txt\n",
            "vgg_face_dataset/files/Rebecca_Da_Costa.txt\n",
            "vgg_face_dataset/files/Rebecca_Mader.txt\n",
            "vgg_face_dataset/files/Rebel_Wilson.txt\n",
            "vgg_face_dataset/files/Reece_Ritchie.txt\n",
            "vgg_face_dataset/files/Reece_Thompson.txt\n",
            "vgg_face_dataset/files/Reggie_Lee.txt\n",
            "vgg_face_dataset/files/Regina_Hall.txt\n",
            "vgg_face_dataset/files/Reginald_VelJohnson.txt\n",
            "vgg_face_dataset/files/Reid_Scott.txt\n",
            "vgg_face_dataset/files/Rekha.txt\n",
            "vgg_face_dataset/files/Rene_Auberjonois.txt\n",
            "vgg_face_dataset/files/Reshma_Shetty.txt\n",
            "vgg_face_dataset/files/Retta.txt\n",
            "vgg_face_dataset/files/Rex_Linn.txt\n",
            "vgg_face_dataset/files/Rhys_Coiro.txt\n",
            "vgg_face_dataset/files/Rhys_Darby.txt\n",
            "vgg_face_dataset/files/Rhys_Ifans.txt\n",
            "vgg_face_dataset/files/Rhys_Wakefield.txt\n",
            "vgg_face_dataset/files/Ricardo_Chavira.txt\n",
            "vgg_face_dataset/files/Ricardo_Pereira.txt\n",
            "vgg_face_dataset/files/Richard_Attenborough.txt\n",
            "vgg_face_dataset/files/Richard_Ayoade.txt\n",
            "vgg_face_dataset/files/Richard_Belzer.txt\n",
            "vgg_face_dataset/files/Richard_Boone.txt\n",
            "vgg_face_dataset/files/Richard_Burgi.txt\n",
            "vgg_face_dataset/files/Richard_Burton.txt\n",
            "vgg_face_dataset/files/Richard_Dean_Anderson.txt\n",
            "vgg_face_dataset/files/Richard_E._Grant.txt\n",
            "vgg_face_dataset/files/Richard_Grieco.txt\n",
            "vgg_face_dataset/files/Richard_Hammond.txt\n",
            "vgg_face_dataset/files/Richard_Jenkins.txt\n",
            "vgg_face_dataset/files/Richard_Karn.txt\n",
            "vgg_face_dataset/files/Richard_Kind.txt\n",
            "vgg_face_dataset/files/Richard_Madden.txt\n",
            "vgg_face_dataset/files/Richard_Pryor.txt\n",
            "vgg_face_dataset/files/Richard_Schiff.txt\n",
            "vgg_face_dataset/files/Rick_Malambri.txt\n",
            "vgg_face_dataset/files/Rick_Springfield.txt\n",
            "vgg_face_dataset/files/Rick_Yune.txt\n",
            "vgg_face_dataset/files/Ricky_Gervais.txt\n",
            "vgg_face_dataset/files/Ricky_Nelson.txt\n",
            "vgg_face_dataset/files/Ricky_Whittle.txt\n",
            "vgg_face_dataset/files/Rico_Rodriguez.txt\n",
            "vgg_face_dataset/files/Rider_Strong.txt\n",
            "vgg_face_dataset/files/Rik_Mayall.txt\n",
            "vgg_face_dataset/files/Riki_Lindhome.txt\n",
            "vgg_face_dataset/files/Rila_Fukushima.txt\n",
            "vgg_face_dataset/files/Riley_Smith.txt\n",
            "vgg_face_dataset/files/Riley_Steele.txt\n",
            "vgg_face_dataset/files/Rita_Ora.txt\n",
            "vgg_face_dataset/files/Riz_Ahmed.txt\n",
            "vgg_face_dataset/files/Rob_Brydon.txt\n",
            "vgg_face_dataset/files/Rob_Corddry.txt\n",
            "vgg_face_dataset/files/Rob_Dyrdek.txt\n",
            "vgg_face_dataset/files/Rob_Mayes.txt\n",
            "vgg_face_dataset/files/Rob_Pinkston.txt\n",
            "vgg_face_dataset/files/Rob_Reiner.txt\n",
            "vgg_face_dataset/files/Rob_Riggle.txt\n",
            "vgg_face_dataset/files/Robbie_Amell.txt\n",
            "vgg_face_dataset/files/Robbie_Kay.txt\n",
            "vgg_face_dataset/files/Robert_Buckley.txt\n",
            "vgg_face_dataset/files/Robert_Carlyle.txt\n",
            "vgg_face_dataset/files/Robert_Conrad.txt\n",
            "vgg_face_dataset/files/Robert_Davi.txt\n",
            "vgg_face_dataset/files/Robert_Hoffman.txt\n",
            "vgg_face_dataset/files/Robert_Mitchum.txt\n",
            "vgg_face_dataset/files/Robert_Pattinson.txt\n",
            "vgg_face_dataset/files/Robert_Picardo.txt\n",
            "vgg_face_dataset/files/Robert_Sheehan.txt\n",
            "vgg_face_dataset/files/Robert_Vaughn.txt\n",
            "vgg_face_dataset/files/Robin_Givens.txt\n",
            "vgg_face_dataset/files/Robin_Shou.txt\n",
            "vgg_face_dataset/files/Robin_Weigert.txt\n",
            "vgg_face_dataset/files/Robyn_Lively.txt\n",
            "vgg_face_dataset/files/Rock_Hudson.txt\n",
            "vgg_face_dataset/files/Rockmond_Dunbar.txt\n",
            "vgg_face_dataset/files/Roger_Ebert.txt\n",
            "vgg_face_dataset/files/Roma_Downey.txt\n",
            "vgg_face_dataset/files/Romeo_Miller.txt\n",
            "vgg_face_dataset/files/Ron_Eldard.txt\n",
            "vgg_face_dataset/files/Ron_Jeremy.txt\n",
            "vgg_face_dataset/files/Ron_Lester.txt\n",
            "vgg_face_dataset/files/Ron_Livingston.txt\n",
            "vgg_face_dataset/files/Ron_Perlman.txt\n",
            "vgg_face_dataset/files/Ronda_Rousey.txt\n",
            "vgg_face_dataset/files/Rooney_Mara.txt\n",
            "vgg_face_dataset/files/Rory_Kennedy.txt\n",
            "vgg_face_dataset/files/Rosanna_Arquette.txt\n",
            "vgg_face_dataset/files/Rose_McIver.txt\n",
            "vgg_face_dataset/files/Rosemary_Harris.txt\n",
            "vgg_face_dataset/files/Roshon_Fegan.txt\n",
            "vgg_face_dataset/files/Rosie_Huntington-Whiteley.txt\n",
            "vgg_face_dataset/files/Ross_Lynch.txt\n",
            "vgg_face_dataset/files/Rowan_Atkinson.txt\n",
            "vgg_face_dataset/files/Roxanne_McKee.txt\n",
            "vgg_face_dataset/files/Ruby_Dee.txt\n",
            "vgg_face_dataset/files/Rue_McClanahan.txt\n",
            "vgg_face_dataset/files/Rumer_Willis.txt\n",
            "vgg_face_dataset/files/Russell_Peters.txt\n",
            "vgg_face_dataset/files/Russell_Tovey.txt\n",
            "vgg_face_dataset/files/Ruta_Gedmintas.txt\n",
            "vgg_face_dataset/files/Ruta_Lee.txt\n",
            "vgg_face_dataset/files/Rutger_Hauer.txt\n",
            "vgg_face_dataset/files/Ruth_Jones.txt\n",
            "vgg_face_dataset/files/Ruth_Wilson.txt\n",
            "vgg_face_dataset/files/Rutina_Wesley.txt\n",
            "vgg_face_dataset/files/Ryan_Carnes.txt\n",
            "vgg_face_dataset/files/Ryan_Eggold.txt\n",
            "vgg_face_dataset/files/Ryan_Kelley.txt\n",
            "vgg_face_dataset/files/Ryan_Kennedy.txt\n",
            "vgg_face_dataset/files/Ryan_Kwanten.txt\n",
            "vgg_face_dataset/files/Ryan_Lee.txt\n",
            "vgg_face_dataset/files/Ryan_McPartlin.txt\n",
            "vgg_face_dataset/files/Ryan_Ochoa.txt\n",
            "vgg_face_dataset/files/Ryan_Paevey.txt\n",
            "vgg_face_dataset/files/Ryan_Phillippe.txt\n",
            "vgg_face_dataset/files/Ryan_Potter.txt\n",
            "vgg_face_dataset/files/Ryan_Reynolds.txt\n",
            "vgg_face_dataset/files/Ryan_Stiles.txt\n",
            "vgg_face_dataset/files/RZA.txt\n",
            "vgg_face_dataset/files/S._Epatha_Merkerson.txt\n",
            "vgg_face_dataset/files/Saadet_Aksoy.txt\n",
            "vgg_face_dataset/files/Sabrina_Bryan.txt\n",
            "vgg_face_dataset/files/Sabrina_Carpenter.txt\n",
            "vgg_face_dataset/files/Sacha_Dhawan.txt\n",
            "vgg_face_dataset/files/Saif_Ali_Khan.txt\n",
            "vgg_face_dataset/files/Sal_Mineo.txt\n",
            "vgg_face_dataset/files/Salli_Richardson-Whitfield.txt\n",
            "vgg_face_dataset/files/Sally_Hawkins.txt\n",
            "vgg_face_dataset/files/Sally_Kellerman.txt\n",
            "vgg_face_dataset/files/Sam_Elliott.txt\n",
            "vgg_face_dataset/files/Sam_Heughan.txt\n",
            "vgg_face_dataset/files/Sam_Huntington.txt\n",
            "vgg_face_dataset/files/Sam_Jaeger.txt\n",
            "vgg_face_dataset/files/Sam_Neill.txt\n",
            "vgg_face_dataset/files/Sam_Page.txt\n",
            "vgg_face_dataset/files/Sam_Palladio.txt\n",
            "vgg_face_dataset/files/Sam_Raimi.txt\n",
            "vgg_face_dataset/files/Sam_Riley.txt\n",
            "vgg_face_dataset/files/Sam_Shepard.txt\n",
            "vgg_face_dataset/files/Sam_Trammell.txt\n",
            "vgg_face_dataset/files/Sam_Waterston.txt\n",
            "vgg_face_dataset/files/Sam_Worthington.txt\n",
            "vgg_face_dataset/files/Samaire_Armstrong.txt\n",
            "vgg_face_dataset/files/Samantha_Barks.txt\n",
            "vgg_face_dataset/files/Samantha_Bond.txt\n",
            "vgg_face_dataset/files/Samantha_Mathis.txt\n",
            "vgg_face_dataset/files/Samantha_Morton.txt\n",
            "vgg_face_dataset/files/Sami_Gayle.txt\n",
            "vgg_face_dataset/files/Samira_Wiley.txt\n",
            "vgg_face_dataset/files/Sammi_Hanratty.txt\n",
            "vgg_face_dataset/files/Sammy_Davis_Jr..txt\n",
            "vgg_face_dataset/files/Samuel_L._Jackson.txt\n",
            "vgg_face_dataset/files/Samuel_Larsen.txt\n",
            "vgg_face_dataset/files/Sanaa_Lathan.txt\n",
            "vgg_face_dataset/files/Sandra_Bernhard.txt\n",
            "vgg_face_dataset/files/Sandra_Oh.txt\n",
            "vgg_face_dataset/files/Sandra_Taylor.txt\n",
            "vgg_face_dataset/files/Santiago_Cabrera.txt\n",
            "vgg_face_dataset/files/Sara_Gilbert.txt\n",
            "vgg_face_dataset/files/Sara_Jean_Underwood.txt\n",
            "vgg_face_dataset/files/Sara_Paxton.txt\n",
            "vgg_face_dataset/files/Sara_Ramirez.txt\n",
            "vgg_face_dataset/files/Sara_Rue.txt\n",
            "vgg_face_dataset/files/Sarah_Bolger.txt\n",
            "vgg_face_dataset/files/Sarah_Carter.txt\n",
            "vgg_face_dataset/files/Sarah_Chalke.txt\n",
            "vgg_face_dataset/files/Sarah_Drew.txt\n",
            "vgg_face_dataset/files/Sarah_Gadon.txt\n",
            "vgg_face_dataset/files/Sarah_Hyland.txt\n",
            "vgg_face_dataset/files/Sarah_Jane_Morris.txt\n",
            "vgg_face_dataset/files/Sarah_Lancashire.txt\n",
            "vgg_face_dataset/files/Sarah_Palin.txt\n",
            "vgg_face_dataset/files/Sarah_Paulson.txt\n",
            "vgg_face_dataset/files/Sarah_Ramos.txt\n",
            "vgg_face_dataset/files/Sarah_Roemer.txt\n",
            "vgg_face_dataset/files/Sarah_Shahi.txt\n",
            "vgg_face_dataset/files/Sarah_Wayne_Callies.txt\n",
            "vgg_face_dataset/files/Sarah_Wright.txt\n",
            "vgg_face_dataset/files/Sarita_Choudhury.txt\n",
            "vgg_face_dataset/files/Sasha_Barrese.txt\n",
            "vgg_face_dataset/files/Sasha_Pieterse.txt\n",
            "vgg_face_dataset/files/Satya_Nadella.txt\n",
            "vgg_face_dataset/files/Savannah_Jayde.txt\n",
            "vgg_face_dataset/files/Scarlett_Pomers.txt\n",
            "vgg_face_dataset/files/Scott_Bakula.txt\n",
            "vgg_face_dataset/files/Scott_Disick.txt\n",
            "vgg_face_dataset/files/Scott_Elrod.txt\n",
            "vgg_face_dataset/files/Scott_Porter.txt\n",
            "vgg_face_dataset/files/Scott_Speedman.txt\n",
            "vgg_face_dataset/files/Sean_Bean.txt\n",
            "vgg_face_dataset/files/Sean_Connery.txt\n",
            "vgg_face_dataset/files/Sean_Kanan.txt\n",
            "vgg_face_dataset/files/Sean_Maher.txt\n",
            "vgg_face_dataset/files/Sean_Patrick_Flanery.txt\n",
            "vgg_face_dataset/files/Sean_Pertwee.txt\n",
            "vgg_face_dataset/files/Sean_Young.txt\n",
            "vgg_face_dataset/files/Seann_William_Scott.txt\n",
            "vgg_face_dataset/files/Sebastian_De_Souza.txt\n",
            "vgg_face_dataset/files/Sebastian_Pinera.txt\n",
            "vgg_face_dataset/files/Sela_Ward.txt\n",
            "vgg_face_dataset/files/Selena.txt\n",
            "vgg_face_dataset/files/Selena_Gomez.txt\n",
            "vgg_face_dataset/files/Selita_Ebanks.txt\n",
            "vgg_face_dataset/files/Selma_Blair.txt\n",
            "vgg_face_dataset/files/Sendhil_Ramamurthy.txt\n",
            "vgg_face_dataset/files/Senta_Berger.txt\n",
            "vgg_face_dataset/files/Serinda_Swan.txt\n",
            "vgg_face_dataset/files/Seth_Green.txt\n",
            "vgg_face_dataset/files/Seth_MacFarlane.txt\n",
            "vgg_face_dataset/files/Seth_Meyers.txt\n",
            "vgg_face_dataset/files/Seth_Rogen.txt\n",
            "vgg_face_dataset/files/Shad_Moss.txt\n",
            "vgg_face_dataset/files/Shahid_Kapoor.txt\n",
            "vgg_face_dataset/files/Shailene_Woodley.txt\n",
            "vgg_face_dataset/files/Shane_West.txt\n",
            "vgg_face_dataset/files/Shannen_Doherty.txt\n",
            "vgg_face_dataset/files/Shannon_Elizabeth.txt\n",
            "vgg_face_dataset/files/Shannon_Lucio.txt\n",
            "vgg_face_dataset/files/Shannon_Tweed.txt\n",
            "vgg_face_dataset/files/Shanola_Hampton.txt\n",
            "vgg_face_dataset/files/Shantel_VanSanten.txt\n",
            "vgg_face_dataset/files/Sharif_Atkins.txt\n",
            "vgg_face_dataset/files/Sharlto_Copley.txt\n",
            "vgg_face_dataset/files/Sharni_Vinson.txt\n",
            "vgg_face_dataset/files/Sharon_Case.txt\n",
            "vgg_face_dataset/files/Sharon_Gless.txt\n",
            "vgg_face_dataset/files/Sharon_Lawrence.txt\n",
            "vgg_face_dataset/files/Sharon_Leal.txt\n",
            "vgg_face_dataset/files/Sharon_Rooney.txt\n",
            "vgg_face_dataset/files/Sharon_Tate.txt\n",
            "vgg_face_dataset/files/Shaun_Cassidy.txt\n",
            "vgg_face_dataset/files/Shaun_Sipos.txt\n",
            "vgg_face_dataset/files/Shaun_Toub.txt\n",
            "vgg_face_dataset/files/Shawn_Ashmore.txt\n",
            "vgg_face_dataset/files/Shawn_Hatosy.txt\n",
            "vgg_face_dataset/files/Shawn_Pyfrom.txt\n",
            "vgg_face_dataset/files/Shawn_Roberts.txt\n",
            "vgg_face_dataset/files/Shawnee_Smith.txt\n",
            "vgg_face_dataset/files/Shay_Mitchell.txt\n",
            "vgg_face_dataset/files/Shelley_Long.txt\n",
            "vgg_face_dataset/files/Shelley_Winters.txt\n",
            "vgg_face_dataset/files/Shemar_Moore.txt\n",
            "vgg_face_dataset/files/Sheree_J._Wilson.txt\n",
            "vgg_face_dataset/files/Sheridan_Smith.txt\n",
            "vgg_face_dataset/files/Sherilyn_Fenn.txt\n",
            "vgg_face_dataset/files/Sherri_Saum.txt\n",
            "vgg_face_dataset/files/Sherri_Shepherd.txt\n",
            "vgg_face_dataset/files/Sherry_Stringfield.txt\n",
            "vgg_face_dataset/files/Sheryl_Lee_Ralph.txt\n",
            "vgg_face_dataset/files/Shiloh_Fernandez.txt\n",
            "vgg_face_dataset/files/Shiri_Appleby.txt\n",
            "vgg_face_dataset/files/Shirley_Manson.txt\n",
            "vgg_face_dataset/files/Shohreh_Aghdashloo.txt\n",
            "vgg_face_dataset/files/Shonda_Rhimes.txt\n",
            "vgg_face_dataset/files/Shraddha_Kapoor.txt\n",
            "vgg_face_dataset/files/Sibel_Kekilli.txt\n",
            "vgg_face_dataset/files/Sidharth_Malhotra.txt\n",
            "vgg_face_dataset/files/Sidse_Babett_Knudsen.txt\n",
            "vgg_face_dataset/files/Sienna_Guillory.txt\n",
            "vgg_face_dataset/files/Sierra_McCormick.txt\n",
            "vgg_face_dataset/files/Silas_Weir_Mitchell.txt\n",
            "vgg_face_dataset/files/Simon_Baker.txt\n",
            "vgg_face_dataset/files/Simon_Callow.txt\n",
            "vgg_face_dataset/files/Simon_Pegg.txt\n",
            "vgg_face_dataset/files/Simon_Rex.txt\n",
            "vgg_face_dataset/files/Sinqua_Walls.txt\n",
            "vgg_face_dataset/files/Skai_Jackson.txt\n",
            "vgg_face_dataset/files/Skandar_Keynes.txt\n",
            "vgg_face_dataset/files/Skeet_Ulrich.txt\n",
            "vgg_face_dataset/files/Sky_Ferreira.txt\n",
            "vgg_face_dataset/files/Skye_McCole_Bartusiak.txt\n",
            "vgg_face_dataset/files/Skylar_Astin.txt\n",
            "vgg_face_dataset/files/Skyler_Samuels.txt\n",
            "vgg_face_dataset/files/Smokey_Robinson.txt\n",
            "vgg_face_dataset/files/Snoop_Dogg.txt\n",
            "vgg_face_dataset/files/Sofia_Coppola.txt\n",
            "vgg_face_dataset/files/Sofia_Vassilieva.txt\n",
            "vgg_face_dataset/files/Solange_Knowles.txt\n",
            "vgg_face_dataset/files/Sonam_Kapoor.txt\n",
            "vgg_face_dataset/files/Sonja_Sohn.txt\n",
            "vgg_face_dataset/files/Sophie_Dahl.txt\n",
            "vgg_face_dataset/files/Sophie_Kennedy_Clark.txt\n",
            "vgg_face_dataset/files/Sophie_Lowe.txt\n",
            "vgg_face_dataset/files/Sophie_Okonedo.txt\n",
            "vgg_face_dataset/files/Sophie_Winkleman.txt\n",
            "vgg_face_dataset/files/Spencer_Boldman.txt\n",
            "vgg_face_dataset/files/Spencer_Locke.txt\n",
            "vgg_face_dataset/files/Sprague_Grayden.txt\n",
            "vgg_face_dataset/files/Stacey_Dash.txt\n",
            "vgg_face_dataset/files/Stacy_Keach.txt\n",
            "vgg_face_dataset/files/Stacy_Keibler.txt\n",
            "vgg_face_dataset/files/Stan_Lee.txt\n",
            "vgg_face_dataset/files/Stana_Katic.txt\n",
            "vgg_face_dataset/files/Stanley_Tucci.txt\n",
            "vgg_face_dataset/files/Stefanie_Powers.txt\n",
            "vgg_face_dataset/files/Stepfanie_Kramer.txt\n",
            "vgg_face_dataset/files/Stephanie_Jacobsen.txt\n",
            "vgg_face_dataset/files/Stephanie_March.txt\n",
            "vgg_face_dataset/files/Stephanie_Sigman.txt\n",
            "vgg_face_dataset/files/Stephen_Baldwin.txt\n",
            "vgg_face_dataset/files/Stephen_Colbert.txt\n",
            "vgg_face_dataset/files/Stephen_Colletti.txt\n",
            "vgg_face_dataset/files/Stephen_Collins.txt\n",
            "vgg_face_dataset/files/Stephen_Dillane.txt\n",
            "vgg_face_dataset/files/Stephen_Dorff.txt\n",
            "vgg_face_dataset/files/Stephen_Fry.txt\n",
            "vgg_face_dataset/files/Stephen_Graham.txt\n",
            "vgg_face_dataset/files/Stephen_Lang.txt\n",
            "vgg_face_dataset/files/Stephen_Lee.txt\n",
            "vgg_face_dataset/files/Stephen_Mangan.txt\n",
            "vgg_face_dataset/files/Stephen_Merchant.txt\n",
            "vgg_face_dataset/files/Stephen_Rannazzisi.txt\n",
            "vgg_face_dataset/files/Stephen_Root.txt\n",
            "vgg_face_dataset/files/Sterling_Beaumon.txt\n",
            "vgg_face_dataset/files/Sterling_Knight.txt\n",
            "vgg_face_dataset/files/Steve_Burton.txt\n",
            "vgg_face_dataset/files/Steve_Carell.txt\n",
            "vgg_face_dataset/files/Steve_Guttenberg.txt\n",
            "vgg_face_dataset/files/Steve_Harris.txt\n",
            "vgg_face_dataset/files/Steve_Harvey.txt\n",
            "vgg_face_dataset/files/Steve_Jobs.txt\n",
            "vgg_face_dataset/files/Steve_Martin.txt\n",
            "vgg_face_dataset/files/Steve_McQueen.txt\n",
            "vgg_face_dataset/files/Steven_Anthony_Lawrence.txt\n",
            "vgg_face_dataset/files/Steven_Bauer.txt\n",
            "vgg_face_dataset/files/Steven_Berkoff.txt\n",
            "vgg_face_dataset/files/Steven_Culp.txt\n",
            "vgg_face_dataset/files/Steven_Mackintosh.txt\n",
            "vgg_face_dataset/files/Steven_Moffat.txt\n",
            "vgg_face_dataset/files/Steven_R._McQueen.txt\n",
            "vgg_face_dataset/files/Steven_Soderbergh.txt\n",
            "vgg_face_dataset/files/Steven_Weber.txt\n",
            "vgg_face_dataset/files/Steven_Yeun.txt\n",
            "vgg_face_dataset/files/Stevie_Wonder.txt\n",
            "vgg_face_dataset/files/Stormy_Daniels.txt\n",
            "vgg_face_dataset/files/Sung_Kang.txt\n",
            "vgg_face_dataset/files/Sunita_Williams.txt\n",
            "vgg_face_dataset/files/Sunny_Leone.txt\n",
            "vgg_face_dataset/files/Sunny_Mabrey.txt\n",
            "vgg_face_dataset/files/Suraj_Sharma.txt\n",
            "vgg_face_dataset/files/Susan_Blakely.txt\n",
            "vgg_face_dataset/files/Susan_Hayward.txt\n",
            "vgg_face_dataset/files/Susan_Lucci.txt\n",
            "vgg_face_dataset/files/Susanne_Bier.txt\n",
            "vgg_face_dataset/files/Suzanne_Pleshette.txt\n",
            "vgg_face_dataset/files/Svetlana_Metkina.txt\n",
            "vgg_face_dataset/files/Swoosie_Kurtz.txt\n",
            "vgg_face_dataset/files/Sybil_Danning.txt\n",
            "vgg_face_dataset/files/Sydney_Pollack.txt\n",
            "vgg_face_dataset/files/Sydney_Tamiia_Poitier.txt\n",
            "vgg_face_dataset/files/Sylvia_Hoeks.txt\n",
            "vgg_face_dataset/files/T.J._Miller.txt\n",
            "vgg_face_dataset/files/Tabrett_Bethell.txt\n",
            "vgg_face_dataset/files/Tabu.txt\n",
            "vgg_face_dataset/files/Tadanobu_Asano.txt\n",
            "vgg_face_dataset/files/Tahar_Rahim.txt\n",
            "vgg_face_dataset/files/Tahj_Mowry.txt\n",
            "vgg_face_dataset/files/Tahmoh_Penikett.txt\n",
            "vgg_face_dataset/files/Takeshi_Kaneshiro.txt\n",
            "vgg_face_dataset/files/Tamala_Jones.txt\n",
            "vgg_face_dataset/files/Tamar_Braxton.txt\n",
            "vgg_face_dataset/files/Tamara_Feldman.txt\n",
            "vgg_face_dataset/files/Tamara_Taylor.txt\n",
            "vgg_face_dataset/files/Tamara_Tunie.txt\n",
            "vgg_face_dataset/files/Tamer_Hassan.txt\n",
            "vgg_face_dataset/files/Tamera_Mowry-Housley.txt\n",
            "vgg_face_dataset/files/Tammy_Blanchard.txt\n",
            "vgg_face_dataset/files/Tamsin_Greig.txt\n",
            "vgg_face_dataset/files/Tamzin_Outhwaite.txt\n",
            "vgg_face_dataset/files/Tanya_Tate.txt\n",
            "vgg_face_dataset/files/Tara_Subkoff.txt\n",
            "vgg_face_dataset/files/Taraji_P._Henson.txt\n",
            "vgg_face_dataset/files/Taryn_Manning.txt\n",
            "vgg_face_dataset/files/Taryn_Southern.txt\n",
            "vgg_face_dataset/files/Tate_Donovan.txt\n",
            "vgg_face_dataset/files/Tatiana_Maslany.txt\n",
            "vgg_face_dataset/files/Tatsuya_Fujiwara.txt\n",
            "vgg_face_dataset/files/Tatyana_Ali.txt\n",
            "vgg_face_dataset/files/Tavi_Gevinson.txt\n",
            "vgg_face_dataset/files/Tawny_Cypress.txt\n",
            "vgg_face_dataset/files/Taye_Diggs.txt\n",
            "vgg_face_dataset/files/Taylor_Kitsch.txt\n",
            "vgg_face_dataset/files/Taylor_Lautner.txt\n",
            "vgg_face_dataset/files/Taylor_Momsen.txt\n",
            "vgg_face_dataset/files/Taylor_Swift.txt\n",
            "vgg_face_dataset/files/Teala_Dunn.txt\n",
            "vgg_face_dataset/files/Ted_Danson.txt\n",
            "vgg_face_dataset/files/Ted_Levine.txt\n",
            "vgg_face_dataset/files/Teddy_Sears.txt\n",
            "vgg_face_dataset/files/Telly_Savalas.txt\n",
            "vgg_face_dataset/files/Telma_Hopkins.txt\n",
            "vgg_face_dataset/files/Tempestt_Bledsoe.txt\n",
            "vgg_face_dataset/files/Tequan_Richmond.txt\n",
            "vgg_face_dataset/files/Terence_Hill.txt\n",
            "vgg_face_dataset/files/Terence_Stamp.txt\n",
            "vgg_face_dataset/files/Teri_Hatcher.txt\n",
            "vgg_face_dataset/files/Terrence_Howard.txt\n",
            "vgg_face_dataset/files/Thad_Luckinbill.txt\n",
            "vgg_face_dataset/files/Thandie_Newton.txt\n",
            "vgg_face_dataset/files/Theo_James.txt\n",
            "vgg_face_dataset/files/Theo_Rossi.txt\n",
            "vgg_face_dataset/files/Theresa_Randle.txt\n",
            "vgg_face_dataset/files/Theresa_Russell.txt\n",
            "vgg_face_dataset/files/Thomas_Dekker.txt\n",
            "vgg_face_dataset/files/Thomas_Gibson.txt\n",
            "vgg_face_dataset/files/Thomas_Haden_Church.txt\n",
            "vgg_face_dataset/files/Thomas_Ian_Nicholas.txt\n",
            "vgg_face_dataset/files/Thomas_Jane.txt\n",
            "vgg_face_dataset/files/Thomas_Kretschmann.txt\n",
            "vgg_face_dataset/files/Thomas_Lennon.txt\n",
            "vgg_face_dataset/files/Thomas_McDonell.txt\n",
            "vgg_face_dataset/files/Thomas_Robinson.txt\n",
            "vgg_face_dataset/files/Tichina_Arnold.txt\n",
            "vgg_face_dataset/files/Tiffany_Hines.txt\n",
            "vgg_face_dataset/files/Tika_Sumpter.txt\n",
            "vgg_face_dataset/files/Tilda_Swinton.txt\n",
            "vgg_face_dataset/files/Tim_Burton.txt\n",
            "vgg_face_dataset/files/Tim_Daly.txt\n",
            "vgg_face_dataset/files/Tim_Guinee.txt\n",
            "vgg_face_dataset/files/Tim_Gunn.txt\n",
            "vgg_face_dataset/files/Tim_McGraw.txt\n",
            "vgg_face_dataset/files/Tim_Minchin.txt\n",
            "vgg_face_dataset/files/Tim_Pocock.txt\n",
            "vgg_face_dataset/files/Tim_Russ.txt\n",
            "vgg_face_dataset/files/Timothy_Spall.txt\n",
            "vgg_face_dataset/files/Timothy_V._Murphy.txt\n",
            "vgg_face_dataset/files/Tinsel_Korey.txt\n",
            "vgg_face_dataset/files/Titus_Welliver.txt\n",
            "vgg_face_dataset/files/Toby_Jones.txt\n",
            "vgg_face_dataset/files/Toby_Stephens.txt\n",
            "vgg_face_dataset/files/Todd_Lasance.txt\n",
            "vgg_face_dataset/files/Todd_Lowe.txt\n",
            "vgg_face_dataset/files/Tom_Arnold.txt\n",
            "vgg_face_dataset/files/Tom_Bergeron.txt\n",
            "vgg_face_dataset/files/Tom_Ford.txt\n",
            "vgg_face_dataset/files/Tom_Hiddleston.txt\n",
            "vgg_face_dataset/files/Tom_Hooper.txt\n",
            "vgg_face_dataset/files/Tom_Kenny.txt\n",
            "vgg_face_dataset/files/Tom_Mison.txt\n",
            "vgg_face_dataset/files/Tom_Payne.txt\n",
            "vgg_face_dataset/files/Tom_Selleck.txt\n",
            "vgg_face_dataset/files/Tom_Skerritt.txt\n",
            "vgg_face_dataset/files/Tom_Wilkinson.txt\n",
            "vgg_face_dataset/files/Tomer_Sisley.txt\n",
            "vgg_face_dataset/files/Tommy_Flanagan.txt\n",
            "vgg_face_dataset/files/Tommy_Knight.txt\n",
            "vgg_face_dataset/files/Tommy_Lee_Jones.txt\n",
            "vgg_face_dataset/files/Tommy_Morrison.txt\n",
            "vgg_face_dataset/files/Toni_Trucks.txt\n",
            "vgg_face_dataset/files/Tony_Amendola.txt\n",
            "vgg_face_dataset/files/Tony_Curran.txt\n",
            "vgg_face_dataset/files/Tori_Spelling.txt\n",
            "vgg_face_dataset/files/Trace_Adkins.txt\n",
            "vgg_face_dataset/files/Tracey_Gold.txt\n",
            "vgg_face_dataset/files/Traci_Bingham.txt\n",
            "vgg_face_dataset/files/Tracie_Thoms.txt\n",
            "vgg_face_dataset/files/Tracy_Morgan.txt\n",
            "vgg_face_dataset/files/Traylor_Howard.txt\n",
            "vgg_face_dataset/files/Treat_Williams.txt\n",
            "vgg_face_dataset/files/Trent_Ford.txt\n",
            "vgg_face_dataset/files/Trevor_Donovan.txt\n",
            "vgg_face_dataset/files/Tricia_Helfer.txt\n",
            "vgg_face_dataset/files/Tristan_Wilds.txt\n",
            "vgg_face_dataset/files/Troye_Sivan.txt\n",
            "vgg_face_dataset/files/Tupac_Shakur.txt\n",
            "vgg_face_dataset/files/Ty_Olsson.txt\n",
            "vgg_face_dataset/files/Ty_Pennington.txt\n",
            "vgg_face_dataset/files/Tye_Sheridan.txt\n",
            "vgg_face_dataset/files/Tyler_Blackburn.txt\n",
            "vgg_face_dataset/files/Tyler_Hoechlin.txt\n",
            "vgg_face_dataset/files/Tyler_James_Williams.txt\n",
            "vgg_face_dataset/files/Tyler_Labine.txt\n",
            "vgg_face_dataset/files/Tyler_Perry.txt\n",
            "vgg_face_dataset/files/Tyne_Daly.txt\n",
            "vgg_face_dataset/files/Tyrese_Gibson.txt\n",
            "vgg_face_dataset/files/Tyrone_Power.txt\n",
            "vgg_face_dataset/files/Tyson_Beckford.txt\n",
            "vgg_face_dataset/files/Usain_Bolt.txt\n",
            "vgg_face_dataset/files/Usher_Raymond.txt\n",
            "vgg_face_dataset/files/Uzo_Aduba.txt\n",
            "vgg_face_dataset/files/Valdis_Dombrovskis.txt\n",
            "vgg_face_dataset/files/Valeria_Golino.txt\n",
            "vgg_face_dataset/files/Valerie_Bertinelli.txt\n",
            "vgg_face_dataset/files/Valorie_Curry.txt\n",
            "vgg_face_dataset/files/Vanessa_Branch.txt\n",
            "vgg_face_dataset/files/Vanessa_Hudgens.txt\n",
            "vgg_face_dataset/files/Vanessa_Kirby.txt\n",
            "vgg_face_dataset/files/Vanessa_Lachey.txt\n",
            "vgg_face_dataset/files/Vanessa_Lengies.txt\n",
            "vgg_face_dataset/files/Vanessa_Marcil.txt\n",
            "vgg_face_dataset/files/Vanilla_Ice.txt\n",
            "vgg_face_dataset/files/Verne_Troyer.txt\n",
            "vgg_face_dataset/files/Veronica_Ferres.txt\n",
            "vgg_face_dataset/files/Vicky_McClure.txt\n",
            "vgg_face_dataset/files/Victoria_Azarenka.txt\n",
            "vgg_face_dataset/files/Victoria_Crown_Princess_of_Sweden.txt\n",
            "vgg_face_dataset/files/Victoria_Justice.txt\n",
            "vgg_face_dataset/files/Victoria_Rowell.txt\n",
            "vgg_face_dataset/files/Victoria_Silvstedt.txt\n",
            "vgg_face_dataset/files/Vidya_Balan.txt\n",
            "vgg_face_dataset/files/Viggo_Mortensen.txt\n",
            "vgg_face_dataset/files/Vince_Gilligan.txt\n",
            "vgg_face_dataset/files/Vincent_Cassel.txt\n",
            "vgg_face_dataset/files/Vincent_Martella.txt\n",
            "vgg_face_dataset/files/Vincent_Pastore.txt\n",
            "vgg_face_dataset/files/Vincent_Perez.txt\n",
            "vgg_face_dataset/files/Vincent_Spano.txt\n",
            "vgg_face_dataset/files/Violante_Placido.txt\n",
            "vgg_face_dataset/files/Virat_Kohli.txt\n",
            "vgg_face_dataset/files/Virginia_Madsen.txt\n",
            "vgg_face_dataset/files/Virginia_Williams.txt\n",
            "vgg_face_dataset/files/Virginie_Ledoyen.txt\n",
            "vgg_face_dataset/files/Wagner_Moura.txt\n",
            "vgg_face_dataset/files/Wallace_Shawn.txt\n",
            "vgg_face_dataset/files/Walter_Matthau.txt\n",
            "vgg_face_dataset/files/Walton_Goggins.txt\n",
            "vgg_face_dataset/files/Wanda_Sykes.txt\n",
            "vgg_face_dataset/files/Warren_Brown.txt\n",
            "vgg_face_dataset/files/Wayne_Knight.txt\n",
            "vgg_face_dataset/files/Wayne_Rooney.txt\n",
            "vgg_face_dataset/files/Wei_Zhao.txt\n",
            "vgg_face_dataset/files/Wendell_Pierce.txt\n",
            "vgg_face_dataset/files/Wendi_McLendon-Covey.txt\n",
            "vgg_face_dataset/files/Wendy_Williams.txt\n",
            "vgg_face_dataset/files/Wentworth_Miller.txt\n",
            "vgg_face_dataset/files/Wes_Bentley.txt\n",
            "vgg_face_dataset/files/Wes_Ramsey.txt\n",
            "vgg_face_dataset/files/Wesley_Jonathan.txt\n",
            "vgg_face_dataset/files/Wesley_Snipes.txt\n",
            "vgg_face_dataset/files/Whitney_Able.txt\n",
            "vgg_face_dataset/files/Whitney_Cummings.txt\n",
            "vgg_face_dataset/files/Whitney_Port.txt\n",
            "vgg_face_dataset/files/Will_Arnett.txt\n",
            "vgg_face_dataset/files/Will_Estes.txt\n",
            "vgg_face_dataset/files/Will_Forte.txt\n",
            "vgg_face_dataset/files/Will_Kemp.txt\n",
            "vgg_face_dataset/files/Will_Mellor.txt\n",
            "vgg_face_dataset/files/Will_Patton.txt\n",
            "vgg_face_dataset/files/Will_Poulter.txt\n",
            "vgg_face_dataset/files/Will_Yun_Lee.txt\n",
            "vgg_face_dataset/files/Willa_Ford.txt\n",
            "vgg_face_dataset/files/Willem_Dafoe.txt\n",
            "vgg_face_dataset/files/William_B._Davis.txt\n",
            "vgg_face_dataset/files/William_Baldwin.txt\n",
            "vgg_face_dataset/files/William_Devane.txt\n",
            "vgg_face_dataset/files/William_Fichtner.txt\n",
            "vgg_face_dataset/files/William_Holden.txt\n",
            "vgg_face_dataset/files/William_Levy.txt\n",
            "vgg_face_dataset/files/William_Moseley.txt\n",
            "vgg_face_dataset/files/William_Powell.txt\n",
            "vgg_face_dataset/files/Willow_Smith.txt\n",
            "vgg_face_dataset/files/Wilson_Bethel.txt\n",
            "vgg_face_dataset/files/Wilson_Cruz.txt\n",
            "vgg_face_dataset/files/Wim_Wenders.txt\n",
            "vgg_face_dataset/files/Witney_Carson.txt\n",
            "vgg_face_dataset/files/Woody_Harrelson.txt\n",
            "vgg_face_dataset/files/Xavier_Samuel.txt\n",
            "vgg_face_dataset/files/Xun_Zhou.txt\n",
            "vgg_face_dataset/files/Xzibit.txt\n",
            "vgg_face_dataset/files/Yanina_Studilina.txt\n",
            "vgg_face_dataset/files/Yara_Shahidi.txt\n",
            "vgg_face_dataset/files/Yeardley_Smith.txt\n",
            "vgg_face_dataset/files/Yifei_Liu.txt\n",
            "vgg_face_dataset/files/Yul_Brynner.txt\n",
            "vgg_face_dataset/files/Yun-Fat_Chow.txt\n",
            "vgg_face_dataset/files/Yvette_Mimieux.txt\n",
            "vgg_face_dataset/files/Yvette_Nicole_Brown.txt\n",
            "vgg_face_dataset/files/Yvonne_De_Carlo.txt\n",
            "vgg_face_dataset/files/Zac_Efron.txt\n",
            "vgg_face_dataset/files/Zach_Braff.txt\n",
            "vgg_face_dataset/files/Zach_Galifianakis.txt\n",
            "vgg_face_dataset/files/Zach_Grenier.txt\n",
            "vgg_face_dataset/files/Zach_McGowan.txt\n",
            "vgg_face_dataset/files/Zachary_Gordon.txt\n",
            "vgg_face_dataset/files/Zachary_Levi.txt\n",
            "vgg_face_dataset/files/Zachary_Quinto.txt\n",
            "vgg_face_dataset/files/Zack_Snyder.txt\n",
            "vgg_face_dataset/files/Zayn_Malik.txt\n",
            "vgg_face_dataset/files/Zelda_Williams.txt\n",
            "vgg_face_dataset/files/Ziyi_Zhang.txt\n",
            "vgg_face_dataset/files/Zoe_Levin.txt\n",
            "vgg_face_dataset/files/Zoe_McLellan.txt\n",
            "vgg_face_dataset/files/Zoe_Saldana.txt\n",
            "vgg_face_dataset/files/Zooey_Deschanel.txt\n",
            "vgg_face_dataset/files/Zsa_Zsa_Gabor.txt\n",
            "vgg_face_dataset/files/Zulay_Henao.txt\n",
            "vgg_face_dataset/files/Zuleyka_Silver.txt\n"
          ],
          "name": "stdout"
        }
      ]
    },
    {
      "cell_type": "code",
      "metadata": {
        "id": "LAZoJX_U_09I",
        "colab_type": "code",
        "colab": {}
      },
      "source": [
        ""
      ],
      "execution_count": 2,
      "outputs": []
    },
    {
      "cell_type": "markdown",
      "metadata": {
        "id": "PP_Sud4__4pL",
        "colab_type": "text"
      },
      "source": [
        "# PREPROCESSING IMAGES"
      ]
    },
    {
      "cell_type": "code",
      "metadata": {
        "id": "zq4ivZdV_6Py",
        "colab_type": "code",
        "colab": {
          "base_uri": "https://localhost:8080/",
          "height": 35
        },
        "outputId": "859fc3f5-4ba1-46aa-bdd8-c6970848a638"
      },
      "source": [
        "!rm -r PeruvianImageGenerator/ ##to delete file cloned before"
      ],
      "execution_count": 3,
      "outputs": [
        {
          "output_type": "stream",
          "text": [
            "rm: cannot remove 'PeruvianImageGenerator/': No such file or directory\n"
          ],
          "name": "stdout"
        }
      ]
    },
    {
      "cell_type": "code",
      "metadata": {
        "id": "T-KboMs_Flpn",
        "colab_type": "code",
        "colab": {
          "base_uri": "https://localhost:8080/",
          "height": 127
        },
        "outputId": "66760683-f967-479d-ed44-b4b3026582cf"
      },
      "source": [
        "!git clone https://github.com/Leinadh/PeruvianImageGenerator.git"
      ],
      "execution_count": 4,
      "outputs": [
        {
          "output_type": "stream",
          "text": [
            "Cloning into 'PeruvianImageGenerator'...\n",
            "remote: Enumerating objects: 32, done.\u001b[K\n",
            "remote: Counting objects: 100% (32/32), done.\u001b[K\n",
            "remote: Compressing objects: 100% (23/23), done.\u001b[K\n",
            "remote: Total 32 (delta 4), reused 18 (delta 2), pack-reused 0\u001b[K\n",
            "Unpacking objects: 100% (32/32), done.\n"
          ],
          "name": "stdout"
        }
      ]
    },
    {
      "cell_type": "code",
      "metadata": {
        "id": "IGlVyQpEFoDI",
        "colab_type": "code",
        "colab": {}
      },
      "source": [
        "import PeruvianImageGenerator.scripts.download_faces as dlf\n",
        "import PeruvianImageGenerator.scripts.plot_utils as plot_utils"
      ],
      "execution_count": 5,
      "outputs": []
    },
    {
      "cell_type": "code",
      "metadata": {
        "id": "bQioj4yhFqJ6",
        "colab_type": "code",
        "colab": {
          "base_uri": "https://localhost:8080/",
          "height": 1000
        },
        "outputId": "289fc0e2-968e-4e05-bbf7-dfbafd46e303"
      },
      "source": [
        "data_path = '/content/vgg_face_dataset/files'\n",
        "target_path='/content/datasets/faces_people/'\n",
        "dlf.parse_data(data_path, 1000, 1, target_path, 10, 40)"
      ],
      "execution_count": 6,
      "outputs": [
        {
          "output_type": "stream",
          "text": [
            "Processing Richard_Burton:   0%|          | 1/1000 [00:00<10:13,  1.63it/s]"
          ],
          "name": "stderr"
        },
        {
          "output_type": "stream",
          "text": [
            "Finished Downloading\n"
          ],
          "name": "stdout"
        },
        {
          "output_type": "stream",
          "text": [
            "Processing Linda_Cardellini:   0%|          | 2/1000 [00:00<08:36,  1.93it/s]"
          ],
          "name": "stderr"
        },
        {
          "output_type": "stream",
          "text": [
            "Finished Downloading\n"
          ],
          "name": "stdout"
        },
        {
          "output_type": "stream",
          "text": [
            "Processing Harvey_Keitel:   0%|          | 3/1000 [00:01<08:52,  1.87it/s]   "
          ],
          "name": "stderr"
        },
        {
          "output_type": "stream",
          "text": [
            "Finished Downloading\n"
          ],
          "name": "stdout"
        },
        {
          "output_type": "stream",
          "text": [
            "Processing Ana_Gasteyer:   0%|          | 4/1000 [00:01<08:27,  1.96it/s] "
          ],
          "name": "stderr"
        },
        {
          "output_type": "stream",
          "text": [
            "Finished Downloading\n"
          ],
          "name": "stdout"
        },
        {
          "output_type": "stream",
          "text": [
            "Processing Monica_Raymund:   1%|          | 6/1000 [00:03<08:35,  1.93it/s]"
          ],
          "name": "stderr"
        },
        {
          "output_type": "stream",
          "text": [
            "Finished Downloading\n",
            "Finished Downloading\n"
          ],
          "name": "stdout"
        },
        {
          "output_type": "stream",
          "text": [
            "Processing Ryan_Lee:   1%|          | 7/1000 [00:04<11:28,  1.44it/s]      "
          ],
          "name": "stderr"
        },
        {
          "output_type": "stream",
          "text": [
            "Finished Downloading\n"
          ],
          "name": "stdout"
        },
        {
          "output_type": "stream",
          "text": [
            "Processing Charlotte_Rae:   1%|          | 8/1000 [00:04<11:35,  1.43it/s]"
          ],
          "name": "stderr"
        },
        {
          "output_type": "stream",
          "text": [
            "Finished Downloading\n"
          ],
          "name": "stdout"
        },
        {
          "output_type": "stream",
          "text": [
            "Processing Martha_Hyer:   1%|          | 9/1000 [00:06<15:04,  1.10it/s]  "
          ],
          "name": "stderr"
        },
        {
          "output_type": "stream",
          "text": [
            "Finished Downloading\n"
          ],
          "name": "stdout"
        },
        {
          "output_type": "stream",
          "text": [
            "Processing Mathew_Horne:   1%|          | 10/1000 [00:06<13:32,  1.22it/s]"
          ],
          "name": "stderr"
        },
        {
          "output_type": "stream",
          "text": [
            "Finished Downloading\n"
          ],
          "name": "stdout"
        },
        {
          "output_type": "stream",
          "text": [
            "Processing Simon_Pegg:   1%|          | 11/1000 [01:08<5:11:20, 18.89s/it]  "
          ],
          "name": "stderr"
        },
        {
          "output_type": "stream",
          "text": [
            "Finished Downloading\n"
          ],
          "name": "stdout"
        },
        {
          "output_type": "stream",
          "text": [
            "Processing Michael_Ealy:   1%|          | 12/1000 [01:08<3:39:58, 13.36s/it]"
          ],
          "name": "stderr"
        },
        {
          "output_type": "stream",
          "text": [
            "Finished Downloading\n"
          ],
          "name": "stdout"
        },
        {
          "output_type": "stream",
          "text": [
            "Processing Bruno_Ganz:   1%|▏         | 13/1000 [01:09<2:37:05,  9.55s/it]  "
          ],
          "name": "stderr"
        },
        {
          "output_type": "stream",
          "text": [
            "Finished Downloading\n"
          ],
          "name": "stdout"
        },
        {
          "output_type": "stream",
          "text": [
            "Processing Kelli_Williams:   1%|▏         | 14/1000 [01:10<1:57:15,  7.13s/it]"
          ],
          "name": "stderr"
        },
        {
          "output_type": "stream",
          "text": [
            "Finished Downloading\n"
          ],
          "name": "stdout"
        },
        {
          "output_type": "stream",
          "text": [
            "Processing Julie_Walters:   2%|▏         | 15/1000 [01:11<1:24:39,  5.16s/it] "
          ],
          "name": "stderr"
        },
        {
          "output_type": "stream",
          "text": [
            "Finished Downloading\n"
          ],
          "name": "stdout"
        },
        {
          "output_type": "stream",
          "text": [
            "Processing Kate_Walsh:   2%|▏         | 16/1000 [01:12<1:07:27,  4.11s/it]   "
          ],
          "name": "stderr"
        },
        {
          "output_type": "stream",
          "text": [
            "Finished Downloading\n"
          ],
          "name": "stdout"
        },
        {
          "output_type": "stream",
          "text": [
            "Processing Elisabeth_Moss:   2%|▏         | 17/1000 [01:13<51:14,  3.13s/it]"
          ],
          "name": "stderr"
        },
        {
          "output_type": "stream",
          "text": [
            "Finished Downloading\n"
          ],
          "name": "stdout"
        },
        {
          "output_type": "stream",
          "text": [
            "Processing Tiffany_Hines:   2%|▏         | 18/1000 [01:14<39:02,  2.39s/it] "
          ],
          "name": "stderr"
        },
        {
          "output_type": "stream",
          "text": [
            "Finished Downloading\n"
          ],
          "name": "stdout"
        },
        {
          "output_type": "stream",
          "text": [
            "Processing Anika_Noni_Rose:   2%|▏         | 19/1000 [01:15<32:25,  1.98s/it]"
          ],
          "name": "stderr"
        },
        {
          "output_type": "stream",
          "text": [
            "Finished Downloading\n"
          ],
          "name": "stdout"
        },
        {
          "output_type": "stream",
          "text": [
            "Processing Hayley_Marie_Norman:   2%|▏         | 22/1000 [01:19<29:06,  1.79s/it]"
          ],
          "name": "stderr"
        },
        {
          "output_type": "stream",
          "text": [
            "Finished Downloading\n",
            "Finished Downloading\n",
            "Finished Downloading\n"
          ],
          "name": "stdout"
        },
        {
          "output_type": "stream",
          "text": [
            "Processing David_Jason:   2%|▏         | 23/1000 [01:19<21:27,  1.32s/it]"
          ],
          "name": "stderr"
        },
        {
          "output_type": "stream",
          "text": [
            "Finished Downloading\n",
            "Finished Downloading\n"
          ],
          "name": "stdout"
        },
        {
          "output_type": "stream",
          "text": [
            "Processing Matt_Czuchry:   2%|▎         | 25/1000 [01:21<19:21,  1.19s/it]"
          ],
          "name": "stderr"
        },
        {
          "output_type": "stream",
          "text": [
            "Finished Downloading\n"
          ],
          "name": "stdout"
        },
        {
          "output_type": "stream",
          "text": [
            "Processing Jerome_Flynn:   3%|▎         | 26/1000 [01:23<22:25,  1.38s/it]"
          ],
          "name": "stderr"
        },
        {
          "output_type": "stream",
          "text": [
            "Finished Downloading\n"
          ],
          "name": "stdout"
        },
        {
          "output_type": "stream",
          "text": [
            "Processing Bonnie_Wright:   3%|▎         | 27/1000 [01:23<17:18,  1.07s/it]"
          ],
          "name": "stderr"
        },
        {
          "output_type": "stream",
          "text": [
            "Finished Downloading\n"
          ],
          "name": "stdout"
        },
        {
          "output_type": "stream",
          "text": [
            "Processing Samantha_Barks:   3%|▎         | 28/1000 [01:24<14:37,  1.11it/s]"
          ],
          "name": "stderr"
        },
        {
          "output_type": "stream",
          "text": [
            "Finished Downloading\n"
          ],
          "name": "stdout"
        },
        {
          "output_type": "stream",
          "text": [
            "Processing Olivia_Holt:   3%|▎         | 29/1000 [01:25<19:22,  1.20s/it]    "
          ],
          "name": "stderr"
        },
        {
          "output_type": "stream",
          "text": [
            "Finished Downloading\n",
            "Finished Downloading\n"
          ],
          "name": "stdout"
        },
        {
          "output_type": "stream",
          "text": [
            "Processing Jon_Bernthal:   3%|▎         | 31/1000 [01:26<14:42,  1.10it/s]"
          ],
          "name": "stderr"
        },
        {
          "output_type": "stream",
          "text": [
            "Finished Downloading\n"
          ],
          "name": "stdout"
        },
        {
          "output_type": "stream",
          "text": [
            "Processing Kris_Jenner:   3%|▎         | 32/1000 [01:27<15:58,  1.01it/s] "
          ],
          "name": "stderr"
        },
        {
          "output_type": "stream",
          "text": [
            "Finished Downloading\n"
          ],
          "name": "stdout"
        },
        {
          "output_type": "stream",
          "text": [
            "Processing Sandra_Taylor:   3%|▎         | 33/1000 [01:28<17:34,  1.09s/it]"
          ],
          "name": "stderr"
        },
        {
          "output_type": "stream",
          "text": [
            "Finished Downloading\n"
          ],
          "name": "stdout"
        },
        {
          "output_type": "stream",
          "text": [
            "Processing MyAnna_Buring:   3%|▎         | 34/1000 [01:29<15:20,  1.05it/s]"
          ],
          "name": "stderr"
        },
        {
          "output_type": "stream",
          "text": [
            "Finished Downloading\n"
          ],
          "name": "stdout"
        },
        {
          "output_type": "stream",
          "text": [
            "Processing Sara_Ramirez:   4%|▎         | 35/1000 [01:29<11:56,  1.35it/s] "
          ],
          "name": "stderr"
        },
        {
          "output_type": "stream",
          "text": [
            "Finished Downloading\n"
          ],
          "name": "stdout"
        },
        {
          "output_type": "stream",
          "text": [
            "Processing Daren_Kagasoff:   4%|▎         | 36/1000 [01:30<11:53,  1.35it/s]"
          ],
          "name": "stderr"
        },
        {
          "output_type": "stream",
          "text": [
            "Finished Downloading\n"
          ],
          "name": "stdout"
        },
        {
          "output_type": "stream",
          "text": [
            "Processing Tatiana_Maslany:   4%|▎         | 37/1000 [01:31<10:51,  1.48it/s]"
          ],
          "name": "stderr"
        },
        {
          "output_type": "stream",
          "text": [
            "Finished Downloading\n"
          ],
          "name": "stdout"
        },
        {
          "output_type": "stream",
          "text": [
            "Processing Raoul_Bova:   4%|▍         | 38/1000 [01:31<11:38,  1.38it/s]     "
          ],
          "name": "stderr"
        },
        {
          "output_type": "stream",
          "text": [
            "Finished Downloading\n"
          ],
          "name": "stdout"
        },
        {
          "output_type": "stream",
          "text": [
            "Processing Shannen_Doherty:   4%|▍         | 39/1000 [01:32<10:24,  1.54it/s]"
          ],
          "name": "stderr"
        },
        {
          "output_type": "stream",
          "text": [
            "Finished Downloading\n"
          ],
          "name": "stdout"
        },
        {
          "output_type": "stream",
          "text": [
            "Processing Seth_Rogen:   4%|▍         | 40/1000 [01:32<09:02,  1.77it/s]     "
          ],
          "name": "stderr"
        },
        {
          "output_type": "stream",
          "text": [
            "Finished Downloading\n"
          ],
          "name": "stdout"
        },
        {
          "output_type": "stream",
          "text": [
            "Processing Dan_Fogler:   4%|▍         | 41/1000 [01:33<11:31,  1.39it/s]     "
          ],
          "name": "stderr"
        },
        {
          "output_type": "stream",
          "text": [
            "Finished Downloading\n",
            "Finished Downloading\n"
          ],
          "name": "stdout"
        },
        {
          "output_type": "stream",
          "text": [
            "Processing Nate_Parker:   4%|▍         | 43/1000 [01:34<09:54,  1.61it/s]"
          ],
          "name": "stderr"
        },
        {
          "output_type": "stream",
          "text": [
            "Finished Downloading\n"
          ],
          "name": "stdout"
        },
        {
          "output_type": "stream",
          "text": [
            "Processing Karla_Souza:   4%|▍         | 44/1000 [01:35<11:12,  1.42it/s]"
          ],
          "name": "stderr"
        },
        {
          "output_type": "stream",
          "text": [
            "Finished Downloading\n"
          ],
          "name": "stdout"
        },
        {
          "output_type": "stream",
          "text": [
            "Processing Emma_Bunton:   4%|▍         | 45/1000 [01:35<09:29,  1.68it/s]"
          ],
          "name": "stderr"
        },
        {
          "output_type": "stream",
          "text": [
            "Finished Downloading\n"
          ],
          "name": "stdout"
        },
        {
          "output_type": "stream",
          "text": [
            "Processing Alessandra_Torresani:   5%|▍         | 46/1000 [01:36<10:16,  1.55it/s]"
          ],
          "name": "stderr"
        },
        {
          "output_type": "stream",
          "text": [
            "Finished Downloading\n"
          ],
          "name": "stdout"
        },
        {
          "output_type": "stream",
          "text": [
            "Processing J:   5%|▍         | 47/1000 [01:37<13:46,  1.15it/s]                   "
          ],
          "name": "stderr"
        },
        {
          "output_type": "stream",
          "text": [
            "Finished Downloading\n"
          ],
          "name": "stdout"
        },
        {
          "output_type": "stream",
          "text": [
            "Processing Connie_Nielsen:   5%|▍         | 48/1000 [01:38<11:14,  1.41it/s]"
          ],
          "name": "stderr"
        },
        {
          "output_type": "stream",
          "text": [
            "Finished Downloading\n"
          ],
          "name": "stdout"
        },
        {
          "output_type": "stream",
          "text": [
            "Processing Humphrey_Bogart:   5%|▍         | 49/1000 [01:38<10:01,  1.58it/s]"
          ],
          "name": "stderr"
        },
        {
          "output_type": "stream",
          "text": [
            "Finished Downloading\n"
          ],
          "name": "stdout"
        },
        {
          "output_type": "stream",
          "text": [
            "Processing Dennis_Haysbert:   5%|▌         | 50/1000 [01:41<18:30,  1.17s/it]"
          ],
          "name": "stderr"
        },
        {
          "output_type": "stream",
          "text": [
            "Finished Downloading\n"
          ],
          "name": "stdout"
        },
        {
          "output_type": "stream",
          "text": [
            "Processing Michele_Lee:   5%|▌         | 51/1000 [01:41<15:36,  1.01it/s]    "
          ],
          "name": "stderr"
        },
        {
          "output_type": "stream",
          "text": [
            "Finished Downloading\n"
          ],
          "name": "stdout"
        },
        {
          "output_type": "stream",
          "text": [
            "Processing Jeffrey_Donovan:   5%|▌         | 52/1000 [01:42<15:15,  1.03it/s]"
          ],
          "name": "stderr"
        },
        {
          "output_type": "stream",
          "text": [
            "Finished Downloading\n"
          ],
          "name": "stdout"
        },
        {
          "output_type": "stream",
          "text": [
            "Processing Justine_Bateman:   5%|▌         | 53/1000 [01:43<14:17,  1.10it/s]"
          ],
          "name": "stderr"
        },
        {
          "output_type": "stream",
          "text": [
            "Finished Downloading\n"
          ],
          "name": "stdout"
        },
        {
          "output_type": "stream",
          "text": [
            "Processing Howard_Keel:   5%|▌         | 54/1000 [01:44<17:03,  1.08s/it]    "
          ],
          "name": "stderr"
        },
        {
          "output_type": "stream",
          "text": [
            "Finished Downloading\n"
          ],
          "name": "stdout"
        },
        {
          "output_type": "stream",
          "text": [
            "Processing Kathryn_McCormick:   6%|▌         | 55/1000 [01:45<15:24,  1.02it/s]"
          ],
          "name": "stderr"
        },
        {
          "output_type": "stream",
          "text": [
            "Finished Downloading\n"
          ],
          "name": "stdout"
        },
        {
          "output_type": "stream",
          "text": [
            "Processing Johnny_Knoxville:   6%|▌         | 56/1000 [01:46<15:27,  1.02it/s] "
          ],
          "name": "stderr"
        },
        {
          "output_type": "stream",
          "text": [
            "Finished Downloading\n"
          ],
          "name": "stdout"
        },
        {
          "output_type": "stream",
          "text": [
            "Processing Oliver_James:   6%|▌         | 57/1000 [01:47<12:57,  1.21it/s]    "
          ],
          "name": "stderr"
        },
        {
          "output_type": "stream",
          "text": [
            "Finished Downloading\n"
          ],
          "name": "stdout"
        },
        {
          "output_type": "stream",
          "text": [
            "Processing Sterling_Knight:   6%|▌         | 58/1000 [01:47<11:55,  1.32it/s]"
          ],
          "name": "stderr"
        },
        {
          "output_type": "stream",
          "text": [
            "Finished Downloading\n"
          ],
          "name": "stdout"
        },
        {
          "output_type": "stream",
          "text": [
            "Processing Kristen_Johnston:   6%|▌         | 59/1000 [01:48<11:23,  1.38it/s]"
          ],
          "name": "stderr"
        },
        {
          "output_type": "stream",
          "text": [
            "Finished Downloading\n"
          ],
          "name": "stdout"
        },
        {
          "output_type": "stream",
          "text": [
            "Processing John_Krasinski:   6%|▌         | 60/1000 [01:48<09:47,  1.60it/s]  "
          ],
          "name": "stderr"
        },
        {
          "output_type": "stream",
          "text": [
            "Finished Downloading\n"
          ],
          "name": "stdout"
        },
        {
          "output_type": "stream",
          "text": [
            "Processing Richard_Schiff:   6%|▌         | 61/1000 [01:49<10:31,  1.49it/s]"
          ],
          "name": "stderr"
        },
        {
          "output_type": "stream",
          "text": [
            "Finished Downloading\n"
          ],
          "name": "stdout"
        },
        {
          "output_type": "stream",
          "text": [
            "Processing Valerie_Bertinelli:   6%|▌         | 62/1000 [01:49<08:47,  1.78it/s]"
          ],
          "name": "stderr"
        },
        {
          "output_type": "stream",
          "text": [
            "Finished Downloading\n"
          ],
          "name": "stdout"
        },
        {
          "output_type": "stream",
          "text": [
            "Processing Carey_Mulligan:   6%|▋         | 63/1000 [01:51<11:48,  1.32it/s]    "
          ],
          "name": "stderr"
        },
        {
          "output_type": "stream",
          "text": [
            "Finished Downloading\n"
          ],
          "name": "stdout"
        },
        {
          "output_type": "stream",
          "text": [
            "Processing Bingbing_Fan:   6%|▋         | 64/1000 [01:51<10:25,  1.50it/s]  "
          ],
          "name": "stderr"
        },
        {
          "output_type": "stream",
          "text": [
            "Finished Downloading\n"
          ],
          "name": "stdout"
        },
        {
          "output_type": "stream",
          "text": [
            "Processing Olivia_Cooke:   6%|▋         | 65/1000 [01:51<09:22,  1.66it/s]"
          ],
          "name": "stderr"
        },
        {
          "output_type": "stream",
          "text": [
            "Finished Downloading\n"
          ],
          "name": "stdout"
        },
        {
          "output_type": "stream",
          "text": [
            "Processing Olesya_Rulin:   7%|▋         | 66/1000 [01:52<07:55,  1.96it/s]"
          ],
          "name": "stderr"
        },
        {
          "output_type": "stream",
          "text": [
            "Finished Downloading\n"
          ],
          "name": "stdout"
        },
        {
          "output_type": "stream",
          "text": [
            "Processing Charlyne_Yi:   7%|▋         | 67/1000 [01:52<08:05,  1.92it/s] "
          ],
          "name": "stderr"
        },
        {
          "output_type": "stream",
          "text": [
            "Finished Downloading\n"
          ],
          "name": "stdout"
        },
        {
          "output_type": "stream",
          "text": [
            "Processing Jasmine_Guy:   7%|▋         | 68/1000 [01:54<13:42,  1.13it/s]"
          ],
          "name": "stderr"
        },
        {
          "output_type": "stream",
          "text": [
            "Finished Downloading\n"
          ],
          "name": "stdout"
        },
        {
          "output_type": "stream",
          "text": [
            "Processing Liane_Balaban:   7%|▋         | 69/1000 [01:55<14:04,  1.10it/s]"
          ],
          "name": "stderr"
        },
        {
          "output_type": "stream",
          "text": [
            "Finished Downloading\n"
          ],
          "name": "stdout"
        },
        {
          "output_type": "stream",
          "text": [
            "Processing Kayden_Kross:   7%|▋         | 70/1000 [01:55<11:18,  1.37it/s] "
          ],
          "name": "stderr"
        },
        {
          "output_type": "stream",
          "text": [
            "Finished Downloading\n"
          ],
          "name": "stdout"
        },
        {
          "output_type": "stream",
          "text": [
            "Processing Bethany_Mota:   7%|▋         | 71/1000 [01:58<21:02,  1.36s/it]"
          ],
          "name": "stderr"
        },
        {
          "output_type": "stream",
          "text": [
            "Finished Downloading\n"
          ],
          "name": "stdout"
        },
        {
          "output_type": "stream",
          "text": [
            "Processing Dylan_Neal:   7%|▋         | 72/1000 [02:00<22:09,  1.43s/it]  "
          ],
          "name": "stderr"
        },
        {
          "output_type": "stream",
          "text": [
            "Finished Downloading\n"
          ],
          "name": "stdout"
        },
        {
          "output_type": "stream",
          "text": [
            "Processing Michael_Pitt:   7%|▋         | 73/1000 [02:01<19:15,  1.25s/it]"
          ],
          "name": "stderr"
        },
        {
          "output_type": "stream",
          "text": [
            "Finished Downloading\n"
          ],
          "name": "stdout"
        },
        {
          "output_type": "stream",
          "text": [
            "Processing Perrey_Reeves:   7%|▋         | 74/1000 [02:01<17:03,  1.11s/it]"
          ],
          "name": "stderr"
        },
        {
          "output_type": "stream",
          "text": [
            "Finished Downloading\n"
          ],
          "name": "stdout"
        },
        {
          "output_type": "stream",
          "text": [
            "Processing Henry_Fonda:   8%|▊         | 75/1000 [02:02<14:01,  1.10it/s]  "
          ],
          "name": "stderr"
        },
        {
          "output_type": "stream",
          "text": [
            "Finished Downloading\n"
          ],
          "name": "stdout"
        },
        {
          "output_type": "stream",
          "text": [
            "Processing Katherine_Bailess:   8%|▊         | 76/1000 [02:05<22:28,  1.46s/it]"
          ],
          "name": "stderr"
        },
        {
          "output_type": "stream",
          "text": [
            "Finished Downloading\n"
          ],
          "name": "stdout"
        },
        {
          "output_type": "stream",
          "text": [
            "Processing Natalie_Wood:   8%|▊         | 77/1000 [02:05<17:44,  1.15s/it]     "
          ],
          "name": "stderr"
        },
        {
          "output_type": "stream",
          "text": [
            "Finished Downloading\n"
          ],
          "name": "stdout"
        },
        {
          "output_type": "stream",
          "text": [
            "Processing Diane_Kruger:   8%|▊         | 78/1000 [02:06<16:04,  1.05s/it]"
          ],
          "name": "stderr"
        },
        {
          "output_type": "stream",
          "text": [
            "Finished Downloading\n"
          ],
          "name": "stdout"
        },
        {
          "output_type": "stream",
          "text": [
            "Processing Tamara_Feldman:   8%|▊         | 79/1000 [02:07<16:01,  1.04s/it]"
          ],
          "name": "stderr"
        },
        {
          "output_type": "stream",
          "text": [
            "Finished Downloading\n"
          ],
          "name": "stdout"
        },
        {
          "output_type": "stream",
          "text": [
            "Processing Alex_Trebek:   8%|▊         | 80/1000 [02:10<25:18,  1.65s/it]   "
          ],
          "name": "stderr"
        },
        {
          "output_type": "stream",
          "text": [
            "Finished Downloading\n"
          ],
          "name": "stdout"
        },
        {
          "output_type": "stream",
          "text": [
            "Processing Dwight_Yoakam:   8%|▊         | 82/1000 [02:11<17:35,  1.15s/it]    "
          ],
          "name": "stderr"
        },
        {
          "output_type": "stream",
          "text": [
            "Finished Downloading\n",
            "Finished Downloading\n"
          ],
          "name": "stdout"
        },
        {
          "output_type": "stream",
          "text": [
            "Processing Adam_Rodriguez:   8%|▊         | 83/1000 [02:12<15:57,  1.04s/it]"
          ],
          "name": "stderr"
        },
        {
          "output_type": "stream",
          "text": [
            "Finished Downloading\n"
          ],
          "name": "stdout"
        },
        {
          "output_type": "stream",
          "text": [
            "Processing Harry_Styles:   8%|▊         | 84/1000 [02:13<16:25,  1.08s/it]  "
          ],
          "name": "stderr"
        },
        {
          "output_type": "stream",
          "text": [
            "Finished Downloading\n"
          ],
          "name": "stdout"
        },
        {
          "output_type": "stream",
          "text": [
            "Processing Daniella_Monet:   8%|▊         | 85/1000 [02:14<12:52,  1.18it/s]"
          ],
          "name": "stderr"
        },
        {
          "output_type": "stream",
          "text": [
            "Finished Downloading\n"
          ],
          "name": "stdout"
        },
        {
          "output_type": "stream",
          "text": [
            "Processing Tori_Spelling:   9%|▊         | 86/1000 [02:14<11:43,  1.30it/s] "
          ],
          "name": "stderr"
        },
        {
          "output_type": "stream",
          "text": [
            "Finished Downloading\n"
          ],
          "name": "stdout"
        },
        {
          "output_type": "stream",
          "text": [
            "Processing Vincent_Pastore:   9%|▊         | 87/1000 [02:16<18:09,  1.19s/it]"
          ],
          "name": "stderr"
        },
        {
          "output_type": "stream",
          "text": [
            "Finished Downloading\n"
          ],
          "name": "stdout"
        },
        {
          "output_type": "stream",
          "text": [
            "Processing Kim_Zolciak-Biermann:   9%|▉         | 88/1000 [02:17<17:20,  1.14s/it]"
          ],
          "name": "stderr"
        },
        {
          "output_type": "stream",
          "text": [
            "Finished Downloading\n"
          ],
          "name": "stdout"
        },
        {
          "output_type": "stream",
          "text": [
            "Processing Mischa_Barton:   9%|▉         | 89/1000 [02:20<22:59,  1.51s/it]       "
          ],
          "name": "stderr"
        },
        {
          "output_type": "stream",
          "text": [
            "Finished Downloading\n"
          ],
          "name": "stdout"
        },
        {
          "output_type": "stream",
          "text": [
            "Processing Patrick_Wilson:   9%|▉         | 90/1000 [02:20<18:25,  1.21s/it]"
          ],
          "name": "stderr"
        },
        {
          "output_type": "stream",
          "text": [
            "Finished Downloading\n"
          ],
          "name": "stdout"
        },
        {
          "output_type": "stream",
          "text": [
            "Processing Kate_Flannery:   9%|▉         | 91/1000 [02:21<17:08,  1.13s/it] "
          ],
          "name": "stderr"
        },
        {
          "output_type": "stream",
          "text": [
            "Finished Downloading\n"
          ],
          "name": "stdout"
        },
        {
          "output_type": "stream",
          "text": [
            "Processing Fiona_Gubelmann:   9%|▉         | 92/1000 [02:22<13:15,  1.14it/s]"
          ],
          "name": "stderr"
        },
        {
          "output_type": "stream",
          "text": [
            "Finished Downloading\n"
          ],
          "name": "stdout"
        },
        {
          "output_type": "stream",
          "text": [
            "Processing David_Wenham:   9%|▉         | 93/1000 [02:22<12:04,  1.25it/s]   "
          ],
          "name": "stderr"
        },
        {
          "output_type": "stream",
          "text": [
            "Finished Downloading\n"
          ],
          "name": "stdout"
        },
        {
          "output_type": "stream",
          "text": [
            "Processing Mehcad_Brooks:   9%|▉         | 94/1000 [02:23<11:29,  1.31it/s]"
          ],
          "name": "stderr"
        },
        {
          "output_type": "stream",
          "text": [
            "Finished Downloading\n"
          ],
          "name": "stdout"
        },
        {
          "output_type": "stream",
          "text": [
            "Processing Jonathan_Crombie:  10%|▉         | 95/1000 [02:24<14:51,  1.02it/s]"
          ],
          "name": "stderr"
        },
        {
          "output_type": "stream",
          "text": [
            "Finished Downloading\n"
          ],
          "name": "stdout"
        },
        {
          "output_type": "stream",
          "text": [
            "Processing Usher_Raymond:  10%|▉         | 96/1000 [02:25<12:05,  1.25it/s]   "
          ],
          "name": "stderr"
        },
        {
          "output_type": "stream",
          "text": [
            "Finished Downloading\n"
          ],
          "name": "stdout"
        },
        {
          "output_type": "stream",
          "text": [
            "Processing Masiela_Lusha:  10%|▉         | 97/1000 [02:25<10:55,  1.38it/s]"
          ],
          "name": "stderr"
        },
        {
          "output_type": "stream",
          "text": [
            "Finished Downloading\n"
          ],
          "name": "stdout"
        },
        {
          "output_type": "stream",
          "text": [
            "Processing Olivia_Hallinan:  10%|▉         | 98/1000 [02:26<12:31,  1.20it/s]"
          ],
          "name": "stderr"
        },
        {
          "output_type": "stream",
          "text": [
            "Finished Downloading\n"
          ],
          "name": "stdout"
        },
        {
          "output_type": "stream",
          "text": [
            "Processing Kasia_Smutniak:  10%|▉         | 99/1000 [02:28<14:59,  1.00it/s] "
          ],
          "name": "stderr"
        },
        {
          "output_type": "stream",
          "text": [
            "Finished Downloading\n"
          ],
          "name": "stdout"
        },
        {
          "output_type": "stream",
          "text": [
            "Processing Clive_Owen:  10%|█         | 100/1000 [02:29<15:43,  1.05s/it]  "
          ],
          "name": "stderr"
        },
        {
          "output_type": "stream",
          "text": [
            "Finished Downloading\n",
            "Finished Downloading\n"
          ],
          "name": "stdout"
        },
        {
          "output_type": "stream",
          "text": [
            "Processing Abigail_Spencer:  10%|█         | 102/1000 [02:30<12:54,  1.16it/s]"
          ],
          "name": "stderr"
        },
        {
          "output_type": "stream",
          "text": [
            "Finished Downloading\n"
          ],
          "name": "stdout"
        },
        {
          "output_type": "stream",
          "text": [
            "Processing Meredith_Baxter:  10%|█         | 103/1000 [02:30<11:03,  1.35it/s]"
          ],
          "name": "stderr"
        },
        {
          "output_type": "stream",
          "text": [
            "Finished Downloading\n",
            "Finished Downloading\n"
          ],
          "name": "stdout"
        },
        {
          "output_type": "stream",
          "text": [
            "Processing Ben_McKenzie:  10%|█         | 105/1000 [02:32<11:49,  1.26it/s]   "
          ],
          "name": "stderr"
        },
        {
          "output_type": "stream",
          "text": [
            "Finished Downloading\n"
          ],
          "name": "stdout"
        },
        {
          "output_type": "stream",
          "text": [
            "Processing Nathan_Fillion:  11%|█         | 106/1000 [02:33<11:43,  1.27it/s]"
          ],
          "name": "stderr"
        },
        {
          "output_type": "stream",
          "text": [
            "Finished Downloading\n"
          ],
          "name": "stdout"
        },
        {
          "output_type": "stream",
          "text": [
            "Processing Donna_Mills:  11%|█         | 107/1000 [03:05<2:30:03, 10.08s/it]   "
          ],
          "name": "stderr"
        },
        {
          "output_type": "stream",
          "text": [
            "Finished Downloading\n"
          ],
          "name": "stdout"
        },
        {
          "output_type": "stream",
          "text": [
            "Processing Lindsey_Morgan:  11%|█         | 108/1000 [03:05<1:46:49,  7.19s/it]"
          ],
          "name": "stderr"
        },
        {
          "output_type": "stream",
          "text": [
            "Finished Downloading\n"
          ],
          "name": "stdout"
        },
        {
          "output_type": "stream",
          "text": [
            "Processing Selena_Gomez:  11%|█         | 109/1000 [03:06<1:18:00,  5.25s/it]  "
          ],
          "name": "stderr"
        },
        {
          "output_type": "stream",
          "text": [
            "Finished Downloading\n"
          ],
          "name": "stdout"
        },
        {
          "output_type": "stream",
          "text": [
            "Processing Silas_Weir_Mitchell:  11%|█         | 110/1000 [03:06<57:18,  3.86s/it]"
          ],
          "name": "stderr"
        },
        {
          "output_type": "stream",
          "text": [
            "Finished Downloading\n"
          ],
          "name": "stdout"
        },
        {
          "output_type": "stream",
          "text": [
            "Processing Sharlto_Copley:  11%|█         | 111/1000 [03:07<42:31,  2.87s/it]     "
          ],
          "name": "stderr"
        },
        {
          "output_type": "stream",
          "text": [
            "Finished Downloading\n"
          ],
          "name": "stdout"
        },
        {
          "output_type": "stream",
          "text": [
            "Processing Brooke_Hogan:  11%|█         | 112/1000 [03:08<32:49,  2.22s/it]  "
          ],
          "name": "stderr"
        },
        {
          "output_type": "stream",
          "text": [
            "Finished Downloading\n"
          ],
          "name": "stdout"
        },
        {
          "output_type": "stream",
          "text": [
            "Processing Claudia_Wells:  11%|█▏        | 113/1000 [03:39<2:43:52, 11.09s/it]"
          ],
          "name": "stderr"
        },
        {
          "output_type": "stream",
          "text": [
            "Finished Downloading\n"
          ],
          "name": "stdout"
        },
        {
          "output_type": "stream",
          "text": [
            "Processing Tamzin_Outhwaite:  11%|█▏        | 114/1000 [03:41<2:01:45,  8.25s/it]"
          ],
          "name": "stderr"
        },
        {
          "output_type": "stream",
          "text": [
            "Finished Downloading\n"
          ],
          "name": "stdout"
        },
        {
          "output_type": "stream",
          "text": [
            "Processing Adrianne_Palicki:  12%|█▏        | 115/1000 [03:41<1:26:35,  5.87s/it]"
          ],
          "name": "stderr"
        },
        {
          "output_type": "stream",
          "text": [
            "Finished Downloading\n"
          ],
          "name": "stdout"
        },
        {
          "output_type": "stream",
          "text": [
            "Processing Patrick_Dempsey:  12%|█▏        | 116/1000 [03:42<1:02:39,  4.25s/it] "
          ],
          "name": "stderr"
        },
        {
          "output_type": "stream",
          "text": [
            "Finished Downloading\n"
          ],
          "name": "stdout"
        },
        {
          "output_type": "stream",
          "text": [
            "Processing Milena_Govich:  12%|█▏        | 117/1000 [03:43<48:15,  3.28s/it]  "
          ],
          "name": "stderr"
        },
        {
          "output_type": "stream",
          "text": [
            "Finished Downloading\n"
          ],
          "name": "stdout"
        },
        {
          "output_type": "stream",
          "text": [
            "Processing Rebecca_Da_Costa:  12%|█▏        | 118/1000 [03:43<36:22,  2.47s/it]"
          ],
          "name": "stderr"
        },
        {
          "output_type": "stream",
          "text": [
            "Finished Downloading\n"
          ],
          "name": "stdout"
        },
        {
          "output_type": "stream",
          "text": [
            "Processing Rainn_Wilson:  12%|█▏        | 119/1000 [03:44<29:44,  2.03s/it]    "
          ],
          "name": "stderr"
        },
        {
          "output_type": "stream",
          "text": [
            "Finished Downloading\n"
          ],
          "name": "stdout"
        },
        {
          "output_type": "stream",
          "text": [
            "Processing Bruce_Boxleitner:  12%|█▏        | 120/1000 [03:46<26:13,  1.79s/it]"
          ],
          "name": "stderr"
        },
        {
          "output_type": "stream",
          "text": [
            "Finished Downloading\n",
            "Finished Downloading\n"
          ],
          "name": "stdout"
        },
        {
          "output_type": "stream",
          "text": [
            "Processing Alba_Rohrwacher:  12%|█▏        | 122/1000 [03:47<20:37,  1.41s/it] "
          ],
          "name": "stderr"
        },
        {
          "output_type": "stream",
          "text": [
            "Finished Downloading\n"
          ],
          "name": "stdout"
        },
        {
          "output_type": "stream",
          "text": [
            "Processing Eric_McCormack:  12%|█▏        | 123/1000 [03:48<20:27,  1.40s/it] "
          ],
          "name": "stderr"
        },
        {
          "output_type": "stream",
          "text": [
            "Finished Downloading\n"
          ],
          "name": "stdout"
        },
        {
          "output_type": "stream",
          "text": [
            "Processing Amandla_Stenberg:  12%|█▏        | 124/1000 [03:49<16:19,  1.12s/it]"
          ],
          "name": "stderr"
        },
        {
          "output_type": "stream",
          "text": [
            "Finished Downloading\n"
          ],
          "name": "stdout"
        },
        {
          "output_type": "stream",
          "text": [
            "Processing Morena_Baccarin:  12%|█▎        | 125/1000 [03:50<16:04,  1.10s/it] "
          ],
          "name": "stderr"
        },
        {
          "output_type": "stream",
          "text": [
            "Finished Downloading\n"
          ],
          "name": "stdout"
        },
        {
          "output_type": "stream",
          "text": [
            "Processing Hilary_Swank:  13%|█▎        | 126/1000 [03:50<13:01,  1.12it/s]   "
          ],
          "name": "stderr"
        },
        {
          "output_type": "stream",
          "text": [
            "Finished Downloading\n"
          ],
          "name": "stdout"
        },
        {
          "output_type": "stream",
          "text": [
            "Processing Lin_Shaye:  13%|█▎        | 127/1000 [03:51<15:23,  1.06s/it]   "
          ],
          "name": "stderr"
        },
        {
          "output_type": "stream",
          "text": [
            "Finished Downloading\n"
          ],
          "name": "stdout"
        },
        {
          "output_type": "stream",
          "text": [
            "Processing Martha_Plimpton:  13%|█▎        | 128/1000 [03:52<12:39,  1.15it/s]"
          ],
          "name": "stderr"
        },
        {
          "output_type": "stream",
          "text": [
            "Finished Downloading\n"
          ],
          "name": "stdout"
        },
        {
          "output_type": "stream",
          "text": [
            "Processing Lindsay_Price:  13%|█▎        | 129/1000 [03:53<13:21,  1.09it/s]  "
          ],
          "name": "stderr"
        },
        {
          "output_type": "stream",
          "text": [
            "Finished Downloading\n"
          ],
          "name": "stdout"
        },
        {
          "output_type": "stream",
          "text": [
            "Processing Meghan_Trainor:  13%|█▎        | 130/1000 [03:54<12:09,  1.19it/s]"
          ],
          "name": "stderr"
        },
        {
          "output_type": "stream",
          "text": [
            "Finished Downloading\n"
          ],
          "name": "stdout"
        },
        {
          "output_type": "stream",
          "text": [
            "Processing Ryan_Paevey:  13%|█▎        | 131/1000 [04:00<36:36,  2.53s/it]   "
          ],
          "name": "stderr"
        },
        {
          "output_type": "stream",
          "text": [
            "Finished Downloading\n"
          ],
          "name": "stdout"
        },
        {
          "output_type": "stream",
          "text": [
            "Processing Amanda_Seyfried:  13%|█▎        | 132/1000 [04:03<36:14,  2.51s/it]"
          ],
          "name": "stderr"
        },
        {
          "output_type": "stream",
          "text": [
            "Finished Downloading\n"
          ],
          "name": "stdout"
        },
        {
          "output_type": "stream",
          "text": [
            "Processing Sibel_Kekilli:  13%|█▎        | 133/1000 [04:03<28:59,  2.01s/it]  "
          ],
          "name": "stderr"
        },
        {
          "output_type": "stream",
          "text": [
            "Finished Downloading\n"
          ],
          "name": "stdout"
        },
        {
          "output_type": "stream",
          "text": [
            "Processing Reid_Scott:  13%|█▎        | 134/1000 [04:04<24:38,  1.71s/it]   "
          ],
          "name": "stderr"
        },
        {
          "output_type": "stream",
          "text": [
            "Finished Downloading\n"
          ],
          "name": "stdout"
        },
        {
          "output_type": "stream",
          "text": [
            "Processing Paul_Giamatti:  14%|█▎        | 135/1000 [04:05<18:32,  1.29s/it]"
          ],
          "name": "stderr"
        },
        {
          "output_type": "stream",
          "text": [
            "Finished Downloading\n"
          ],
          "name": "stdout"
        },
        {
          "output_type": "stream",
          "text": [
            "Processing Cameron_Bright:  14%|█▎        | 136/1000 [04:06<16:34,  1.15s/it]"
          ],
          "name": "stderr"
        },
        {
          "output_type": "stream",
          "text": [
            "Finished Downloading\n"
          ],
          "name": "stdout"
        },
        {
          "output_type": "stream",
          "text": [
            "Processing Penny_Marshall:  14%|█▎        | 137/1000 [04:06<13:51,  1.04it/s]"
          ],
          "name": "stderr"
        },
        {
          "output_type": "stream",
          "text": [
            "Finished Downloading\n"
          ],
          "name": "stdout"
        },
        {
          "output_type": "stream",
          "text": [
            "Processing Randy_Wayne:  14%|█▍        | 138/1000 [04:07<14:21,  1.00it/s]   "
          ],
          "name": "stderr"
        },
        {
          "output_type": "stream",
          "text": [
            "Finished Downloading\n"
          ],
          "name": "stdout"
        },
        {
          "output_type": "stream",
          "text": [
            "Processing Alex_Wolff:  14%|█▍        | 139/1000 [04:07<11:23,  1.26it/s] "
          ],
          "name": "stderr"
        },
        {
          "output_type": "stream",
          "text": [
            "Finished Downloading\n"
          ],
          "name": "stdout"
        },
        {
          "output_type": "stream",
          "text": [
            "Processing John_Nettles:  14%|█▍        | 140/1000 [04:08<11:20,  1.26it/s]"
          ],
          "name": "stderr"
        },
        {
          "output_type": "stream",
          "text": [
            "Finished Downloading\n"
          ],
          "name": "stdout"
        },
        {
          "output_type": "stream",
          "text": [
            "Processing John_Gallagher_Jr:  14%|█▍        | 141/1000 [04:09<13:01,  1.10it/s]"
          ],
          "name": "stderr"
        },
        {
          "output_type": "stream",
          "text": [
            "Finished Downloading\n"
          ],
          "name": "stdout"
        },
        {
          "output_type": "stream",
          "text": [
            "Processing Jami_Gertz:  14%|█▍        | 142/1000 [04:10<10:22,  1.38it/s]   "
          ],
          "name": "stderr"
        },
        {
          "output_type": "stream",
          "text": [
            "Finished Downloading\n",
            "Finished Downloading\n"
          ],
          "name": "stdout"
        },
        {
          "output_type": "stream",
          "text": [
            "Processing Willem_Dafoe:  14%|█▍        | 144/1000 [04:11<08:58,  1.59it/s]"
          ],
          "name": "stderr"
        },
        {
          "output_type": "stream",
          "text": [
            "Finished Downloading\n"
          ],
          "name": "stdout"
        },
        {
          "output_type": "stream",
          "text": [
            "Processing Mario_Casas:  14%|█▍        | 145/1000 [04:11<07:28,  1.91it/s] "
          ],
          "name": "stderr"
        },
        {
          "output_type": "stream",
          "text": [
            "Finished Downloading\n"
          ],
          "name": "stdout"
        },
        {
          "output_type": "stream",
          "text": [
            "Processing Alan_Cumming:  15%|█▍        | 146/1000 [04:11<07:32,  1.89it/s]"
          ],
          "name": "stderr"
        },
        {
          "output_type": "stream",
          "text": [
            "Finished Downloading\n"
          ],
          "name": "stdout"
        },
        {
          "output_type": "stream",
          "text": [
            "Processing Laverne_Cox:  15%|█▍        | 147/1000 [04:12<06:26,  2.21it/s] "
          ],
          "name": "stderr"
        },
        {
          "output_type": "stream",
          "text": [
            "Finished Downloading\n"
          ],
          "name": "stdout"
        },
        {
          "output_type": "stream",
          "text": [
            "Processing Michelle_Hurd:  15%|█▍        | 148/1000 [04:33<1:34:06,  6.63s/it]"
          ],
          "name": "stderr"
        },
        {
          "output_type": "stream",
          "text": [
            "Finished Downloading\n"
          ],
          "name": "stdout"
        },
        {
          "output_type": "stream",
          "text": [
            "Processing Matt_Smith:  15%|█▍        | 149/1000 [04:34<1:09:41,  4.91s/it]    "
          ],
          "name": "stderr"
        },
        {
          "output_type": "stream",
          "text": [
            "Finished Downloading\n",
            "Finished Downloading\n",
            "Finished Downloading\n"
          ],
          "name": "stdout"
        },
        {
          "output_type": "stream",
          "text": [
            "Processing Sasha_Barrese:  15%|█▌        | 153/1000 [04:35<35:56,  2.55s/it]"
          ],
          "name": "stderr"
        },
        {
          "output_type": "stream",
          "text": [
            "Finished Downloading\n",
            "Finished Downloading\n"
          ],
          "name": "stdout"
        },
        {
          "output_type": "stream",
          "text": [
            "Processing Keegan_Connor_Tracy:  15%|█▌        | 154/1000 [04:37<32:56,  2.34s/it]"
          ],
          "name": "stderr"
        },
        {
          "output_type": "stream",
          "text": [
            "Finished Downloading\n",
            "Finished Downloading\n"
          ],
          "name": "stdout"
        },
        {
          "output_type": "stream",
          "text": [
            "Processing Danny_Masterson:  16%|█▌        | 156/1000 [04:39<26:35,  1.89s/it]    "
          ],
          "name": "stderr"
        },
        {
          "output_type": "stream",
          "text": [
            "Finished Downloading\n"
          ],
          "name": "stdout"
        },
        {
          "output_type": "stream",
          "text": [
            "Processing Sofia_Coppola:  16%|█▌        | 157/1000 [04:39<20:07,  1.43s/it]  "
          ],
          "name": "stderr"
        },
        {
          "output_type": "stream",
          "text": [
            "Finished Downloading\n"
          ],
          "name": "stdout"
        },
        {
          "output_type": "stream",
          "text": [
            "Processing Sybil_Danning:  16%|█▌        | 158/1000 [04:39<16:33,  1.18s/it]"
          ],
          "name": "stderr"
        },
        {
          "output_type": "stream",
          "text": [
            "Finished Downloading\n"
          ],
          "name": "stdout"
        },
        {
          "output_type": "stream",
          "text": [
            "Processing Audrey_Hepburn:  16%|█▌        | 159/1000 [04:41<15:58,  1.14s/it]"
          ],
          "name": "stderr"
        },
        {
          "output_type": "stream",
          "text": [
            "Finished Downloading\n"
          ],
          "name": "stdout"
        },
        {
          "output_type": "stream",
          "text": [
            "Processing Stacy_Keibler:  16%|█▌        | 160/1000 [04:41<12:49,  1.09it/s] "
          ],
          "name": "stderr"
        },
        {
          "output_type": "stream",
          "text": [
            "Finished Downloading\n"
          ],
          "name": "stdout"
        },
        {
          "output_type": "stream",
          "text": [
            "Processing Wesley_Snipes:  16%|█▌        | 161/1000 [04:41<10:50,  1.29it/s]    "
          ],
          "name": "stderr"
        },
        {
          "output_type": "stream",
          "text": [
            "Finished Downloading\n",
            "Finished Downloading\n"
          ],
          "name": "stdout"
        },
        {
          "output_type": "stream",
          "text": [
            "Processing Preity_Zinta:  16%|█▋        | 163/1000 [04:42<08:32,  1.63it/s]"
          ],
          "name": "stderr"
        },
        {
          "output_type": "stream",
          "text": [
            "Finished Downloading\n",
            "Finished Downloading\n"
          ],
          "name": "stdout"
        },
        {
          "output_type": "stream",
          "text": [
            "Processing Alfred_Enoch:  16%|█▋        | 165/1000 [04:42<06:38,  2.10it/s]"
          ],
          "name": "stderr"
        },
        {
          "output_type": "stream",
          "text": [
            "Finished Downloading\n"
          ],
          "name": "stdout"
        },
        {
          "output_type": "stream",
          "text": [
            "Processing Nancy_Travis:  17%|█▋        | 166/1000 [04:44<13:53,  1.00it/s]"
          ],
          "name": "stderr"
        },
        {
          "output_type": "stream",
          "text": [
            "Finished Downloading\n"
          ],
          "name": "stdout"
        },
        {
          "output_type": "stream",
          "text": [
            "Processing David_Lyons:  17%|█▋        | 167/1000 [04:45<13:07,  1.06it/s] "
          ],
          "name": "stderr"
        },
        {
          "output_type": "stream",
          "text": [
            "Finished Downloading\n"
          ],
          "name": "stdout"
        },
        {
          "output_type": "stream",
          "text": [
            "Processing Peter_Capaldi:  17%|█▋        | 168/1000 [04:46<11:10,  1.24it/s]"
          ],
          "name": "stderr"
        },
        {
          "output_type": "stream",
          "text": [
            "Finished Downloading\n",
            "Finished Downloading\n"
          ],
          "name": "stdout"
        },
        {
          "output_type": "stream",
          "text": [
            "Processing Helen_Slater:  17%|█▋        | 170/1000 [04:47<10:48,  1.28it/s] "
          ],
          "name": "stderr"
        },
        {
          "output_type": "stream",
          "text": [
            "Finished Downloading\n"
          ],
          "name": "stdout"
        },
        {
          "output_type": "stream",
          "text": [
            "Processing Lady_Gaga:  17%|█▋        | 171/1000 [04:48<10:14,  1.35it/s]   "
          ],
          "name": "stderr"
        },
        {
          "output_type": "stream",
          "text": [
            "Finished Downloading\n"
          ],
          "name": "stdout"
        },
        {
          "output_type": "stream",
          "text": [
            "Processing Dominic_Cooper:  17%|█▋        | 172/1000 [04:48<10:01,  1.38it/s]"
          ],
          "name": "stderr"
        },
        {
          "output_type": "stream",
          "text": [
            "Finished Downloading\n"
          ],
          "name": "stdout"
        },
        {
          "output_type": "stream",
          "text": [
            "Processing Kathryn_Hahn:  17%|█▋        | 173/1000 [04:49<08:12,  1.68it/s]  "
          ],
          "name": "stderr"
        },
        {
          "output_type": "stream",
          "text": [
            "Finished Downloading\n"
          ],
          "name": "stdout"
        },
        {
          "output_type": "stream",
          "text": [
            "Processing Mark_Strong:  17%|█▋        | 174/1000 [04:49<07:39,  1.80it/s] "
          ],
          "name": "stderr"
        },
        {
          "output_type": "stream",
          "text": [
            "Finished Downloading\n"
          ],
          "name": "stdout"
        },
        {
          "output_type": "stream",
          "text": [
            "Processing Jennifer_Stone:  18%|█▊        | 175/1000 [04:50<08:47,  1.57it/s]"
          ],
          "name": "stderr"
        },
        {
          "output_type": "stream",
          "text": [
            "Finished Downloading\n"
          ],
          "name": "stdout"
        },
        {
          "output_type": "stream",
          "text": [
            "Processing Maria_de_Medeiros:  18%|█▊        | 176/1000 [04:51<11:29,  1.20it/s]"
          ],
          "name": "stderr"
        },
        {
          "output_type": "stream",
          "text": [
            "Finished Downloading\n"
          ],
          "name": "stdout"
        },
        {
          "output_type": "stream",
          "text": [
            "Processing Dawn_Wells:  18%|█▊        | 177/1000 [04:52<09:56,  1.38it/s]       "
          ],
          "name": "stderr"
        },
        {
          "output_type": "stream",
          "text": [
            "Finished Downloading\n"
          ],
          "name": "stdout"
        },
        {
          "output_type": "stream",
          "text": [
            "Processing Lauren_Bowles:  18%|█▊        | 178/1000 [04:53<12:09,  1.13it/s]"
          ],
          "name": "stderr"
        },
        {
          "output_type": "stream",
          "text": [
            "Finished Downloading\n"
          ],
          "name": "stdout"
        },
        {
          "output_type": "stream",
          "text": [
            "Processing Janine_Turner:  18%|█▊        | 179/1000 [04:54<12:35,  1.09it/s]"
          ],
          "name": "stderr"
        },
        {
          "output_type": "stream",
          "text": [
            "Finished Downloading\n"
          ],
          "name": "stdout"
        },
        {
          "output_type": "stream",
          "text": [
            "Processing Simon_Callow:  18%|█▊        | 180/1000 [04:55<12:44,  1.07it/s] "
          ],
          "name": "stderr"
        },
        {
          "output_type": "stream",
          "text": [
            "Finished Downloading\n"
          ],
          "name": "stdout"
        },
        {
          "output_type": "stream",
          "text": [
            "Processing Melissa_Rauch:  18%|█▊        | 181/1000 [04:56<11:04,  1.23it/s]"
          ],
          "name": "stderr"
        },
        {
          "output_type": "stream",
          "text": [
            "Finished Downloading\n"
          ],
          "name": "stdout"
        },
        {
          "output_type": "stream",
          "text": [
            "Processing Sam_Raimi:  18%|█▊        | 182/1000 [05:27<2:18:16, 10.14s/it]    "
          ],
          "name": "stderr"
        },
        {
          "output_type": "stream",
          "text": [
            "Finished Downloading\n"
          ],
          "name": "stdout"
        },
        {
          "output_type": "stream",
          "text": [
            "Processing Mark_Valley:  18%|█▊        | 183/1000 [05:28<1:38:00,  7.20s/it]"
          ],
          "name": "stderr"
        },
        {
          "output_type": "stream",
          "text": [
            "Finished Downloading\n"
          ],
          "name": "stdout"
        },
        {
          "output_type": "stream",
          "text": [
            "Processing Chris_Carmack:  18%|█▊        | 184/1000 [05:29<1:11:51,  5.28s/it]"
          ],
          "name": "stderr"
        },
        {
          "output_type": "stream",
          "text": [
            "Finished Downloading\n"
          ],
          "name": "stdout"
        },
        {
          "output_type": "stream",
          "text": [
            "Processing Marla_Gibbs:  18%|█▊        | 185/1000 [05:29<51:53,  3.82s/it]  "
          ],
          "name": "stderr"
        },
        {
          "output_type": "stream",
          "text": [
            "Finished Downloading\n"
          ],
          "name": "stdout"
        },
        {
          "output_type": "stream",
          "text": [
            "Processing Ralph_Macchio:  19%|█▊        | 186/1000 [05:30<38:44,  2.86s/it]"
          ],
          "name": "stderr"
        },
        {
          "output_type": "stream",
          "text": [
            "Finished Downloading\n"
          ],
          "name": "stdout"
        },
        {
          "output_type": "stream",
          "text": [
            "Processing Matt_Lanter:  19%|█▊        | 187/1000 [05:31<30:46,  2.27s/it]  "
          ],
          "name": "stderr"
        },
        {
          "output_type": "stream",
          "text": [
            "Finished Downloading\n"
          ],
          "name": "stdout"
        },
        {
          "output_type": "stream",
          "text": [
            "Processing Ariane_Moffatt:  19%|█▉        | 188/1000 [05:32<28:39,  2.12s/it]"
          ],
          "name": "stderr"
        },
        {
          "output_type": "stream",
          "text": [
            "Finished Downloading\n"
          ],
          "name": "stdout"
        },
        {
          "output_type": "stream",
          "text": [
            "Processing Ronda_Rousey:  19%|█▉        | 189/1000 [05:33<23:48,  1.76s/it]  "
          ],
          "name": "stderr"
        },
        {
          "output_type": "stream",
          "text": [
            "Finished Downloading\n"
          ],
          "name": "stdout"
        },
        {
          "output_type": "stream",
          "text": [
            "Processing Chi_McBride:  19%|█▉        | 190/1000 [05:34<18:05,  1.34s/it] "
          ],
          "name": "stderr"
        },
        {
          "output_type": "stream",
          "text": [
            "Finished Downloading\n"
          ],
          "name": "stdout"
        },
        {
          "output_type": "stream",
          "text": [
            "Processing Gary_Valentine:  19%|█▉        | 191/1000 [05:35<16:42,  1.24s/it]  "
          ],
          "name": "stderr"
        },
        {
          "output_type": "stream",
          "text": [
            "Finished Downloading\n",
            "Finished Downloading\n"
          ],
          "name": "stdout"
        },
        {
          "output_type": "stream",
          "text": [
            "Processing Wei_Zhao:  19%|█▉        | 193/1000 [05:36<13:48,  1.03s/it]      "
          ],
          "name": "stderr"
        },
        {
          "output_type": "stream",
          "text": [
            "Finished Downloading\n"
          ],
          "name": "stdout"
        },
        {
          "output_type": "stream",
          "text": [
            "Processing Matt_Letscher:  19%|█▉        | 194/1000 [05:36<10:49,  1.24it/s]"
          ],
          "name": "stderr"
        },
        {
          "output_type": "stream",
          "text": [
            "Finished Downloading\n"
          ],
          "name": "stdout"
        },
        {
          "output_type": "stream",
          "text": [
            "Processing Simon_Rex:  20%|█▉        | 195/1000 [05:37<11:24,  1.18it/s]    "
          ],
          "name": "stderr"
        },
        {
          "output_type": "stream",
          "text": [
            "Finished Downloading\n"
          ],
          "name": "stdout"
        },
        {
          "output_type": "stream",
          "text": [
            "Processing Jessica_Marais:  20%|█▉        | 196/1000 [05:37<09:50,  1.36it/s]"
          ],
          "name": "stderr"
        },
        {
          "output_type": "stream",
          "text": [
            "Finished Downloading\n"
          ],
          "name": "stdout"
        },
        {
          "output_type": "stream",
          "text": [
            "Processing Diedrich_Bader:  20%|█▉        | 197/1000 [05:38<11:04,  1.21it/s]"
          ],
          "name": "stderr"
        },
        {
          "output_type": "stream",
          "text": [
            "Finished Downloading\n"
          ],
          "name": "stdout"
        },
        {
          "output_type": "stream",
          "text": [
            "Processing Sarah_Shahi:  20%|█▉        | 198/1000 [05:40<13:37,  1.02s/it]   "
          ],
          "name": "stderr"
        },
        {
          "output_type": "stream",
          "text": [
            "Finished Downloading\n"
          ],
          "name": "stdout"
        },
        {
          "output_type": "stream",
          "text": [
            "Processing Lizzy_Caplan:  20%|█▉        | 199/1000 [05:40<11:33,  1.16it/s]"
          ],
          "name": "stderr"
        },
        {
          "output_type": "stream",
          "text": [
            "Finished Downloading\n"
          ],
          "name": "stdout"
        },
        {
          "output_type": "stream",
          "text": [
            "Processing Natalie_Dormer:  20%|██        | 201/1000 [05:41<07:01,  1.89it/s]"
          ],
          "name": "stderr"
        },
        {
          "output_type": "stream",
          "text": [
            "Finished Downloading\n",
            "Finished Downloading\n"
          ],
          "name": "stdout"
        },
        {
          "output_type": "stream",
          "text": [
            "\rProcessing Megan_Park:  20%|██        | 201/1000 [05:41<07:01,  1.89it/s]    "
          ],
          "name": "stderr"
        },
        {
          "output_type": "stream",
          "text": [
            "Finished Downloading\n"
          ],
          "name": "stdout"
        },
        {
          "output_type": "stream",
          "text": [
            "Processing Josh_Radnor:  20%|██        | 203/1000 [05:42<07:19,  1.81it/s]    "
          ],
          "name": "stderr"
        },
        {
          "output_type": "stream",
          "text": [
            "Finished Downloading\n",
            "Finished Downloading\n"
          ],
          "name": "stdout"
        },
        {
          "output_type": "stream",
          "text": [
            "Processing Candice_Swanepoel:  20%|██        | 205/1000 [05:42<05:45,  2.30it/s]"
          ],
          "name": "stderr"
        },
        {
          "output_type": "stream",
          "text": [
            "Finished Downloading\n"
          ],
          "name": "stdout"
        },
        {
          "output_type": "stream",
          "text": [
            "Processing John_Schneider:  21%|██        | 206/1000 [05:43<06:20,  2.09it/s]   "
          ],
          "name": "stderr"
        },
        {
          "output_type": "stream",
          "text": [
            "Finished Downloading\n"
          ],
          "name": "stdout"
        },
        {
          "output_type": "stream",
          "text": [
            "Processing David_Chokachi:  21%|██        | 207/1000 [05:44<07:09,  1.85it/s]"
          ],
          "name": "stderr"
        },
        {
          "output_type": "stream",
          "text": [
            "Finished Downloading\n"
          ],
          "name": "stdout"
        },
        {
          "output_type": "stream",
          "text": [
            "Processing Selena:  21%|██        | 208/1000 [05:44<06:45,  1.95it/s]        "
          ],
          "name": "stderr"
        },
        {
          "output_type": "stream",
          "text": [
            "Finished Downloading\n"
          ],
          "name": "stdout"
        },
        {
          "output_type": "stream",
          "text": [
            "Processing Ron_Perlman:  21%|██        | 209/1000 [05:45<06:34,  2.00it/s]"
          ],
          "name": "stderr"
        },
        {
          "output_type": "stream",
          "text": [
            "Finished Downloading\n"
          ],
          "name": "stdout"
        },
        {
          "output_type": "stream",
          "text": [
            "Processing Karolina_Wydra:  21%|██        | 211/1000 [05:46<08:05,  1.63it/s]"
          ],
          "name": "stderr"
        },
        {
          "output_type": "stream",
          "text": [
            "Finished Downloading\n",
            "Finished Downloading\n"
          ],
          "name": "stdout"
        },
        {
          "output_type": "stream",
          "text": [
            "Processing Katheryn_Winnick:  21%|██        | 212/1000 [05:48<14:16,  1.09s/it]"
          ],
          "name": "stderr"
        },
        {
          "output_type": "stream",
          "text": [
            "Finished Downloading\n"
          ],
          "name": "stdout"
        },
        {
          "output_type": "stream",
          "text": [
            "Processing Peter_Krause:  21%|██▏       | 213/1000 [05:49<11:00,  1.19it/s]    "
          ],
          "name": "stderr"
        },
        {
          "output_type": "stream",
          "text": [
            "Finished Downloading\n"
          ],
          "name": "stdout"
        },
        {
          "output_type": "stream",
          "text": [
            "Processing Sara_Jean_Underwood:  21%|██▏       | 214/1000 [05:52<19:50,  1.51s/it]"
          ],
          "name": "stderr"
        },
        {
          "output_type": "stream",
          "text": [
            "Finished Downloading\n"
          ],
          "name": "stdout"
        },
        {
          "output_type": "stream",
          "text": [
            "Processing Audra_McDonald:  22%|██▏       | 215/1000 [05:52<16:30,  1.26s/it]     "
          ],
          "name": "stderr"
        },
        {
          "output_type": "stream",
          "text": [
            "Finished Downloading\n"
          ],
          "name": "stdout"
        },
        {
          "output_type": "stream",
          "text": [
            "Processing Andrew_McCarthy:  22%|██▏       | 216/1000 [06:08<1:11:13,  5.45s/it]"
          ],
          "name": "stderr"
        },
        {
          "output_type": "stream",
          "text": [
            "Finished Downloading\n"
          ],
          "name": "stdout"
        },
        {
          "output_type": "stream",
          "text": [
            "Processing Steven_Anthony_Lawrence:  22%|██▏       | 217/1000 [06:08<52:48,  4.05s/it]"
          ],
          "name": "stderr"
        },
        {
          "output_type": "stream",
          "text": [
            "Finished Downloading\n"
          ],
          "name": "stdout"
        },
        {
          "output_type": "stream",
          "text": [
            "Processing Oliver_Platt:  22%|██▏       | 218/1000 [06:10<44:51,  3.44s/it]           "
          ],
          "name": "stderr"
        },
        {
          "output_type": "stream",
          "text": [
            "Finished Downloading\n"
          ],
          "name": "stdout"
        },
        {
          "output_type": "stream",
          "text": [
            "Processing Marisa_Miller:  22%|██▏       | 219/1000 [06:11<33:42,  2.59s/it]"
          ],
          "name": "stderr"
        },
        {
          "output_type": "stream",
          "text": [
            "Finished Downloading\n"
          ],
          "name": "stdout"
        },
        {
          "output_type": "stream",
          "text": [
            "Processing Patrick_Swayze:  22%|██▏       | 220/1000 [06:12<27:47,  2.14s/it]"
          ],
          "name": "stderr"
        },
        {
          "output_type": "stream",
          "text": [
            "Finished Downloading\n"
          ],
          "name": "stdout"
        },
        {
          "output_type": "stream",
          "text": [
            "Processing Michael_Kelly:  22%|██▏       | 221/1000 [06:13<22:00,  1.70s/it] "
          ],
          "name": "stderr"
        },
        {
          "output_type": "stream",
          "text": [
            "Finished Downloading\n"
          ],
          "name": "stdout"
        },
        {
          "output_type": "stream",
          "text": [
            "Processing Jaime_Winstone:  22%|██▏       | 222/1000 [06:13<17:09,  1.32s/it]"
          ],
          "name": "stderr"
        },
        {
          "output_type": "stream",
          "text": [
            "Finished Downloading\n"
          ],
          "name": "stdout"
        },
        {
          "output_type": "stream",
          "text": [
            "Processing Ollanta_Humala:  22%|██▏       | 223/1000 [06:14<15:57,  1.23s/it]"
          ],
          "name": "stderr"
        },
        {
          "output_type": "stream",
          "text": [
            "Finished Downloading\n"
          ],
          "name": "stdout"
        },
        {
          "output_type": "stream",
          "text": [
            "Processing Chelsea_Hobbs:  22%|██▏       | 224/1000 [06:15<14:51,  1.15s/it]"
          ],
          "name": "stderr"
        },
        {
          "output_type": "stream",
          "text": [
            "Finished Downloading\n",
            "Finished Downloading\n"
          ],
          "name": "stdout"
        },
        {
          "output_type": "stream",
          "text": [
            "Processing Brendan_Gleeson:  23%|██▎       | 226/1000 [06:16<11:48,  1.09it/s]"
          ],
          "name": "stderr"
        },
        {
          "output_type": "stream",
          "text": [
            "Finished Downloading\n"
          ],
          "name": "stdout"
        },
        {
          "output_type": "stream",
          "text": [
            "Processing Rachel_Blanchard:  23%|██▎       | 227/1000 [06:17<11:12,  1.15it/s]"
          ],
          "name": "stderr"
        },
        {
          "output_type": "stream",
          "text": [
            "Finished Downloading\n"
          ],
          "name": "stdout"
        },
        {
          "output_type": "stream",
          "text": [
            "Processing Jesse_Bradford:  23%|██▎       | 228/1000 [06:17<10:05,  1.28it/s]  "
          ],
          "name": "stderr"
        },
        {
          "output_type": "stream",
          "text": [
            "Finished Downloading\n"
          ],
          "name": "stdout"
        },
        {
          "output_type": "stream",
          "text": [
            "Processing Dorothy_Dandridge:  23%|██▎       | 229/1000 [06:18<09:06,  1.41it/s]"
          ],
          "name": "stderr"
        },
        {
          "output_type": "stream",
          "text": [
            "Finished Downloading\n"
          ],
          "name": "stdout"
        },
        {
          "output_type": "stream",
          "text": [
            "Processing Inbar_Lavi:  23%|██▎       | 230/1000 [06:18<08:15,  1.55it/s]       "
          ],
          "name": "stderr"
        },
        {
          "output_type": "stream",
          "text": [
            "Finished Downloading\n"
          ],
          "name": "stdout"
        },
        {
          "output_type": "stream",
          "text": [
            "Processing Traci_Bingham:  23%|██▎       | 231/1000 [06:19<06:49,  1.88it/s]"
          ],
          "name": "stderr"
        },
        {
          "output_type": "stream",
          "text": [
            "Finished Downloading\n",
            "Finished Downloading\n"
          ],
          "name": "stdout"
        },
        {
          "output_type": "stream",
          "text": [
            "Processing Emily_Atack:  23%|██▎       | 233/1000 [06:20<06:39,  1.92it/s]  "
          ],
          "name": "stderr"
        },
        {
          "output_type": "stream",
          "text": [
            "Finished Downloading\n"
          ],
          "name": "stdout"
        },
        {
          "output_type": "stream",
          "text": [
            "Processing John_Noble:  23%|██▎       | 234/1000 [06:21<08:35,  1.49it/s] "
          ],
          "name": "stderr"
        },
        {
          "output_type": "stream",
          "text": [
            "Finished Downloading\n"
          ],
          "name": "stdout"
        },
        {
          "output_type": "stream",
          "text": [
            "Processing Olivia_Thirlby:  24%|██▎       | 235/1000 [06:21<07:55,  1.61it/s]"
          ],
          "name": "stderr"
        },
        {
          "output_type": "stream",
          "text": [
            "Finished Downloading\n"
          ],
          "name": "stdout"
        },
        {
          "output_type": "stream",
          "text": [
            "Processing Michael_Rady:  24%|██▎       | 236/1000 [06:22<07:18,  1.74it/s]  "
          ],
          "name": "stderr"
        },
        {
          "output_type": "stream",
          "text": [
            "Finished Downloading\n"
          ],
          "name": "stdout"
        },
        {
          "output_type": "stream",
          "text": [
            "Processing Ricardo_Pereira:  24%|██▎       | 237/1000 [06:22<06:17,  2.02it/s]"
          ],
          "name": "stderr"
        },
        {
          "output_type": "stream",
          "text": [
            "Finished Downloading\n"
          ],
          "name": "stdout"
        },
        {
          "output_type": "stream",
          "text": [
            "Processing Kristen_Stewart:  24%|██▍       | 238/1000 [06:22<06:33,  1.94it/s]"
          ],
          "name": "stderr"
        },
        {
          "output_type": "stream",
          "text": [
            "Finished Downloading\n"
          ],
          "name": "stdout"
        },
        {
          "output_type": "stream",
          "text": [
            "Processing Jonathan_Rhys_Meyers:  24%|██▍       | 239/1000 [06:23<05:45,  2.20it/s]"
          ],
          "name": "stderr"
        },
        {
          "output_type": "stream",
          "text": [
            "Finished Downloading\n"
          ],
          "name": "stdout"
        },
        {
          "output_type": "stream",
          "text": [
            "Processing Billie_Joe_Armstrong:  24%|██▍       | 240/1000 [06:23<06:10,  2.05it/s]"
          ],
          "name": "stderr"
        },
        {
          "output_type": "stream",
          "text": [
            "Finished Downloading\n"
          ],
          "name": "stdout"
        },
        {
          "output_type": "stream",
          "text": [
            "Processing Nicollette_Sheridan:  24%|██▍       | 241/1000 [06:24<06:40,  1.89it/s] "
          ],
          "name": "stderr"
        },
        {
          "output_type": "stream",
          "text": [
            "Finished Downloading\n"
          ],
          "name": "stdout"
        },
        {
          "output_type": "stream",
          "text": [
            "Processing Denis_Leary:  24%|██▍       | 242/1000 [06:24<06:27,  1.96it/s]        "
          ],
          "name": "stderr"
        },
        {
          "output_type": "stream",
          "text": [
            "Finished Downloading\n"
          ],
          "name": "stdout"
        },
        {
          "output_type": "stream",
          "text": [
            "Processing Reece_Ritchie:  24%|██▍       | 243/1000 [06:25<06:31,  1.94it/s]"
          ],
          "name": "stderr"
        },
        {
          "output_type": "stream",
          "text": [
            "Finished Downloading\n"
          ],
          "name": "stdout"
        },
        {
          "output_type": "stream",
          "text": [
            "Processing Kayla_Collins:  24%|██▍       | 244/1000 [06:26<08:26,  1.49it/s]"
          ],
          "name": "stderr"
        },
        {
          "output_type": "stream",
          "text": [
            "Finished Downloading\n"
          ],
          "name": "stdout"
        },
        {
          "output_type": "stream",
          "text": [
            "Processing James_Anderson:  24%|██▍       | 245/1000 [06:28<14:42,  1.17s/it]"
          ],
          "name": "stderr"
        },
        {
          "output_type": "stream",
          "text": [
            "Finished Downloading\n"
          ],
          "name": "stdout"
        },
        {
          "output_type": "stream",
          "text": [
            "Processing Missi_Pyle:  25%|██▍       | 246/1000 [06:29<11:39,  1.08it/s]    "
          ],
          "name": "stderr"
        },
        {
          "output_type": "stream",
          "text": [
            "Finished Downloading\n"
          ],
          "name": "stdout"
        },
        {
          "output_type": "stream",
          "text": [
            "Processing Richard_Karn:  25%|██▍       | 248/1000 [06:29<07:39,  1.64it/s]             "
          ],
          "name": "stderr"
        },
        {
          "output_type": "stream",
          "text": [
            "Finished Downloading\n",
            "Finished Downloading\n"
          ],
          "name": "stdout"
        },
        {
          "output_type": "stream",
          "text": [
            "Processing Johnny_Messner:  25%|██▍       | 249/1000 [06:31<12:32,  1.00s/it]"
          ],
          "name": "stderr"
        },
        {
          "output_type": "stream",
          "text": [
            "Finished Downloading\n"
          ],
          "name": "stdout"
        },
        {
          "output_type": "stream",
          "text": [
            "Processing Qi_Shu:  25%|██▌       | 250/1000 [06:32<13:05,  1.05s/it]        "
          ],
          "name": "stderr"
        },
        {
          "output_type": "stream",
          "text": [
            "Finished Downloading\n"
          ],
          "name": "stdout"
        },
        {
          "output_type": "stream",
          "text": [
            "Processing Shaun_Sipos:  25%|██▌       | 251/1000 [06:34<16:00,  1.28s/it]"
          ],
          "name": "stderr"
        },
        {
          "output_type": "stream",
          "text": [
            "Finished Downloading\n"
          ],
          "name": "stdout"
        },
        {
          "output_type": "stream",
          "text": [
            "Processing Rosie_Huntington-Whiteley:  25%|██▌       | 252/1000 [06:35<13:58,  1.12s/it]"
          ],
          "name": "stderr"
        },
        {
          "output_type": "stream",
          "text": [
            "Finished Downloading\n"
          ],
          "name": "stdout"
        },
        {
          "output_type": "stream",
          "text": [
            "Processing Olivia_Wilde:  25%|██▌       | 253/1000 [06:35<10:50,  1.15it/s]             "
          ],
          "name": "stderr"
        },
        {
          "output_type": "stream",
          "text": [
            "Finished Downloading\n"
          ],
          "name": "stdout"
        },
        {
          "output_type": "stream",
          "text": [
            "Processing Ana_Ivanovic:  25%|██▌       | 254/1000 [06:36<09:46,  1.27it/s]"
          ],
          "name": "stderr"
        },
        {
          "output_type": "stream",
          "text": [
            "Finished Downloading\n"
          ],
          "name": "stdout"
        },
        {
          "output_type": "stream",
          "text": [
            "Processing Liana_Liberato:  26%|██▌       | 255/1000 [06:39<17:51,  1.44s/it]"
          ],
          "name": "stderr"
        },
        {
          "output_type": "stream",
          "text": [
            "Finished Downloading\n"
          ],
          "name": "stdout"
        },
        {
          "output_type": "stream",
          "text": [
            "Processing Betty_White:  26%|██▌       | 256/1000 [06:39<13:33,  1.09s/it]   "
          ],
          "name": "stderr"
        },
        {
          "output_type": "stream",
          "text": [
            "Finished Downloading\n"
          ],
          "name": "stdout"
        },
        {
          "output_type": "stream",
          "text": [
            "Processing Tye_Sheridan:  26%|██▌       | 257/1000 [06:40<12:21,  1.00it/s]"
          ],
          "name": "stderr"
        },
        {
          "output_type": "stream",
          "text": [
            "Finished Downloading\n"
          ],
          "name": "stdout"
        },
        {
          "output_type": "stream",
          "text": [
            "Processing Sidharth_Malhotra:  26%|██▌       | 258/1000 [06:40<10:42,  1.15it/s]"
          ],
          "name": "stderr"
        },
        {
          "output_type": "stream",
          "text": [
            "Finished Downloading\n"
          ],
          "name": "stdout"
        },
        {
          "output_type": "stream",
          "text": [
            "Processing Marcia_Gay_Harden:  26%|██▌       | 259/1000 [06:44<18:45,  1.52s/it]"
          ],
          "name": "stderr"
        },
        {
          "output_type": "stream",
          "text": [
            "Finished Downloading\n",
            "Finished Downloading\n"
          ],
          "name": "stdout"
        },
        {
          "output_type": "stream",
          "text": [
            "Processing Jessica_Lowndes:  26%|██▌       | 261/1000 [06:44<13:45,  1.12s/it]  "
          ],
          "name": "stderr"
        },
        {
          "output_type": "stream",
          "text": [
            "Finished Downloading\n"
          ],
          "name": "stdout"
        },
        {
          "output_type": "stream",
          "text": [
            "Processing Jessica_Walter:  26%|██▌       | 262/1000 [06:45<13:27,  1.09s/it] "
          ],
          "name": "stderr"
        },
        {
          "output_type": "stream",
          "text": [
            "Finished Downloading\n"
          ],
          "name": "stdout"
        },
        {
          "output_type": "stream",
          "text": [
            "Processing John_Carroll_Lynch:  26%|██▋       | 263/1000 [06:46<13:56,  1.13s/it]"
          ],
          "name": "stderr"
        },
        {
          "output_type": "stream",
          "text": [
            "Finished Downloading\n"
          ],
          "name": "stdout"
        },
        {
          "output_type": "stream",
          "text": [
            "Processing Zoe_McLellan:  26%|██▋       | 264/1000 [06:47<11:54,  1.03it/s]      "
          ],
          "name": "stderr"
        },
        {
          "output_type": "stream",
          "text": [
            "Finished Downloading\n"
          ],
          "name": "stdout"
        },
        {
          "output_type": "stream",
          "text": [
            "Processing Jillian_Harris:  26%|██▋       | 265/1000 [06:48<12:33,  1.03s/it]"
          ],
          "name": "stderr"
        },
        {
          "output_type": "stream",
          "text": [
            "Finished Downloading\n"
          ],
          "name": "stdout"
        },
        {
          "output_type": "stream",
          "text": [
            "Processing Joey_McIntyre:  27%|██▋       | 266/1000 [06:49<11:57,  1.02it/s] "
          ],
          "name": "stderr"
        },
        {
          "output_type": "stream",
          "text": [
            "Finished Downloading\n"
          ],
          "name": "stdout"
        },
        {
          "output_type": "stream",
          "text": [
            "Processing Lupe_Ontiveros:  27%|██▋       | 267/1000 [06:49<10:08,  1.20it/s]"
          ],
          "name": "stderr"
        },
        {
          "output_type": "stream",
          "text": [
            "Finished Downloading\n"
          ],
          "name": "stdout"
        },
        {
          "output_type": "stream",
          "text": [
            "Processing James_Stewart:  27%|██▋       | 268/1000 [06:51<12:54,  1.06s/it] "
          ],
          "name": "stderr"
        },
        {
          "output_type": "stream",
          "text": [
            "Finished Downloading\n"
          ],
          "name": "stdout"
        },
        {
          "output_type": "stream",
          "text": [
            "Processing Jean-Paul_Belmondo:  27%|██▋       | 269/1000 [06:51<10:35,  1.15it/s]"
          ],
          "name": "stderr"
        },
        {
          "output_type": "stream",
          "text": [
            "Finished Downloading\n"
          ],
          "name": "stdout"
        },
        {
          "output_type": "stream",
          "text": [
            "Processing Kelli_Giddish:  27%|██▋       | 270/1000 [06:52<08:24,  1.45it/s]     "
          ],
          "name": "stderr"
        },
        {
          "output_type": "stream",
          "text": [
            "Finished Downloading\n"
          ],
          "name": "stdout"
        },
        {
          "output_type": "stream",
          "text": [
            "Processing Caity_Lotz:  27%|██▋       | 271/1000 [06:52<07:00,  1.73it/s]   "
          ],
          "name": "stderr"
        },
        {
          "output_type": "stream",
          "text": [
            "Finished Downloading\n"
          ],
          "name": "stdout"
        },
        {
          "output_type": "stream",
          "text": [
            "Processing Anne_Hathaway:  27%|██▋       | 273/1000 [06:52<04:39,  2.60it/s]"
          ],
          "name": "stderr"
        },
        {
          "output_type": "stream",
          "text": [
            "Finished Downloading\n",
            "Finished Downloading\n"
          ],
          "name": "stdout"
        },
        {
          "output_type": "stream",
          "text": [
            "Processing Yvette_Nicole_Brown:  27%|██▋       | 274/1000 [06:53<07:32,  1.60it/s]"
          ],
          "name": "stderr"
        },
        {
          "output_type": "stream",
          "text": [
            "Finished Downloading\n"
          ],
          "name": "stdout"
        },
        {
          "output_type": "stream",
          "text": [
            "Processing Bianca_Lawson:  28%|██▊       | 275/1000 [06:55<09:45,  1.24it/s]      "
          ],
          "name": "stderr"
        },
        {
          "output_type": "stream",
          "text": [
            "Finished Downloading\n"
          ],
          "name": "stdout"
        },
        {
          "output_type": "stream",
          "text": [
            "Processing Kenan_Thompson:  28%|██▊       | 277/1000 [06:55<06:21,  1.90it/s]"
          ],
          "name": "stderr"
        },
        {
          "output_type": "stream",
          "text": [
            "Finished Downloading\n",
            "Finished Downloading\n"
          ],
          "name": "stdout"
        },
        {
          "output_type": "stream",
          "text": [
            "Processing Douglas_Smith:  28%|██▊       | 278/1000 [06:56<07:06,  1.69it/s] "
          ],
          "name": "stderr"
        },
        {
          "output_type": "stream",
          "text": [
            "Finished Downloading\n"
          ],
          "name": "stdout"
        },
        {
          "output_type": "stream",
          "text": [
            "Processing Shanola_Hampton:  28%|██▊       | 279/1000 [06:56<05:56,  2.02it/s]"
          ],
          "name": "stderr"
        },
        {
          "output_type": "stream",
          "text": [
            "Finished Downloading\n"
          ],
          "name": "stdout"
        },
        {
          "output_type": "stream",
          "text": [
            "Processing Heather_Matarazzo:  28%|██▊       | 280/1000 [06:57<07:18,  1.64it/s]"
          ],
          "name": "stderr"
        },
        {
          "output_type": "stream",
          "text": [
            "Finished Downloading\n"
          ],
          "name": "stdout"
        },
        {
          "output_type": "stream",
          "text": [
            "Processing Liya_Kebede:  28%|██▊       | 281/1000 [06:58<08:51,  1.35it/s]      "
          ],
          "name": "stderr"
        },
        {
          "output_type": "stream",
          "text": [
            "Finished Downloading\n"
          ],
          "name": "stdout"
        },
        {
          "output_type": "stream",
          "text": [
            "Processing Jessie_J:  28%|██▊       | 282/1000 [07:01<15:14,  1.27s/it]   "
          ],
          "name": "stderr"
        },
        {
          "output_type": "stream",
          "text": [
            "Finished Downloading\n"
          ],
          "name": "stdout"
        },
        {
          "output_type": "stream",
          "text": [
            "Processing Desmond_Harrington:  28%|██▊       | 283/1000 [07:02<16:11,  1.35s/it]"
          ],
          "name": "stderr"
        },
        {
          "output_type": "stream",
          "text": [
            "Finished Downloading\n"
          ],
          "name": "stdout"
        },
        {
          "output_type": "stream",
          "text": [
            "Processing Andrew_Buchan:  28%|██▊       | 284/1000 [07:38<2:18:20, 11.59s/it]     "
          ],
          "name": "stderr"
        },
        {
          "output_type": "stream",
          "text": [
            "Finished Downloading\n"
          ],
          "name": "stdout"
        },
        {
          "output_type": "stream",
          "text": [
            "Processing Adrienne_Barbeau:  28%|██▊       | 285/1000 [07:38<1:37:42,  8.20s/it]"
          ],
          "name": "stderr"
        },
        {
          "output_type": "stream",
          "text": [
            "Finished Downloading\n"
          ],
          "name": "stdout"
        },
        {
          "output_type": "stream",
          "text": [
            "Processing Sammi_Hanratty:  29%|██▊       | 286/1000 [07:39<1:12:35,  6.10s/it]  "
          ],
          "name": "stderr"
        },
        {
          "output_type": "stream",
          "text": [
            "Finished Downloading\n"
          ],
          "name": "stdout"
        },
        {
          "output_type": "stream",
          "text": [
            "Processing Marisol_Nichols:  29%|██▊       | 287/1000 [07:40<54:02,  4.55s/it]"
          ],
          "name": "stderr"
        },
        {
          "output_type": "stream",
          "text": [
            "Finished Downloading\n"
          ],
          "name": "stdout"
        },
        {
          "output_type": "stream",
          "text": [
            "Processing Pope_Benedict_XVI:  29%|██▉       | 288/1000 [07:41<42:25,  3.57s/it]"
          ],
          "name": "stderr"
        },
        {
          "output_type": "stream",
          "text": [
            "Finished Downloading\n"
          ],
          "name": "stdout"
        },
        {
          "output_type": "stream",
          "text": [
            "Processing John_Stamos:  29%|██▉       | 290/1000 [07:43<24:07,  2.04s/it]"
          ],
          "name": "stderr"
        },
        {
          "output_type": "stream",
          "text": [
            "Finished Downloading\n",
            "Finished Downloading\n"
          ],
          "name": "stdout"
        },
        {
          "output_type": "stream",
          "text": [
            "Processing Jeannie_Mai:  29%|██▉       | 291/1000 [07:43<17:54,  1.52s/it]"
          ],
          "name": "stderr"
        },
        {
          "output_type": "stream",
          "text": [
            "Finished Downloading\n",
            "Finished Downloading\n"
          ],
          "name": "stdout"
        },
        {
          "output_type": "stream",
          "text": [
            "Processing Maggie_Gyllenhaal:  29%|██▉       | 293/1000 [07:44<14:47,  1.26s/it]"
          ],
          "name": "stderr"
        },
        {
          "output_type": "stream",
          "text": [
            "Finished Downloading\n"
          ],
          "name": "stdout"
        },
        {
          "output_type": "stream",
          "text": [
            "Processing Sam_Huntington:  29%|██▉       | 294/1000 [07:45<11:52,  1.01s/it]   "
          ],
          "name": "stderr"
        },
        {
          "output_type": "stream",
          "text": [
            "Finished Downloading\n"
          ],
          "name": "stdout"
        },
        {
          "output_type": "stream",
          "text": [
            "Processing Jessica_Hecht:  30%|██▉       | 295/1000 [07:46<12:50,  1.09s/it] "
          ],
          "name": "stderr"
        },
        {
          "output_type": "stream",
          "text": [
            "Finished Downloading\n"
          ],
          "name": "stdout"
        },
        {
          "output_type": "stream",
          "text": [
            "Processing Jennifer_Jason_Leigh:  30%|██▉       | 296/1000 [07:47<13:35,  1.16s/it]"
          ],
          "name": "stderr"
        },
        {
          "output_type": "stream",
          "text": [
            "Finished Downloading\n"
          ],
          "name": "stdout"
        },
        {
          "output_type": "stream",
          "text": [
            "Processing Susan_Lucci:  30%|██▉       | 297/1000 [07:49<14:45,  1.26s/it]         "
          ],
          "name": "stderr"
        },
        {
          "output_type": "stream",
          "text": [
            "Finished Downloading\n"
          ],
          "name": "stdout"
        },
        {
          "output_type": "stream",
          "text": [
            "Processing Dane_Cook:  30%|██▉       | 298/1000 [07:50<13:59,  1.20s/it]  "
          ],
          "name": "stderr"
        },
        {
          "output_type": "stream",
          "text": [
            "Finished Downloading\n"
          ],
          "name": "stdout"
        },
        {
          "output_type": "stream",
          "text": [
            "Processing Arian_Foster:  30%|██▉       | 299/1000 [07:50<11:07,  1.05it/s]"
          ],
          "name": "stderr"
        },
        {
          "output_type": "stream",
          "text": [
            "Finished Downloading\n"
          ],
          "name": "stdout"
        },
        {
          "output_type": "stream",
          "text": [
            "Processing John_Rhys-Davies:  30%|███       | 300/1000 [07:52<15:16,  1.31s/it]"
          ],
          "name": "stderr"
        },
        {
          "output_type": "stream",
          "text": [
            "Finished Downloading\n"
          ],
          "name": "stdout"
        },
        {
          "output_type": "stream",
          "text": [
            "Processing Robbie_Kay:  30%|███       | 301/1000 [07:53<11:34,  1.01it/s]      "
          ],
          "name": "stderr"
        },
        {
          "output_type": "stream",
          "text": [
            "Finished Downloading\n"
          ],
          "name": "stdout"
        },
        {
          "output_type": "stream",
          "text": [
            "Processing Joe_Flanigan:  30%|███       | 302/1000 [07:53<09:54,  1.17it/s]"
          ],
          "name": "stderr"
        },
        {
          "output_type": "stream",
          "text": [
            "Finished Downloading\n"
          ],
          "name": "stdout"
        },
        {
          "output_type": "stream",
          "text": [
            "Processing Leslie_Mann:  30%|███       | 303/1000 [08:25<1:58:05, 10.17s/it] "
          ],
          "name": "stderr"
        },
        {
          "output_type": "stream",
          "text": [
            "Finished Downloading\n"
          ],
          "name": "stdout"
        },
        {
          "output_type": "stream",
          "text": [
            "Processing Pete_Postlethwaite:  30%|███       | 304/1000 [08:25<1:23:31,  7.20s/it]"
          ],
          "name": "stderr"
        },
        {
          "output_type": "stream",
          "text": [
            "Finished Downloading\n"
          ],
          "name": "stdout"
        },
        {
          "output_type": "stream",
          "text": [
            "Processing Eric_Lively:  30%|███       | 305/1000 [08:27<1:02:33,  5.40s/it]       "
          ],
          "name": "stderr"
        },
        {
          "output_type": "stream",
          "text": [
            "Finished Downloading\n"
          ],
          "name": "stdout"
        },
        {
          "output_type": "stream",
          "text": [
            "Processing Chris_Brown:  31%|███       | 306/1000 [08:27<44:49,  3.88s/it]"
          ],
          "name": "stderr"
        },
        {
          "output_type": "stream",
          "text": [
            "Finished Downloading\n"
          ],
          "name": "stdout"
        },
        {
          "output_type": "stream",
          "text": [
            "Processing Terence_Hill:  31%|███       | 307/1000 [08:27<32:19,  2.80s/it]"
          ],
          "name": "stderr"
        },
        {
          "output_type": "stream",
          "text": [
            "Finished Downloading\n"
          ],
          "name": "stdout"
        },
        {
          "output_type": "stream",
          "text": [
            "Processing Alain_Delon:  31%|███       | 308/1000 [08:33<42:50,  3.72s/it] "
          ],
          "name": "stderr"
        },
        {
          "output_type": "stream",
          "text": [
            "Finished Downloading\n"
          ],
          "name": "stdout"
        },
        {
          "output_type": "stream",
          "text": [
            "Processing Leila_Hatami:  31%|███       | 309/1000 [08:34<31:59,  2.78s/it]"
          ],
          "name": "stderr"
        },
        {
          "output_type": "stream",
          "text": [
            "Finished Downloading\n"
          ],
          "name": "stdout"
        },
        {
          "output_type": "stream",
          "text": [
            "Processing Cher:  31%|███       | 310/1000 [08:34<23:52,  2.08s/it]        "
          ],
          "name": "stderr"
        },
        {
          "output_type": "stream",
          "text": [
            "Finished Downloading\n"
          ],
          "name": "stdout"
        },
        {
          "output_type": "stream",
          "text": [
            "Processing Bret_McKenzie:  31%|███       | 311/1000 [08:36<24:04,  2.10s/it]"
          ],
          "name": "stderr"
        },
        {
          "output_type": "stream",
          "text": [
            "Finished Downloading\n"
          ],
          "name": "stdout"
        },
        {
          "output_type": "stream",
          "text": [
            "Processing John_Witherspoon:  31%|███       | 312/1000 [08:38<24:08,  2.11s/it]"
          ],
          "name": "stderr"
        },
        {
          "output_type": "stream",
          "text": [
            "Finished Downloading\n"
          ],
          "name": "stdout"
        },
        {
          "output_type": "stream",
          "text": [
            "Processing Dina_Merrill:  31%|███▏      | 314/1000 [08:39<13:04,  1.14s/it]"
          ],
          "name": "stderr"
        },
        {
          "output_type": "stream",
          "text": [
            "Finished Downloading\n",
            "Finished Downloading\n"
          ],
          "name": "stdout"
        },
        {
          "output_type": "stream",
          "text": [
            "Processing Lori_Singer:  32%|███▏      | 315/1000 [08:40<13:41,  1.20s/it] "
          ],
          "name": "stderr"
        },
        {
          "output_type": "stream",
          "text": [
            "Finished Downloading\n"
          ],
          "name": "stdout"
        },
        {
          "output_type": "stream",
          "text": [
            "Processing Tom_Skerritt:  32%|███▏      | 316/1000 [08:41<13:36,  1.19s/it]"
          ],
          "name": "stderr"
        },
        {
          "output_type": "stream",
          "text": [
            "Finished Downloading\n"
          ],
          "name": "stdout"
        },
        {
          "output_type": "stream",
          "text": [
            "Processing Mathilda_May:  32%|███▏      | 317/1000 [08:42<11:40,  1.03s/it]"
          ],
          "name": "stderr"
        },
        {
          "output_type": "stream",
          "text": [
            "Finished Downloading\n"
          ],
          "name": "stdout"
        },
        {
          "output_type": "stream",
          "text": [
            "Processing John_Francis_Daley:  32%|███▏      | 318/1000 [08:43<12:24,  1.09s/it]"
          ],
          "name": "stderr"
        },
        {
          "output_type": "stream",
          "text": [
            "Finished Downloading\n"
          ],
          "name": "stdout"
        },
        {
          "output_type": "stream",
          "text": [
            "Processing Donna_Reed:  32%|███▏      | 319/1000 [08:44<10:14,  1.11it/s]        "
          ],
          "name": "stderr"
        },
        {
          "output_type": "stream",
          "text": [
            "Finished Downloading\n"
          ],
          "name": "stdout"
        },
        {
          "output_type": "stream",
          "text": [
            "Processing Chazz_Palminteri:  32%|███▏      | 320/1000 [08:44<09:05,  1.25it/s]"
          ],
          "name": "stderr"
        },
        {
          "output_type": "stream",
          "text": [
            "Finished Downloading\n"
          ],
          "name": "stdout"
        },
        {
          "output_type": "stream",
          "text": [
            "Processing Aaron_Staton:  32%|███▏      | 321/1000 [08:45<09:45,  1.16it/s]    "
          ],
          "name": "stderr"
        },
        {
          "output_type": "stream",
          "text": [
            "Finished Downloading\n"
          ],
          "name": "stdout"
        },
        {
          "output_type": "stream",
          "text": [
            "Processing Brenda_Blethyn:  32%|███▏      | 322/1000 [08:47<11:16,  1.00it/s]"
          ],
          "name": "stderr"
        },
        {
          "output_type": "stream",
          "text": [
            "Finished Downloading\n"
          ],
          "name": "stdout"
        },
        {
          "output_type": "stream",
          "text": [
            "Processing Justin_Kirk:  32%|███▏      | 323/1000 [08:48<14:22,  1.27s/it]   "
          ],
          "name": "stderr"
        },
        {
          "output_type": "stream",
          "text": [
            "Finished Downloading\n"
          ],
          "name": "stdout"
        },
        {
          "output_type": "stream",
          "text": [
            "Processing Robert_Conrad:  32%|███▏      | 324/1000 [08:49<11:08,  1.01it/s]"
          ],
          "name": "stderr"
        },
        {
          "output_type": "stream",
          "text": [
            "Finished Downloading\n"
          ],
          "name": "stdout"
        },
        {
          "output_type": "stream",
          "text": [
            "Processing Lena_Horne:  32%|███▎      | 325/1000 [08:50<10:11,  1.10it/s]   "
          ],
          "name": "stderr"
        },
        {
          "output_type": "stream",
          "text": [
            "Finished Downloading\n"
          ],
          "name": "stdout"
        },
        {
          "output_type": "stream",
          "text": [
            "Processing Marc_Forster:  33%|███▎      | 326/1000 [08:50<08:56,  1.26it/s]"
          ],
          "name": "stderr"
        },
        {
          "output_type": "stream",
          "text": [
            "Finished Downloading\n"
          ],
          "name": "stdout"
        },
        {
          "output_type": "stream",
          "text": [
            "Processing Lisa_Whelchel:  33%|███▎      | 327/1000 [08:50<07:13,  1.55it/s]"
          ],
          "name": "stderr"
        },
        {
          "output_type": "stream",
          "text": [
            "Finished Downloading\n"
          ],
          "name": "stdout"
        },
        {
          "output_type": "stream",
          "text": [
            "Processing Alan_Rickman:  33%|███▎      | 328/1000 [08:51<06:24,  1.75it/s] "
          ],
          "name": "stderr"
        },
        {
          "output_type": "stream",
          "text": [
            "Finished Downloading\n"
          ],
          "name": "stdout"
        },
        {
          "output_type": "stream",
          "text": [
            "Processing Margot_Kidder:  33%|███▎      | 329/1000 [08:51<06:23,  1.75it/s]"
          ],
          "name": "stderr"
        },
        {
          "output_type": "stream",
          "text": [
            "Finished Downloading\n"
          ],
          "name": "stdout"
        },
        {
          "output_type": "stream",
          "text": [
            "Processing Naomie_Harris:  33%|███▎      | 330/1000 [08:54<12:22,  1.11s/it]"
          ],
          "name": "stderr"
        },
        {
          "output_type": "stream",
          "text": [
            "Finished Downloading\n"
          ],
          "name": "stdout"
        },
        {
          "output_type": "stream",
          "text": [
            "Processing Alex_Borstein:  33%|███▎      | 331/1000 [08:55<12:41,  1.14s/it]"
          ],
          "name": "stderr"
        },
        {
          "output_type": "stream",
          "text": [
            "Finished Downloading\n"
          ],
          "name": "stdout"
        },
        {
          "output_type": "stream",
          "text": [
            "Processing Nathalie_Emmanuel:  33%|███▎      | 332/1000 [08:55<10:25,  1.07it/s]"
          ],
          "name": "stderr"
        },
        {
          "output_type": "stream",
          "text": [
            "Finished Downloading\n"
          ],
          "name": "stdout"
        },
        {
          "output_type": "stream",
          "text": [
            "Processing Ginger_Rogers:  33%|███▎      | 333/1000 [08:57<11:30,  1.04s/it]    "
          ],
          "name": "stderr"
        },
        {
          "output_type": "stream",
          "text": [
            "Finished Downloading\n"
          ],
          "name": "stdout"
        },
        {
          "output_type": "stream",
          "text": [
            "Processing Candice_Patton:  33%|███▎      | 334/1000 [08:58<11:27,  1.03s/it]"
          ],
          "name": "stderr"
        },
        {
          "output_type": "stream",
          "text": [
            "Finished Downloading\n"
          ],
          "name": "stdout"
        },
        {
          "output_type": "stream",
          "text": [
            "Processing Jenifer_Lewis:  34%|███▎      | 335/1000 [08:59<12:15,  1.11s/it] "
          ],
          "name": "stderr"
        },
        {
          "output_type": "stream",
          "text": [
            "Finished Downloading\n"
          ],
          "name": "stdout"
        },
        {
          "output_type": "stream",
          "text": [
            "Processing Brett_Lee:  34%|███▎      | 336/1000 [09:00<12:28,  1.13s/it]    "
          ],
          "name": "stderr"
        },
        {
          "output_type": "stream",
          "text": [
            "Finished Downloading\n"
          ],
          "name": "stdout"
        },
        {
          "output_type": "stream",
          "text": [
            "Processing Jonathan_Bennett:  34%|███▎      | 337/1000 [09:01<10:19,  1.07it/s]"
          ],
          "name": "stderr"
        },
        {
          "output_type": "stream",
          "text": [
            "Finished Downloading\n"
          ],
          "name": "stdout"
        },
        {
          "output_type": "stream",
          "text": [
            "Processing Luke_Bilyk:  34%|███▍      | 338/1000 [09:01<09:59,  1.11it/s]      "
          ],
          "name": "stderr"
        },
        {
          "output_type": "stream",
          "text": [
            "Finished Downloading\n"
          ],
          "name": "stdout"
        },
        {
          "output_type": "stream",
          "text": [
            "Processing Kelly_Preston:  34%|███▍      | 339/1000 [09:02<08:38,  1.27it/s]"
          ],
          "name": "stderr"
        },
        {
          "output_type": "stream",
          "text": [
            "Finished Downloading\n"
          ],
          "name": "stdout"
        },
        {
          "output_type": "stream",
          "text": [
            "Processing Leslie_Bibb:  34%|███▍      | 340/1000 [09:03<09:46,  1.13it/s]  "
          ],
          "name": "stderr"
        },
        {
          "output_type": "stream",
          "text": [
            "Finished Downloading\n"
          ],
          "name": "stdout"
        },
        {
          "output_type": "stream",
          "text": [
            "Processing David_Morrissey:  34%|███▍      | 341/1000 [09:04<09:20,  1.18it/s]"
          ],
          "name": "stderr"
        },
        {
          "output_type": "stream",
          "text": [
            "Finished Downloading\n"
          ],
          "name": "stdout"
        },
        {
          "output_type": "stream",
          "text": [
            "Processing Wallace_Shawn:  34%|███▍      | 342/1000 [09:05<10:20,  1.06it/s]  "
          ],
          "name": "stderr"
        },
        {
          "output_type": "stream",
          "text": [
            "Finished Downloading\n"
          ],
          "name": "stdout"
        },
        {
          "output_type": "stream",
          "text": [
            "Processing Kimberly_Williams-Paisley:  34%|███▍      | 343/1000 [09:06<10:48,  1.01it/s]"
          ],
          "name": "stderr"
        },
        {
          "output_type": "stream",
          "text": [
            "Finished Downloading\n"
          ],
          "name": "stdout"
        },
        {
          "output_type": "stream",
          "text": [
            "Processing Steven_Bauer:  34%|███▍      | 344/1000 [09:07<11:04,  1.01s/it]             "
          ],
          "name": "stderr"
        },
        {
          "output_type": "stream",
          "text": [
            "Finished Downloading\n"
          ],
          "name": "stdout"
        },
        {
          "output_type": "stream",
          "text": [
            "Processing Victoria_Justice:  34%|███▍      | 345/1000 [09:08<10:57,  1.00s/it]"
          ],
          "name": "stderr"
        },
        {
          "output_type": "stream",
          "text": [
            "Finished Downloading\n"
          ],
          "name": "stdout"
        },
        {
          "output_type": "stream",
          "text": [
            "Processing Mark_Feuerstein:  35%|███▍      | 346/1000 [09:09<09:15,  1.18it/s] "
          ],
          "name": "stderr"
        },
        {
          "output_type": "stream",
          "text": [
            "Finished Downloading\n"
          ],
          "name": "stdout"
        },
        {
          "output_type": "stream",
          "text": [
            "Processing Jessy_Schram:  35%|███▍      | 347/1000 [09:09<07:50,  1.39it/s]   "
          ],
          "name": "stderr"
        },
        {
          "output_type": "stream",
          "text": [
            "Finished Downloading\n"
          ],
          "name": "stdout"
        },
        {
          "output_type": "stream",
          "text": [
            "Processing Ron_Livingston:  35%|███▌      | 350/1000 [09:11<08:31,  1.27it/s]"
          ],
          "name": "stderr"
        },
        {
          "output_type": "stream",
          "text": [
            "Finished Downloading\n",
            "Finished Downloading\n",
            "Finished Downloading\n"
          ],
          "name": "stdout"
        },
        {
          "output_type": "stream",
          "text": [
            "Processing Julia_Garner:  35%|███▌      | 351/1000 [09:12<07:38,  1.42it/s]  "
          ],
          "name": "stderr"
        },
        {
          "output_type": "stream",
          "text": [
            "Finished Downloading\n"
          ],
          "name": "stdout"
        },
        {
          "output_type": "stream",
          "text": [
            "Processing Tyler_Perry:  35%|███▌      | 352/1000 [09:12<06:13,  1.73it/s] "
          ],
          "name": "stderr"
        },
        {
          "output_type": "stream",
          "text": [
            "Finished Downloading\n"
          ],
          "name": "stdout"
        },
        {
          "output_type": "stream",
          "text": [
            "Processing Hamish_Linklater:  35%|███▌      | 353/1000 [09:13<06:58,  1.55it/s]"
          ],
          "name": "stderr"
        },
        {
          "output_type": "stream",
          "text": [
            "Finished Downloading\n"
          ],
          "name": "stdout"
        },
        {
          "output_type": "stream",
          "text": [
            "Processing Laura_Marano:  35%|███▌      | 354/1000 [09:14<10:08,  1.06it/s]    "
          ],
          "name": "stderr"
        },
        {
          "output_type": "stream",
          "text": [
            "Finished Downloading\n"
          ],
          "name": "stdout"
        },
        {
          "output_type": "stream",
          "text": [
            "Processing Shay_Mitchell:  36%|███▌      | 355/1000 [09:15<10:24,  1.03it/s]"
          ],
          "name": "stderr"
        },
        {
          "output_type": "stream",
          "text": [
            "Finished Downloading\n"
          ],
          "name": "stdout"
        },
        {
          "output_type": "stream",
          "text": [
            "Processing Daniela_Ruah:  36%|███▌      | 356/1000 [09:16<09:19,  1.15it/s] "
          ],
          "name": "stderr"
        },
        {
          "output_type": "stream",
          "text": [
            "Finished Downloading\n"
          ],
          "name": "stdout"
        },
        {
          "output_type": "stream",
          "text": [
            "Processing Lauren_London:  36%|███▌      | 357/1000 [09:20<20:04,  1.87s/it]"
          ],
          "name": "stderr"
        },
        {
          "output_type": "stream",
          "text": [
            "Finished Downloading\n"
          ],
          "name": "stdout"
        },
        {
          "output_type": "stream",
          "text": [
            "Processing Tony_Curran:  36%|███▌      | 358/1000 [09:22<18:06,  1.69s/it]  "
          ],
          "name": "stderr"
        },
        {
          "output_type": "stream",
          "text": [
            "Finished Downloading\n"
          ],
          "name": "stdout"
        },
        {
          "output_type": "stream",
          "text": [
            "Processing Evan_Handler:  36%|███▌      | 359/1000 [09:22<14:36,  1.37s/it]"
          ],
          "name": "stderr"
        },
        {
          "output_type": "stream",
          "text": [
            "Finished Downloading\n"
          ],
          "name": "stdout"
        },
        {
          "output_type": "stream",
          "text": [
            "Processing Jemima_Rooper:  36%|███▌      | 360/1000 [09:23<14:03,  1.32s/it]"
          ],
          "name": "stderr"
        },
        {
          "output_type": "stream",
          "text": [
            "Finished Downloading\n"
          ],
          "name": "stdout"
        },
        {
          "output_type": "stream",
          "text": [
            "Processing Paolo_Sorrentino:  36%|███▌      | 361/1000 [09:25<13:50,  1.30s/it]"
          ],
          "name": "stderr"
        },
        {
          "output_type": "stream",
          "text": [
            "Finished Downloading\n"
          ],
          "name": "stdout"
        },
        {
          "output_type": "stream",
          "text": [
            "Processing Jesse_Williams:  36%|███▌      | 362/1000 [09:25<11:48,  1.11s/it]  "
          ],
          "name": "stderr"
        },
        {
          "output_type": "stream",
          "text": [
            "Finished Downloading\n"
          ],
          "name": "stdout"
        },
        {
          "output_type": "stream",
          "text": [
            "Processing Damon_Lindelof:  36%|███▋      | 363/1000 [09:27<12:17,  1.16s/it]"
          ],
          "name": "stderr"
        },
        {
          "output_type": "stream",
          "text": [
            "Finished Downloading\n"
          ],
          "name": "stdout"
        },
        {
          "output_type": "stream",
          "text": [
            "Processing Sophie_Winkleman:  36%|███▋      | 364/1000 [09:27<10:16,  1.03it/s]"
          ],
          "name": "stderr"
        },
        {
          "output_type": "stream",
          "text": [
            "Finished Downloading\n"
          ],
          "name": "stdout"
        },
        {
          "output_type": "stream",
          "text": [
            "Processing Shiri_Appleby:  36%|███▋      | 365/1000 [09:29<12:11,  1.15s/it]   "
          ],
          "name": "stderr"
        },
        {
          "output_type": "stream",
          "text": [
            "Finished Downloading\n"
          ],
          "name": "stdout"
        },
        {
          "output_type": "stream",
          "text": [
            "Processing Megan_Fox:  37%|███▋      | 366/1000 [09:29<09:35,  1.10it/s]    "
          ],
          "name": "stderr"
        },
        {
          "output_type": "stream",
          "text": [
            "Finished Downloading\n"
          ],
          "name": "stdout"
        },
        {
          "output_type": "stream",
          "text": [
            "Processing Andrew_Lee_Potts:  37%|███▋      | 367/1000 [09:30<09:52,  1.07it/s]"
          ],
          "name": "stderr"
        },
        {
          "output_type": "stream",
          "text": [
            "Finished Downloading\n"
          ],
          "name": "stdout"
        },
        {
          "output_type": "stream",
          "text": [
            "Processing Jodi_Benson:  37%|███▋      | 368/1000 [09:31<08:43,  1.21it/s]     "
          ],
          "name": "stderr"
        },
        {
          "output_type": "stream",
          "text": [
            "Finished Downloading\n"
          ],
          "name": "stdout"
        },
        {
          "output_type": "stream",
          "text": [
            "Processing Zoe_Saldana:  37%|███▋      | 369/1000 [09:33<14:50,  1.41s/it]"
          ],
          "name": "stderr"
        },
        {
          "output_type": "stream",
          "text": [
            "Finished Downloading\n"
          ],
          "name": "stdout"
        },
        {
          "output_type": "stream",
          "text": [
            "Processing Hannah_Murray:  37%|███▋      | 370/1000 [09:36<19:39,  1.87s/it]"
          ],
          "name": "stderr"
        },
        {
          "output_type": "stream",
          "text": [
            "Finished Downloading\n"
          ],
          "name": "stdout"
        },
        {
          "output_type": "stream",
          "text": [
            "Processing James_Purefoy:  37%|███▋      | 371/1000 [09:37<16:13,  1.55s/it]"
          ],
          "name": "stderr"
        },
        {
          "output_type": "stream",
          "text": [
            "Finished Downloading\n"
          ],
          "name": "stdout"
        },
        {
          "output_type": "stream",
          "text": [
            "Processing Kellie_Martin:  37%|███▋      | 372/1000 [09:38<13:05,  1.25s/it]"
          ],
          "name": "stderr"
        },
        {
          "output_type": "stream",
          "text": [
            "Finished Downloading\n"
          ],
          "name": "stdout"
        },
        {
          "output_type": "stream",
          "text": [
            "Processing Sabrina_Carpenter:  37%|███▋      | 373/1000 [09:38<10:05,  1.04it/s]"
          ],
          "name": "stderr"
        },
        {
          "output_type": "stream",
          "text": [
            "Finished Downloading\n"
          ],
          "name": "stdout"
        },
        {
          "output_type": "stream",
          "text": [
            "Processing Austin_North:  37%|███▋      | 374/1000 [09:41<17:32,  1.68s/it]     "
          ],
          "name": "stderr"
        },
        {
          "output_type": "stream",
          "text": [
            "Finished Downloading\n"
          ],
          "name": "stdout"
        },
        {
          "output_type": "stream",
          "text": [
            "Processing Kirsten_Vangsness:  38%|███▊      | 375/1000 [09:42<15:37,  1.50s/it]"
          ],
          "name": "stderr"
        },
        {
          "output_type": "stream",
          "text": [
            "Finished Downloading\n"
          ],
          "name": "stdout"
        },
        {
          "output_type": "stream",
          "text": [
            "Processing Reba_McEntire:  38%|███▊      | 376/1000 [09:43<12:19,  1.19s/it]    "
          ],
          "name": "stderr"
        },
        {
          "output_type": "stream",
          "text": [
            "Finished Downloading\n"
          ],
          "name": "stdout"
        },
        {
          "output_type": "stream",
          "text": [
            "Processing Heidi_Montag:  38%|███▊      | 377/1000 [09:43<09:30,  1.09it/s] "
          ],
          "name": "stderr"
        },
        {
          "output_type": "stream",
          "text": [
            "Finished Downloading\n"
          ],
          "name": "stdout"
        },
        {
          "output_type": "stream",
          "text": [
            "Processing Wayne_Rooney:  38%|███▊      | 378/1000 [09:44<10:04,  1.03it/s]"
          ],
          "name": "stderr"
        },
        {
          "output_type": "stream",
          "text": [
            "Finished Downloading\n"
          ],
          "name": "stdout"
        },
        {
          "output_type": "stream",
          "text": [
            "Processing Anton_Yelchin:  38%|███▊      | 379/1000 [09:45<08:56,  1.16it/s]"
          ],
          "name": "stderr"
        },
        {
          "output_type": "stream",
          "text": [
            "Finished Downloading\n"
          ],
          "name": "stdout"
        },
        {
          "output_type": "stream",
          "text": [
            "Processing James_Cosmo:  38%|███▊      | 380/1000 [09:45<07:05,  1.46it/s]  "
          ],
          "name": "stderr"
        },
        {
          "output_type": "stream",
          "text": [
            "Finished Downloading\n"
          ],
          "name": "stdout"
        },
        {
          "output_type": "stream",
          "text": [
            "Processing Hannah_Storm:  38%|███▊      | 381/1000 [09:46<07:27,  1.38it/s]"
          ],
          "name": "stderr"
        },
        {
          "output_type": "stream",
          "text": [
            "Finished Downloading\n"
          ],
          "name": "stdout"
        },
        {
          "output_type": "stream",
          "text": [
            "Processing Milo_Ventimiglia:  38%|███▊      | 382/1000 [09:46<06:36,  1.56it/s]"
          ],
          "name": "stderr"
        },
        {
          "output_type": "stream",
          "text": [
            "Finished Downloading\n"
          ],
          "name": "stdout"
        },
        {
          "output_type": "stream",
          "text": [
            "Processing Ty_Olsson:  38%|███▊      | 383/1000 [09:47<05:59,  1.71it/s]       "
          ],
          "name": "stderr"
        },
        {
          "output_type": "stream",
          "text": [
            "Finished Downloading\n"
          ],
          "name": "stdout"
        },
        {
          "output_type": "stream",
          "text": [
            "Processing Charlene_Amoia:  38%|███▊      | 384/1000 [09:47<05:41,  1.81it/s]"
          ],
          "name": "stderr"
        },
        {
          "output_type": "stream",
          "text": [
            "Finished Downloading\n"
          ],
          "name": "stdout"
        },
        {
          "output_type": "stream",
          "text": [
            "Processing Iain_Glen:  38%|███▊      | 385/1000 [09:49<07:50,  1.31it/s]     "
          ],
          "name": "stderr"
        },
        {
          "output_type": "stream",
          "text": [
            "Finished Downloading\n"
          ],
          "name": "stdout"
        },
        {
          "output_type": "stream",
          "text": [
            "/usr/local/lib/python3.6/dist-packages/PIL/TiffImagePlugin.py:788: UserWarning: Corrupt EXIF data.  Expecting to read 2 bytes but only got 0. \n",
            "  warnings.warn(str(msg))\n",
            "Processing Gage_Golightly:  39%|███▊      | 386/1000 [09:49<08:08,  1.26it/s]"
          ],
          "name": "stderr"
        },
        {
          "output_type": "stream",
          "text": [
            "Finished Downloading\n"
          ],
          "name": "stdout"
        },
        {
          "output_type": "stream",
          "text": [
            "Processing David_Niven:  39%|███▊      | 387/1000 [09:51<10:13,  1.00s/it]   "
          ],
          "name": "stderr"
        },
        {
          "output_type": "stream",
          "text": [
            "Finished Downloading\n"
          ],
          "name": "stdout"
        },
        {
          "output_type": "stream",
          "text": [
            "Processing Carrie_Preston:  39%|███▉      | 388/1000 [09:51<08:54,  1.15it/s]"
          ],
          "name": "stderr"
        },
        {
          "output_type": "stream",
          "text": [
            "Finished Downloading\n"
          ],
          "name": "stdout"
        },
        {
          "output_type": "stream",
          "text": [
            "Processing Danielle_Panabaker:  39%|███▉      | 389/1000 [09:52<07:42,  1.32it/s]"
          ],
          "name": "stderr"
        },
        {
          "output_type": "stream",
          "text": [
            "Finished Downloading\n"
          ],
          "name": "stdout"
        },
        {
          "output_type": "stream",
          "text": [
            "Processing Olga_Kurylenko:  39%|███▉      | 390/1000 [09:52<06:46,  1.50it/s]    "
          ],
          "name": "stderr"
        },
        {
          "output_type": "stream",
          "text": [
            "Finished Downloading\n"
          ],
          "name": "stdout"
        },
        {
          "output_type": "stream",
          "text": [
            "Processing Jes_Macallan:  39%|███▉      | 391/1000 [09:54<08:59,  1.13it/s]"
          ],
          "name": "stderr"
        },
        {
          "output_type": "stream",
          "text": [
            "Finished Downloading\n",
            "Finished Downloading\n"
          ],
          "name": "stdout"
        },
        {
          "output_type": "stream",
          "text": [
            "Processing Sarah_Roemer:  39%|███▉      | 393/1000 [09:55<08:21,  1.21it/s]"
          ],
          "name": "stderr"
        },
        {
          "output_type": "stream",
          "text": [
            "Finished Downloading\n"
          ],
          "name": "stdout"
        },
        {
          "output_type": "stream",
          "text": [
            "Processing Jane_Seymour:  39%|███▉      | 394/1000 [09:56<07:44,  1.31it/s]"
          ],
          "name": "stderr"
        },
        {
          "output_type": "stream",
          "text": [
            "Finished Downloading\n"
          ],
          "name": "stdout"
        },
        {
          "output_type": "stream",
          "text": [
            "Processing Zac_Efron:  40%|███▉      | 395/1000 [09:58<13:06,  1.30s/it]   "
          ],
          "name": "stderr"
        },
        {
          "output_type": "stream",
          "text": [
            "Finished Downloading\n"
          ],
          "name": "stdout"
        },
        {
          "output_type": "stream",
          "text": [
            "Processing Debra_Jo_Rupp:  40%|███▉      | 398/1000 [10:00<09:04,  1.10it/s]          "
          ],
          "name": "stderr"
        },
        {
          "output_type": "stream",
          "text": [
            "Finished Downloading\n",
            "Finished Downloading\n",
            "Finished Downloading\n"
          ],
          "name": "stdout"
        },
        {
          "output_type": "stream",
          "text": [
            "Processing Taryn_Southern:  40%|███▉      | 399/1000 [10:01<09:30,  1.05it/s]"
          ],
          "name": "stderr"
        },
        {
          "output_type": "stream",
          "text": [
            "Finished Downloading\n"
          ],
          "name": "stdout"
        },
        {
          "output_type": "stream",
          "text": [
            "Processing Josh_Brolin:  40%|████      | 400/1000 [10:01<08:37,  1.16it/s]   "
          ],
          "name": "stderr"
        },
        {
          "output_type": "stream",
          "text": [
            "Finished Downloading\n"
          ],
          "name": "stdout"
        },
        {
          "output_type": "stream",
          "text": [
            "Processing Joss_Stone:  40%|████      | 401/1000 [10:10<33:22,  3.34s/it] "
          ],
          "name": "stderr"
        },
        {
          "output_type": "stream",
          "text": [
            "Finished Downloading\n"
          ],
          "name": "stdout"
        },
        {
          "output_type": "stream",
          "text": [
            "Processing Naseeruddin_Shah:  40%|████      | 402/1000 [10:11<25:06,  2.52s/it]"
          ],
          "name": "stderr"
        },
        {
          "output_type": "stream",
          "text": [
            "Finished Downloading\n"
          ],
          "name": "stdout"
        },
        {
          "output_type": "stream",
          "text": [
            "Processing Linda_Fiorentino:  40%|████      | 403/1000 [10:12<19:35,  1.97s/it]"
          ],
          "name": "stderr"
        },
        {
          "output_type": "stream",
          "text": [
            "Finished Downloading\n"
          ],
          "name": "stdout"
        },
        {
          "output_type": "stream",
          "text": [
            "Processing Teala_Dunn:  40%|████      | 404/1000 [10:13<16:18,  1.64s/it]      "
          ],
          "name": "stderr"
        },
        {
          "output_type": "stream",
          "text": [
            "Finished Downloading\n"
          ],
          "name": "stdout"
        },
        {
          "output_type": "stream",
          "text": [
            "Processing Janice_Dickinson:  40%|████      | 405/1000 [10:13<13:40,  1.38s/it]"
          ],
          "name": "stderr"
        },
        {
          "output_type": "stream",
          "text": [
            "Finished Downloading\n"
          ],
          "name": "stdout"
        },
        {
          "output_type": "stream",
          "text": [
            "Processing Robert_Hoffman:  41%|████      | 406/1000 [10:14<10:23,  1.05s/it]  "
          ],
          "name": "stderr"
        },
        {
          "output_type": "stream",
          "text": [
            "Finished Downloading\n"
          ],
          "name": "stdout"
        },
        {
          "output_type": "stream",
          "text": [
            "Processing Hill_Harper:  41%|████      | 408/1000 [10:14<06:28,  1.52it/s]         "
          ],
          "name": "stderr"
        },
        {
          "output_type": "stream",
          "text": [
            "Finished Downloading\n",
            "Finished Downloading\n"
          ],
          "name": "stdout"
        },
        {
          "output_type": "stream",
          "text": [
            "Processing Salli_Richardson-Whitfield:  41%|████      | 409/1000 [10:15<05:51,  1.68it/s]"
          ],
          "name": "stderr"
        },
        {
          "output_type": "stream",
          "text": [
            "Finished Downloading\n"
          ],
          "name": "stdout"
        },
        {
          "output_type": "stream",
          "text": [
            "Processing Kiersten_Warren:  41%|████      | 410/1000 [10:21<21:23,  2.17s/it]           "
          ],
          "name": "stderr"
        },
        {
          "output_type": "stream",
          "text": [
            "Finished Downloading\n"
          ],
          "name": "stdout"
        },
        {
          "output_type": "stream",
          "text": [
            "Processing Melissa_George:  41%|████      | 411/1000 [10:21<16:24,  1.67s/it] "
          ],
          "name": "stderr"
        },
        {
          "output_type": "stream",
          "text": [
            "Finished Downloading\n"
          ],
          "name": "stdout"
        },
        {
          "output_type": "stream",
          "text": [
            "Processing Asa_Butterfield:  41%|████▏     | 413/1000 [10:22<09:17,  1.05it/s]"
          ],
          "name": "stderr"
        },
        {
          "output_type": "stream",
          "text": [
            "Finished Downloading\n",
            "Finished Downloading\n"
          ],
          "name": "stdout"
        },
        {
          "output_type": "stream",
          "text": [
            "Processing Chloe_Dykstra:  41%|████▏     | 414/1000 [10:22<08:54,  1.10it/s]  "
          ],
          "name": "stderr"
        },
        {
          "output_type": "stream",
          "text": [
            "Finished Downloading\n"
          ],
          "name": "stdout"
        },
        {
          "output_type": "stream",
          "text": [
            "Processing Jenna_Haze:  42%|████▏     | 415/1000 [10:23<08:37,  1.13it/s]   "
          ],
          "name": "stderr"
        },
        {
          "output_type": "stream",
          "text": [
            "Finished Downloading\n"
          ],
          "name": "stdout"
        },
        {
          "output_type": "stream",
          "text": [
            "Processing Wesley_Jonathan:  42%|████▏     | 416/1000 [10:24<08:30,  1.14it/s]"
          ],
          "name": "stderr"
        },
        {
          "output_type": "stream",
          "text": [
            "Finished Downloading\n"
          ],
          "name": "stdout"
        },
        {
          "output_type": "stream",
          "text": [
            "Processing Jordin_Sparks:  42%|████▏     | 417/1000 [10:25<08:26,  1.15it/s]  "
          ],
          "name": "stderr"
        },
        {
          "output_type": "stream",
          "text": [
            "Finished Downloading\n"
          ],
          "name": "stdout"
        },
        {
          "output_type": "stream",
          "text": [
            "Processing Roshon_Fegan:  42%|████▏     | 418/1000 [10:28<14:20,  1.48s/it] "
          ],
          "name": "stderr"
        },
        {
          "output_type": "stream",
          "text": [
            "Finished Downloading\n"
          ],
          "name": "stdout"
        },
        {
          "output_type": "stream",
          "text": [
            "Processing Carly_Chaikin:  42%|████▏     | 419/1000 [10:29<11:49,  1.22s/it]"
          ],
          "name": "stderr"
        },
        {
          "output_type": "stream",
          "text": [
            "Finished Downloading\n"
          ],
          "name": "stdout"
        },
        {
          "output_type": "stream",
          "text": [
            "Processing Stephen_Colbert:  42%|████▏     | 420/1000 [10:29<09:33,  1.01it/s]"
          ],
          "name": "stderr"
        },
        {
          "output_type": "stream",
          "text": [
            "Finished Downloading\n"
          ],
          "name": "stdout"
        },
        {
          "output_type": "stream",
          "text": [
            "Processing Peter_Gallagher:  42%|████▏     | 421/1000 [10:30<09:48,  1.02s/it]"
          ],
          "name": "stderr"
        },
        {
          "output_type": "stream",
          "text": [
            "Finished Downloading\n"
          ],
          "name": "stdout"
        },
        {
          "output_type": "stream",
          "text": [
            "Processing Josh_Holloway:  42%|████▏     | 422/1000 [10:31<10:34,  1.10s/it]  "
          ],
          "name": "stderr"
        },
        {
          "output_type": "stream",
          "text": [
            "Finished Downloading\n"
          ],
          "name": "stdout"
        },
        {
          "output_type": "stream",
          "text": [
            "Processing Paul_Feig:  42%|████▏     | 423/1000 [10:34<14:57,  1.56s/it]    "
          ],
          "name": "stderr"
        },
        {
          "output_type": "stream",
          "text": [
            "Finished Downloading\n"
          ],
          "name": "stdout"
        },
        {
          "output_type": "stream",
          "text": [
            "Processing Thandie_Newton:  42%|████▏     | 424/1000 [10:36<16:22,  1.71s/it]"
          ],
          "name": "stderr"
        },
        {
          "output_type": "stream",
          "text": [
            "Finished Downloading\n"
          ],
          "name": "stdout"
        },
        {
          "output_type": "stream",
          "text": [
            "Processing Michelle_Money:  42%|████▎     | 425/1000 [10:36<12:43,  1.33s/it]"
          ],
          "name": "stderr"
        },
        {
          "output_type": "stream",
          "text": [
            "Finished Downloading\n"
          ],
          "name": "stdout"
        },
        {
          "output_type": "stream",
          "text": [
            "Processing Mary_Elizabeth_Winstead:  43%|████▎     | 426/1000 [10:37<10:50,  1.13s/it]"
          ],
          "name": "stderr"
        },
        {
          "output_type": "stream",
          "text": [
            "Finished Downloading\n"
          ],
          "name": "stdout"
        },
        {
          "output_type": "stream",
          "text": [
            "Processing Fawad_Khan:  43%|████▎     | 427/1000 [10:37<08:22,  1.14it/s]             "
          ],
          "name": "stderr"
        },
        {
          "output_type": "stream",
          "text": [
            "Finished Downloading\n"
          ],
          "name": "stdout"
        },
        {
          "output_type": "stream",
          "text": [
            "Processing Ken_Marino:  43%|████▎     | 428/1000 [10:38<06:32,  1.46it/s]"
          ],
          "name": "stderr"
        },
        {
          "output_type": "stream",
          "text": [
            "Finished Downloading\n"
          ],
          "name": "stdout"
        },
        {
          "output_type": "stream",
          "text": [
            "Processing Olly_Alexander:  43%|████▎     | 429/1000 [10:39<09:44,  1.02s/it]"
          ],
          "name": "stderr"
        },
        {
          "output_type": "stream",
          "text": [
            "Finished Downloading\n"
          ],
          "name": "stdout"
        },
        {
          "output_type": "stream",
          "text": [
            "Processing Jamie_Brewer:  43%|████▎     | 430/1000 [10:40<07:39,  1.24it/s]  "
          ],
          "name": "stderr"
        },
        {
          "output_type": "stream",
          "text": [
            "Finished Downloading\n"
          ],
          "name": "stdout"
        },
        {
          "output_type": "stream",
          "text": [
            "Processing Marisa_Ramirez:  43%|████▎     | 431/1000 [10:41<07:22,  1.28it/s]"
          ],
          "name": "stderr"
        },
        {
          "output_type": "stream",
          "text": [
            "Finished Downloading\n",
            "Finished Downloading\n"
          ],
          "name": "stdout"
        },
        {
          "output_type": "stream",
          "text": [
            "Processing Kathryn_Newton:  43%|████▎     | 433/1000 [10:42<06:55,  1.36it/s]"
          ],
          "name": "stderr"
        },
        {
          "output_type": "stream",
          "text": [
            "Finished Downloading\n"
          ],
          "name": "stdout"
        },
        {
          "output_type": "stream",
          "text": [
            "Processing Estelle_Harris:  43%|████▎     | 434/1000 [10:42<06:06,  1.55it/s]"
          ],
          "name": "stderr"
        },
        {
          "output_type": "stream",
          "text": [
            "Finished Downloading\n"
          ],
          "name": "stdout"
        },
        {
          "output_type": "stream",
          "text": [
            "Processing Meat_Loaf:  44%|████▎     | 435/1000 [10:42<05:01,  1.87it/s]     "
          ],
          "name": "stderr"
        },
        {
          "output_type": "stream",
          "text": [
            "Finished Downloading\n"
          ],
          "name": "stdout"
        },
        {
          "output_type": "stream",
          "text": [
            "Processing JJ_Feild:  44%|████▎     | 436/1000 [10:43<04:35,  2.05it/s] "
          ],
          "name": "stderr"
        },
        {
          "output_type": "stream",
          "text": [
            "Finished Downloading\n"
          ],
          "name": "stdout"
        },
        {
          "output_type": "stream",
          "text": [
            "Processing Pierre_Niney:  44%|████▎     | 437/1000 [10:43<04:01,  2.33it/s]"
          ],
          "name": "stderr"
        },
        {
          "output_type": "stream",
          "text": [
            "Finished Downloading\n"
          ],
          "name": "stdout"
        },
        {
          "output_type": "stream",
          "text": [
            "Processing John_de_Lancie:  44%|████▍     | 438/1000 [10:44<04:01,  2.33it/s]"
          ],
          "name": "stderr"
        },
        {
          "output_type": "stream",
          "text": [
            "Finished Downloading\n"
          ],
          "name": "stdout"
        },
        {
          "output_type": "stream",
          "text": [
            "Processing Chelsea_Handler:  44%|████▍     | 439/1000 [10:44<03:45,  2.49it/s]"
          ],
          "name": "stderr"
        },
        {
          "output_type": "stream",
          "text": [
            "Finished Downloading\n"
          ],
          "name": "stdout"
        },
        {
          "output_type": "stream",
          "text": [
            "Processing Will_Arnett:  44%|████▍     | 441/1000 [10:44<03:01,  3.08it/s]  "
          ],
          "name": "stderr"
        },
        {
          "output_type": "stream",
          "text": [
            "Finished Downloading\n",
            "Finished Downloading\n"
          ],
          "name": "stdout"
        },
        {
          "output_type": "stream",
          "text": [
            "Processing Trent_Ford:  44%|████▍     | 442/1000 [10:46<06:17,  1.48it/s] "
          ],
          "name": "stderr"
        },
        {
          "output_type": "stream",
          "text": [
            "Finished Downloading\n"
          ],
          "name": "stdout"
        },
        {
          "output_type": "stream",
          "text": [
            "Processing Patrick_Fugit:  44%|████▍     | 443/1000 [10:47<07:32,  1.23it/s]"
          ],
          "name": "stderr"
        },
        {
          "output_type": "stream",
          "text": [
            "Finished Downloading\n"
          ],
          "name": "stdout"
        },
        {
          "output_type": "stream",
          "text": [
            "Processing Tracy_Morgan:  44%|████▍     | 444/1000 [10:48<06:33,  1.41it/s] "
          ],
          "name": "stderr"
        },
        {
          "output_type": "stream",
          "text": [
            "Finished Downloading\n"
          ],
          "name": "stdout"
        },
        {
          "output_type": "stream",
          "text": [
            "Processing Nazanin_Boniadi:  44%|████▍     | 445/1000 [10:49<07:53,  1.17it/s]"
          ],
          "name": "stderr"
        },
        {
          "output_type": "stream",
          "text": [
            "Finished Downloading\n"
          ],
          "name": "stdout"
        },
        {
          "output_type": "stream",
          "text": [
            "Processing Sam_Waterston:  45%|████▍     | 446/1000 [10:49<06:13,  1.48it/s]  "
          ],
          "name": "stderr"
        },
        {
          "output_type": "stream",
          "text": [
            "Finished Downloading\n"
          ],
          "name": "stdout"
        },
        {
          "output_type": "stream",
          "text": [
            "Processing Jonathan_Sadowski:  45%|████▍     | 447/1000 [10:49<05:07,  1.80it/s]"
          ],
          "name": "stderr"
        },
        {
          "output_type": "stream",
          "text": [
            "Finished Downloading\n"
          ],
          "name": "stdout"
        },
        {
          "output_type": "stream",
          "text": [
            "Processing Sabrina_Bryan:  45%|████▍     | 448/1000 [10:50<06:51,  1.34it/s]    "
          ],
          "name": "stderr"
        },
        {
          "output_type": "stream",
          "text": [
            "Finished Downloading\n"
          ],
          "name": "stdout"
        },
        {
          "output_type": "stream",
          "text": [
            "Processing Lee_Marvin:  45%|████▍     | 449/1000 [10:52<09:59,  1.09s/it]   "
          ],
          "name": "stderr"
        },
        {
          "output_type": "stream",
          "text": [
            "Finished Downloading\n"
          ],
          "name": "stdout"
        },
        {
          "output_type": "stream",
          "text": [
            "Processing Gugu_Mbatha-Raw:  45%|████▌     | 450/1000 [10:53<09:23,  1.02s/it]"
          ],
          "name": "stderr"
        },
        {
          "output_type": "stream",
          "text": [
            "Finished Downloading\n"
          ],
          "name": "stdout"
        },
        {
          "output_type": "stream",
          "text": [
            "Processing Virginia_Williams:  45%|████▌     | 451/1000 [11:25<1:34:46, 10.36s/it]"
          ],
          "name": "stderr"
        },
        {
          "output_type": "stream",
          "text": [
            "Finished Downloading\n"
          ],
          "name": "stdout"
        },
        {
          "output_type": "stream",
          "text": [
            "Processing Kara_Hayward:  45%|████▌     | 452/1000 [11:26<1:07:01,  7.34s/it]     "
          ],
          "name": "stderr"
        },
        {
          "output_type": "stream",
          "text": [
            "Finished Downloading\n"
          ],
          "name": "stdout"
        },
        {
          "output_type": "stream",
          "text": [
            "Processing Wendi_McLendon-Covey:  45%|████▌     | 453/1000 [11:26<47:41,  5.23s/it]"
          ],
          "name": "stderr"
        },
        {
          "output_type": "stream",
          "text": [
            "Finished Downloading\n"
          ],
          "name": "stdout"
        },
        {
          "output_type": "stream",
          "text": [
            "Processing Jeanne_Tripplehorn:  45%|████▌     | 454/1000 [11:28<37:45,  4.15s/it]  "
          ],
          "name": "stderr"
        },
        {
          "output_type": "stream",
          "text": [
            "Finished Downloading\n"
          ],
          "name": "stdout"
        },
        {
          "output_type": "stream",
          "text": [
            "Processing Sky_Ferreira:  46%|████▌     | 455/1000 [11:29<31:19,  3.45s/it]      "
          ],
          "name": "stderr"
        },
        {
          "output_type": "stream",
          "text": [
            "Finished Downloading\n"
          ],
          "name": "stdout"
        },
        {
          "output_type": "stream",
          "text": [
            "Processing Richard_Belzer:  46%|████▌     | 456/1000 [11:30<23:28,  2.59s/it]"
          ],
          "name": "stderr"
        },
        {
          "output_type": "stream",
          "text": [
            "Finished Downloading\n"
          ],
          "name": "stdout"
        },
        {
          "output_type": "stream",
          "text": [
            "Processing Penny_Johnson:  46%|████▌     | 457/1000 [11:30<17:11,  1.90s/it] "
          ],
          "name": "stderr"
        },
        {
          "output_type": "stream",
          "text": [
            "Finished Downloading\n"
          ],
          "name": "stdout"
        },
        {
          "output_type": "stream",
          "text": [
            "Processing Dale_Dickey:  46%|████▌     | 458/1000 [11:31<13:59,  1.55s/it]  "
          ],
          "name": "stderr"
        },
        {
          "output_type": "stream",
          "text": [
            "Finished Downloading\n"
          ],
          "name": "stdout"
        },
        {
          "output_type": "stream",
          "text": [
            "Processing Miley_Cyrus:  46%|████▌     | 459/1000 [11:33<15:03,  1.67s/it]"
          ],
          "name": "stderr"
        },
        {
          "output_type": "stream",
          "text": [
            "Finished Downloading\n"
          ],
          "name": "stdout"
        },
        {
          "output_type": "stream",
          "text": [
            "Processing Sarah_Ramos:  46%|████▌     | 460/1000 [11:36<19:15,  2.14s/it]"
          ],
          "name": "stderr"
        },
        {
          "output_type": "stream",
          "text": [
            "Finished Downloading\n"
          ],
          "name": "stdout"
        },
        {
          "output_type": "stream",
          "text": [
            "Processing Esther_Williams:  46%|████▌     | 461/1000 [11:38<19:04,  2.12s/it]"
          ],
          "name": "stderr"
        },
        {
          "output_type": "stream",
          "text": [
            "Finished Downloading\n"
          ],
          "name": "stdout"
        },
        {
          "output_type": "stream",
          "text": [
            "Processing Michael_Stahl-David:  46%|████▌     | 462/1000 [11:39<14:22,  1.60s/it]"
          ],
          "name": "stderr"
        },
        {
          "output_type": "stream",
          "text": [
            "Finished Downloading\n"
          ],
          "name": "stdout"
        },
        {
          "output_type": "stream",
          "text": [
            "Processing Susan_Hayward:  46%|████▋     | 463/1000 [11:39<10:50,  1.21s/it]      "
          ],
          "name": "stderr"
        },
        {
          "output_type": "stream",
          "text": [
            "Finished Downloading\n"
          ],
          "name": "stdout"
        },
        {
          "output_type": "stream",
          "text": [
            "Processing Shelley_Winters:  46%|████▋     | 464/1000 [11:40<09:06,  1.02s/it]"
          ],
          "name": "stderr"
        },
        {
          "output_type": "stream",
          "text": [
            "Finished Downloading\n"
          ],
          "name": "stdout"
        },
        {
          "output_type": "stream",
          "text": [
            "Processing Ron_Eldard:  46%|████▋     | 465/1000 [11:40<07:25,  1.20it/s]     "
          ],
          "name": "stderr"
        },
        {
          "output_type": "stream",
          "text": [
            "Finished Downloading\n"
          ],
          "name": "stdout"
        },
        {
          "output_type": "stream",
          "text": [
            "Processing Kelly_Rowan:  47%|████▋     | 466/1000 [11:40<06:28,  1.37it/s]"
          ],
          "name": "stderr"
        },
        {
          "output_type": "stream",
          "text": [
            "Finished Downloading\n"
          ],
          "name": "stdout"
        },
        {
          "output_type": "stream",
          "text": [
            "Processing Rose_McIver:  47%|████▋     | 467/1000 [11:41<05:52,  1.51it/s]"
          ],
          "name": "stderr"
        },
        {
          "output_type": "stream",
          "text": [
            "Finished Downloading\n"
          ],
          "name": "stdout"
        },
        {
          "output_type": "stream",
          "text": [
            "Processing Denise_Crosby:  47%|████▋     | 468/1000 [11:41<04:50,  1.83it/s]"
          ],
          "name": "stderr"
        },
        {
          "output_type": "stream",
          "text": [
            "Finished Downloading\n"
          ],
          "name": "stdout"
        },
        {
          "output_type": "stream",
          "text": [
            "Processing Bojana_Novakovic:  47%|████▋     | 469/1000 [11:43<09:24,  1.06s/it]"
          ],
          "name": "stderr"
        },
        {
          "output_type": "stream",
          "text": [
            "Finished Downloading\n"
          ],
          "name": "stdout"
        },
        {
          "output_type": "stream",
          "text": [
            "Processing Marie_Osmond:  47%|████▋     | 470/1000 [11:44<08:16,  1.07it/s]    "
          ],
          "name": "stderr"
        },
        {
          "output_type": "stream",
          "text": [
            "Finished Downloading\n"
          ],
          "name": "stdout"
        },
        {
          "output_type": "stream",
          "text": [
            "Processing Mika_Boorem:  47%|████▋     | 471/1000 [11:47<13:50,  1.57s/it] "
          ],
          "name": "stderr"
        },
        {
          "output_type": "stream",
          "text": [
            "Finished Downloading\n"
          ],
          "name": "stdout"
        },
        {
          "output_type": "stream",
          "text": [
            "Processing Maitland_Ward:  47%|████▋     | 472/1000 [11:49<13:22,  1.52s/it]"
          ],
          "name": "stderr"
        },
        {
          "output_type": "stream",
          "text": [
            "Finished Downloading\n"
          ],
          "name": "stdout"
        },
        {
          "output_type": "stream",
          "text": [
            "Processing Fiona_Shaw:  47%|████▋     | 473/1000 [11:50<13:06,  1.49s/it]"
          ],
          "name": "stderr"
        },
        {
          "output_type": "stream",
          "text": [
            "Finished Downloading\n",
            "Finished Downloading\n"
          ],
          "name": "stdout"
        },
        {
          "output_type": "stream",
          "text": [
            "Processing Kim_Richards:  48%|████▊     | 475/1000 [11:53<13:04,  1.50s/it]"
          ],
          "name": "stderr"
        },
        {
          "output_type": "stream",
          "text": [
            "Finished Downloading\n"
          ],
          "name": "stdout"
        },
        {
          "output_type": "stream",
          "text": [
            "Processing Natalie_Zea:  48%|████▊     | 476/1000 [11:54<13:01,  1.49s/it] "
          ],
          "name": "stderr"
        },
        {
          "output_type": "stream",
          "text": [
            "Finished Downloading\n"
          ],
          "name": "stdout"
        },
        {
          "output_type": "stream",
          "text": [
            "Processing Gloria_Swanson:  48%|████▊     | 477/1000 [11:55<10:40,  1.23s/it]"
          ],
          "name": "stderr"
        },
        {
          "output_type": "stream",
          "text": [
            "Finished Downloading\n"
          ],
          "name": "stdout"
        },
        {
          "output_type": "stream",
          "text": [
            "Processing Nora_Arnezeder:  48%|████▊     | 478/1000 [11:56<09:10,  1.06s/it]"
          ],
          "name": "stderr"
        },
        {
          "output_type": "stream",
          "text": [
            "Finished Downloading\n"
          ],
          "name": "stdout"
        },
        {
          "output_type": "stream",
          "text": [
            "Processing Dot-Marie_Jones:  48%|████▊     | 479/1000 [11:57<08:46,  1.01s/it]"
          ],
          "name": "stderr"
        },
        {
          "output_type": "stream",
          "text": [
            "Finished Downloading\n"
          ],
          "name": "stdout"
        },
        {
          "output_type": "stream",
          "text": [
            "Processing Peter_Berg:  48%|████▊     | 480/1000 [11:57<06:47,  1.27it/s]     "
          ],
          "name": "stderr"
        },
        {
          "output_type": "stream",
          "text": [
            "Finished Downloading\n"
          ],
          "name": "stdout"
        },
        {
          "output_type": "stream",
          "text": [
            "Processing Halston_Sage:  48%|████▊     | 481/1000 [11:58<07:40,  1.13it/s]"
          ],
          "name": "stderr"
        },
        {
          "output_type": "stream",
          "text": [
            "Finished Downloading\n"
          ],
          "name": "stdout"
        },
        {
          "output_type": "stream",
          "text": [
            "Processing Luke_Wilson:  48%|████▊     | 482/1000 [11:58<06:07,  1.41it/s] "
          ],
          "name": "stderr"
        },
        {
          "output_type": "stream",
          "text": [
            "Finished Downloading\n"
          ],
          "name": "stdout"
        },
        {
          "output_type": "stream",
          "text": [
            "Processing Devon_Bostick:  48%|████▊     | 483/1000 [12:00<07:47,  1.11it/s]"
          ],
          "name": "stderr"
        },
        {
          "output_type": "stream",
          "text": [
            "Finished Downloading\n"
          ],
          "name": "stdout"
        },
        {
          "output_type": "stream",
          "text": [
            "Processing Ben_Daniels:  48%|████▊     | 484/1000 [12:01<07:37,  1.13it/s]  "
          ],
          "name": "stderr"
        },
        {
          "output_type": "stream",
          "text": [
            "Finished Downloading\n"
          ],
          "name": "stdout"
        },
        {
          "output_type": "stream",
          "text": [
            "Processing Jon_Favreau:  48%|████▊     | 485/1000 [12:04<14:10,  1.65s/it]"
          ],
          "name": "stderr"
        },
        {
          "output_type": "stream",
          "text": [
            "Finished Downloading\n"
          ],
          "name": "stdout"
        },
        {
          "output_type": "stream",
          "text": [
            "Processing Alexandra_Daddario:  49%|████▊     | 486/1000 [12:05<11:32,  1.35s/it]"
          ],
          "name": "stderr"
        },
        {
          "output_type": "stream",
          "text": [
            "Finished Downloading\n"
          ],
          "name": "stdout"
        },
        {
          "output_type": "stream",
          "text": [
            "Processing Melissa_McBride:  49%|████▊     | 487/1000 [12:05<09:13,  1.08s/it]   "
          ],
          "name": "stderr"
        },
        {
          "output_type": "stream",
          "text": [
            "Finished Downloading\n"
          ],
          "name": "stdout"
        },
        {
          "output_type": "stream",
          "text": [
            "Processing Mark_Indelicato:  49%|████▉     | 488/1000 [12:06<08:32,  1.00s/it]"
          ],
          "name": "stderr"
        },
        {
          "output_type": "stream",
          "text": [
            "Finished Downloading\n"
          ],
          "name": "stdout"
        },
        {
          "output_type": "stream",
          "text": [
            "Processing Helen_Mirren:  49%|████▉     | 490/1000 [12:07<05:33,  1.53it/s] "
          ],
          "name": "stderr"
        },
        {
          "output_type": "stream",
          "text": [
            "Finished Downloading\n",
            "Finished Downloading\n"
          ],
          "name": "stdout"
        },
        {
          "output_type": "stream",
          "text": [
            "Processing Daniel_Auteuil:  49%|████▉     | 491/1000 [12:07<04:40,  1.81it/s]"
          ],
          "name": "stderr"
        },
        {
          "output_type": "stream",
          "text": [
            "Finished Downloading\n"
          ],
          "name": "stdout"
        },
        {
          "output_type": "stream",
          "text": [
            "Processing Telma_Hopkins:  49%|████▉     | 492/1000 [12:10<10:19,  1.22s/it] "
          ],
          "name": "stderr"
        },
        {
          "output_type": "stream",
          "text": [
            "Finished Downloading\n"
          ],
          "name": "stdout"
        },
        {
          "output_type": "stream",
          "text": [
            "Processing Eva_Longoria:  49%|████▉     | 493/1000 [12:10<07:57,  1.06it/s] "
          ],
          "name": "stderr"
        },
        {
          "output_type": "stream",
          "text": [
            "Finished Downloading\n"
          ],
          "name": "stdout"
        },
        {
          "output_type": "stream",
          "text": [
            "Processing Helena_Christensen:  50%|████▉     | 495/1000 [12:11<05:19,  1.58it/s]"
          ],
          "name": "stderr"
        },
        {
          "output_type": "stream",
          "text": [
            "Finished Downloading\n",
            "Finished Downloading\n"
          ],
          "name": "stdout"
        },
        {
          "output_type": "stream",
          "text": [
            "Processing Thad_Luckinbill:  50%|████▉     | 496/1000 [12:11<04:52,  1.72it/s]   "
          ],
          "name": "stderr"
        },
        {
          "output_type": "stream",
          "text": [
            "Finished Downloading\n"
          ],
          "name": "stdout"
        },
        {
          "output_type": "stream",
          "text": [
            "Processing Susanne_Bier:  50%|████▉     | 498/1000 [12:13<05:08,  1.63it/s]"
          ],
          "name": "stderr"
        },
        {
          "output_type": "stream",
          "text": [
            "Finished Downloading\n",
            "Finished Downloading\n"
          ],
          "name": "stdout"
        },
        {
          "output_type": "stream",
          "text": [
            "Processing Rob_Pinkston:  50%|████▉     | 499/1000 [12:13<03:58,  2.10it/s]"
          ],
          "name": "stderr"
        },
        {
          "output_type": "stream",
          "text": [
            "Finished Downloading\n"
          ],
          "name": "stdout"
        },
        {
          "output_type": "stream",
          "text": [
            "Processing Kari_Matchett:  50%|█████     | 500/1000 [12:14<05:12,  1.60it/s]"
          ],
          "name": "stderr"
        },
        {
          "output_type": "stream",
          "text": [
            "Finished Downloading\n"
          ],
          "name": "stdout"
        },
        {
          "output_type": "stream",
          "text": [
            "Processing Mos_Def:  50%|█████     | 501/1000 [12:15<06:04,  1.37it/s]      "
          ],
          "name": "stderr"
        },
        {
          "output_type": "stream",
          "text": [
            "Finished Downloading\n"
          ],
          "name": "stdout"
        },
        {
          "output_type": "stream",
          "text": [
            "Processing Randy_Harrison:  50%|█████     | 502/1000 [12:17<09:05,  1.09s/it]"
          ],
          "name": "stderr"
        },
        {
          "output_type": "stream",
          "text": [
            "Finished Downloading\n"
          ],
          "name": "stdout"
        },
        {
          "output_type": "stream",
          "text": [
            "Processing Merritt_Wever:  50%|█████     | 503/1000 [12:18<08:26,  1.02s/it] "
          ],
          "name": "stderr"
        },
        {
          "output_type": "stream",
          "text": [
            "Finished Downloading\n"
          ],
          "name": "stdout"
        },
        {
          "output_type": "stream",
          "text": [
            "Processing Nick_Cave:  50%|█████     | 504/1000 [12:19<09:57,  1.21s/it]    "
          ],
          "name": "stderr"
        },
        {
          "output_type": "stream",
          "text": [
            "Finished Downloading\n"
          ],
          "name": "stdout"
        },
        {
          "output_type": "stream",
          "text": [
            "Processing Samira_Wiley:  50%|█████     | 505/1000 [12:21<12:30,  1.52s/it]"
          ],
          "name": "stderr"
        },
        {
          "output_type": "stream",
          "text": [
            "Finished Downloading\n"
          ],
          "name": "stdout"
        },
        {
          "output_type": "stream",
          "text": [
            "Processing Ziyi_Zhang:  51%|█████     | 506/1000 [12:53<1:27:40, 10.65s/it]  "
          ],
          "name": "stderr"
        },
        {
          "output_type": "stream",
          "text": [
            "Finished Downloading\n"
          ],
          "name": "stdout"
        },
        {
          "output_type": "stream",
          "text": [
            "Processing Vanessa_Branch:  51%|█████     | 507/1000 [12:54<1:02:21,  7.59s/it]"
          ],
          "name": "stderr"
        },
        {
          "output_type": "stream",
          "text": [
            "Finished Downloading\n"
          ],
          "name": "stdout"
        },
        {
          "output_type": "stream",
          "text": [
            "Processing Chase_Masterson:  51%|█████     | 508/1000 [12:55<45:52,  5.59s/it]"
          ],
          "name": "stderr"
        },
        {
          "output_type": "stream",
          "text": [
            "Finished Downloading\n"
          ],
          "name": "stdout"
        },
        {
          "output_type": "stream",
          "text": [
            "Processing JoAnna_Garcia_Swisher:  51%|█████     | 509/1000 [12:55<32:44,  4.00s/it]"
          ],
          "name": "stderr"
        },
        {
          "output_type": "stream",
          "text": [
            "Finished Downloading\n",
            "Finished Downloading\n"
          ],
          "name": "stdout"
        },
        {
          "output_type": "stream",
          "text": [
            "Processing Walter_Matthau:  51%|█████     | 511/1000 [12:57<24:44,  3.03s/it]       "
          ],
          "name": "stderr"
        },
        {
          "output_type": "stream",
          "text": [
            "Finished Downloading\n"
          ],
          "name": "stdout"
        },
        {
          "output_type": "stream",
          "text": [
            "Processing Paul_McGann:  51%|█████     | 512/1000 [13:28<1:34:20, 11.60s/it]   "
          ],
          "name": "stderr"
        },
        {
          "output_type": "stream",
          "text": [
            "Finished Downloading\n"
          ],
          "name": "stdout"
        },
        {
          "output_type": "stream",
          "text": [
            "Processing Freddie_Prinze:  51%|█████▏    | 513/1000 [13:30<1:09:19,  8.54s/it]"
          ],
          "name": "stderr"
        },
        {
          "output_type": "stream",
          "text": [
            "Finished Downloading\n"
          ],
          "name": "stdout"
        },
        {
          "output_type": "stream",
          "text": [
            "Processing Eddie_Izzard:  51%|█████▏    | 514/1000 [13:30<49:23,  6.10s/it]  "
          ],
          "name": "stderr"
        },
        {
          "output_type": "stream",
          "text": [
            "Finished Downloading\n"
          ],
          "name": "stdout"
        },
        {
          "output_type": "stream",
          "text": [
            "Processing Kevin_Smith:  52%|█████▏    | 515/1000 [13:30<35:37,  4.41s/it] "
          ],
          "name": "stderr"
        },
        {
          "output_type": "stream",
          "text": [
            "Finished Downloading\n"
          ],
          "name": "stdout"
        },
        {
          "output_type": "stream",
          "text": [
            "Processing Molly_Shannon:  52%|█████▏    | 516/1000 [13:32<29:38,  3.67s/it]"
          ],
          "name": "stderr"
        },
        {
          "output_type": "stream",
          "text": [
            "Finished Downloading\n"
          ],
          "name": "stdout"
        },
        {
          "output_type": "stream",
          "text": [
            "Processing Parineeti_Chopra:  52%|█████▏    | 517/1000 [13:33<21:25,  2.66s/it]"
          ],
          "name": "stderr"
        },
        {
          "output_type": "stream",
          "text": [
            "Finished Downloading\n"
          ],
          "name": "stdout"
        },
        {
          "output_type": "stream",
          "text": [
            "Processing Jane_Lynch:  52%|█████▏    | 518/1000 [13:33<16:23,  2.04s/it]      "
          ],
          "name": "stderr"
        },
        {
          "output_type": "stream",
          "text": [
            "Finished Downloading\n"
          ],
          "name": "stdout"
        },
        {
          "output_type": "stream",
          "text": [
            "Processing Ted_Levine:  52%|█████▏    | 519/1000 [13:34<12:43,  1.59s/it]"
          ],
          "name": "stderr"
        },
        {
          "output_type": "stream",
          "text": [
            "Finished Downloading\n"
          ],
          "name": "stdout"
        },
        {
          "output_type": "stream",
          "text": [
            "Processing Greg_Germann:  52%|█████▏    | 520/1000 [13:35<11:05,  1.39s/it]"
          ],
          "name": "stderr"
        },
        {
          "output_type": "stream",
          "text": [
            "Finished Downloading\n"
          ],
          "name": "stdout"
        },
        {
          "output_type": "stream",
          "text": [
            "Processing China_Chow:  52%|█████▏    | 521/1000 [13:36<10:17,  1.29s/it]  "
          ],
          "name": "stderr"
        },
        {
          "output_type": "stream",
          "text": [
            "Finished Downloading\n"
          ],
          "name": "stdout"
        },
        {
          "output_type": "stream",
          "text": [
            "Processing Dennis_Franz:  52%|█████▏    | 522/1000 [13:36<07:53,  1.01it/s]  "
          ],
          "name": "stderr"
        },
        {
          "output_type": "stream",
          "text": [
            "Finished Downloading\n",
            "Finished Downloading\n"
          ],
          "name": "stdout"
        },
        {
          "output_type": "stream",
          "text": [
            "Processing Keith_David:  52%|█████▏    | 524/1000 [13:37<06:08,  1.29it/s] "
          ],
          "name": "stderr"
        },
        {
          "output_type": "stream",
          "text": [
            "Finished Downloading\n"
          ],
          "name": "stdout"
        },
        {
          "output_type": "stream",
          "text": [
            "Processing Cherie_Lunghi:  52%|█████▎    | 525/1000 [13:37<05:00,  1.58it/s]"
          ],
          "name": "stderr"
        },
        {
          "output_type": "stream",
          "text": [
            "Finished Downloading\n"
          ],
          "name": "stdout"
        },
        {
          "output_type": "stream",
          "text": [
            "Processing Jana_Pallaske:  53%|█████▎    | 526/1000 [14:09<1:18:35,  9.95s/it]"
          ],
          "name": "stderr"
        },
        {
          "output_type": "stream",
          "text": [
            "Finished Downloading\n"
          ],
          "name": "stdout"
        },
        {
          "output_type": "stream",
          "text": [
            "Processing Alice_Englert:  53%|█████▎    | 527/1000 [14:09<56:13,  7.13s/it]"
          ],
          "name": "stderr"
        },
        {
          "output_type": "stream",
          "text": [
            "Finished Downloading\n"
          ],
          "name": "stdout"
        },
        {
          "output_type": "stream",
          "text": [
            "Processing Sheree_J:  53%|█████▎    | 528/1000 [14:11<43:30,  5.53s/it]     "
          ],
          "name": "stderr"
        },
        {
          "output_type": "stream",
          "text": [
            "Finished Downloading\n"
          ],
          "name": "stdout"
        },
        {
          "output_type": "stream",
          "text": [
            "Processing Kenton_Duty:  53%|█████▎    | 529/1000 [14:12<31:33,  4.02s/it]"
          ],
          "name": "stderr"
        },
        {
          "output_type": "stream",
          "text": [
            "Finished Downloading\n"
          ],
          "name": "stdout"
        },
        {
          "output_type": "stream",
          "text": [
            "Processing Jonathan_Keltz:  53%|█████▎    | 531/1000 [14:13<17:16,  2.21s/it]"
          ],
          "name": "stderr"
        },
        {
          "output_type": "stream",
          "text": [
            "Finished Downloading\n",
            "Finished Downloading\n"
          ],
          "name": "stdout"
        },
        {
          "output_type": "stream",
          "text": [
            "Processing Raviv_Ullman:  53%|█████▎    | 532/1000 [14:13<12:43,  1.63s/it]  "
          ],
          "name": "stderr"
        },
        {
          "output_type": "stream",
          "text": [
            "Finished Downloading\n"
          ],
          "name": "stdout"
        },
        {
          "output_type": "stream",
          "text": [
            "Processing Malik_Yoba:  53%|█████▎    | 533/1000 [14:14<11:13,  1.44s/it]  "
          ],
          "name": "stderr"
        },
        {
          "output_type": "stream",
          "text": [
            "Finished Downloading\n"
          ],
          "name": "stdout"
        },
        {
          "output_type": "stream",
          "text": [
            "Processing Aidan_Gillen:  53%|█████▎    | 534/1000 [14:15<11:26,  1.47s/it]"
          ],
          "name": "stderr"
        },
        {
          "output_type": "stream",
          "text": [
            "Finished Downloading\n"
          ],
          "name": "stdout"
        },
        {
          "output_type": "stream",
          "text": [
            "Processing Scott_Disick:  54%|█████▎    | 535/1000 [14:16<08:57,  1.16s/it]"
          ],
          "name": "stderr"
        },
        {
          "output_type": "stream",
          "text": [
            "Finished Downloading\n"
          ],
          "name": "stdout"
        },
        {
          "output_type": "stream",
          "text": [
            "Processing Sylvia_Hoeks:  54%|█████▎    | 536/1000 [14:17<08:46,  1.13s/it]"
          ],
          "name": "stderr"
        },
        {
          "output_type": "stream",
          "text": [
            "Finished Downloading\n"
          ],
          "name": "stdout"
        },
        {
          "output_type": "stream",
          "text": [
            "Processing Gina_Carano:  54%|█████▎    | 537/1000 [14:17<06:48,  1.13it/s] "
          ],
          "name": "stderr"
        },
        {
          "output_type": "stream",
          "text": [
            "Finished Downloading\n"
          ],
          "name": "stdout"
        },
        {
          "output_type": "stream",
          "text": [
            "Processing Stana_Katic:  54%|█████▍    | 538/1000 [14:18<06:11,  1.24it/s]"
          ],
          "name": "stderr"
        },
        {
          "output_type": "stream",
          "text": [
            "Finished Downloading\n"
          ],
          "name": "stdout"
        },
        {
          "output_type": "stream",
          "text": [
            "Processing Ryan_Kwanten:  54%|█████▍    | 539/1000 [14:18<05:25,  1.42it/s]"
          ],
          "name": "stderr"
        },
        {
          "output_type": "stream",
          "text": [
            "Finished Downloading\n"
          ],
          "name": "stdout"
        },
        {
          "output_type": "stream",
          "text": [
            "Processing Kay_Francis:  54%|█████▍    | 540/1000 [14:20<07:25,  1.03it/s] "
          ],
          "name": "stderr"
        },
        {
          "output_type": "stream",
          "text": [
            "Finished Downloading\n"
          ],
          "name": "stdout"
        },
        {
          "output_type": "stream",
          "text": [
            "Processing Andrew_Marr:  54%|█████▍    | 541/1000 [14:21<07:27,  1.03it/s]"
          ],
          "name": "stderr"
        },
        {
          "output_type": "stream",
          "text": [
            "Finished Downloading\n"
          ],
          "name": "stdout"
        },
        {
          "output_type": "stream",
          "text": [
            "Processing Fred_Dryer:  54%|█████▍    | 542/1000 [14:22<06:58,  1.10it/s] "
          ],
          "name": "stderr"
        },
        {
          "output_type": "stream",
          "text": [
            "Finished Downloading\n"
          ],
          "name": "stdout"
        },
        {
          "output_type": "stream",
          "text": [
            "Processing Yvonne_De_Carlo:  54%|█████▍    | 543/1000 [14:23<06:39,  1.14it/s]"
          ],
          "name": "stderr"
        },
        {
          "output_type": "stream",
          "text": [
            "Finished Downloading\n",
            "Finished Downloading\n"
          ],
          "name": "stdout"
        },
        {
          "output_type": "stream",
          "text": [
            "Processing Laura_Carmichael:  55%|█████▍    | 545/1000 [14:23<05:28,  1.38it/s]"
          ],
          "name": "stderr"
        },
        {
          "output_type": "stream",
          "text": [
            "Finished Downloading\n"
          ],
          "name": "stdout"
        },
        {
          "output_type": "stream",
          "text": [
            "Processing Stormy_Daniels:  55%|█████▍    | 546/1000 [14:24<06:23,  1.19it/s]  "
          ],
          "name": "stderr"
        },
        {
          "output_type": "stream",
          "text": [
            "Finished Downloading\n"
          ],
          "name": "stdout"
        },
        {
          "output_type": "stream",
          "text": [
            "Processing David_Wright:  55%|█████▍    | 547/1000 [14:25<05:39,  1.33it/s]  "
          ],
          "name": "stderr"
        },
        {
          "output_type": "stream",
          "text": [
            "Finished Downloading\n"
          ],
          "name": "stdout"
        },
        {
          "output_type": "stream",
          "text": [
            "Processing Nicky_Hilton:  55%|█████▍    | 548/1000 [14:26<05:58,  1.26it/s]"
          ],
          "name": "stderr"
        },
        {
          "output_type": "stream",
          "text": [
            "Finished Downloading\n"
          ],
          "name": "stdout"
        },
        {
          "output_type": "stream",
          "text": [
            "Processing La_La_Anthony:  55%|█████▍    | 549/1000 [14:26<05:16,  1.43it/s]"
          ],
          "name": "stderr"
        },
        {
          "output_type": "stream",
          "text": [
            "Finished Downloading\n"
          ],
          "name": "stdout"
        },
        {
          "output_type": "stream",
          "text": [
            "Processing Anna_Wintour:  55%|█████▌    | 550/1000 [14:28<06:48,  1.10it/s] "
          ],
          "name": "stderr"
        },
        {
          "output_type": "stream",
          "text": [
            "Finished Downloading\n"
          ],
          "name": "stdout"
        },
        {
          "output_type": "stream",
          "text": [
            "Processing Titus_Welliver:  55%|█████▌    | 551/1000 [14:28<06:21,  1.18it/s]"
          ],
          "name": "stderr"
        },
        {
          "output_type": "stream",
          "text": [
            "Finished Downloading\n"
          ],
          "name": "stdout"
        },
        {
          "output_type": "stream",
          "text": [
            "Processing Farrah_Fawcett:  55%|█████▌    | 552/1000 [14:32<11:39,  1.56s/it]"
          ],
          "name": "stderr"
        },
        {
          "output_type": "stream",
          "text": [
            "Finished Downloading\n"
          ],
          "name": "stdout"
        },
        {
          "output_type": "stream",
          "text": [
            "Processing Catalina_Sandino_Moreno:  55%|█████▌    | 553/1000 [14:32<09:49,  1.32s/it]"
          ],
          "name": "stderr"
        },
        {
          "output_type": "stream",
          "text": [
            "Finished Downloading\n"
          ],
          "name": "stdout"
        },
        {
          "output_type": "stream",
          "text": [
            "Processing Craig_Olejnik:  55%|█████▌    | 554/1000 [14:36<14:05,  1.90s/it]          "
          ],
          "name": "stderr"
        },
        {
          "output_type": "stream",
          "text": [
            "Finished Downloading\n"
          ],
          "name": "stdout"
        },
        {
          "output_type": "stream",
          "text": [
            "Processing Peter_Facinelli:  56%|█████▌    | 555/1000 [14:38<14:21,  1.94s/it]"
          ],
          "name": "stderr"
        },
        {
          "output_type": "stream",
          "text": [
            "Finished Downloading\n"
          ],
          "name": "stdout"
        },
        {
          "output_type": "stream",
          "text": [
            "Processing Stephen_Mangan:  56%|█████▌    | 556/1000 [14:38<11:07,  1.50s/it] "
          ],
          "name": "stderr"
        },
        {
          "output_type": "stream",
          "text": [
            "Finished Downloading\n"
          ],
          "name": "stdout"
        },
        {
          "output_type": "stream",
          "text": [
            "Processing Patrick_Fischler:  56%|█████▌    | 557/1000 [14:38<08:25,  1.14s/it]"
          ],
          "name": "stderr"
        },
        {
          "output_type": "stream",
          "text": [
            "Finished Downloading\n"
          ],
          "name": "stdout"
        },
        {
          "output_type": "stream",
          "text": [
            "Processing Jayma_Mays:  56%|█████▌    | 558/1000 [14:39<06:36,  1.12it/s]      "
          ],
          "name": "stderr"
        },
        {
          "output_type": "stream",
          "text": [
            "Finished Downloading\n"
          ],
          "name": "stdout"
        },
        {
          "output_type": "stream",
          "text": [
            "Processing Judy_Landers:  56%|█████▌    | 559/1000 [14:40<06:38,  1.11it/s]"
          ],
          "name": "stderr"
        },
        {
          "output_type": "stream",
          "text": [
            "Finished Downloading\n"
          ],
          "name": "stdout"
        },
        {
          "output_type": "stream",
          "text": [
            "Processing Kathryn_Prescott:  56%|█████▌    | 560/1000 [14:42<10:11,  1.39s/it]"
          ],
          "name": "stderr"
        },
        {
          "output_type": "stream",
          "text": [
            "Finished Downloading\n"
          ],
          "name": "stdout"
        },
        {
          "output_type": "stream",
          "text": [
            "Processing Kiele_Sanchez:  56%|█████▌    | 561/1000 [14:44<11:16,  1.54s/it]   "
          ],
          "name": "stderr"
        },
        {
          "output_type": "stream",
          "text": [
            "Finished Downloading\n"
          ],
          "name": "stdout"
        },
        {
          "output_type": "stream",
          "text": [
            "Processing Jeremy_Sumpter:  56%|█████▌    | 562/1000 [14:45<10:27,  1.43s/it]"
          ],
          "name": "stderr"
        },
        {
          "output_type": "stream",
          "text": [
            "Finished Downloading\n"
          ],
          "name": "stdout"
        },
        {
          "output_type": "stream",
          "text": [
            "Processing Steve_Harvey:  56%|█████▋    | 563/1000 [14:46<10:01,  1.38s/it]  "
          ],
          "name": "stderr"
        },
        {
          "output_type": "stream",
          "text": [
            "Finished Downloading\n"
          ],
          "name": "stdout"
        },
        {
          "output_type": "stream",
          "text": [
            "Processing Jeff_Goldblum:  56%|█████▋    | 564/1000 [14:47<08:37,  1.19s/it]"
          ],
          "name": "stderr"
        },
        {
          "output_type": "stream",
          "text": [
            "Finished Downloading\n"
          ],
          "name": "stdout"
        },
        {
          "output_type": "stream",
          "text": [
            "Processing Jenna_Coleman:  56%|█████▋    | 565/1000 [14:48<07:00,  1.03it/s]"
          ],
          "name": "stderr"
        },
        {
          "output_type": "stream",
          "text": [
            "Finished Downloading\n"
          ],
          "name": "stdout"
        },
        {
          "output_type": "stream",
          "text": [
            "Processing Matthew_Settle:  57%|█████▋    | 566/1000 [14:48<05:27,  1.32it/s]"
          ],
          "name": "stderr"
        },
        {
          "output_type": "stream",
          "text": [
            "Finished Downloading\n"
          ],
          "name": "stdout"
        },
        {
          "output_type": "stream",
          "text": [
            "Processing Michael_Copon:  57%|█████▋    | 567/1000 [14:50<07:44,  1.07s/it]"
          ],
          "name": "stderr"
        },
        {
          "output_type": "stream",
          "text": [
            "Finished Downloading\n",
            "Finished Downloading\n"
          ],
          "name": "stdout"
        },
        {
          "output_type": "stream",
          "text": [
            "Processing Omar_Gooding:  57%|█████▋    | 569/1000 [14:50<06:11,  1.16it/s] "
          ],
          "name": "stderr"
        },
        {
          "output_type": "stream",
          "text": [
            "Finished Downloading\n"
          ],
          "name": "stdout"
        },
        {
          "output_type": "stream",
          "text": [
            "Processing Eric_Schweig:  57%|█████▋    | 570/1000 [14:52<07:18,  1.02s/it]"
          ],
          "name": "stderr"
        },
        {
          "output_type": "stream",
          "text": [
            "Finished Downloading\n"
          ],
          "name": "stdout"
        },
        {
          "output_type": "stream",
          "text": [
            "Processing June_Squibb:  57%|█████▋    | 571/1000 [14:52<06:06,  1.17it/s] "
          ],
          "name": "stderr"
        },
        {
          "output_type": "stream",
          "text": [
            "Finished Downloading\n"
          ],
          "name": "stdout"
        },
        {
          "output_type": "stream",
          "text": [
            "Processing Deborah_Kerr:  57%|█████▋    | 572/1000 [14:53<06:22,  1.12it/s]"
          ],
          "name": "stderr"
        },
        {
          "output_type": "stream",
          "text": [
            "Finished Downloading\n"
          ],
          "name": "stdout"
        },
        {
          "output_type": "stream",
          "text": [
            "Processing Muttiah_Muralitharan:  57%|█████▋    | 573/1000 [14:54<05:58,  1.19it/s]"
          ],
          "name": "stderr"
        },
        {
          "output_type": "stream",
          "text": [
            "Finished Downloading\n"
          ],
          "name": "stdout"
        },
        {
          "output_type": "stream",
          "text": [
            "Processing Solange_Knowles:  57%|█████▋    | 574/1000 [14:55<06:40,  1.06it/s]     "
          ],
          "name": "stderr"
        },
        {
          "output_type": "stream",
          "text": [
            "Finished Downloading\n"
          ],
          "name": "stdout"
        },
        {
          "output_type": "stream",
          "text": [
            "Processing Hedy_Lamarr:  57%|█████▊    | 575/1000 [14:59<12:06,  1.71s/it]    "
          ],
          "name": "stderr"
        },
        {
          "output_type": "stream",
          "text": [
            "Finished Downloading\n"
          ],
          "name": "stdout"
        },
        {
          "output_type": "stream",
          "text": [
            "Processing Seth_Green:  58%|█████▊    | 576/1000 [15:00<11:11,  1.58s/it] "
          ],
          "name": "stderr"
        },
        {
          "output_type": "stream",
          "text": [
            "Finished Downloading\n"
          ],
          "name": "stdout"
        },
        {
          "output_type": "stream",
          "text": [
            "Processing Jennifer_Ehle:  58%|█████▊    | 577/1000 [15:00<08:36,  1.22s/it]"
          ],
          "name": "stderr"
        },
        {
          "output_type": "stream",
          "text": [
            "Finished Downloading\n"
          ],
          "name": "stdout"
        },
        {
          "output_type": "stream",
          "text": [
            "Processing Steve_Jobs:  58%|█████▊    | 578/1000 [15:01<07:17,  1.04s/it]   "
          ],
          "name": "stderr"
        },
        {
          "output_type": "stream",
          "text": [
            "Finished Downloading\n"
          ],
          "name": "stdout"
        },
        {
          "output_type": "stream",
          "text": [
            "Processing Matt_Bennett:  58%|█████▊    | 579/1000 [15:02<07:22,  1.05s/it]"
          ],
          "name": "stderr"
        },
        {
          "output_type": "stream",
          "text": [
            "Finished Downloading\n"
          ],
          "name": "stdout"
        },
        {
          "output_type": "stream",
          "text": [
            "Processing Yifei_Liu:  58%|█████▊    | 580/1000 [15:03<06:21,  1.10it/s]   "
          ],
          "name": "stderr"
        },
        {
          "output_type": "stream",
          "text": [
            "Finished Downloading\n"
          ],
          "name": "stdout"
        },
        {
          "output_type": "stream",
          "text": [
            "Processing Carlos_Ponce:  58%|█████▊    | 581/1000 [15:04<06:24,  1.09it/s]"
          ],
          "name": "stderr"
        },
        {
          "output_type": "stream",
          "text": [
            "Finished Downloading\n"
          ],
          "name": "stdout"
        },
        {
          "output_type": "stream",
          "text": [
            "Processing Tichina_Arnold:  58%|█████▊    | 582/1000 [15:04<05:46,  1.21it/s]"
          ],
          "name": "stderr"
        },
        {
          "output_type": "stream",
          "text": [
            "Finished Downloading\n"
          ],
          "name": "stdout"
        },
        {
          "output_type": "stream",
          "text": [
            "Processing Janina_Gavankar:  58%|█████▊    | 583/1000 [15:05<06:25,  1.08it/s]"
          ],
          "name": "stderr"
        },
        {
          "output_type": "stream",
          "text": [
            "Finished Downloading\n"
          ],
          "name": "stdout"
        },
        {
          "output_type": "stream",
          "text": [
            "Processing Joyce_Giraud:  58%|█████▊    | 584/1000 [15:06<05:17,  1.31it/s]   "
          ],
          "name": "stderr"
        },
        {
          "output_type": "stream",
          "text": [
            "Finished Downloading\n"
          ],
          "name": "stdout"
        },
        {
          "output_type": "stream",
          "text": [
            "Processing Pablo_Schreiber:  58%|█████▊    | 585/1000 [15:07<05:46,  1.20it/s]"
          ],
          "name": "stderr"
        },
        {
          "output_type": "stream",
          "text": [
            "Finished Downloading\n"
          ],
          "name": "stdout"
        },
        {
          "output_type": "stream",
          "text": [
            "Processing Richard_Burgi:  59%|█████▊    | 586/1000 [15:07<04:38,  1.49it/s]  "
          ],
          "name": "stderr"
        },
        {
          "output_type": "stream",
          "text": [
            "Finished Downloading\n"
          ],
          "name": "stdout"
        },
        {
          "output_type": "stream",
          "text": [
            "Processing Chris_Hemsworth:  59%|█████▊    | 587/1000 [15:08<04:38,  1.48it/s]"
          ],
          "name": "stderr"
        },
        {
          "output_type": "stream",
          "text": [
            "Finished Downloading\n"
          ],
          "name": "stdout"
        },
        {
          "output_type": "stream",
          "text": [
            "Processing Gia_Mantegna:  59%|█████▉    | 588/1000 [15:08<04:10,  1.65it/s]   "
          ],
          "name": "stderr"
        },
        {
          "output_type": "stream",
          "text": [
            "Finished Downloading\n"
          ],
          "name": "stdout"
        },
        {
          "output_type": "stream",
          "text": [
            "Processing Jon_Seda:  59%|█████▉    | 589/1000 [15:09<04:13,  1.62it/s]    "
          ],
          "name": "stderr"
        },
        {
          "output_type": "stream",
          "text": [
            "Finished Downloading\n"
          ],
          "name": "stdout"
        },
        {
          "output_type": "stream",
          "text": [
            "Processing Kali_Hawk:  59%|█████▉    | 590/1000 [15:24<34:44,  5.08s/it]"
          ],
          "name": "stderr"
        },
        {
          "output_type": "stream",
          "text": [
            "Finished Downloading\n"
          ],
          "name": "stdout"
        },
        {
          "output_type": "stream",
          "text": [
            "Processing Mary_Kay_Place:  59%|█████▉    | 591/1000 [15:25<25:16,  3.71s/it]"
          ],
          "name": "stderr"
        },
        {
          "output_type": "stream",
          "text": [
            "Finished Downloading\n"
          ],
          "name": "stdout"
        },
        {
          "output_type": "stream",
          "text": [
            "Processing Heather_Morris:  59%|█████▉    | 592/1000 [15:26<19:44,  2.90s/it]"
          ],
          "name": "stderr"
        },
        {
          "output_type": "stream",
          "text": [
            "Finished Downloading\n"
          ],
          "name": "stdout"
        },
        {
          "output_type": "stream",
          "text": [
            "Processing Robin_Shou:  59%|█████▉    | 593/1000 [15:26<14:46,  2.18s/it]    "
          ],
          "name": "stderr"
        },
        {
          "output_type": "stream",
          "text": [
            "Finished Downloading\n"
          ],
          "name": "stdout"
        },
        {
          "output_type": "stream",
          "text": [
            "Processing Michael_Emerson:  59%|█████▉    | 594/1000 [15:27<11:14,  1.66s/it]"
          ],
          "name": "stderr"
        },
        {
          "output_type": "stream",
          "text": [
            "Finished Downloading\n"
          ],
          "name": "stdout"
        },
        {
          "output_type": "stream",
          "text": [
            "Processing Helen_Hunt:  60%|█████▉    | 595/1000 [15:29<12:15,  1.82s/it]     "
          ],
          "name": "stderr"
        },
        {
          "output_type": "stream",
          "text": [
            "Finished Downloading\n"
          ],
          "name": "stdout"
        },
        {
          "output_type": "stream",
          "text": [
            "Processing Georgina_Chapman:  60%|█████▉    | 597/1000 [15:32<10:20,  1.54s/it]"
          ],
          "name": "stderr"
        },
        {
          "output_type": "stream",
          "text": [
            "Finished Downloading\n",
            "Finished Downloading\n"
          ],
          "name": "stdout"
        },
        {
          "output_type": "stream",
          "text": [
            "Processing Miranda_Lambert:  60%|█████▉    | 598/1000 [15:33<09:11,  1.37s/it] "
          ],
          "name": "stderr"
        },
        {
          "output_type": "stream",
          "text": [
            "Finished Downloading\n"
          ],
          "name": "stdout"
        },
        {
          "output_type": "stream",
          "text": [
            "Processing Ben_Miller:  60%|█████▉    | 599/1000 [15:34<08:48,  1.32s/it]     "
          ],
          "name": "stderr"
        },
        {
          "output_type": "stream",
          "text": [
            "Finished Downloading\n"
          ],
          "name": "stdout"
        },
        {
          "output_type": "stream",
          "text": [
            "Processing Nick_Thune:  60%|██████    | 600/1000 [15:35<08:20,  1.25s/it]"
          ],
          "name": "stderr"
        },
        {
          "output_type": "stream",
          "text": [
            "Finished Downloading\n"
          ],
          "name": "stdout"
        },
        {
          "output_type": "stream",
          "text": [
            "Processing Elizabeth_McGovern:  60%|██████    | 601/1000 [15:37<10:12,  1.54s/it]"
          ],
          "name": "stderr"
        },
        {
          "output_type": "stream",
          "text": [
            "Finished Downloading\n"
          ],
          "name": "stdout"
        },
        {
          "output_type": "stream",
          "text": [
            "Processing Mindy_Kaling:  60%|██████    | 602/1000 [15:38<08:00,  1.21s/it]      "
          ],
          "name": "stderr"
        },
        {
          "output_type": "stream",
          "text": [
            "Finished Downloading\n"
          ],
          "name": "stdout"
        },
        {
          "output_type": "stream",
          "text": [
            "Processing Valorie_Curry:  60%|██████    | 603/1000 [15:53<36:13,  5.48s/it]"
          ],
          "name": "stderr"
        },
        {
          "output_type": "stream",
          "text": [
            "Finished Downloading\n"
          ],
          "name": "stdout"
        },
        {
          "output_type": "stream",
          "text": [
            "Processing Smokey_Robinson:  60%|██████    | 604/1000 [15:55<28:35,  4.33s/it]"
          ],
          "name": "stderr"
        },
        {
          "output_type": "stream",
          "text": [
            "Finished Downloading\n"
          ],
          "name": "stdout"
        },
        {
          "output_type": "stream",
          "text": [
            "Processing Mena_Suvari:  60%|██████    | 605/1000 [15:56<22:02,  3.35s/it]    "
          ],
          "name": "stderr"
        },
        {
          "output_type": "stream",
          "text": [
            "Finished Downloading\n"
          ],
          "name": "stdout"
        },
        {
          "output_type": "stream",
          "text": [
            "Processing Tinsel_Korey:  61%|██████    | 606/1000 [15:57<17:03,  2.60s/it]"
          ],
          "name": "stderr"
        },
        {
          "output_type": "stream",
          "text": [
            "Finished Downloading\n"
          ],
          "name": "stdout"
        },
        {
          "output_type": "stream",
          "text": [
            "Processing Stephen_Lee:  61%|██████    | 607/1000 [15:57<12:43,  1.94s/it] "
          ],
          "name": "stderr"
        },
        {
          "output_type": "stream",
          "text": [
            "Finished Downloading\n"
          ],
          "name": "stdout"
        },
        {
          "output_type": "stream",
          "text": [
            "Processing Sally_Kellerman:  61%|██████    | 608/1000 [15:59<12:55,  1.98s/it]"
          ],
          "name": "stderr"
        },
        {
          "output_type": "stream",
          "text": [
            "Finished Downloading\n"
          ],
          "name": "stdout"
        },
        {
          "output_type": "stream",
          "text": [
            "Processing Takeshi_Kaneshiro:  61%|██████    | 609/1000 [16:00<09:59,  1.53s/it]"
          ],
          "name": "stderr"
        },
        {
          "output_type": "stream",
          "text": [
            "Finished Downloading\n"
          ],
          "name": "stdout"
        },
        {
          "output_type": "stream",
          "text": [
            "Processing Josh_Hutcherson:  61%|██████    | 610/1000 [16:01<09:15,  1.43s/it]  "
          ],
          "name": "stderr"
        },
        {
          "output_type": "stream",
          "text": [
            "Finished Downloading\n"
          ],
          "name": "stdout"
        },
        {
          "output_type": "stream",
          "text": [
            "Processing Henry_Simmons:  61%|██████    | 611/1000 [16:03<09:19,  1.44s/it]"
          ],
          "name": "stderr"
        },
        {
          "output_type": "stream",
          "text": [
            "Finished Downloading\n",
            "Finished Downloading\n"
          ],
          "name": "stdout"
        },
        {
          "output_type": "stream",
          "text": [
            "Processing Chelsea_Kane:  61%|██████▏   | 613/1000 [16:03<07:25,  1.15s/it] "
          ],
          "name": "stderr"
        },
        {
          "output_type": "stream",
          "text": [
            "Finished Downloading\n"
          ],
          "name": "stdout"
        },
        {
          "output_type": "stream",
          "text": [
            "Processing Alan_Alda:  62%|██████▏   | 615/1000 [16:04<04:18,  1.49it/s]   "
          ],
          "name": "stderr"
        },
        {
          "output_type": "stream",
          "text": [
            "Finished Downloading\n",
            "Finished Downloading\n"
          ],
          "name": "stdout"
        },
        {
          "output_type": "stream",
          "text": [
            "Processing Alan_Ladd:  62%|██████▏   | 616/1000 [16:04<03:48,  1.68it/s]"
          ],
          "name": "stderr"
        },
        {
          "output_type": "stream",
          "text": [
            "Finished Downloading\n"
          ],
          "name": "stdout"
        },
        {
          "output_type": "stream",
          "text": [
            "Processing Greg_Vaughan:  62%|██████▏   | 617/1000 [16:06<05:56,  1.07it/s]"
          ],
          "name": "stderr"
        },
        {
          "output_type": "stream",
          "text": [
            "Finished Downloading\n"
          ],
          "name": "stdout"
        },
        {
          "output_type": "stream",
          "text": [
            "Processing Kelly_LeBrock:  62%|██████▏   | 618/1000 [16:07<05:12,  1.22it/s]"
          ],
          "name": "stderr"
        },
        {
          "output_type": "stream",
          "text": [
            "Finished Downloading\n"
          ],
          "name": "stdout"
        },
        {
          "output_type": "stream",
          "text": [
            "Processing Arden_Myrin:  62%|██████▏   | 619/1000 [16:08<05:33,  1.14it/s]  "
          ],
          "name": "stderr"
        },
        {
          "output_type": "stream",
          "text": [
            "Finished Downloading\n"
          ],
          "name": "stdout"
        },
        {
          "output_type": "stream",
          "text": [
            "Processing Xun_Zhou:  62%|██████▏   | 620/1000 [16:08<04:24,  1.43it/s]   "
          ],
          "name": "stderr"
        },
        {
          "output_type": "stream",
          "text": [
            "Finished Downloading\n"
          ],
          "name": "stdout"
        },
        {
          "output_type": "stream",
          "text": [
            "Processing Daniel_Feuerriegel:  62%|██████▏   | 621/1000 [16:08<04:11,  1.50it/s]"
          ],
          "name": "stderr"
        },
        {
          "output_type": "stream",
          "text": [
            "Finished Downloading\n"
          ],
          "name": "stdout"
        },
        {
          "output_type": "stream",
          "text": [
            "Processing Mathieu_Kassovitz:  62%|██████▏   | 622/1000 [16:10<04:56,  1.27it/s] "
          ],
          "name": "stderr"
        },
        {
          "output_type": "stream",
          "text": [
            "Finished Downloading\n"
          ],
          "name": "stdout"
        },
        {
          "output_type": "stream",
          "text": [
            "Processing Zach_Galifianakis:  62%|██████▏   | 623/1000 [16:10<04:18,  1.46it/s]"
          ],
          "name": "stderr"
        },
        {
          "output_type": "stream",
          "text": [
            "Finished Downloading\n"
          ],
          "name": "stdout"
        },
        {
          "output_type": "stream",
          "text": [
            "Processing Emma_Stone:  62%|██████▏   | 624/1000 [16:10<03:50,  1.63it/s]       "
          ],
          "name": "stderr"
        },
        {
          "output_type": "stream",
          "text": [
            "Finished Downloading\n"
          ],
          "name": "stdout"
        },
        {
          "output_type": "stream",
          "text": [
            "Processing Kevin_Hart:  62%|██████▎   | 625/1000 [16:11<03:32,  1.77it/s]"
          ],
          "name": "stderr"
        },
        {
          "output_type": "stream",
          "text": [
            "Finished Downloading\n"
          ],
          "name": "stdout"
        },
        {
          "output_type": "stream",
          "text": [
            "Processing Nancy_Allen:  63%|██████▎   | 626/1000 [16:12<04:43,  1.32it/s]"
          ],
          "name": "stderr"
        },
        {
          "output_type": "stream",
          "text": [
            "Finished Downloading\n"
          ],
          "name": "stdout"
        },
        {
          "output_type": "stream",
          "text": [
            "Processing Eleanor_Tomlinson:  63%|██████▎   | 627/1000 [16:12<03:51,  1.61it/s]"
          ],
          "name": "stderr"
        },
        {
          "output_type": "stream",
          "text": [
            "Finished Downloading\n"
          ],
          "name": "stdout"
        },
        {
          "output_type": "stream",
          "text": [
            "Processing Adrian_Paul:  63%|██████▎   | 628/1000 [16:13<04:39,  1.33it/s]      "
          ],
          "name": "stderr"
        },
        {
          "output_type": "stream",
          "text": [
            "Finished Downloading\n"
          ],
          "name": "stdout"
        },
        {
          "output_type": "stream",
          "text": [
            "Processing Grace_Zabriskie:  63%|██████▎   | 629/1000 [16:14<04:48,  1.29it/s]"
          ],
          "name": "stderr"
        },
        {
          "output_type": "stream",
          "text": [
            "Finished Downloading\n"
          ],
          "name": "stdout"
        },
        {
          "output_type": "stream",
          "text": [
            "Processing Martine_McCutcheon:  63%|██████▎   | 630/1000 [16:15<04:16,  1.44it/s]"
          ],
          "name": "stderr"
        },
        {
          "output_type": "stream",
          "text": [
            "Finished Downloading\n"
          ],
          "name": "stdout"
        },
        {
          "output_type": "stream",
          "text": [
            "Processing Jean_Arthur:  63%|██████▎   | 631/1000 [16:16<04:20,  1.42it/s]       "
          ],
          "name": "stderr"
        },
        {
          "output_type": "stream",
          "text": [
            "Finished Downloading\n"
          ],
          "name": "stdout"
        },
        {
          "output_type": "stream",
          "text": [
            "Processing Ophelia_Lovibond:  63%|██████▎   | 632/1000 [16:16<04:36,  1.33it/s]"
          ],
          "name": "stderr"
        },
        {
          "output_type": "stream",
          "text": [
            "Finished Downloading\n"
          ],
          "name": "stdout"
        },
        {
          "output_type": "stream",
          "text": [
            "Processing Kathy_Ireland:  63%|██████▎   | 633/1000 [16:17<05:01,  1.22it/s]"
          ],
          "name": "stderr"
        },
        {
          "output_type": "stream",
          "text": [
            "Finished Downloading\n",
            "Finished Downloading\n"
          ],
          "name": "stdout"
        },
        {
          "output_type": "stream",
          "text": [
            "Processing Chris_Bauer:  64%|██████▎   | 635/1000 [16:18<03:51,  1.57it/s]  "
          ],
          "name": "stderr"
        },
        {
          "output_type": "stream",
          "text": [
            "Finished Downloading\n"
          ],
          "name": "stdout"
        },
        {
          "output_type": "stream",
          "text": [
            "Processing D:  64%|██████▎   | 636/1000 [16:19<05:05,  1.19it/s]          "
          ],
          "name": "stderr"
        },
        {
          "output_type": "stream",
          "text": [
            "Finished Downloading\n"
          ],
          "name": "stdout"
        },
        {
          "output_type": "stream",
          "text": [
            "Processing Michelle_Stafford:  64%|██████▎   | 637/1000 [16:23<11:28,  1.90s/it]"
          ],
          "name": "stderr"
        },
        {
          "output_type": "stream",
          "text": [
            "Finished Downloading\n"
          ],
          "name": "stdout"
        },
        {
          "output_type": "stream",
          "text": [
            "Processing James_Badge_Dale:  64%|██████▍   | 638/1000 [16:25<09:58,  1.65s/it] "
          ],
          "name": "stderr"
        },
        {
          "output_type": "stream",
          "text": [
            "Finished Downloading\n"
          ],
          "name": "stdout"
        },
        {
          "output_type": "stream",
          "text": [
            "Processing Gabrielle_Carteris:  64%|██████▍   | 639/1000 [16:26<09:37,  1.60s/it]"
          ],
          "name": "stderr"
        },
        {
          "output_type": "stream",
          "text": [
            "Finished Downloading\n"
          ],
          "name": "stdout"
        },
        {
          "output_type": "stream",
          "text": [
            "Processing Keith_Richards:  64%|██████▍   | 640/1000 [16:27<08:19,  1.39s/it]    "
          ],
          "name": "stderr"
        },
        {
          "output_type": "stream",
          "text": [
            "Finished Downloading\n"
          ],
          "name": "stdout"
        },
        {
          "output_type": "stream",
          "text": [
            "Processing Drew_Seeley:  64%|██████▍   | 641/1000 [16:28<06:57,  1.16s/it]   "
          ],
          "name": "stderr"
        },
        {
          "output_type": "stream",
          "text": [
            "Finished Downloading\n"
          ],
          "name": "stdout"
        },
        {
          "output_type": "stream",
          "text": [
            "Processing Kiefer_Sutherland:  64%|██████▍   | 642/1000 [16:29<06:38,  1.11s/it]"
          ],
          "name": "stderr"
        },
        {
          "output_type": "stream",
          "text": [
            "Finished Downloading\n"
          ],
          "name": "stdout"
        },
        {
          "output_type": "stream",
          "text": [
            "Processing Patrick_Troughton:  64%|██████▍   | 643/1000 [16:29<06:03,  1.02s/it]"
          ],
          "name": "stderr"
        },
        {
          "output_type": "stream",
          "text": [
            "Finished Downloading\n"
          ],
          "name": "stdout"
        },
        {
          "output_type": "stream",
          "text": [
            "Processing Azita_Ghanizada:  64%|██████▍   | 644/1000 [16:30<05:41,  1.04it/s]  "
          ],
          "name": "stderr"
        },
        {
          "output_type": "stream",
          "text": [
            "Finished Downloading\n"
          ],
          "name": "stdout"
        },
        {
          "output_type": "stream",
          "text": [
            "Processing Diana_Rigg:  64%|██████▍   | 645/1000 [16:31<05:30,  1.07it/s]     "
          ],
          "name": "stderr"
        },
        {
          "output_type": "stream",
          "text": [
            "Finished Downloading\n"
          ],
          "name": "stdout"
        },
        {
          "output_type": "stream",
          "text": [
            "Processing Carrie_Keagan:  65%|██████▍   | 646/1000 [16:31<04:27,  1.32it/s]"
          ],
          "name": "stderr"
        },
        {
          "output_type": "stream",
          "text": [
            "Finished Downloading\n"
          ],
          "name": "stdout"
        },
        {
          "output_type": "stream",
          "text": [
            "Processing Laz_Alonso:  65%|██████▍   | 647/1000 [16:32<03:43,  1.58it/s]   "
          ],
          "name": "stderr"
        },
        {
          "output_type": "stream",
          "text": [
            "Finished Downloading\n"
          ],
          "name": "stdout"
        },
        {
          "output_type": "stream",
          "text": [
            "Processing Brett_Davern:  65%|██████▍   | 648/1000 [16:32<03:05,  1.90it/s]"
          ],
          "name": "stderr"
        },
        {
          "output_type": "stream",
          "text": [
            "Finished Downloading\n"
          ],
          "name": "stdout"
        },
        {
          "output_type": "stream",
          "text": [
            "Processing Brian_Cox:  65%|██████▍   | 649/1000 [16:32<03:02,  1.92it/s]   "
          ],
          "name": "stderr"
        },
        {
          "output_type": "stream",
          "text": [
            "Finished Downloading\n"
          ],
          "name": "stdout"
        },
        {
          "output_type": "stream",
          "text": [
            "Processing Zuleyka_Silver:  65%|██████▌   | 650/1000 [16:33<02:49,  2.06it/s]"
          ],
          "name": "stderr"
        },
        {
          "output_type": "stream",
          "text": [
            "Finished Downloading\n"
          ],
          "name": "stdout"
        },
        {
          "output_type": "stream",
          "text": [
            "Processing Christopher_Abbott:  65%|██████▌   | 651/1000 [16:35<06:31,  1.12s/it]"
          ],
          "name": "stderr"
        },
        {
          "output_type": "stream",
          "text": [
            "Finished Downloading\n"
          ],
          "name": "stdout"
        },
        {
          "output_type": "stream",
          "text": [
            "Processing Jeffrey_Wright:  65%|██████▌   | 652/1000 [16:37<06:34,  1.13s/it]    "
          ],
          "name": "stderr"
        },
        {
          "output_type": "stream",
          "text": [
            "Finished Downloading\n"
          ],
          "name": "stdout"
        },
        {
          "output_type": "stream",
          "text": [
            "Processing Lucy_Pinder:  65%|██████▌   | 653/1000 [16:37<05:05,  1.13it/s]    "
          ],
          "name": "stderr"
        },
        {
          "output_type": "stream",
          "text": [
            "Finished Downloading\n",
            "Finished Downloading\n"
          ],
          "name": "stdout"
        },
        {
          "output_type": "stream",
          "text": [
            "Processing Kay_Panabaker:  66%|██████▌   | 655/1000 [16:38<04:17,  1.34it/s]"
          ],
          "name": "stderr"
        },
        {
          "output_type": "stream",
          "text": [
            "Finished Downloading\n"
          ],
          "name": "stdout"
        },
        {
          "output_type": "stream",
          "text": [
            "Processing Lou_Ferrigno:  66%|██████▌   | 656/1000 [16:39<04:45,  1.21it/s] "
          ],
          "name": "stderr"
        },
        {
          "output_type": "stream",
          "text": [
            "Finished Downloading\n"
          ],
          "name": "stdout"
        },
        {
          "output_type": "stream",
          "text": [
            "Processing Riz_Ahmed:  66%|██████▌   | 657/1000 [16:40<04:57,  1.15it/s]   "
          ],
          "name": "stderr"
        },
        {
          "output_type": "stream",
          "text": [
            "Finished Downloading\n"
          ],
          "name": "stdout"
        },
        {
          "output_type": "stream",
          "text": [
            "Processing Katie_Findlay:  66%|██████▌   | 658/1000 [16:41<05:41,  1.00it/s]"
          ],
          "name": "stderr"
        },
        {
          "output_type": "stream",
          "text": [
            "Finished Downloading\n"
          ],
          "name": "stdout"
        },
        {
          "output_type": "stream",
          "text": [
            "Processing Fred_Armisen:  66%|██████▌   | 659/1000 [16:42<05:33,  1.02it/s] "
          ],
          "name": "stderr"
        },
        {
          "output_type": "stream",
          "text": [
            "Finished Downloading\n"
          ],
          "name": "stdout"
        },
        {
          "output_type": "stream",
          "text": [
            "Processing Dr:  66%|██████▌   | 660/1000 [16:43<05:22,  1.05it/s]           "
          ],
          "name": "stderr"
        },
        {
          "output_type": "stream",
          "text": [
            "Finished Downloading\n",
            "Finished Downloading\n"
          ],
          "name": "stdout"
        },
        {
          "output_type": "stream",
          "text": [
            "Processing Cheryl_Ladd:  66%|██████▌   | 662/1000 [16:43<04:08,  1.36it/s]"
          ],
          "name": "stderr"
        },
        {
          "output_type": "stream",
          "text": [
            "Finished Downloading\n"
          ],
          "name": "stdout"
        },
        {
          "output_type": "stream",
          "text": [
            "Processing Bryan_Greenberg:  66%|██████▋   | 663/1000 [16:44<03:49,  1.47it/s]"
          ],
          "name": "stderr"
        },
        {
          "output_type": "stream",
          "text": [
            "Finished Downloading\n"
          ],
          "name": "stdout"
        },
        {
          "output_type": "stream",
          "text": [
            "Processing Linda_Gray:  66%|██████▋   | 664/1000 [16:44<03:30,  1.60it/s]  "
          ],
          "name": "stderr"
        },
        {
          "output_type": "stream",
          "text": [
            "Finished Downloading\n",
            "Finished Downloading\n"
          ],
          "name": "stdout"
        },
        {
          "output_type": "stream",
          "text": [
            "Processing Don_Rickles:  67%|██████▋   | 666/1000 [16:45<02:44,  2.03it/s]"
          ],
          "name": "stderr"
        },
        {
          "output_type": "stream",
          "text": [
            "Finished Downloading\n"
          ],
          "name": "stdout"
        },
        {
          "output_type": "stream",
          "text": [
            "Processing Peter_Sellers:  67%|██████▋   | 667/1000 [16:45<02:40,  2.08it/s]"
          ],
          "name": "stderr"
        },
        {
          "output_type": "stream",
          "text": [
            "Finished Downloading\n"
          ],
          "name": "stdout"
        },
        {
          "output_type": "stream",
          "text": [
            "Processing Linda_Evans:  67%|██████▋   | 668/1000 [16:46<03:26,  1.61it/s]  "
          ],
          "name": "stderr"
        },
        {
          "output_type": "stream",
          "text": [
            "Finished Downloading\n"
          ],
          "name": "stdout"
        },
        {
          "output_type": "stream",
          "text": [
            "Processing Ted_Danson:  67%|██████▋   | 669/1000 [16:49<07:30,  1.36s/it] "
          ],
          "name": "stderr"
        },
        {
          "output_type": "stream",
          "text": [
            "Finished Downloading\n"
          ],
          "name": "stdout"
        },
        {
          "output_type": "stream",
          "text": [
            "Processing Nathaniel_Buzolic:  67%|██████▋   | 670/1000 [16:50<06:01,  1.10s/it]"
          ],
          "name": "stderr"
        },
        {
          "output_type": "stream",
          "text": [
            "Finished Downloading\n"
          ],
          "name": "stdout"
        },
        {
          "output_type": "stream",
          "text": [
            "Processing Stevie_Wonder:  67%|██████▋   | 671/1000 [16:51<06:39,  1.21s/it]    "
          ],
          "name": "stderr"
        },
        {
          "output_type": "stream",
          "text": [
            "Finished Downloading\n"
          ],
          "name": "stdout"
        },
        {
          "output_type": "stream",
          "text": [
            "Processing Sally_Hawkins:  67%|██████▋   | 672/1000 [16:52<06:29,  1.19s/it]"
          ],
          "name": "stderr"
        },
        {
          "output_type": "stream",
          "text": [
            "Finished Downloading\n"
          ],
          "name": "stdout"
        },
        {
          "output_type": "stream",
          "text": [
            "Processing Beau_Mirchoff:  67%|██████▋   | 673/1000 [16:53<05:03,  1.08it/s]"
          ],
          "name": "stderr"
        },
        {
          "output_type": "stream",
          "text": [
            "Finished Downloading\n"
          ],
          "name": "stdout"
        },
        {
          "output_type": "stream",
          "text": [
            "Processing Natalia_Tena:  67%|██████▋   | 674/1000 [16:54<04:55,  1.10it/s] "
          ],
          "name": "stderr"
        },
        {
          "output_type": "stream",
          "text": [
            "Finished Downloading\n"
          ],
          "name": "stdout"
        },
        {
          "output_type": "stream",
          "text": [
            "Processing Jamie-Lynn_Sigler:  68%|██████▊   | 675/1000 [16:54<04:13,  1.28it/s]"
          ],
          "name": "stderr"
        },
        {
          "output_type": "stream",
          "text": [
            "Finished Downloading\n"
          ],
          "name": "stdout"
        },
        {
          "output_type": "stream",
          "text": [
            "Processing Julianne_Hough:  68%|██████▊   | 676/1000 [17:27<56:04, 10.39s/it]   "
          ],
          "name": "stderr"
        },
        {
          "output_type": "stream",
          "text": [
            "Finished Downloading\n"
          ],
          "name": "stdout"
        },
        {
          "output_type": "stream",
          "text": [
            "Processing Tom_Hiddleston:  68%|██████▊   | 677/1000 [17:27<39:36,  7.36s/it]"
          ],
          "name": "stderr"
        },
        {
          "output_type": "stream",
          "text": [
            "Finished Downloading\n"
          ],
          "name": "stdout"
        },
        {
          "output_type": "stream",
          "text": [
            "Processing Christina_Hendricks:  68%|██████▊   | 678/1000 [17:28<29:07,  5.43s/it]"
          ],
          "name": "stderr"
        },
        {
          "output_type": "stream",
          "text": [
            "Finished Downloading\n"
          ],
          "name": "stdout"
        },
        {
          "output_type": "stream",
          "text": [
            "Processing Matthew_Macfadyen:  68%|██████▊   | 679/1000 [17:28<20:46,  3.88s/it]"
          ],
          "name": "stderr"
        },
        {
          "output_type": "stream",
          "text": [
            "Finished Downloading\n",
            "Finished Downloading\n"
          ],
          "name": "stdout"
        },
        {
          "output_type": "stream",
          "text": [
            "Processing Cara_Delevingne:  68%|██████▊   | 681/1000 [17:29<15:06,  2.84s/it]  "
          ],
          "name": "stderr"
        },
        {
          "output_type": "stream",
          "text": [
            "Finished Downloading\n"
          ],
          "name": "stdout"
        },
        {
          "output_type": "stream",
          "text": [
            "Processing Alexander_Siddig:  68%|██████▊   | 682/1000 [17:31<14:02,  2.65s/it]"
          ],
          "name": "stderr"
        },
        {
          "output_type": "stream",
          "text": [
            "Finished Downloading\n"
          ],
          "name": "stdout"
        },
        {
          "output_type": "stream",
          "text": [
            "Processing Philip_Baker_Hall:  68%|██████▊   | 684/1000 [17:33<08:39,  1.64s/it] "
          ],
          "name": "stderr"
        },
        {
          "output_type": "stream",
          "text": [
            "Finished Downloading\n",
            "Finished Downloading\n"
          ],
          "name": "stdout"
        },
        {
          "output_type": "stream",
          "text": [
            "Processing Dirk_Bogarde:  68%|██████▊   | 685/1000 [17:33<06:44,  1.28s/it]     "
          ],
          "name": "stderr"
        },
        {
          "output_type": "stream",
          "text": [
            "Finished Downloading\n"
          ],
          "name": "stdout"
        },
        {
          "output_type": "stream",
          "text": [
            "Processing Dennis_Weaver:  69%|██████▊   | 686/1000 [17:34<05:31,  1.06s/it]"
          ],
          "name": "stderr"
        },
        {
          "output_type": "stream",
          "text": [
            "Finished Downloading\n"
          ],
          "name": "stdout"
        },
        {
          "output_type": "stream",
          "text": [
            "Processing Senta_Berger:  69%|██████▊   | 687/1000 [17:44<19:04,  3.66s/it] "
          ],
          "name": "stderr"
        },
        {
          "output_type": "stream",
          "text": [
            "Finished Downloading\n"
          ],
          "name": "stdout"
        },
        {
          "output_type": "stream",
          "text": [
            "Processing Tim_McGraw:  69%|██████▉   | 688/1000 [17:46<16:54,  3.25s/it]  "
          ],
          "name": "stderr"
        },
        {
          "output_type": "stream",
          "text": [
            "Finished Downloading\n"
          ],
          "name": "stdout"
        },
        {
          "output_type": "stream",
          "text": [
            "Processing Sarah_Jane_Morris:  69%|██████▉   | 689/1000 [17:47<13:15,  2.56s/it]"
          ],
          "name": "stderr"
        },
        {
          "output_type": "stream",
          "text": [
            "Finished Downloading\n"
          ],
          "name": "stdout"
        },
        {
          "output_type": "stream",
          "text": [
            "Processing Jeremy_Shada:  69%|██████▉   | 691/1000 [17:47<06:58,  1.36s/it]    "
          ],
          "name": "stderr"
        },
        {
          "output_type": "stream",
          "text": [
            "Finished Downloading\n",
            "Finished Downloading\n"
          ],
          "name": "stdout"
        },
        {
          "output_type": "stream",
          "text": [
            "Processing Kit_Harington:  69%|██████▉   | 692/1000 [17:48<06:25,  1.25s/it]"
          ],
          "name": "stderr"
        },
        {
          "output_type": "stream",
          "text": [
            "Finished Downloading\n"
          ],
          "name": "stdout"
        },
        {
          "output_type": "stream",
          "text": [
            "Processing Bruce_McGill:  69%|██████▉   | 693/1000 [17:49<05:10,  1.01s/it] "
          ],
          "name": "stderr"
        },
        {
          "output_type": "stream",
          "text": [
            "Finished Downloading\n"
          ],
          "name": "stdout"
        },
        {
          "output_type": "stream",
          "text": [
            "Processing Sam_Jaeger:  69%|██████▉   | 694/1000 [17:49<04:02,  1.26it/s]  "
          ],
          "name": "stderr"
        },
        {
          "output_type": "stream",
          "text": [
            "Finished Downloading\n"
          ],
          "name": "stdout"
        },
        {
          "output_type": "stream",
          "text": [
            "Processing John_Cena:  70%|██████▉   | 695/1000 [17:49<03:16,  1.55it/s] "
          ],
          "name": "stderr"
        },
        {
          "output_type": "stream",
          "text": [
            "Finished Downloading\n"
          ],
          "name": "stdout"
        },
        {
          "output_type": "stream",
          "text": [
            "Processing Seth_Meyers:  70%|██████▉   | 696/1000 [17:50<03:44,  1.35it/s]"
          ],
          "name": "stderr"
        },
        {
          "output_type": "stream",
          "text": [
            "Finished Downloading\n"
          ],
          "name": "stdout"
        },
        {
          "output_type": "stream",
          "text": [
            "Processing Sal_Mineo:  70%|██████▉   | 697/1000 [17:51<03:10,  1.59it/s]       "
          ],
          "name": "stderr"
        },
        {
          "output_type": "stream",
          "text": [
            "Finished Downloading\n",
            "Finished Downloading\n"
          ],
          "name": "stdout"
        },
        {
          "output_type": "stream",
          "text": [
            "Processing Chris_Riggi:  70%|██████▉   | 699/1000 [17:51<02:43,  1.84it/s]"
          ],
          "name": "stderr"
        },
        {
          "output_type": "stream",
          "text": [
            "Finished Downloading\n"
          ],
          "name": "stdout"
        },
        {
          "output_type": "stream",
          "text": [
            "Processing Adelaide_Clemens:  70%|███████   | 700/1000 [17:52<02:18,  2.17it/s]"
          ],
          "name": "stderr"
        },
        {
          "output_type": "stream",
          "text": [
            "Finished Downloading\n"
          ],
          "name": "stdout"
        },
        {
          "output_type": "stream",
          "text": [
            "Processing Jillian_Michaels:  70%|███████   | 701/1000 [17:52<02:21,  2.12it/s]"
          ],
          "name": "stderr"
        },
        {
          "output_type": "stream",
          "text": [
            "Finished Downloading\n"
          ],
          "name": "stdout"
        },
        {
          "output_type": "stream",
          "text": [
            "Processing Loretta_Young:  70%|███████   | 702/1000 [17:57<08:31,  1.72s/it]   "
          ],
          "name": "stderr"
        },
        {
          "output_type": "stream",
          "text": [
            "Finished Downloading\n"
          ],
          "name": "stdout"
        },
        {
          "output_type": "stream",
          "text": [
            "Processing Spencer_Locke:  70%|███████   | 704/1000 [17:59<06:02,  1.22s/it]   "
          ],
          "name": "stderr"
        },
        {
          "output_type": "stream",
          "text": [
            "Finished Downloading\n",
            "Finished Downloading\n",
            "Finished Downloading\n"
          ],
          "name": "stdout"
        },
        {
          "output_type": "stream",
          "text": [
            "Processing Laura_Haddock:  71%|███████   | 706/1000 [18:00<05:00,  1.02s/it]"
          ],
          "name": "stderr"
        },
        {
          "output_type": "stream",
          "text": [
            "Finished Downloading\n"
          ],
          "name": "stdout"
        },
        {
          "output_type": "stream",
          "text": [
            "Processing Paul_Adelstein:  71%|███████   | 707/1000 [18:01<04:59,  1.02s/it]"
          ],
          "name": "stderr"
        },
        {
          "output_type": "stream",
          "text": [
            "Finished Downloading\n"
          ],
          "name": "stdout"
        },
        {
          "output_type": "stream",
          "text": [
            "Processing Rade_Serbedzija:  71%|███████   | 708/1000 [18:02<05:23,  1.11s/it]"
          ],
          "name": "stderr"
        },
        {
          "output_type": "stream",
          "text": [
            "Finished Downloading\n"
          ],
          "name": "stdout"
        },
        {
          "output_type": "stream",
          "text": [
            "Processing Katherine_Moennig:  71%|███████   | 709/1000 [18:04<06:20,  1.31s/it]"
          ],
          "name": "stderr"
        },
        {
          "output_type": "stream",
          "text": [
            "Finished Downloading\n"
          ],
          "name": "stdout"
        },
        {
          "output_type": "stream",
          "text": [
            "Processing Neal_McDonough:  71%|███████   | 710/1000 [18:05<05:53,  1.22s/it]   "
          ],
          "name": "stderr"
        },
        {
          "output_type": "stream",
          "text": [
            "Finished Downloading\n"
          ],
          "name": "stdout"
        },
        {
          "output_type": "stream",
          "text": [
            "Processing Thomas_Kretschmann:  71%|███████   | 711/1000 [18:06<06:16,  1.30s/it]"
          ],
          "name": "stderr"
        },
        {
          "output_type": "stream",
          "text": [
            "Finished Downloading\n"
          ],
          "name": "stdout"
        },
        {
          "output_type": "stream",
          "text": [
            "Processing Mark_Ruffalo:  71%|███████   | 712/1000 [18:07<05:02,  1.05s/it]      "
          ],
          "name": "stderr"
        },
        {
          "output_type": "stream",
          "text": [
            "Finished Downloading\n"
          ],
          "name": "stdout"
        },
        {
          "output_type": "stream",
          "text": [
            "Processing Ryan_Potter:  71%|███████▏  | 713/1000 [18:07<04:05,  1.17it/s] "
          ],
          "name": "stderr"
        },
        {
          "output_type": "stream",
          "text": [
            "Finished Downloading\n"
          ],
          "name": "stdout"
        },
        {
          "output_type": "stream",
          "text": [
            "Processing Nicole_de_Boer:  71%|███████▏  | 714/1000 [18:09<05:23,  1.13s/it]"
          ],
          "name": "stderr"
        },
        {
          "output_type": "stream",
          "text": [
            "Finished Downloading\n"
          ],
          "name": "stdout"
        },
        {
          "output_type": "stream",
          "text": [
            "Processing Loni_Anderson:  72%|███████▏  | 715/1000 [18:09<04:08,  1.15it/s] "
          ],
          "name": "stderr"
        },
        {
          "output_type": "stream",
          "text": [
            "Finished Downloading\n"
          ],
          "name": "stdout"
        },
        {
          "output_type": "stream",
          "text": [
            "Processing Paulo_Costanzo:  72%|███████▏  | 716/1000 [18:10<04:21,  1.09it/s]"
          ],
          "name": "stderr"
        },
        {
          "output_type": "stream",
          "text": [
            "Finished Downloading\n"
          ],
          "name": "stdout"
        },
        {
          "output_type": "stream",
          "text": [
            "Processing Mya:  72%|███████▏  | 717/1000 [18:12<05:10,  1.10s/it]           "
          ],
          "name": "stderr"
        },
        {
          "output_type": "stream",
          "text": [
            "Finished Downloading\n"
          ],
          "name": "stdout"
        },
        {
          "output_type": "stream",
          "text": [
            "Processing Billy_Connolly:  72%|███████▏  | 718/1000 [18:12<04:05,  1.15it/s]"
          ],
          "name": "stderr"
        },
        {
          "output_type": "stream",
          "text": [
            "Finished Downloading\n"
          ],
          "name": "stdout"
        },
        {
          "output_type": "stream",
          "text": [
            "Processing Michael_Fassbender:  72%|███████▏  | 719/1000 [18:13<04:28,  1.05it/s]"
          ],
          "name": "stderr"
        },
        {
          "output_type": "stream",
          "text": [
            "Finished Downloading\n"
          ],
          "name": "stdout"
        },
        {
          "output_type": "stream",
          "text": [
            "Processing Jorja_Fox:  72%|███████▏  | 720/1000 [18:14<04:43,  1.01s/it]         "
          ],
          "name": "stderr"
        },
        {
          "output_type": "stream",
          "text": [
            "Finished Downloading\n"
          ],
          "name": "stdout"
        },
        {
          "output_type": "stream",
          "text": [
            "Processing Ashley_Jensen:  72%|███████▏  | 721/1000 [18:15<04:07,  1.13it/s]"
          ],
          "name": "stderr"
        },
        {
          "output_type": "stream",
          "text": [
            "Finished Downloading\n"
          ],
          "name": "stdout"
        },
        {
          "output_type": "stream",
          "text": [
            "Processing RZA:  72%|███████▏  | 722/1000 [18:15<03:27,  1.34it/s]          "
          ],
          "name": "stderr"
        },
        {
          "output_type": "stream",
          "text": [
            "Finished Downloading\n"
          ],
          "name": "stdout"
        },
        {
          "output_type": "stream",
          "text": [
            "Processing Mark_Harmon:  72%|███████▏  | 723/1000 [18:16<03:18,  1.39it/s]"
          ],
          "name": "stderr"
        },
        {
          "output_type": "stream",
          "text": [
            "Finished Downloading\n"
          ],
          "name": "stdout"
        },
        {
          "output_type": "stream",
          "text": [
            "Processing Molly_Ringwald:  72%|███████▏  | 724/1000 [18:17<03:40,  1.25it/s]"
          ],
          "name": "stderr"
        },
        {
          "output_type": "stream",
          "text": [
            "Finished Downloading\n"
          ],
          "name": "stdout"
        },
        {
          "output_type": "stream",
          "text": [
            "Processing Jon_Lovitz:  72%|███████▎  | 725/1000 [18:18<03:30,  1.31it/s]    "
          ],
          "name": "stderr"
        },
        {
          "output_type": "stream",
          "text": [
            "Finished Downloading\n"
          ],
          "name": "stdout"
        },
        {
          "output_type": "stream",
          "text": [
            "Processing Shantel_VanSanten:  73%|███████▎  | 726/1000 [18:18<02:48,  1.63it/s]"
          ],
          "name": "stderr"
        },
        {
          "output_type": "stream",
          "text": [
            "Finished Downloading\n"
          ],
          "name": "stdout"
        },
        {
          "output_type": "stream",
          "text": [
            "Processing Mario_Lopez:  73%|███████▎  | 727/1000 [18:19<03:44,  1.22it/s]      "
          ],
          "name": "stderr"
        },
        {
          "output_type": "stream",
          "text": [
            "Finished Downloading\n"
          ],
          "name": "stdout"
        },
        {
          "output_type": "stream",
          "text": [
            "Processing Vincent_Martella:  73%|███████▎  | 728/1000 [18:20<03:00,  1.51it/s]"
          ],
          "name": "stderr"
        },
        {
          "output_type": "stream",
          "text": [
            "Finished Downloading\n"
          ],
          "name": "stdout"
        },
        {
          "output_type": "stream",
          "text": [
            "Processing Michael_K:  73%|███████▎  | 730/1000 [18:20<02:14,  2.00it/s]    "
          ],
          "name": "stderr"
        },
        {
          "output_type": "stream",
          "text": [
            "Finished Downloading\n",
            "Finished Downloading\n"
          ],
          "name": "stdout"
        },
        {
          "output_type": "stream",
          "text": [
            "Processing Danielle_Fishel:  73%|███████▎  | 731/1000 [18:21<02:03,  2.18it/s]"
          ],
          "name": "stderr"
        },
        {
          "output_type": "stream",
          "text": [
            "Finished Downloading\n"
          ],
          "name": "stdout"
        },
        {
          "output_type": "stream",
          "text": [
            "Processing William_Holden:  73%|███████▎  | 733/1000 [18:23<03:17,  1.35it/s] "
          ],
          "name": "stderr"
        },
        {
          "output_type": "stream",
          "text": [
            "Finished Downloading\n",
            "Finished Downloading\n"
          ],
          "name": "stdout"
        },
        {
          "output_type": "stream",
          "text": [
            "Processing Richard_Pryor:  73%|███████▎  | 734/1000 [18:25<05:33,  1.26s/it] "
          ],
          "name": "stderr"
        },
        {
          "output_type": "stream",
          "text": [
            "Finished Downloading\n"
          ],
          "name": "stdout"
        },
        {
          "output_type": "stream",
          "text": [
            "Processing Yeardley_Smith:  74%|███████▎  | 735/1000 [18:28<06:50,  1.55s/it]"
          ],
          "name": "stderr"
        },
        {
          "output_type": "stream",
          "text": [
            "Finished Downloading\n"
          ],
          "name": "stdout"
        },
        {
          "output_type": "stream",
          "text": [
            "Processing Marley_Shelton:  74%|███████▎  | 736/1000 [18:28<05:28,  1.24s/it]"
          ],
          "name": "stderr"
        },
        {
          "output_type": "stream",
          "text": [
            "Finished Downloading\n"
          ],
          "name": "stdout"
        },
        {
          "output_type": "stream",
          "text": [
            "Processing Geena_Davis:  74%|███████▎  | 737/1000 [18:29<05:06,  1.17s/it]   "
          ],
          "name": "stderr"
        },
        {
          "output_type": "stream",
          "text": [
            "Finished Downloading\n"
          ],
          "name": "stdout"
        },
        {
          "output_type": "stream",
          "text": [
            "Processing Joe_Lo_Truglio:  74%|███████▍  | 738/1000 [18:30<04:41,  1.07s/it]"
          ],
          "name": "stderr"
        },
        {
          "output_type": "stream",
          "text": [
            "Finished Downloading\n"
          ],
          "name": "stdout"
        },
        {
          "output_type": "stream",
          "text": [
            "Processing Bradley_Steven_Perry:  74%|███████▍  | 739/1000 [18:30<03:38,  1.19it/s]"
          ],
          "name": "stderr"
        },
        {
          "output_type": "stream",
          "text": [
            "Finished Downloading\n"
          ],
          "name": "stdout"
        },
        {
          "output_type": "stream",
          "text": [
            "Processing Henry_Cavill:  74%|███████▍  | 740/1000 [18:31<03:48,  1.14it/s]        "
          ],
          "name": "stderr"
        },
        {
          "output_type": "stream",
          "text": [
            "Finished Downloading\n"
          ],
          "name": "stdout"
        },
        {
          "output_type": "stream",
          "text": [
            "Processing Johnathon_Schaech:  74%|███████▍  | 741/1000 [18:32<03:50,  1.12it/s]"
          ],
          "name": "stderr"
        },
        {
          "output_type": "stream",
          "text": [
            "Finished Downloading\n"
          ],
          "name": "stdout"
        },
        {
          "output_type": "stream",
          "text": [
            "Processing Kelly_Macdonald:  74%|███████▍  | 742/1000 [18:33<03:58,  1.08it/s]  "
          ],
          "name": "stderr"
        },
        {
          "output_type": "stream",
          "text": [
            "Finished Downloading\n"
          ],
          "name": "stdout"
        },
        {
          "output_type": "stream",
          "text": [
            "Processing Ashley_Hinshaw:  74%|███████▍  | 743/1000 [18:34<04:08,  1.03it/s] "
          ],
          "name": "stderr"
        },
        {
          "output_type": "stream",
          "text": [
            "Finished Downloading\n"
          ],
          "name": "stdout"
        },
        {
          "output_type": "stream",
          "text": [
            "Processing Ezra_Miller:  74%|███████▍  | 744/1000 [18:35<03:26,  1.24it/s]   "
          ],
          "name": "stderr"
        },
        {
          "output_type": "stream",
          "text": [
            "Finished Downloading\n"
          ],
          "name": "stdout"
        },
        {
          "output_type": "stream",
          "text": [
            "Processing Jeremy_Piven:  74%|███████▍  | 745/1000 [18:35<02:56,  1.44it/s]"
          ],
          "name": "stderr"
        },
        {
          "output_type": "stream",
          "text": [
            "Finished Downloading\n"
          ],
          "name": "stdout"
        },
        {
          "output_type": "stream",
          "text": [
            "Processing Nora_Zehetner:  75%|███████▍  | 746/1000 [18:36<02:26,  1.74it/s]       "
          ],
          "name": "stderr"
        },
        {
          "output_type": "stream",
          "text": [
            "Finished Downloading\n",
            "Finished Downloading\n"
          ],
          "name": "stdout"
        },
        {
          "output_type": "stream",
          "text": [
            "Processing Katherine_Jenkins:  75%|███████▍  | 748/1000 [18:39<04:02,  1.04it/s]"
          ],
          "name": "stderr"
        },
        {
          "output_type": "stream",
          "text": [
            "Finished Downloading\n"
          ],
          "name": "stdout"
        },
        {
          "output_type": "stream",
          "text": [
            "Processing Mitchel_Musso:  75%|███████▍  | 749/1000 [19:11<43:01, 10.29s/it]    "
          ],
          "name": "stderr"
        },
        {
          "output_type": "stream",
          "text": [
            "Finished Downloading\n"
          ],
          "name": "stdout"
        },
        {
          "output_type": "stream",
          "text": [
            "Processing Mira_Furlan:  75%|███████▌  | 750/1000 [19:43<1:09:40, 16.72s/it]  "
          ],
          "name": "stderr"
        },
        {
          "output_type": "stream",
          "text": [
            "Finished Downloading\n"
          ],
          "name": "stdout"
        },
        {
          "output_type": "stream",
          "text": [
            "Processing Lesley-Anne_Down:  75%|███████▌  | 751/1000 [19:44<49:23, 11.90s/it]      "
          ],
          "name": "stderr"
        },
        {
          "output_type": "stream",
          "text": [
            "Finished Downloading\n",
            "Finished Downloading\n"
          ],
          "name": "stdout"
        },
        {
          "output_type": "stream",
          "text": [
            "Processing Grant_Bowler:  75%|███████▌  | 754/1000 [19:45<24:47,  6.05s/it] "
          ],
          "name": "stderr"
        },
        {
          "output_type": "stream",
          "text": [
            "Finished Downloading\n",
            "Finished Downloading\n"
          ],
          "name": "stdout"
        },
        {
          "output_type": "stream",
          "text": [
            "Processing Theresa_Randle:  76%|███████▌  | 755/1000 [19:46<18:32,  4.54s/it]"
          ],
          "name": "stderr"
        },
        {
          "output_type": "stream",
          "text": [
            "Finished Downloading\n"
          ],
          "name": "stdout"
        },
        {
          "output_type": "stream",
          "text": [
            "Processing Sunny_Leone:  76%|███████▌  | 756/1000 [19:47<14:00,  3.44s/it]   "
          ],
          "name": "stderr"
        },
        {
          "output_type": "stream",
          "text": [
            "Finished Downloading\n"
          ],
          "name": "stdout"
        },
        {
          "output_type": "stream",
          "text": [
            "Processing Tamara_Taylor:  76%|███████▌  | 757/1000 [19:48<10:17,  2.54s/it]"
          ],
          "name": "stderr"
        },
        {
          "output_type": "stream",
          "text": [
            "Finished Downloading\n"
          ],
          "name": "stdout"
        },
        {
          "output_type": "stream",
          "text": [
            "Processing Matt_Bomer:  76%|███████▌  | 758/1000 [19:48<07:31,  1.87s/it]   "
          ],
          "name": "stderr"
        },
        {
          "output_type": "stream",
          "text": [
            "Finished Downloading\n"
          ],
          "name": "stdout"
        },
        {
          "output_type": "stream",
          "text": [
            "Processing Katherine_McNamara:  76%|███████▌  | 759/1000 [19:50<08:06,  2.02s/it]"
          ],
          "name": "stderr"
        },
        {
          "output_type": "stream",
          "text": [
            "Finished Downloading\n"
          ],
          "name": "stdout"
        },
        {
          "output_type": "stream",
          "text": [
            "Processing Christopher_McDonald:  76%|███████▌  | 760/1000 [19:51<06:00,  1.50s/it]"
          ],
          "name": "stderr"
        },
        {
          "output_type": "stream",
          "text": [
            "Finished Downloading\n"
          ],
          "name": "stdout"
        },
        {
          "output_type": "stream",
          "text": [
            "Processing Hiroyuki_Sanada:  76%|███████▌  | 761/1000 [19:52<05:13,  1.31s/it]     "
          ],
          "name": "stderr"
        },
        {
          "output_type": "stream",
          "text": [
            "Finished Downloading\n"
          ],
          "name": "stdout"
        },
        {
          "output_type": "stream",
          "text": [
            "Processing Selita_Ebanks:  76%|███████▋  | 763/1000 [19:52<03:13,  1.22it/s]"
          ],
          "name": "stderr"
        },
        {
          "output_type": "stream",
          "text": [
            "Finished Downloading\n",
            "Finished Downloading\n"
          ],
          "name": "stdout"
        },
        {
          "output_type": "stream",
          "text": [
            "Processing Gemma_Atkinson:  76%|███████▋  | 764/1000 [19:53<02:36,  1.51it/s]"
          ],
          "name": "stderr"
        },
        {
          "output_type": "stream",
          "text": [
            "Finished Downloading\n"
          ],
          "name": "stdout"
        },
        {
          "output_type": "stream",
          "text": [
            "Processing Aaron_Tveit:  76%|███████▋  | 765/1000 [19:53<02:17,  1.71it/s]   "
          ],
          "name": "stderr"
        },
        {
          "output_type": "stream",
          "text": [
            "Finished Downloading\n"
          ],
          "name": "stdout"
        },
        {
          "output_type": "stream",
          "text": [
            "Processing Jill_Wagner:  77%|███████▋  | 766/1000 [19:54<02:31,  1.55it/s]"
          ],
          "name": "stderr"
        },
        {
          "output_type": "stream",
          "text": [
            "Finished Downloading\n"
          ],
          "name": "stdout"
        },
        {
          "output_type": "stream",
          "text": [
            "Processing Sherri_Shepherd:  77%|███████▋  | 767/1000 [19:55<02:56,  1.32it/s]"
          ],
          "name": "stderr"
        },
        {
          "output_type": "stream",
          "text": [
            "Finished Downloading\n"
          ],
          "name": "stdout"
        },
        {
          "output_type": "stream",
          "text": [
            "Processing Shohreh_Aghdashloo:  77%|███████▋  | 769/1000 [19:56<02:41,  1.43it/s]"
          ],
          "name": "stderr"
        },
        {
          "output_type": "stream",
          "text": [
            "Finished Downloading\n",
            "Finished Downloading\n"
          ],
          "name": "stdout"
        },
        {
          "output_type": "stream",
          "text": [
            "Processing Sanaa_Lathan:  77%|███████▋  | 770/1000 [19:57<02:22,  1.61it/s]"
          ],
          "name": "stderr"
        },
        {
          "output_type": "stream",
          "text": [
            "Finished Downloading\n",
            "Finished Downloading\n"
          ],
          "name": "stdout"
        },
        {
          "output_type": "stream",
          "text": [
            "Processing Samantha_Morton:  77%|███████▋  | 772/1000 [19:57<01:54,  1.99it/s]"
          ],
          "name": "stderr"
        },
        {
          "output_type": "stream",
          "text": [
            "Finished Downloading\n"
          ],
          "name": "stdout"
        },
        {
          "output_type": "stream",
          "text": [
            "Processing Billy_Miller:  77%|███████▋  | 773/1000 [19:58<01:41,  2.23it/s]   "
          ],
          "name": "stderr"
        },
        {
          "output_type": "stream",
          "text": [
            "Finished Downloading\n"
          ],
          "name": "stdout"
        },
        {
          "output_type": "stream",
          "text": [
            "Processing Heather_Hemmens:  77%|███████▋  | 774/1000 [19:58<01:36,  2.35it/s]"
          ],
          "name": "stderr"
        },
        {
          "output_type": "stream",
          "text": [
            "Finished Downloading\n"
          ],
          "name": "stdout"
        },
        {
          "output_type": "stream",
          "text": [
            "Processing Lisa_Edelstein:  78%|███████▊  | 775/1000 [19:58<01:26,  2.59it/s] "
          ],
          "name": "stderr"
        },
        {
          "output_type": "stream",
          "text": [
            "Finished Downloading\n"
          ],
          "name": "stdout"
        },
        {
          "output_type": "stream",
          "text": [
            "Processing Drake_Bell:  78%|███████▊  | 776/1000 [19:59<01:19,  2.82it/s]    "
          ],
          "name": "stderr"
        },
        {
          "output_type": "stream",
          "text": [
            "Finished Downloading\n"
          ],
          "name": "stdout"
        },
        {
          "output_type": "stream",
          "text": [
            "Processing Darren_Criss:  78%|███████▊  | 777/1000 [19:59<01:26,  2.59it/s]"
          ],
          "name": "stderr"
        },
        {
          "output_type": "stream",
          "text": [
            "Finished Downloading\n"
          ],
          "name": "stdout"
        },
        {
          "output_type": "stream",
          "text": [
            "Processing Jennifer_Finnigan:  78%|███████▊  | 778/1000 [20:01<02:59,  1.23it/s]"
          ],
          "name": "stderr"
        },
        {
          "output_type": "stream",
          "text": [
            "Finished Downloading\n"
          ],
          "name": "stdout"
        },
        {
          "output_type": "stream",
          "text": [
            "Processing Louis_Theroux:  78%|███████▊  | 779/1000 [20:01<02:47,  1.32it/s]    "
          ],
          "name": "stderr"
        },
        {
          "output_type": "stream",
          "text": [
            "Finished Downloading\n"
          ],
          "name": "stdout"
        },
        {
          "output_type": "stream",
          "text": [
            "Processing Jane_Badler:  78%|███████▊  | 780/1000 [20:02<02:14,  1.63it/s]  "
          ],
          "name": "stderr"
        },
        {
          "output_type": "stream",
          "text": [
            "Finished Downloading\n"
          ],
          "name": "stdout"
        },
        {
          "output_type": "stream",
          "text": [
            "Processing Tawny_Cypress:  78%|███████▊  | 781/1000 [20:02<02:06,  1.74it/s]"
          ],
          "name": "stderr"
        },
        {
          "output_type": "stream",
          "text": [
            "Finished Downloading\n"
          ],
          "name": "stdout"
        },
        {
          "output_type": "stream",
          "text": [
            "Processing Matt_Lauria:  78%|███████▊  | 782/1000 [20:03<02:44,  1.32it/s]  "
          ],
          "name": "stderr"
        },
        {
          "output_type": "stream",
          "text": [
            "Finished Downloading\n"
          ],
          "name": "stdout"
        },
        {
          "output_type": "stream",
          "text": [
            "Processing Blair_Underwood:  78%|███████▊  | 783/1000 [20:04<02:29,  1.45it/s]"
          ],
          "name": "stderr"
        },
        {
          "output_type": "stream",
          "text": [
            "Finished Downloading\n"
          ],
          "name": "stdout"
        },
        {
          "output_type": "stream",
          "text": [
            "Processing Jake_Cherry:  78%|███████▊  | 784/1000 [20:04<02:22,  1.51it/s]    "
          ],
          "name": "stderr"
        },
        {
          "output_type": "stream",
          "text": [
            "Finished Downloading\n"
          ],
          "name": "stdout"
        },
        {
          "output_type": "stream",
          "text": [
            "Processing Jill_St:  78%|███████▊  | 785/1000 [20:05<02:04,  1.73it/s]    "
          ],
          "name": "stderr"
        },
        {
          "output_type": "stream",
          "text": [
            "Finished Downloading\n"
          ],
          "name": "stdout"
        },
        {
          "output_type": "stream",
          "text": [
            "Processing Jared_Leto:  79%|███████▊  | 786/1000 [20:06<02:17,  1.56it/s]"
          ],
          "name": "stderr"
        },
        {
          "output_type": "stream",
          "text": [
            "Finished Downloading\n"
          ],
          "name": "stdout"
        },
        {
          "output_type": "stream",
          "text": [
            "Processing Tristan_Wilds:  79%|███████▊  | 787/1000 [20:06<02:06,  1.68it/s]"
          ],
          "name": "stderr"
        },
        {
          "output_type": "stream",
          "text": [
            "Finished Downloading\n"
          ],
          "name": "stdout"
        },
        {
          "output_type": "stream",
          "text": [
            "Processing Virginie_Ledoyen:  79%|███████▉  | 788/1000 [20:06<01:47,  1.97it/s]"
          ],
          "name": "stderr"
        },
        {
          "output_type": "stream",
          "text": [
            "Finished Downloading\n"
          ],
          "name": "stdout"
        },
        {
          "output_type": "stream",
          "text": [
            "Processing Rik_Mayall:  79%|███████▉  | 789/1000 [20:11<06:02,  1.72s/it]      "
          ],
          "name": "stderr"
        },
        {
          "output_type": "stream",
          "text": [
            "Finished Downloading\n"
          ],
          "name": "stdout"
        },
        {
          "output_type": "stream",
          "text": [
            "Processing Jeff_Conaway:  79%|███████▉  | 791/1000 [20:12<03:55,  1.13s/it]  "
          ],
          "name": "stderr"
        },
        {
          "output_type": "stream",
          "text": [
            "Finished Downloading\n",
            "Finished Downloading\n"
          ],
          "name": "stdout"
        },
        {
          "output_type": "stream",
          "text": [
            "Processing Michelle_Williams:  79%|███████▉  | 792/1000 [20:13<03:34,  1.03s/it]"
          ],
          "name": "stderr"
        },
        {
          "output_type": "stream",
          "text": [
            "Finished Downloading\n"
          ],
          "name": "stdout"
        },
        {
          "output_type": "stream",
          "text": [
            "Processing Jordan_Gavaris:  79%|███████▉  | 793/1000 [20:14<03:27,  1.00s/it]   "
          ],
          "name": "stderr"
        },
        {
          "output_type": "stream",
          "text": [
            "Finished Downloading\n"
          ],
          "name": "stdout"
        },
        {
          "output_type": "stream",
          "text": [
            "Processing Jimmy_Bennett:  79%|███████▉  | 794/1000 [20:15<03:00,  1.14it/s] "
          ],
          "name": "stderr"
        },
        {
          "output_type": "stream",
          "text": [
            "Finished Downloading\n"
          ],
          "name": "stdout"
        },
        {
          "output_type": "stream",
          "text": [
            "Processing Sonam_Kapoor:  80%|███████▉  | 795/1000 [20:16<03:14,  1.05it/s] "
          ],
          "name": "stderr"
        },
        {
          "output_type": "stream",
          "text": [
            "Finished Downloading\n"
          ],
          "name": "stdout"
        },
        {
          "output_type": "stream",
          "text": [
            "Processing Katrina_Bowden:  80%|███████▉  | 796/1000 [20:18<04:57,  1.46s/it]"
          ],
          "name": "stderr"
        },
        {
          "output_type": "stream",
          "text": [
            "Finished Downloading\n"
          ],
          "name": "stdout"
        },
        {
          "output_type": "stream",
          "text": [
            "Processing Lesley_Nicol:  80%|███████▉  | 797/1000 [20:19<03:43,  1.10s/it]  "
          ],
          "name": "stderr"
        },
        {
          "output_type": "stream",
          "text": [
            "Finished Downloading\n"
          ],
          "name": "stdout"
        },
        {
          "output_type": "stream",
          "text": [
            "Processing Freddie_Mercury:  80%|███████▉  | 799/1000 [20:19<02:20,  1.44it/s]"
          ],
          "name": "stderr"
        },
        {
          "output_type": "stream",
          "text": [
            "Finished Downloading\n",
            "Finished Downloading\n"
          ],
          "name": "stdout"
        },
        {
          "output_type": "stream",
          "text": [
            "Processing Lucy_Hale:  80%|████████  | 800/1000 [20:20<02:30,  1.33it/s]      "
          ],
          "name": "stderr"
        },
        {
          "output_type": "stream",
          "text": [
            "Finished Downloading\n"
          ],
          "name": "stdout"
        },
        {
          "output_type": "stream",
          "text": [
            "Processing Nikki_Griffin:  80%|████████  | 801/1000 [20:21<02:10,  1.53it/s]      "
          ],
          "name": "stderr"
        },
        {
          "output_type": "stream",
          "text": [
            "Finished Downloading\n",
            "Finished Downloading\n"
          ],
          "name": "stdout"
        },
        {
          "output_type": "stream",
          "text": [
            "Processing Carroll_Baker:  80%|████████  | 803/1000 [20:22<02:06,  1.56it/s]"
          ],
          "name": "stderr"
        },
        {
          "output_type": "stream",
          "text": [
            "Finished Downloading\n"
          ],
          "name": "stdout"
        },
        {
          "output_type": "stream",
          "text": [
            "Processing James_Frain:  80%|████████  | 804/1000 [20:22<01:58,  1.65it/s]  "
          ],
          "name": "stderr"
        },
        {
          "output_type": "stream",
          "text": [
            "Finished Downloading\n"
          ],
          "name": "stdout"
        },
        {
          "output_type": "stream",
          "text": [
            "Processing Scott_Elrod:  81%|████████  | 806/1000 [20:24<01:53,  1.71it/s] "
          ],
          "name": "stderr"
        },
        {
          "output_type": "stream",
          "text": [
            "Finished Downloading\n",
            "Finished Downloading\n",
            "Finished Downloading\n"
          ],
          "name": "stdout"
        },
        {
          "output_type": "stream",
          "text": [
            "Processing David_Koechner:  81%|████████  | 808/1000 [20:24<01:27,  2.19it/s]"
          ],
          "name": "stderr"
        },
        {
          "output_type": "stream",
          "text": [
            "Finished Downloading\n"
          ],
          "name": "stdout"
        },
        {
          "output_type": "stream",
          "text": [
            "Processing Maria_Bonnevie:  81%|████████  | 809/1000 [20:24<01:17,  2.46it/s]"
          ],
          "name": "stderr"
        },
        {
          "output_type": "stream",
          "text": [
            "Finished Downloading\n"
          ],
          "name": "stdout"
        },
        {
          "output_type": "stream",
          "text": [
            "Processing Ryan_Phillippe:  81%|████████  | 810/1000 [20:29<05:00,  1.58s/it]"
          ],
          "name": "stderr"
        },
        {
          "output_type": "stream",
          "text": [
            "Finished Downloading\n"
          ],
          "name": "stdout"
        },
        {
          "output_type": "stream",
          "text": [
            "Processing Kaya_Scodelario:  81%|████████  | 811/1000 [20:31<05:38,  1.79s/it]"
          ],
          "name": "stderr"
        },
        {
          "output_type": "stream",
          "text": [
            "Finished Downloading\n"
          ],
          "name": "stdout"
        },
        {
          "output_type": "stream",
          "text": [
            "Processing Jenny_Slate:  81%|████████  | 812/1000 [20:32<04:41,  1.50s/it]    "
          ],
          "name": "stderr"
        },
        {
          "output_type": "stream",
          "text": [
            "Finished Downloading\n"
          ],
          "name": "stdout"
        },
        {
          "output_type": "stream",
          "text": [
            "Processing Witney_Carson:  81%|████████▏ | 813/1000 [20:32<03:31,  1.13s/it]"
          ],
          "name": "stderr"
        },
        {
          "output_type": "stream",
          "text": [
            "Finished Downloading\n"
          ],
          "name": "stdout"
        },
        {
          "output_type": "stream",
          "text": [
            "Processing John_Hodgman:  81%|████████▏ | 814/1000 [20:32<02:49,  1.09it/s] "
          ],
          "name": "stderr"
        },
        {
          "output_type": "stream",
          "text": [
            "Finished Downloading\n"
          ],
          "name": "stdout"
        },
        {
          "output_type": "stream",
          "text": [
            "Processing Seth_MacFarlane:  82%|████████▏ | 815/1000 [20:33<02:24,  1.28it/s]"
          ],
          "name": "stderr"
        },
        {
          "output_type": "stream",
          "text": [
            "Finished Downloading\n"
          ],
          "name": "stdout"
        },
        {
          "output_type": "stream",
          "text": [
            "Processing Shailene_Woodley:  82%|████████▏ | 816/1000 [20:33<02:04,  1.47it/s]"
          ],
          "name": "stderr"
        },
        {
          "output_type": "stream",
          "text": [
            "Finished Downloading\n"
          ],
          "name": "stdout"
        },
        {
          "output_type": "stream",
          "text": [
            "Processing Danny_Pino:  82%|████████▏ | 817/1000 [20:34<01:44,  1.75it/s]      "
          ],
          "name": "stderr"
        },
        {
          "output_type": "stream",
          "text": [
            "Finished Downloading\n"
          ],
          "name": "stdout"
        },
        {
          "output_type": "stream",
          "text": [
            "Processing Kathleen_Robertson:  82%|████████▏ | 818/1000 [20:34<01:28,  2.07it/s]"
          ],
          "name": "stderr"
        },
        {
          "output_type": "stream",
          "text": [
            "Finished Downloading\n",
            "Finished Downloading\n"
          ],
          "name": "stdout"
        },
        {
          "output_type": "stream",
          "text": [
            "Processing Adam_Lambert:  82%|████████▏ | 820/1000 [20:35<01:17,  2.32it/s]      "
          ],
          "name": "stderr"
        },
        {
          "output_type": "stream",
          "text": [
            "Finished Downloading\n"
          ],
          "name": "stdout"
        },
        {
          "output_type": "stream",
          "text": [
            "Processing Claire_Forlani:  82%|████████▏ | 821/1000 [20:36<01:56,  1.54it/s]"
          ],
          "name": "stderr"
        },
        {
          "output_type": "stream",
          "text": [
            "Finished Downloading\n"
          ],
          "name": "stdout"
        },
        {
          "output_type": "stream",
          "text": [
            "Processing Marlee_Matlin:  82%|████████▏ | 822/1000 [21:07<29:38,  9.99s/it] "
          ],
          "name": "stderr"
        },
        {
          "output_type": "stream",
          "text": [
            "Finished Downloading\n"
          ],
          "name": "stdout"
        },
        {
          "output_type": "stream",
          "text": [
            "Processing Annabeth_Gish:  82%|████████▏ | 823/1000 [21:08<20:53,  7.08s/it]"
          ],
          "name": "stderr"
        },
        {
          "output_type": "stream",
          "text": [
            "Finished Downloading\n"
          ],
          "name": "stdout"
        },
        {
          "output_type": "stream",
          "text": [
            "Processing Armie_Hammer:  82%|████████▏ | 824/1000 [21:08<14:47,  5.05s/it]"
          ],
          "name": "stderr"
        },
        {
          "output_type": "stream",
          "text": [
            "Finished Downloading\n",
            "Finished Downloading\n"
          ],
          "name": "stdout"
        },
        {
          "output_type": "stream",
          "text": [
            "Processing Wilson_Cruz:  83%|████████▎ | 826/1000 [21:10<11:10,  3.85s/it] "
          ],
          "name": "stderr"
        },
        {
          "output_type": "stream",
          "text": [
            "Finished Downloading\n"
          ],
          "name": "stdout"
        },
        {
          "output_type": "stream",
          "text": [
            "Processing Rockmond_Dunbar:  83%|████████▎ | 827/1000 [21:12<09:00,  3.12s/it]"
          ],
          "name": "stderr"
        },
        {
          "output_type": "stream",
          "text": [
            "Finished Downloading\n"
          ],
          "name": "stdout"
        },
        {
          "output_type": "stream",
          "text": [
            "Processing Francesca_Capaldi:  83%|████████▎ | 828/1000 [21:13<07:15,  2.53s/it]"
          ],
          "name": "stderr"
        },
        {
          "output_type": "stream",
          "text": [
            "Finished Downloading\n"
          ],
          "name": "stdout"
        },
        {
          "output_type": "stream",
          "text": [
            "Processing Freddie_Stroma:  83%|████████▎ | 829/1000 [21:13<05:18,  1.86s/it]   "
          ],
          "name": "stderr"
        },
        {
          "output_type": "stream",
          "text": [
            "Finished Downloading\n"
          ],
          "name": "stdout"
        },
        {
          "output_type": "stream",
          "text": [
            "Processing Eileen_Davidson:  83%|████████▎ | 830/1000 [21:14<04:47,  1.69s/it]"
          ],
          "name": "stderr"
        },
        {
          "output_type": "stream",
          "text": [
            "Finished Downloading\n"
          ],
          "name": "stdout"
        },
        {
          "output_type": "stream",
          "text": [
            "Processing Claude_Rains:  83%|████████▎ | 831/1000 [21:15<03:47,  1.35s/it]   "
          ],
          "name": "stderr"
        },
        {
          "output_type": "stream",
          "text": [
            "Finished Downloading\n"
          ],
          "name": "stdout"
        },
        {
          "output_type": "stream",
          "text": [
            "Processing Eric_Braeden:  83%|████████▎ | 832/1000 [21:15<03:01,  1.08s/it]"
          ],
          "name": "stderr"
        },
        {
          "output_type": "stream",
          "text": [
            "Finished Downloading\n"
          ],
          "name": "stdout"
        },
        {
          "output_type": "stream",
          "text": [
            "Processing Ben_Chaplin:  83%|████████▎ | 833/1000 [21:16<02:41,  1.03it/s] "
          ],
          "name": "stderr"
        },
        {
          "output_type": "stream",
          "text": [
            "Finished Downloading\n"
          ],
          "name": "stdout"
        },
        {
          "output_type": "stream",
          "text": [
            "Processing Bobby_Cannavale:  83%|████████▎ | 834/1000 [21:17<02:20,  1.18it/s]"
          ],
          "name": "stderr"
        },
        {
          "output_type": "stream",
          "text": [
            "Finished Downloading\n"
          ],
          "name": "stdout"
        },
        {
          "output_type": "stream",
          "text": [
            "Processing Rick_Springfield:  84%|████████▎ | 835/1000 [21:17<02:15,  1.22it/s]"
          ],
          "name": "stderr"
        },
        {
          "output_type": "stream",
          "text": [
            "Finished Downloading\n"
          ],
          "name": "stdout"
        },
        {
          "output_type": "stream",
          "text": [
            "Processing Jack_Ma:  84%|████████▎ | 837/1000 [21:18<01:33,  1.75it/s]    "
          ],
          "name": "stderr"
        },
        {
          "output_type": "stream",
          "text": [
            "Finished Downloading\n",
            "Finished Downloading\n"
          ],
          "name": "stdout"
        },
        {
          "output_type": "stream",
          "text": [
            "Processing Ben_Feldman:  84%|████████▍ | 838/1000 [21:19<02:05,  1.29it/s]  "
          ],
          "name": "stderr"
        },
        {
          "output_type": "stream",
          "text": [
            "Finished Downloading\n",
            "Finished Downloading\n"
          ],
          "name": "stdout"
        },
        {
          "output_type": "stream",
          "text": [
            "Processing Antonio_Cupo:  84%|████████▍ | 840/1000 [21:21<02:10,  1.23it/s]"
          ],
          "name": "stderr"
        },
        {
          "output_type": "stream",
          "text": [
            "Finished Downloading\n"
          ],
          "name": "stdout"
        },
        {
          "output_type": "stream",
          "text": [
            "Processing Trevor_Donovan:  84%|████████▍ | 841/1000 [21:22<02:00,  1.32it/s]"
          ],
          "name": "stderr"
        },
        {
          "output_type": "stream",
          "text": [
            "Finished Downloading\n"
          ],
          "name": "stdout"
        },
        {
          "output_type": "stream",
          "text": [
            "Processing James_Denton:  84%|████████▍ | 842/1000 [21:23<02:40,  1.01s/it]  "
          ],
          "name": "stderr"
        },
        {
          "output_type": "stream",
          "text": [
            "Finished Downloading\n"
          ],
          "name": "stdout"
        },
        {
          "output_type": "stream",
          "text": [
            "Processing Satya_Nadella:  84%|████████▍ | 843/1000 [21:25<02:46,  1.06s/it]"
          ],
          "name": "stderr"
        },
        {
          "output_type": "stream",
          "text": [
            "Finished Downloading\n"
          ],
          "name": "stdout"
        },
        {
          "output_type": "stream",
          "text": [
            "Processing Raini_Rodriguez:  84%|████████▍ | 844/1000 [21:26<02:58,  1.15s/it]"
          ],
          "name": "stderr"
        },
        {
          "output_type": "stream",
          "text": [
            "Finished Downloading\n"
          ],
          "name": "stdout"
        },
        {
          "output_type": "stream",
          "text": [
            "Processing Yul_Brynner:  84%|████████▍ | 845/1000 [21:27<02:41,  1.04s/it]    "
          ],
          "name": "stderr"
        },
        {
          "output_type": "stream",
          "text": [
            "Finished Downloading\n"
          ],
          "name": "stdout"
        },
        {
          "output_type": "stream",
          "text": [
            "Processing Martin_Shaw:  85%|████████▍ | 846/1000 [21:27<02:21,  1.09it/s]"
          ],
          "name": "stderr"
        },
        {
          "output_type": "stream",
          "text": [
            "Finished Downloading\n"
          ],
          "name": "stdout"
        },
        {
          "output_type": "stream",
          "text": [
            "Processing Emily_Watson:  85%|████████▍ | 847/1000 [21:28<02:27,  1.04it/s]"
          ],
          "name": "stderr"
        },
        {
          "output_type": "stream",
          "text": [
            "Finished Downloading\n"
          ],
          "name": "stdout"
        },
        {
          "output_type": "stream",
          "text": [
            "Processing Anthony_Mackie:  85%|████████▍ | 848/1000 [21:29<02:12,  1.15it/s]"
          ],
          "name": "stderr"
        },
        {
          "output_type": "stream",
          "text": [
            "Finished Downloading\n"
          ],
          "name": "stdout"
        },
        {
          "output_type": "stream",
          "text": [
            "Processing Alicja_Bachleda:  85%|████████▍ | 849/1000 [21:30<02:18,  1.09it/s]"
          ],
          "name": "stderr"
        },
        {
          "output_type": "stream",
          "text": [
            "Finished Downloading\n"
          ],
          "name": "stdout"
        },
        {
          "output_type": "stream",
          "text": [
            "Processing Anthony_Anderson:  85%|████████▌ | 851/1000 [21:33<02:23,  1.04it/s] "
          ],
          "name": "stderr"
        },
        {
          "output_type": "stream",
          "text": [
            "Finished Downloading\n",
            "Finished Downloading\n"
          ],
          "name": "stdout"
        },
        {
          "output_type": "stream",
          "text": [
            "Processing Barbara_Eden:  85%|████████▌ | 852/1000 [21:33<01:52,  1.32it/s]    "
          ],
          "name": "stderr"
        },
        {
          "output_type": "stream",
          "text": [
            "Finished Downloading\n"
          ],
          "name": "stdout"
        },
        {
          "output_type": "stream",
          "text": [
            "Processing Dean_Cain:  85%|████████▌ | 853/1000 [21:33<01:31,  1.61it/s]   "
          ],
          "name": "stderr"
        },
        {
          "output_type": "stream",
          "text": [
            "Finished Downloading\n"
          ],
          "name": "stdout"
        },
        {
          "output_type": "stream",
          "text": [
            "Processing Hutch_Dano:  85%|████████▌ | 854/1000 [21:34<01:36,  1.51it/s]"
          ],
          "name": "stderr"
        },
        {
          "output_type": "stream",
          "text": [
            "Finished Downloading\n"
          ],
          "name": "stdout"
        },
        {
          "output_type": "stream",
          "text": [
            "Processing Sherri_Saum:  86%|████████▌ | 855/1000 [21:35<01:57,  1.23it/s]"
          ],
          "name": "stderr"
        },
        {
          "output_type": "stream",
          "text": [
            "Finished Downloading\n"
          ],
          "name": "stdout"
        },
        {
          "output_type": "stream",
          "text": [
            "Processing Sheryl_Lee_Ralph:  86%|████████▌ | 856/1000 [21:35<01:41,  1.42it/s]"
          ],
          "name": "stderr"
        },
        {
          "output_type": "stream",
          "text": [
            "Finished Downloading\n"
          ],
          "name": "stdout"
        },
        {
          "output_type": "stream",
          "text": [
            "Processing Guillaume_Canet:  86%|████████▌ | 857/1000 [21:36<01:47,  1.33it/s] "
          ],
          "name": "stderr"
        },
        {
          "output_type": "stream",
          "text": [
            "Finished Downloading\n"
          ],
          "name": "stdout"
        },
        {
          "output_type": "stream",
          "text": [
            "Processing Olivia_Grant:  86%|████████▌ | 858/1000 [21:37<01:41,  1.39it/s]   "
          ],
          "name": "stderr"
        },
        {
          "output_type": "stream",
          "text": [
            "Finished Downloading\n"
          ],
          "name": "stdout"
        },
        {
          "output_type": "stream",
          "text": [
            "Processing Lilla_Crawford:  86%|████████▌ | 859/1000 [21:39<02:33,  1.09s/it]"
          ],
          "name": "stderr"
        },
        {
          "output_type": "stream",
          "text": [
            "Finished Downloading\n"
          ],
          "name": "stdout"
        },
        {
          "output_type": "stream",
          "text": [
            "Processing Garcelle_Beauvais:  86%|████████▌ | 860/1000 [21:40<02:34,  1.10s/it]"
          ],
          "name": "stderr"
        },
        {
          "output_type": "stream",
          "text": [
            "Finished Downloading\n"
          ],
          "name": "stdout"
        },
        {
          "output_type": "stream",
          "text": [
            "Processing Robert_Buckley:  86%|████████▌ | 861/1000 [21:45<05:19,  2.30s/it]   "
          ],
          "name": "stderr"
        },
        {
          "output_type": "stream",
          "text": [
            "Finished Downloading\n"
          ],
          "name": "stdout"
        },
        {
          "output_type": "stream",
          "text": [
            "Processing Riley_Smith:  86%|████████▌ | 862/1000 [21:46<04:01,  1.75s/it]   "
          ],
          "name": "stderr"
        },
        {
          "output_type": "stream",
          "text": [
            "Finished Downloading\n"
          ],
          "name": "stdout"
        },
        {
          "output_type": "stream",
          "text": [
            "Processing Loretta_Devine:  86%|████████▋ | 863/1000 [21:46<03:22,  1.47s/it]"
          ],
          "name": "stderr"
        },
        {
          "output_type": "stream",
          "text": [
            "Finished Downloading\n"
          ],
          "name": "stdout"
        },
        {
          "output_type": "stream",
          "text": [
            "Processing Bellamy_Young:  86%|████████▋ | 864/1000 [21:47<02:51,  1.26s/it] "
          ],
          "name": "stderr"
        },
        {
          "output_type": "stream",
          "text": [
            "Finished Downloading\n"
          ],
          "name": "stdout"
        },
        {
          "output_type": "stream",
          "text": [
            "Processing Jemaine_Clement:  86%|████████▋ | 865/1000 [21:48<02:10,  1.03it/s]"
          ],
          "name": "stderr"
        },
        {
          "output_type": "stream",
          "text": [
            "Finished Downloading\n"
          ],
          "name": "stdout"
        },
        {
          "output_type": "stream",
          "text": [
            "Processing Callie_Thorne:  87%|████████▋ | 866/1000 [21:50<03:08,  1.40s/it]  "
          ],
          "name": "stderr"
        },
        {
          "output_type": "stream",
          "text": [
            "Finished Downloading\n"
          ],
          "name": "stdout"
        },
        {
          "output_type": "stream",
          "text": [
            "Processing Anthony_Rapp:  87%|████████▋ | 867/1000 [21:51<02:50,  1.28s/it] "
          ],
          "name": "stderr"
        },
        {
          "output_type": "stream",
          "text": [
            "Finished Downloading\n"
          ],
          "name": "stdout"
        },
        {
          "output_type": "stream",
          "text": [
            "Processing Judy_Sheindlin:  87%|████████▋ | 868/1000 [21:54<03:44,  1.70s/it]"
          ],
          "name": "stderr"
        },
        {
          "output_type": "stream",
          "text": [
            "Finished Downloading\n"
          ],
          "name": "stdout"
        },
        {
          "output_type": "stream",
          "text": [
            "Processing James_Dean:  87%|████████▋ | 869/1000 [21:54<02:50,  1.30s/it]    "
          ],
          "name": "stderr"
        },
        {
          "output_type": "stream",
          "text": [
            "Finished Downloading\n"
          ],
          "name": "stdout"
        },
        {
          "output_type": "stream",
          "text": [
            "Processing David_Cassidy:  87%|████████▋ | 870/1000 [21:55<02:23,  1.11s/it]"
          ],
          "name": "stderr"
        },
        {
          "output_type": "stream",
          "text": [
            "Finished Downloading\n"
          ],
          "name": "stdout"
        },
        {
          "output_type": "stream",
          "text": [
            "Processing Lucas_Till:  87%|████████▋ | 871/1000 [21:55<01:53,  1.13it/s]   "
          ],
          "name": "stderr"
        },
        {
          "output_type": "stream",
          "text": [
            "Finished Downloading\n"
          ],
          "name": "stdout"
        },
        {
          "output_type": "stream",
          "text": [
            "Processing Swoosie_Kurtz:  87%|████████▋ | 872/1000 [21:57<02:45,  1.29s/it]"
          ],
          "name": "stderr"
        },
        {
          "output_type": "stream",
          "text": [
            "Finished Downloading\n"
          ],
          "name": "stdout"
        },
        {
          "output_type": "stream",
          "text": [
            "Processing Lily_Loveless:  87%|████████▋ | 873/1000 [21:58<02:14,  1.06s/it]"
          ],
          "name": "stderr"
        },
        {
          "output_type": "stream",
          "text": [
            "Finished Downloading\n"
          ],
          "name": "stdout"
        },
        {
          "output_type": "stream",
          "text": [
            "Processing Andy_Milonakis:  88%|████████▊ | 875/1000 [21:58<01:19,  1.57it/s]"
          ],
          "name": "stderr"
        },
        {
          "output_type": "stream",
          "text": [
            "Finished Downloading\n",
            "Finished Downloading\n"
          ],
          "name": "stdout"
        },
        {
          "output_type": "stream",
          "text": [
            "Processing Michael_C:  88%|████████▊ | 876/1000 [22:00<01:48,  1.14it/s]     "
          ],
          "name": "stderr"
        },
        {
          "output_type": "stream",
          "text": [
            "Finished Downloading\n"
          ],
          "name": "stdout"
        },
        {
          "output_type": "stream",
          "text": [
            "Processing Caitriona_Balfe:  88%|████████▊ | 877/1000 [22:00<01:28,  1.40it/s]"
          ],
          "name": "stderr"
        },
        {
          "output_type": "stream",
          "text": [
            "Finished Downloading\n"
          ],
          "name": "stdout"
        },
        {
          "output_type": "stream",
          "text": [
            "Processing Ruth_Wilson:  88%|████████▊ | 878/1000 [22:00<01:12,  1.69it/s]    "
          ],
          "name": "stderr"
        },
        {
          "output_type": "stream",
          "text": [
            "Finished Downloading\n"
          ],
          "name": "stdout"
        },
        {
          "output_type": "stream",
          "text": [
            "Processing Sarah_Wayne_Callies:  88%|████████▊ | 879/1000 [22:02<01:49,  1.10it/s]"
          ],
          "name": "stderr"
        },
        {
          "output_type": "stream",
          "text": [
            "Finished Downloading\n",
            "Finished Downloading\n"
          ],
          "name": "stdout"
        },
        {
          "output_type": "stream",
          "text": [
            "Processing Jordana_Spiro:  88%|████████▊ | 881/1000 [22:02<01:19,  1.50it/s] "
          ],
          "name": "stderr"
        },
        {
          "output_type": "stream",
          "text": [
            "Finished Downloading\n",
            "Finished Downloading\n"
          ],
          "name": "stdout"
        },
        {
          "output_type": "stream",
          "text": [
            "Processing Tyne_Daly:  88%|████████▊ | 885/1000 [22:05<01:08,  1.68it/s]        "
          ],
          "name": "stderr"
        },
        {
          "output_type": "stream",
          "text": [
            "Finished Downloading\n",
            "Finished Downloading\n",
            "Finished Downloading\n"
          ],
          "name": "stdout"
        },
        {
          "output_type": "stream",
          "text": [
            "Processing Mark_Zuckerberg:  89%|████████▊ | 886/1000 [22:05<00:59,  1.90it/s]"
          ],
          "name": "stderr"
        },
        {
          "output_type": "stream",
          "text": [
            "Finished Downloading\n"
          ],
          "name": "stdout"
        },
        {
          "output_type": "stream",
          "text": [
            "Processing Sasha_Pieterse:  89%|████████▊ | 887/1000 [22:06<00:58,  1.92it/s] "
          ],
          "name": "stderr"
        },
        {
          "output_type": "stream",
          "text": [
            "Finished Downloading\n"
          ],
          "name": "stdout"
        },
        {
          "output_type": "stream",
          "text": [
            "Processing Joseph_Lawrence:  89%|████████▉ | 888/1000 [22:06<01:01,  1.83it/s]"
          ],
          "name": "stderr"
        },
        {
          "output_type": "stream",
          "text": [
            "Finished Downloading\n"
          ],
          "name": "stdout"
        },
        {
          "output_type": "stream",
          "text": [
            "Processing Max_Carver:  89%|████████▉ | 889/1000 [22:07<01:02,  1.78it/s]     "
          ],
          "name": "stderr"
        },
        {
          "output_type": "stream",
          "text": [
            "Finished Downloading\n"
          ],
          "name": "stdout"
        },
        {
          "output_type": "stream",
          "text": [
            "Processing Shane_West:  89%|████████▉ | 890/1000 [22:08<01:09,  1.58it/s]"
          ],
          "name": "stderr"
        },
        {
          "output_type": "stream",
          "text": [
            "Finished Downloading\n"
          ],
          "name": "stdout"
        },
        {
          "output_type": "stream",
          "text": [
            "Processing Sarah_Carter:  89%|████████▉ | 891/1000 [22:08<01:03,  1.71it/s]"
          ],
          "name": "stderr"
        },
        {
          "output_type": "stream",
          "text": [
            "Finished Downloading\n"
          ],
          "name": "stdout"
        },
        {
          "output_type": "stream",
          "text": [
            "Processing Stephanie_March:  89%|████████▉ | 892/1000 [22:09<01:01,  1.75it/s]"
          ],
          "name": "stderr"
        },
        {
          "output_type": "stream",
          "text": [
            "Finished Downloading\n"
          ],
          "name": "stdout"
        },
        {
          "output_type": "stream",
          "text": [
            "Processing William_Baldwin:  89%|████████▉ | 893/1000 [22:09<01:08,  1.56it/s]"
          ],
          "name": "stderr"
        },
        {
          "output_type": "stream",
          "text": [
            "Finished Downloading\n",
            "Finished Downloading\n"
          ],
          "name": "stdout"
        },
        {
          "output_type": "stream",
          "text": [
            "Processing Joan_Hickson:  90%|████████▉ | 895/1000 [22:10<01:01,  1.71it/s]   "
          ],
          "name": "stderr"
        },
        {
          "output_type": "stream",
          "text": [
            "Finished Downloading\n"
          ],
          "name": "stdout"
        },
        {
          "output_type": "stream",
          "text": [
            "Processing Nathan_Stewart-Jarrett:  90%|████████▉ | 896/1000 [22:11<01:00,  1.72it/s]"
          ],
          "name": "stderr"
        },
        {
          "output_type": "stream",
          "text": [
            "Finished Downloading\n"
          ],
          "name": "stdout"
        },
        {
          "output_type": "stream",
          "text": [
            "Processing Katherine_Heigl:  90%|████████▉ | 897/1000 [22:11<00:50,  2.03it/s]       "
          ],
          "name": "stderr"
        },
        {
          "output_type": "stream",
          "text": [
            "Finished Downloading\n"
          ],
          "name": "stdout"
        },
        {
          "output_type": "stream",
          "text": [
            "Processing Logan_Henderson:  90%|████████▉ | 898/1000 [22:12<01:12,  1.41it/s]"
          ],
          "name": "stderr"
        },
        {
          "output_type": "stream",
          "text": [
            "Finished Downloading\n"
          ],
          "name": "stdout"
        },
        {
          "output_type": "stream",
          "text": [
            "Processing Mary_Astor:  90%|████████▉ | 899/1000 [22:14<01:26,  1.16it/s]     "
          ],
          "name": "stderr"
        },
        {
          "output_type": "stream",
          "text": [
            "Finished Downloading\n"
          ],
          "name": "stdout"
        },
        {
          "output_type": "stream",
          "text": [
            "Processing Irrfan_Khan:  90%|█████████ | 900/1000 [22:14<01:16,  1.31it/s]"
          ],
          "name": "stderr"
        },
        {
          "output_type": "stream",
          "text": [
            "Finished Downloading\n"
          ],
          "name": "stdout"
        },
        {
          "output_type": "stream",
          "text": [
            "Processing Kelly_Rutherford:  90%|█████████ | 901/1000 [23:34<40:29, 24.54s/it]"
          ],
          "name": "stderr"
        },
        {
          "output_type": "stream",
          "text": [
            "Finished Downloading\n"
          ],
          "name": "stdout"
        },
        {
          "output_type": "stream",
          "text": [
            "Processing Grace_Lee_Whitney:  90%|█████████ | 902/1000 [23:35<28:16, 17.32s/it]"
          ],
          "name": "stderr"
        },
        {
          "output_type": "stream",
          "text": [
            "Finished Downloading\n"
          ],
          "name": "stdout"
        },
        {
          "output_type": "stream",
          "text": [
            "Processing John_Savage:  90%|█████████ | 903/1000 [23:36<20:12, 12.50s/it]      "
          ],
          "name": "stderr"
        },
        {
          "output_type": "stream",
          "text": [
            "Finished Downloading\n"
          ],
          "name": "stdout"
        },
        {
          "output_type": "stream",
          "text": [
            "Processing Sam_Heughan:  90%|█████████ | 904/1000 [23:37<14:31,  9.08s/it]"
          ],
          "name": "stderr"
        },
        {
          "output_type": "stream",
          "text": [
            "Finished Downloading\n"
          ],
          "name": "stdout"
        },
        {
          "output_type": "stream",
          "text": [
            "Processing Sierra_McCormick:  90%|█████████ | 905/1000 [23:37<10:19,  6.52s/it]"
          ],
          "name": "stderr"
        },
        {
          "output_type": "stream",
          "text": [
            "Finished Downloading\n"
          ],
          "name": "stdout"
        },
        {
          "output_type": "stream",
          "text": [
            "Processing Ashley_Madekwe:  91%|█████████ | 906/1000 [23:39<07:55,  5.06s/it]  "
          ],
          "name": "stderr"
        },
        {
          "output_type": "stream",
          "text": [
            "Finished Downloading\n"
          ],
          "name": "stdout"
        },
        {
          "output_type": "stream",
          "text": [
            "Processing Jeanine_Mason:  91%|█████████ | 907/1000 [23:43<07:30,  4.85s/it] "
          ],
          "name": "stderr"
        },
        {
          "output_type": "stream",
          "text": [
            "Finished Downloading\n"
          ],
          "name": "stdout"
        },
        {
          "output_type": "stream",
          "text": [
            "Processing Michelle_Krusiec:  91%|█████████ | 908/1000 [23:46<06:31,  4.25s/it]"
          ],
          "name": "stderr"
        },
        {
          "output_type": "stream",
          "text": [
            "Finished Downloading\n"
          ],
          "name": "stdout"
        },
        {
          "output_type": "stream",
          "text": [
            "Processing Gloria_Reuben:  91%|█████████ | 909/1000 [23:47<04:39,  3.07s/it]   "
          ],
          "name": "stderr"
        },
        {
          "output_type": "stream",
          "text": [
            "Finished Downloading\n"
          ],
          "name": "stdout"
        },
        {
          "output_type": "stream",
          "text": [
            "Processing Rumer_Willis:  91%|█████████ | 910/1000 [23:47<03:26,  2.30s/it] "
          ],
          "name": "stderr"
        },
        {
          "output_type": "stream",
          "text": [
            "Finished Downloading\n"
          ],
          "name": "stdout"
        },
        {
          "output_type": "stream",
          "text": [
            "Processing Cassandra_Peterson:  91%|█████████ | 911/1000 [23:48<02:33,  1.73s/it]"
          ],
          "name": "stderr"
        },
        {
          "output_type": "stream",
          "text": [
            "Finished Downloading\n"
          ],
          "name": "stdout"
        },
        {
          "output_type": "stream",
          "text": [
            "Processing Max_Adler:  91%|█████████ | 912/1000 [23:48<02:04,  1.41s/it]         "
          ],
          "name": "stderr"
        },
        {
          "output_type": "stream",
          "text": [
            "Finished Downloading\n"
          ],
          "name": "stdout"
        },
        {
          "output_type": "stream",
          "text": [
            "Processing Freema_Agyeman:  91%|█████████▏| 913/1000 [23:49<01:35,  1.09s/it]"
          ],
          "name": "stderr"
        },
        {
          "output_type": "stream",
          "text": [
            "Finished Downloading\n"
          ],
          "name": "stdout"
        },
        {
          "output_type": "stream",
          "text": [
            "Processing Michelle_Ryan:  91%|█████████▏| 914/1000 [23:49<01:20,  1.07it/s] "
          ],
          "name": "stderr"
        },
        {
          "output_type": "stream",
          "text": [
            "Finished Downloading\n"
          ],
          "name": "stdout"
        },
        {
          "output_type": "stream",
          "text": [
            "Processing Katharine_McPhee:  92%|█████████▏| 915/1000 [23:50<01:15,  1.13it/s]"
          ],
          "name": "stderr"
        },
        {
          "output_type": "stream",
          "text": [
            "Finished Downloading\n"
          ],
          "name": "stdout"
        },
        {
          "output_type": "stream",
          "text": [
            "Processing Peter_Jacobson:  92%|█████████▏| 916/1000 [23:50<00:58,  1.43it/s]  "
          ],
          "name": "stderr"
        },
        {
          "output_type": "stream",
          "text": [
            "Finished Downloading\n"
          ],
          "name": "stdout"
        },
        {
          "output_type": "stream",
          "text": [
            "Processing Tamer_Hassan:  92%|█████████▏| 917/1000 [23:52<01:19,  1.05it/s]  "
          ],
          "name": "stderr"
        },
        {
          "output_type": "stream",
          "text": [
            "Finished Downloading\n"
          ],
          "name": "stdout"
        },
        {
          "output_type": "stream",
          "text": [
            "Processing Jacqueline_Emerson:  92%|█████████▏| 918/1000 [23:53<01:29,  1.09s/it]"
          ],
          "name": "stderr"
        },
        {
          "output_type": "stream",
          "text": [
            "Finished Downloading\n"
          ],
          "name": "stdout"
        },
        {
          "output_type": "stream",
          "text": [
            "Processing Jesse_Spencer:  92%|█████████▏| 919/1000 [23:54<01:13,  1.11it/s]     "
          ],
          "name": "stderr"
        },
        {
          "output_type": "stream",
          "text": [
            "Finished Downloading\n"
          ],
          "name": "stdout"
        },
        {
          "output_type": "stream",
          "text": [
            "Processing Paul_Sorvino:  92%|█████████▏| 920/1000 [23:54<01:03,  1.26it/s] "
          ],
          "name": "stderr"
        },
        {
          "output_type": "stream",
          "text": [
            "Finished Downloading\n"
          ],
          "name": "stdout"
        },
        {
          "output_type": "stream",
          "text": [
            "Processing Mads_Mikkelsen:  92%|█████████▏| 921/1000 [23:54<00:50,  1.56it/s]"
          ],
          "name": "stderr"
        },
        {
          "output_type": "stream",
          "text": [
            "Finished Downloading\n"
          ],
          "name": "stdout"
        },
        {
          "output_type": "stream",
          "text": [
            "Processing Andrew_Keegan:  92%|█████████▏| 922/1000 [23:56<01:11,  1.09it/s] "
          ],
          "name": "stderr"
        },
        {
          "output_type": "stream",
          "text": [
            "Finished Downloading\n"
          ],
          "name": "stdout"
        },
        {
          "output_type": "stream",
          "text": [
            "Processing Shiloh_Fernandez:  92%|█████████▏| 923/1000 [23:57<01:00,  1.26it/s]"
          ],
          "name": "stderr"
        },
        {
          "output_type": "stream",
          "text": [
            "Finished Downloading\n"
          ],
          "name": "stdout"
        },
        {
          "output_type": "stream",
          "text": [
            "Processing Jim_Beaver:  92%|█████████▏| 924/1000 [23:57<00:56,  1.34it/s]      "
          ],
          "name": "stderr"
        },
        {
          "output_type": "stream",
          "text": [
            "Finished Downloading\n"
          ],
          "name": "stdout"
        },
        {
          "output_type": "stream",
          "text": [
            "Processing Helen_McCrory:  92%|█████████▎| 925/1000 [23:58<01:08,  1.09it/s]"
          ],
          "name": "stderr"
        },
        {
          "output_type": "stream",
          "text": [
            "Finished Downloading\n"
          ],
          "name": "stdout"
        },
        {
          "output_type": "stream",
          "text": [
            "Processing Skai_Jackson:  93%|█████████▎| 926/1000 [24:00<01:18,  1.06s/it] "
          ],
          "name": "stderr"
        },
        {
          "output_type": "stream",
          "text": [
            "Finished Downloading\n"
          ],
          "name": "stdout"
        },
        {
          "output_type": "stream",
          "text": [
            "Processing Lena_Headey:  93%|█████████▎| 927/1000 [24:00<01:06,  1.10it/s] "
          ],
          "name": "stderr"
        },
        {
          "output_type": "stream",
          "text": [
            "Finished Downloading\n"
          ],
          "name": "stdout"
        },
        {
          "output_type": "stream",
          "text": [
            "Processing Julia_Roberts:  93%|█████████▎| 928/1000 [24:01<00:56,  1.27it/s]"
          ],
          "name": "stderr"
        },
        {
          "output_type": "stream",
          "text": [
            "Finished Downloading\n"
          ],
          "name": "stdout"
        },
        {
          "output_type": "stream",
          "text": [
            "Processing Shaun_Cassidy:  93%|█████████▎| 929/1000 [24:02<00:59,  1.19it/s]"
          ],
          "name": "stderr"
        },
        {
          "output_type": "stream",
          "text": [
            "Finished Downloading\n"
          ],
          "name": "stdout"
        },
        {
          "output_type": "stream",
          "text": [
            "Processing Anil_Kapoor:  93%|█████████▎| 931/1000 [24:03<00:43,  1.58it/s]      "
          ],
          "name": "stderr"
        },
        {
          "output_type": "stream",
          "text": [
            "Finished Downloading\n",
            "Finished Downloading\n"
          ],
          "name": "stdout"
        },
        {
          "output_type": "stream",
          "text": [
            "Processing Dominic_Keating:  93%|█████████▎| 932/1000 [24:04<00:46,  1.46it/s]"
          ],
          "name": "stderr"
        },
        {
          "output_type": "stream",
          "text": [
            "Finished Downloading\n"
          ],
          "name": "stdout"
        },
        {
          "output_type": "stream",
          "text": [
            "Processing Jacob_Vargas:  93%|█████████▎| 934/1000 [24:05<00:41,  1.59it/s]"
          ],
          "name": "stderr"
        },
        {
          "output_type": "stream",
          "text": [
            "Finished Downloading\n",
            "Finished Downloading\n",
            "Finished Downloading\n"
          ],
          "name": "stdout"
        },
        {
          "output_type": "stream",
          "text": [
            "Processing Rafael_Amaya:  94%|█████████▎| 936/1000 [24:06<00:37,  1.69it/s]"
          ],
          "name": "stderr"
        },
        {
          "output_type": "stream",
          "text": [
            "Finished Downloading\n"
          ],
          "name": "stdout"
        },
        {
          "output_type": "stream",
          "text": [
            "Processing Alexander_Ludwig:  94%|█████████▎| 937/1000 [24:07<00:49,  1.28it/s]"
          ],
          "name": "stderr"
        },
        {
          "output_type": "stream",
          "text": [
            "Finished Downloading\n"
          ],
          "name": "stdout"
        },
        {
          "output_type": "stream",
          "text": [
            "Processing Aida_Turturro:  94%|█████████▍| 938/1000 [24:08<00:48,  1.27it/s]   "
          ],
          "name": "stderr"
        },
        {
          "output_type": "stream",
          "text": [
            "Finished Downloading\n"
          ],
          "name": "stdout"
        },
        {
          "output_type": "stream",
          "text": [
            "Processing Joel_Gretsch:  94%|█████████▍| 939/1000 [24:09<00:45,  1.33it/s] "
          ],
          "name": "stderr"
        },
        {
          "output_type": "stream",
          "text": [
            "Finished Downloading\n"
          ],
          "name": "stdout"
        },
        {
          "output_type": "stream",
          "text": [
            "Processing Zsa_Zsa_Gabor:  94%|█████████▍| 942/1000 [24:10<00:34,  1.69it/s] "
          ],
          "name": "stderr"
        },
        {
          "output_type": "stream",
          "text": [
            "Finished Downloading\n",
            "Finished Downloading\n",
            "Finished Downloading\n"
          ],
          "name": "stdout"
        },
        {
          "output_type": "stream",
          "text": [
            "Processing Dawn_Olivieri:  94%|█████████▍| 943/1000 [24:11<00:38,  1.47it/s]"
          ],
          "name": "stderr"
        },
        {
          "output_type": "stream",
          "text": [
            "Finished Downloading\n"
          ],
          "name": "stdout"
        },
        {
          "output_type": "stream",
          "text": [
            "Processing Jason_Segel:  94%|█████████▍| 944/1000 [24:11<00:31,  1.78it/s]  "
          ],
          "name": "stderr"
        },
        {
          "output_type": "stream",
          "text": [
            "Finished Downloading\n"
          ],
          "name": "stdout"
        },
        {
          "output_type": "stream",
          "text": [
            "Processing Sarah_Hyland:  94%|█████████▍| 945/1000 [24:13<00:47,  1.17it/s]"
          ],
          "name": "stderr"
        },
        {
          "output_type": "stream",
          "text": [
            "Finished Downloading\n"
          ],
          "name": "stdout"
        },
        {
          "output_type": "stream",
          "text": [
            "Processing Matthew_Fox:  95%|█████████▍| 946/1000 [24:13<00:39,  1.36it/s] "
          ],
          "name": "stderr"
        },
        {
          "output_type": "stream",
          "text": [
            "Finished Downloading\n"
          ],
          "name": "stdout"
        },
        {
          "output_type": "stream",
          "text": [
            "Processing Eriq_La_Salle:  95%|█████████▍| 947/1000 [24:13<00:33,  1.59it/s]"
          ],
          "name": "stderr"
        },
        {
          "output_type": "stream",
          "text": [
            "Finished Downloading\n",
            "Finished Downloading\n"
          ],
          "name": "stdout"
        },
        {
          "output_type": "stream",
          "text": [
            "Processing Katherine_LaNasa:  95%|█████████▍| 949/1000 [24:14<00:27,  1.83it/s]"
          ],
          "name": "stderr"
        },
        {
          "output_type": "stream",
          "text": [
            "Finished Downloading\n"
          ],
          "name": "stdout"
        },
        {
          "output_type": "stream",
          "text": [
            "Processing Chris_Pine:  95%|█████████▌| 950/1000 [24:14<00:23,  2.13it/s]      "
          ],
          "name": "stderr"
        },
        {
          "output_type": "stream",
          "text": [
            "Finished Downloading\n"
          ],
          "name": "stdout"
        },
        {
          "output_type": "stream",
          "text": [
            "Processing Hector_Elizondo:  95%|█████████▌| 951/1000 [24:47<08:10, 10.01s/it]"
          ],
          "name": "stderr"
        },
        {
          "output_type": "stream",
          "text": [
            "Finished Downloading\n"
          ],
          "name": "stdout"
        },
        {
          "output_type": "stream",
          "text": [
            "Processing Dylan_Baker:  95%|█████████▌| 952/1000 [24:47<05:40,  7.10s/it]    "
          ],
          "name": "stderr"
        },
        {
          "output_type": "stream",
          "text": [
            "Finished Downloading\n"
          ],
          "name": "stdout"
        },
        {
          "output_type": "stream",
          "text": [
            "Processing Emma_Rigby:  95%|█████████▌| 953/1000 [24:48<04:02,  5.15s/it] "
          ],
          "name": "stderr"
        },
        {
          "output_type": "stream",
          "text": [
            "Finished Downloading\n"
          ],
          "name": "stdout"
        },
        {
          "output_type": "stream",
          "text": [
            "Processing Lucille_Ball:  95%|█████████▌| 954/1000 [24:48<02:58,  3.87s/it]"
          ],
          "name": "stderr"
        },
        {
          "output_type": "stream",
          "text": [
            "Finished Downloading\n"
          ],
          "name": "stdout"
        },
        {
          "output_type": "stream",
          "text": [
            "Processing Keeley_Hawes:  96%|█████████▌| 955/1000 [24:49<02:06,  2.82s/it]"
          ],
          "name": "stderr"
        },
        {
          "output_type": "stream",
          "text": [
            "Finished Downloading\n",
            "Finished Downloading\n"
          ],
          "name": "stdout"
        },
        {
          "output_type": "stream",
          "text": [
            "Processing Pernell_Roberts:  96%|█████████▌| 957/1000 [24:50<01:31,  2.13s/it]"
          ],
          "name": "stderr"
        },
        {
          "output_type": "stream",
          "text": [
            "Finished Downloading\n"
          ],
          "name": "stdout"
        },
        {
          "output_type": "stream",
          "text": [
            "Processing Johann_Urb:  96%|█████████▌| 958/1000 [24:51<01:10,  1.69s/it]     "
          ],
          "name": "stderr"
        },
        {
          "output_type": "stream",
          "text": [
            "Finished Downloading\n"
          ],
          "name": "stdout"
        },
        {
          "output_type": "stream",
          "text": [
            "Processing Gaspard_Ulliel:  96%|█████████▌| 959/1000 [24:52<01:01,  1.50s/it]"
          ],
          "name": "stderr"
        },
        {
          "output_type": "stream",
          "text": [
            "Finished Downloading\n"
          ],
          "name": "stdout"
        },
        {
          "output_type": "stream",
          "text": [
            "Processing Veronica_Ferres:  96%|█████████▌| 960/1000 [24:52<00:49,  1.23s/it]"
          ],
          "name": "stderr"
        },
        {
          "output_type": "stream",
          "text": [
            "Finished Downloading\n"
          ],
          "name": "stdout"
        },
        {
          "output_type": "stream",
          "text": [
            "Processing Jeffrey_Dean_Morgan:  96%|█████████▌| 961/1000 [24:52<00:37,  1.05it/s]"
          ],
          "name": "stderr"
        },
        {
          "output_type": "stream",
          "text": [
            "Finished Downloading\n"
          ],
          "name": "stdout"
        },
        {
          "output_type": "stream",
          "text": [
            "Processing Alfre_Woodard:  96%|█████████▌| 962/1000 [24:53<00:30,  1.26it/s]      "
          ],
          "name": "stderr"
        },
        {
          "output_type": "stream",
          "text": [
            "Finished Downloading\n"
          ],
          "name": "stdout"
        },
        {
          "output_type": "stream",
          "text": [
            "Processing A:  96%|█████████▋| 963/1000 [24:55<00:46,  1.27s/it]            "
          ],
          "name": "stderr"
        },
        {
          "output_type": "stream",
          "text": [
            "Finished Downloading\n"
          ],
          "name": "stdout"
        },
        {
          "output_type": "stream",
          "text": [
            "Processing Elle_Macpherson:  96%|█████████▋| 964/1000 [24:56<00:43,  1.19s/it]"
          ],
          "name": "stderr"
        },
        {
          "output_type": "stream",
          "text": [
            "Finished Downloading\n"
          ],
          "name": "stdout"
        },
        {
          "output_type": "stream",
          "text": [
            "Processing David_Oyelowo:  96%|█████████▋| 965/1000 [24:58<00:44,  1.27s/it]  "
          ],
          "name": "stderr"
        },
        {
          "output_type": "stream",
          "text": [
            "Finished Downloading\n"
          ],
          "name": "stdout"
        },
        {
          "output_type": "stream",
          "text": [
            "Processing Yanina_Studilina:  97%|█████████▋| 966/1000 [24:58<00:36,  1.08s/it]"
          ],
          "name": "stderr"
        },
        {
          "output_type": "stream",
          "text": [
            "Finished Downloading\n"
          ],
          "name": "stdout"
        },
        {
          "output_type": "stream",
          "text": [
            "Processing Skyler_Samuels:  97%|█████████▋| 967/1000 [25:00<00:39,  1.20s/it]  "
          ],
          "name": "stderr"
        },
        {
          "output_type": "stream",
          "text": [
            "Finished Downloading\n"
          ],
          "name": "stdout"
        },
        {
          "output_type": "stream",
          "text": [
            "Processing David_Mamet:  97%|█████████▋| 968/1000 [25:01<00:37,  1.17s/it]   "
          ],
          "name": "stderr"
        },
        {
          "output_type": "stream",
          "text": [
            "Finished Downloading\n"
          ],
          "name": "stdout"
        },
        {
          "output_type": "stream",
          "text": [
            "Processing Julia_Stiles:  97%|█████████▋| 969/1000 [25:01<00:28,  1.08it/s]"
          ],
          "name": "stderr"
        },
        {
          "output_type": "stream",
          "text": [
            "Finished Downloading\n"
          ],
          "name": "stdout"
        },
        {
          "output_type": "stream",
          "text": [
            "Processing Norman_Reedus:  97%|█████████▋| 970/1000 [25:03<00:30,  1.01s/it]"
          ],
          "name": "stderr"
        },
        {
          "output_type": "stream",
          "text": [
            "Finished Downloading\n"
          ],
          "name": "stdout"
        },
        {
          "output_type": "stream",
          "text": [
            "Processing Catherine_Hardwicke:  97%|█████████▋| 971/1000 [25:05<00:39,  1.37s/it]"
          ],
          "name": "stderr"
        },
        {
          "output_type": "stream",
          "text": [
            "Finished Downloading\n"
          ],
          "name": "stdout"
        },
        {
          "output_type": "stream",
          "text": [
            "Processing Gabriel_Byrne:  97%|█████████▋| 972/1000 [25:06<00:40,  1.43s/it]      "
          ],
          "name": "stderr"
        },
        {
          "output_type": "stream",
          "text": [
            "Finished Downloading\n"
          ],
          "name": "stdout"
        },
        {
          "output_type": "stream",
          "text": [
            "Processing Dave_Bautista:  97%|█████████▋| 973/1000 [25:09<00:46,  1.72s/it]"
          ],
          "name": "stderr"
        },
        {
          "output_type": "stream",
          "text": [
            "Finished Downloading\n"
          ],
          "name": "stdout"
        },
        {
          "output_type": "stream",
          "text": [
            "Processing Padma_Lakshmi:  97%|█████████▋| 974/1000 [25:10<00:44,  1.72s/it]"
          ],
          "name": "stderr"
        },
        {
          "output_type": "stream",
          "text": [
            "Finished Downloading\n"
          ],
          "name": "stdout"
        },
        {
          "output_type": "stream",
          "text": [
            "Processing Natasha_Gregson_Wagner:  98%|█████████▊| 975/1000 [25:12<00:41,  1.65s/it]"
          ],
          "name": "stderr"
        },
        {
          "output_type": "stream",
          "text": [
            "Finished Downloading\n"
          ],
          "name": "stdout"
        },
        {
          "output_type": "stream",
          "text": [
            "Processing Johnny_Galecki:  98%|█████████▊| 976/1000 [25:14<00:39,  1.63s/it]        "
          ],
          "name": "stderr"
        },
        {
          "output_type": "stream",
          "text": [
            "Finished Downloading\n"
          ],
          "name": "stdout"
        },
        {
          "output_type": "stream",
          "text": [
            "Processing Toni_Trucks:  98%|█████████▊| 977/1000 [25:14<00:29,  1.29s/it]   "
          ],
          "name": "stderr"
        },
        {
          "output_type": "stream",
          "text": [
            "Finished Downloading\n",
            "Finished Downloading\n"
          ],
          "name": "stdout"
        },
        {
          "output_type": "stream",
          "text": [
            "Processing Charice:  98%|█████████▊| 979/1000 [25:15<00:22,  1.05s/it]    "
          ],
          "name": "stderr"
        },
        {
          "output_type": "stream",
          "text": [
            "Finished Downloading\n"
          ],
          "name": "stdout"
        },
        {
          "output_type": "stream",
          "text": [
            "Processing Matt_Berry:  98%|█████████▊| 980/1000 [25:16<00:17,  1.13it/s]"
          ],
          "name": "stderr"
        },
        {
          "output_type": "stream",
          "text": [
            "Finished Downloading\n"
          ],
          "name": "stdout"
        },
        {
          "output_type": "stream",
          "text": [
            "Processing Meta_Golding:  98%|█████████▊| 981/1000 [25:16<00:16,  1.16it/s]"
          ],
          "name": "stderr"
        },
        {
          "output_type": "stream",
          "text": [
            "Finished Downloading\n"
          ],
          "name": "stdout"
        },
        {
          "output_type": "stream",
          "text": [
            "Processing Keegan_Allen:  98%|█████████▊| 982/1000 [25:17<00:13,  1.38it/s]"
          ],
          "name": "stderr"
        },
        {
          "output_type": "stream",
          "text": [
            "Finished Downloading\n"
          ],
          "name": "stdout"
        },
        {
          "output_type": "stream",
          "text": [
            "Processing Adam_Gregory:  98%|█████████▊| 983/1000 [25:18<00:13,  1.23it/s]"
          ],
          "name": "stderr"
        },
        {
          "output_type": "stream",
          "text": [
            "Finished Downloading\n"
          ],
          "name": "stdout"
        },
        {
          "output_type": "stream",
          "text": [
            "Processing Embeth_Davidtz:  98%|█████████▊| 984/1000 [25:20<00:18,  1.17s/it]"
          ],
          "name": "stderr"
        },
        {
          "output_type": "stream",
          "text": [
            "Finished Downloading\n"
          ],
          "name": "stdout"
        },
        {
          "output_type": "stream",
          "text": [
            "Processing Lindsay_Sloane:  98%|█████████▊| 985/1000 [25:21<00:16,  1.08s/it]"
          ],
          "name": "stderr"
        },
        {
          "output_type": "stream",
          "text": [
            "Finished Downloading\n"
          ],
          "name": "stdout"
        },
        {
          "output_type": "stream",
          "text": [
            "Processing Julianne_Nicholson:  99%|█████████▊| 986/1000 [25:21<00:13,  1.01it/s]"
          ],
          "name": "stderr"
        },
        {
          "output_type": "stream",
          "text": [
            "Finished Downloading\n"
          ],
          "name": "stdout"
        },
        {
          "output_type": "stream",
          "text": [
            "Processing Armand_Assante:  99%|█████████▊| 987/1000 [25:22<00:11,  1.15it/s]    "
          ],
          "name": "stderr"
        },
        {
          "output_type": "stream",
          "text": [
            "Finished Downloading\n"
          ],
          "name": "stdout"
        },
        {
          "output_type": "stream",
          "text": [
            "Processing Sendhil_Ramamurthy:  99%|█████████▉| 988/1000 [25:24<00:13,  1.12s/it]"
          ],
          "name": "stderr"
        },
        {
          "output_type": "stream",
          "text": [
            "Finished Downloading\n"
          ],
          "name": "stdout"
        },
        {
          "output_type": "stream",
          "text": [
            "Processing Jenna_Ushkowitz:  99%|█████████▉| 989/1000 [25:24<00:10,  1.09it/s]   "
          ],
          "name": "stderr"
        },
        {
          "output_type": "stream",
          "text": [
            "Finished Downloading\n"
          ],
          "name": "stdout"
        },
        {
          "output_type": "stream",
          "text": [
            "Processing Lauren_Storm:  99%|█████████▉| 990/1000 [25:25<00:09,  1.05it/s]   "
          ],
          "name": "stderr"
        },
        {
          "output_type": "stream",
          "text": [
            "Finished Downloading\n"
          ],
          "name": "stdout"
        },
        {
          "output_type": "stream",
          "text": [
            "Processing Nestor_Carbonell:  99%|█████████▉| 991/1000 [25:26<00:07,  1.13it/s]"
          ],
          "name": "stderr"
        },
        {
          "output_type": "stream",
          "text": [
            "Finished Downloading\n",
            "Finished Downloading\n"
          ],
          "name": "stdout"
        },
        {
          "output_type": "stream",
          "text": [
            "Processing Vanessa_Lachey:  99%|█████████▉| 993/1000 [25:27<00:05,  1.29it/s]  "
          ],
          "name": "stderr"
        },
        {
          "output_type": "stream",
          "text": [
            "Finished Downloading\n"
          ],
          "name": "stdout"
        },
        {
          "output_type": "stream",
          "text": [
            "Processing Frances_McDormand:  99%|█████████▉| 994/1000 [25:27<00:03,  1.52it/s]"
          ],
          "name": "stderr"
        },
        {
          "output_type": "stream",
          "text": [
            "Finished Downloading\n"
          ],
          "name": "stdout"
        },
        {
          "output_type": "stream",
          "text": [
            "Processing Donna_Murphy: 100%|█████████▉| 995/1000 [25:30<00:06,  1.31s/it]"
          ],
          "name": "stderr"
        },
        {
          "output_type": "stream",
          "text": [
            "Finished Downloading\n",
            "Finished Downloading\n"
          ],
          "name": "stdout"
        },
        {
          "output_type": "stream",
          "text": [
            "Processing Andy_Murray: 100%|█████████▉| 997/1000 [25:31<00:03,  1.03s/it] "
          ],
          "name": "stderr"
        },
        {
          "output_type": "stream",
          "text": [
            "Finished Downloading\n"
          ],
          "name": "stdout"
        },
        {
          "output_type": "stream",
          "text": [
            "Processing Jacinda_Barrett: 100%|█████████▉| 999/1000 [25:33<00:00,  1.14it/s]"
          ],
          "name": "stderr"
        },
        {
          "output_type": "stream",
          "text": [
            "Finished Downloading\n",
            "Finished Downloading\n"
          ],
          "name": "stdout"
        },
        {
          "output_type": "stream",
          "text": [
            "Processing Jacinda_Barrett: 100%|██████████| 1000/1000 [25:33<00:00,  1.53s/it]"
          ],
          "name": "stderr"
        },
        {
          "output_type": "stream",
          "text": [
            "Finished Downloading\n"
          ],
          "name": "stdout"
        },
        {
          "output_type": "stream",
          "text": [
            "\n"
          ],
          "name": "stderr"
        }
      ]
    },
    {
      "cell_type": "code",
      "metadata": {
        "id": "RAqWhXVUS7eh",
        "colab_type": "code",
        "colab": {}
      },
      "source": [
        "import math\n",
        "import numpy as np\n",
        "import pandas as pd\n",
        "import matplotlib.pyplot as plt\n",
        "%matplotlib inline\n",
        "import os \n",
        "from tensorflow.keras.preprocessing.image import ImageDataGenerator\n",
        "from tqdm import tqdm\n",
        "from PIL import Image\n",
        "from tqdm import tqdm"
      ],
      "execution_count": 7,
      "outputs": []
    },
    {
      "cell_type": "code",
      "metadata": {
        "id": "rVs64mXfU26x",
        "colab_type": "code",
        "colab": {}
      },
      "source": [
        "def limpiar_archivos_corruptos(path, format1='.jpg', format2='.jpeg'):   \n",
        "  for filename in os.listdir(path):\n",
        "    filename_lower = filename.lower()\n",
        "\n",
        "    if filename_lower.endswith(format1) or filename_lower.endswith(format2):\n",
        "      try:\n",
        "        img = Image.open(os.path.join(path,filename)) # open the image file\n",
        "        img.verify() # verify that it is, in fact an image\n",
        "\n",
        "        if len(plt.imread(path +filename).shape) != 3:\n",
        "          os.remove(os.path.join(path,filename))\n",
        "          print('Removiendo archivo corrupto:', filename) # print out the names of corrupt files\n",
        "\n",
        "      except:\n",
        "        os.remove(os.path.join(path,filename))\n",
        "        print('Removiendo archivo corrupto:', filename) # print out the names of corrupt files\n",
        "    else :\n",
        "        os.remove(os.path.join(path,filename))\n",
        "        print('Removiendo archivo con diferente formato:', filename) "
      ],
      "execution_count": 54,
      "outputs": []
    },
    {
      "cell_type": "code",
      "metadata": {
        "id": "9R7Zs__mVGbE",
        "colab_type": "code",
        "colab": {
          "base_uri": "https://localhost:8080/",
          "height": 384
        },
        "outputId": "c51189b4-eee8-4fea-fe4f-cfce3b0f1412"
      },
      "source": [
        "limpiar_archivos_corruptos(target_path)"
      ],
      "execution_count": 55,
      "outputs": [
        {
          "output_type": "stream",
          "text": [
            "Removiendo archivo corrupto: Lady_Gaga_0.jpg\n",
            "Removiendo archivo corrupto: Eriq_La_Salle_0.jpg\n",
            "Removiendo archivo corrupto: Lee_Marvin_0.jpg\n",
            "Removiendo archivo corrupto: Penny_Marshall_0.jpg\n",
            "Removiendo archivo corrupto: Liya_Kebede_0.jpg\n",
            "Removiendo archivo corrupto: James_Cosmo_0.jpg\n",
            "Removiendo archivo corrupto: Diana_Rigg_0.jpg\n",
            "Removiendo archivo corrupto: David_Wright_0.jpg\n",
            "Removiendo archivo corrupto: Bethany_Mota_0.jpg\n",
            "Removiendo archivo corrupto: Jean_Seberg_0.jpg\n",
            "Removiendo archivo corrupto: Gloria_Reuben_0.jpg\n",
            "Removiendo archivo corrupto: Adam_Rodriguez_0.jpg\n",
            "Removiendo archivo corrupto: Seth_Green_0.jpg\n",
            "Removiendo archivo corrupto: Brett_Lee_0.jpg\n",
            "Removiendo archivo corrupto: Sal_Mineo_0.jpg\n",
            "Removiendo archivo corrupto: Adam_Gregory_0.jpg\n",
            "Removiendo archivo corrupto: Lily_Loveless_0.jpg\n",
            "Removiendo archivo corrupto: Claude_Rains_0.jpg\n",
            "Removiendo archivo corrupto: Ty_Olsson_0.jpg\n",
            "Removiendo archivo corrupto: Alexander_Siddig_0.jpg\n"
          ],
          "name": "stdout"
        }
      ]
    },
    {
      "cell_type": "code",
      "metadata": {
        "id": "ysA1SVe_VKgN",
        "colab_type": "code",
        "colab": {}
      },
      "source": [
        "path = '/content/datasets'\n",
        "img_size = 64\n",
        "batch_size = 64"
      ],
      "execution_count": 60,
      "outputs": []
    },
    {
      "cell_type": "code",
      "metadata": {
        "id": "gRzhZMyCVNwK",
        "colab_type": "code",
        "colab": {}
      },
      "source": [
        "# Especificamos la función de preprocesamiento\n",
        "train_datagen = ImageDataGenerator()"
      ],
      "execution_count": 61,
      "outputs": []
    },
    {
      "cell_type": "code",
      "metadata": {
        "id": "ZrkO1ak8VRa0",
        "colab_type": "code",
        "colab": {
          "base_uri": "https://localhost:8080/",
          "height": 35
        },
        "outputId": "fcb31051-6748-4544-ad75-d9077511da93"
      },
      "source": [
        "train_generator = train_datagen.flow_from_directory(path, target_size=(img_size, img_size), batch_size=batch_size, subset='training')"
      ],
      "execution_count": 62,
      "outputs": [
        {
          "output_type": "stream",
          "text": [
            "Found 641 images belonging to 1 classes.\n"
          ],
          "name": "stdout"
        }
      ]
    },
    {
      "cell_type": "code",
      "metadata": {
        "id": "qL_yZ4pwVWPV",
        "colab_type": "code",
        "colab": {}
      },
      "source": [
        "#validation_generator = train_datagen.flow_from_directory(path, target_size=(img_size, img_size), batch_size=batch_size, subset='validation')"
      ],
      "execution_count": 63,
      "outputs": []
    },
    {
      "cell_type": "code",
      "metadata": {
        "id": "qEmPrLHXVtqs",
        "colab_type": "code",
        "colab": {
          "base_uri": "https://localhost:8080/",
          "height": 163
        },
        "outputId": "3e3ef2cc-f038-4b20-f5db-0f373ec45b5e"
      },
      "source": [
        "# Veamos alguna de las imágenes\n",
        "random_img = np.random.choice(train_generator.filenames)\n",
        "print(random_img)\n",
        "Image.open(path + '/' + random_img)"
      ],
      "execution_count": 64,
      "outputs": [
        {
          "output_type": "stream",
          "text": [
            "faces_people/Anil_Kapoor_0.jpg\n"
          ],
          "name": "stdout"
        },
        {
          "output_type": "execute_result",
          "data": {
            "image/png": "[encoded data removed]",
            "text/plain": [
              "<PIL.JpegImagePlugin.JpegImageFile image mode=RGB size=68x128 at 0x7F8F8E2F85C0>"
            ]
          },
          "metadata": {
            "tags": []
          },
          "execution_count": 64
        }
      ]
    },
    {
      "cell_type": "code",
      "metadata": {
        "id": "mXtqKtVyVbmv",
        "colab_type": "code",
        "colab": {
          "base_uri": "https://localhost:8080/",
          "height": 478
        },
        "outputId": "6bf102fe-b83f-4d53-a1e9-821a43b5d449"
      },
      "source": [
        "!pip install keras-segmentation"
      ],
      "execution_count": 65,
      "outputs": [
        {
          "output_type": "stream",
          "text": [
            "Requirement already satisfied: keras-segmentation in /usr/local/lib/python3.6/dist-packages (0.3.0)\n",
            "Requirement already satisfied: imgaug==0.2.9 in /usr/local/lib/python3.6/dist-packages (from keras-segmentation) (0.2.9)\n",
            "Requirement already satisfied: Keras>=2.0.0 in /usr/local/lib/python3.6/dist-packages (from keras-segmentation) (2.3.1)\n",
            "Requirement already satisfied: opencv-python in /usr/local/lib/python3.6/dist-packages (from keras-segmentation) (4.1.2.30)\n",
            "Requirement already satisfied: tqdm in /usr/local/lib/python3.6/dist-packages (from keras-segmentation) (4.41.1)\n",
            "Requirement already satisfied: imageio==2.5.0 in /usr/local/lib/python3.6/dist-packages (from keras-segmentation) (2.5.0)\n",
            "Requirement already satisfied: scipy in /usr/local/lib/python3.6/dist-packages (from imgaug==0.2.9->keras-segmentation) (1.4.1)\n",
            "Requirement already satisfied: six in /usr/local/lib/python3.6/dist-packages (from imgaug==0.2.9->keras-segmentation) (1.12.0)\n",
            "Requirement already satisfied: Pillow in /usr/local/lib/python3.6/dist-packages (from imgaug==0.2.9->keras-segmentation) (7.0.0)\n",
            "Requirement already satisfied: matplotlib in /usr/local/lib/python3.6/dist-packages (from imgaug==0.2.9->keras-segmentation) (3.2.2)\n",
            "Requirement already satisfied: numpy>=1.15.0 in /usr/local/lib/python3.6/dist-packages (from imgaug==0.2.9->keras-segmentation) (1.18.5)\n",
            "Requirement already satisfied: scikit-image>=0.11.0 in /usr/local/lib/python3.6/dist-packages (from imgaug==0.2.9->keras-segmentation) (0.16.2)\n",
            "Requirement already satisfied: Shapely in /usr/local/lib/python3.6/dist-packages (from imgaug==0.2.9->keras-segmentation) (1.7.0)\n",
            "Requirement already satisfied: keras-preprocessing>=1.0.5 in /usr/local/lib/python3.6/dist-packages (from Keras>=2.0.0->keras-segmentation) (1.1.2)\n",
            "Requirement already satisfied: pyyaml in /usr/local/lib/python3.6/dist-packages (from Keras>=2.0.0->keras-segmentation) (3.13)\n",
            "Requirement already satisfied: h5py in /usr/local/lib/python3.6/dist-packages (from Keras>=2.0.0->keras-segmentation) (2.10.0)\n",
            "Requirement already satisfied: keras-applications>=1.0.6 in /usr/local/lib/python3.6/dist-packages (from Keras>=2.0.0->keras-segmentation) (1.0.8)\n",
            "Requirement already satisfied: python-dateutil>=2.1 in /usr/local/lib/python3.6/dist-packages (from matplotlib->imgaug==0.2.9->keras-segmentation) (2.8.1)\n",
            "Requirement already satisfied: pyparsing!=2.0.4,!=2.1.2,!=2.1.6,>=2.0.1 in /usr/local/lib/python3.6/dist-packages (from matplotlib->imgaug==0.2.9->keras-segmentation) (2.4.7)\n",
            "Requirement already satisfied: cycler>=0.10 in /usr/local/lib/python3.6/dist-packages (from matplotlib->imgaug==0.2.9->keras-segmentation) (0.10.0)\n",
            "Requirement already satisfied: kiwisolver>=1.0.1 in /usr/local/lib/python3.6/dist-packages (from matplotlib->imgaug==0.2.9->keras-segmentation) (1.2.0)\n",
            "Requirement already satisfied: PyWavelets>=0.4.0 in /usr/local/lib/python3.6/dist-packages (from scikit-image>=0.11.0->imgaug==0.2.9->keras-segmentation) (1.1.1)\n",
            "Requirement already satisfied: networkx>=2.0 in /usr/local/lib/python3.6/dist-packages (from scikit-image>=0.11.0->imgaug==0.2.9->keras-segmentation) (2.4)\n",
            "Requirement already satisfied: decorator>=4.3.0 in /usr/local/lib/python3.6/dist-packages (from networkx>=2.0->scikit-image>=0.11.0->imgaug==0.2.9->keras-segmentation) (4.4.2)\n"
          ],
          "name": "stdout"
        }
      ]
    },
    {
      "cell_type": "code",
      "metadata": {
        "id": "vRz0e7mHbHjE",
        "colab_type": "code",
        "colab": {}
      },
      "source": [
        "from keras_segmentation.pretrained import pspnet_50_ADE_20K , pspnet_101_cityscapes, pspnet_101_voc12\n",
        "import cv2\n",
        "import os"
      ],
      "execution_count": 66,
      "outputs": []
    },
    {
      "cell_type": "code",
      "metadata": {
        "id": "mXDJonGhQFW2",
        "colab_type": "code",
        "colab": {}
      },
      "source": [
        "def remove_background(img_mask, img1, output_path, output_file):\n",
        "\n",
        "\n",
        "  seg_gray = cv2.cvtColor(img_mask, cv2.COLOR_BGR2GRAY)\n",
        "  #_,fg_mask = cv2.threshold(seg_gray, 0, 255, cv2.THRESH_BINARY|cv2.THRESH_OTSU)\n",
        "  _,bg_mask = cv2.threshold(seg_gray, 0, 255, cv2.THRESH_BINARY_INV|cv2.THRESH_OTSU)\n",
        "\n",
        "  ## convert mask to 3-channels\n",
        "  #fg_mask = cv2.cvtColor(fg_mask, cv2.COLOR_GRAY2BGR)\n",
        "  bg_mask = cv2.cvtColor(bg_mask, cv2.COLOR_GRAY2BGR)\n",
        "\n",
        "  ## cv2.bitwise_and to extract the region\n",
        "  #fg = cv2.bitwise_or(img, fg_mask)\n",
        "  bg = cv2.bitwise_or(img1, bg_mask)\n",
        "\n",
        "  ## save \n",
        "  ##cv2.imwrite(\"fg.jpg\", fg)\n",
        "  cv2.imwrite(output_path + output_file, bg)\n"
      ],
      "execution_count": 67,
      "outputs": []
    },
    {
      "cell_type": "code",
      "metadata": {
        "id": "iSx9y-9EcUI-",
        "colab_type": "code",
        "colab": {}
      },
      "source": [
        "\n",
        "#model = pspnet_50_ADE_20K() # load the pretrained model trained on ADE20k dataset\n",
        "\n",
        "#model = pspnet_101_cityscapes() # load the pretrained model trained on Cityscapes dataset\n",
        "\n",
        "model = pspnet_101_voc12() # load the pretrained model trained on Pascal VOC 2012 dataset\n"
      ],
      "execution_count": 68,
      "outputs": []
    },
    {
      "cell_type": "code",
      "metadata": {
        "id": "i7Mb4N76YE0B",
        "colab_type": "code",
        "colab": {}
      },
      "source": [
        "#train_generator.filenames"
      ],
      "execution_count": 69,
      "outputs": []
    },
    {
      "cell_type": "code",
      "metadata": {
        "id": "CIx_EIW2F4C4",
        "colab_type": "code",
        "colab": {
          "base_uri": "https://localhost:8080/",
          "height": 1000
        },
        "outputId": "2a47316f-9077-486f-c740-e09e0486d760"
      },
      "source": [
        "#remove background\n",
        "path = '/content/datasets/faces_people/'\n",
        "mask_path = '/content/datasets/masks/'\n",
        "output_path = '/content/images/faces_people_wo_bg/'\n",
        "\n",
        "dir_path = os.path.dirname(mask_path)\n",
        "if not os.path.exists(dir_path):\n",
        "  os.makedirs(dir_path)\n",
        "\n",
        "dir_path = os.path.dirname(output_path)\n",
        "if not os.path.exists(dir_path):\n",
        "  os.makedirs(dir_path)\n",
        "\n",
        "\n",
        "for filename in tqdm(train_generator.filenames):\n",
        "  filename = filename.split('/')[1] \n",
        "  mask_file = filename[:-4] + \"_mask.png\"\n",
        "  output_file = filename[:-4] + \"_wo_bg.jpg\"\n",
        "\n",
        "\n",
        "\n",
        "  #img1 = cv2.imread(path + filename) #READ BGR\n",
        "\n",
        "  #if (img1.shape != 3): \n",
        "   # continue\n",
        "\n",
        "  #else:\n",
        "\n",
        "  out = model.predict_segmentation(\n",
        "    inp= path + filename,\n",
        "    out_fname= mask_path + mask_file\n",
        "  )\n",
        "  \n",
        "  img_mask = cv2.imread(mask_path + mask_file)\n",
        "  img1 = cv2.imread(path + filename) #READ BGR\n",
        "\n",
        "  remove_background(img_mask, img1, output_path, output_file)"
      ],
      "execution_count": 70,
      "outputs": [
        {
          "output_type": "stream",
          "text": [
            "\n",
            "\n",
            "  0%|          | 0/641 [00:00<?, ?it/s]\u001b[A\u001b[A\n",
            "\n",
            "  0%|          | 1/641 [00:13<2:27:23, 13.82s/it]\u001b[A\u001b[A\n",
            "\n",
            "  0%|          | 2/641 [00:22<2:11:25, 12.34s/it]\u001b[A\u001b[A\n",
            "\n",
            "  0%|          | 3/641 [00:31<2:00:16, 11.31s/it]\u001b[A\u001b[A\n",
            "\n",
            "  1%|          | 4/641 [00:40<1:52:18, 10.58s/it]\u001b[A\u001b[A\n",
            "\n",
            "  1%|          | 5/641 [00:49<1:46:44, 10.07s/it]\u001b[A\u001b[A\n",
            "\n",
            "  1%|          | 6/641 [00:58<1:43:04,  9.74s/it]\u001b[A\u001b[A\n",
            "\n",
            "  1%|          | 7/641 [01:07<1:40:20,  9.50s/it]\u001b[A\u001b[A\n",
            "\n",
            "  1%|          | 8/641 [01:16<1:38:19,  9.32s/it]\u001b[A\u001b[A\n",
            "\n",
            "  1%|▏         | 9/641 [01:25<1:36:53,  9.20s/it]\u001b[A\u001b[A\n",
            "\n",
            "  2%|▏         | 10/641 [01:33<1:35:47,  9.11s/it]\u001b[A\u001b[A\n",
            "\n",
            "  2%|▏         | 11/641 [01:42<1:35:07,  9.06s/it]\u001b[A\u001b[A\n",
            "\n",
            "  2%|▏         | 12/641 [01:51<1:34:44,  9.04s/it]\u001b[A\u001b[A\n",
            "\n",
            "  2%|▏         | 13/641 [02:00<1:34:13,  9.00s/it]\u001b[A\u001b[A\n",
            "\n",
            "  2%|▏         | 14/641 [02:09<1:33:50,  8.98s/it]\u001b[A\u001b[A\n",
            "\n",
            "  2%|▏         | 15/641 [02:18<1:33:25,  8.95s/it]\u001b[A\u001b[A\n",
            "\n",
            "  2%|▏         | 16/641 [02:27<1:33:07,  8.94s/it]\u001b[A\u001b[A\n",
            "\n",
            "  3%|▎         | 17/641 [02:36<1:32:48,  8.92s/it]\u001b[A\u001b[A\n",
            "\n",
            "  3%|▎         | 18/641 [02:45<1:32:31,  8.91s/it]\u001b[A\u001b[A\n",
            "\n",
            "  3%|▎         | 19/641 [02:54<1:32:23,  8.91s/it]\u001b[A\u001b[A\n",
            "\n",
            "  3%|▎         | 20/641 [03:03<1:32:20,  8.92s/it]\u001b[A\u001b[A\n",
            "\n",
            "  3%|▎         | 21/641 [03:12<1:32:08,  8.92s/it]\u001b[A\u001b[A\n",
            "\n",
            "  3%|▎         | 22/641 [03:21<1:31:57,  8.91s/it]\u001b[A\u001b[A\n",
            "\n",
            "  4%|▎         | 23/641 [03:29<1:31:46,  8.91s/it]\u001b[A\u001b[A\n",
            "\n",
            "  4%|▎         | 24/641 [03:38<1:31:33,  8.90s/it]\u001b[A\u001b[A\n",
            "\n",
            "  4%|▍         | 25/641 [03:47<1:31:15,  8.89s/it]\u001b[A\u001b[A\n",
            "\n",
            "  4%|▍         | 26/641 [03:56<1:31:07,  8.89s/it]\u001b[A\u001b[A\n",
            "\n",
            "  4%|▍         | 27/641 [04:05<1:31:05,  8.90s/it]\u001b[A\u001b[A\n",
            "\n",
            "  4%|▍         | 28/641 [04:14<1:30:59,  8.91s/it]\u001b[A\u001b[A\n",
            "\n",
            "  5%|▍         | 29/641 [04:23<1:30:44,  8.90s/it]\u001b[A\u001b[A\n",
            "\n",
            "  5%|▍         | 30/641 [04:32<1:30:36,  8.90s/it]\u001b[A\u001b[A\n",
            "\n",
            "  5%|▍         | 31/641 [04:41<1:30:28,  8.90s/it]\u001b[A\u001b[A\n",
            "\n",
            "  5%|▍         | 32/641 [04:50<1:30:26,  8.91s/it]\u001b[A\u001b[A\n",
            "\n",
            "  5%|▌         | 33/641 [04:58<1:30:12,  8.90s/it]\u001b[A\u001b[A\n",
            "\n",
            "  5%|▌         | 34/641 [05:07<1:30:09,  8.91s/it]\u001b[A\u001b[A\n",
            "\n",
            "  5%|▌         | 35/641 [05:16<1:29:56,  8.91s/it]\u001b[A\u001b[A\n",
            "\n",
            "  6%|▌         | 36/641 [05:25<1:29:45,  8.90s/it]\u001b[A\u001b[A\n",
            "\n",
            "  6%|▌         | 37/641 [05:34<1:29:38,  8.91s/it]\u001b[A\u001b[A\n",
            "\n",
            "  6%|▌         | 38/641 [05:43<1:29:20,  8.89s/it]\u001b[A\u001b[A\n",
            "\n",
            "  6%|▌         | 39/641 [05:52<1:29:07,  8.88s/it]\u001b[A\u001b[A\n",
            "\n",
            "  6%|▌         | 40/641 [06:01<1:29:07,  8.90s/it]\u001b[A\u001b[A\n",
            "\n",
            "  6%|▋         | 41/641 [06:10<1:28:58,  8.90s/it]\u001b[A\u001b[A\n",
            "\n",
            "  7%|▋         | 42/641 [06:18<1:28:46,  8.89s/it]\u001b[A\u001b[A\n",
            "\n",
            "  7%|▋         | 43/641 [06:27<1:28:41,  8.90s/it]\u001b[A\u001b[A\n",
            "\n",
            "  7%|▋         | 44/641 [06:36<1:28:24,  8.89s/it]\u001b[A\u001b[A\n",
            "\n",
            "  7%|▋         | 45/641 [06:45<1:28:18,  8.89s/it]\u001b[A\u001b[A\n",
            "\n",
            "  7%|▋         | 46/641 [06:54<1:28:25,  8.92s/it]\u001b[A\u001b[A\n",
            "\n",
            "  7%|▋         | 47/641 [07:03<1:28:32,  8.94s/it]\u001b[A\u001b[A\n",
            "\n",
            "  7%|▋         | 48/641 [07:12<1:28:19,  8.94s/it]\u001b[A\u001b[A\n",
            "\n",
            "  8%|▊         | 49/641 [07:21<1:28:05,  8.93s/it]\u001b[A\u001b[A\n",
            "\n",
            "  8%|▊         | 50/641 [07:30<1:27:52,  8.92s/it]\u001b[A\u001b[A\n",
            "\n",
            "  8%|▊         | 51/641 [07:39<1:27:35,  8.91s/it]\u001b[A\u001b[A\n",
            "\n",
            "  8%|▊         | 52/641 [07:48<1:27:17,  8.89s/it]\u001b[A\u001b[A\n",
            "\n",
            "  8%|▊         | 53/641 [07:56<1:27:08,  8.89s/it]\u001b[A\u001b[A\n",
            "\n",
            "  8%|▊         | 54/641 [08:05<1:27:03,  8.90s/it]\u001b[A\u001b[A\n",
            "\n",
            "  9%|▊         | 55/641 [08:14<1:26:54,  8.90s/it]\u001b[A\u001b[A\n",
            "\n",
            "  9%|▊         | 56/641 [08:23<1:26:47,  8.90s/it]\u001b[A\u001b[A\n",
            "\n",
            "  9%|▉         | 57/641 [08:32<1:26:38,  8.90s/it]\u001b[A\u001b[A\n",
            "\n",
            "  9%|▉         | 58/641 [08:41<1:26:25,  8.89s/it]\u001b[A\u001b[A\n",
            "\n",
            "  9%|▉         | 59/641 [08:50<1:26:18,  8.90s/it]\u001b[A\u001b[A\n",
            "\n",
            "  9%|▉         | 60/641 [08:59<1:26:10,  8.90s/it]\u001b[A\u001b[A\n",
            "\n",
            " 10%|▉         | 61/641 [09:08<1:26:11,  8.92s/it]\u001b[A\u001b[A\n",
            "\n",
            " 10%|▉         | 62/641 [09:17<1:25:55,  8.90s/it]\u001b[A\u001b[A\n",
            "\n",
            " 10%|▉         | 63/641 [09:26<1:25:49,  8.91s/it]\u001b[A\u001b[A\n",
            "\n",
            " 10%|▉         | 64/641 [09:38<1:35:04,  9.89s/it]\u001b[A\u001b[A\n",
            "\n",
            " 10%|█         | 65/641 [09:47<1:32:10,  9.60s/it]\u001b[A\u001b[A\n",
            "\n",
            " 10%|█         | 66/641 [09:56<1:30:07,  9.41s/it]\u001b[A\u001b[A\n",
            "\n",
            " 10%|█         | 67/641 [10:04<1:28:36,  9.26s/it]\u001b[A\u001b[A\n",
            "\n",
            " 11%|█         | 68/641 [10:13<1:27:27,  9.16s/it]\u001b[A\u001b[A\n",
            "\n",
            " 11%|█         | 69/641 [10:22<1:26:29,  9.07s/it]\u001b[A\u001b[A\n",
            "\n",
            " 11%|█         | 70/641 [10:31<1:25:49,  9.02s/it]\u001b[A\u001b[A\n",
            "\n",
            " 11%|█         | 71/641 [10:40<1:25:20,  8.98s/it]\u001b[A\u001b[A\n",
            "\n",
            " 11%|█         | 72/641 [10:49<1:24:54,  8.95s/it]\u001b[A\u001b[A\n",
            "\n",
            " 11%|█▏        | 73/641 [10:58<1:24:30,  8.93s/it]\u001b[A\u001b[A\n",
            "\n",
            " 12%|█▏        | 74/641 [11:07<1:24:27,  8.94s/it]\u001b[A\u001b[A\n",
            "\n",
            " 12%|█▏        | 75/641 [11:16<1:24:08,  8.92s/it]\u001b[A\u001b[A\n",
            "\n",
            " 12%|█▏        | 76/641 [11:25<1:23:54,  8.91s/it]\u001b[A\u001b[A\n",
            "\n",
            " 12%|█▏        | 77/641 [11:33<1:23:50,  8.92s/it]\u001b[A\u001b[A\n",
            "\n",
            " 12%|█▏        | 78/641 [11:42<1:23:30,  8.90s/it]\u001b[A\u001b[A\n",
            "\n",
            " 12%|█▏        | 79/641 [11:51<1:23:17,  8.89s/it]\u001b[A\u001b[A\n",
            "\n",
            " 12%|█▏        | 80/641 [12:00<1:23:15,  8.90s/it]\u001b[A\u001b[A\n",
            "\n",
            " 13%|█▎        | 81/641 [12:09<1:23:28,  8.94s/it]\u001b[A\u001b[A\n",
            "\n",
            " 13%|█▎        | 82/641 [12:18<1:23:25,  8.96s/it]\u001b[A\u001b[A\n",
            "\n",
            " 13%|█▎        | 83/641 [12:27<1:23:02,  8.93s/it]\u001b[A\u001b[A\n",
            "\n",
            " 13%|█▎        | 84/641 [12:36<1:22:49,  8.92s/it]\u001b[A\u001b[A\n",
            "\n",
            " 13%|█▎        | 85/641 [12:45<1:22:35,  8.91s/it]\u001b[A\u001b[A\n",
            "\n",
            " 13%|█▎        | 86/641 [12:54<1:22:18,  8.90s/it]\u001b[A\u001b[A\n",
            "\n",
            " 14%|█▎        | 87/641 [13:03<1:22:11,  8.90s/it]\u001b[A\u001b[A\n",
            "\n",
            " 14%|█▎        | 88/641 [13:12<1:22:05,  8.91s/it]\u001b[A\u001b[A\n",
            "\n",
            " 14%|█▍        | 89/641 [13:21<1:24:22,  9.17s/it]\u001b[A\u001b[A\n",
            "\n",
            " 14%|█▍        | 90/641 [13:30<1:23:43,  9.12s/it]\u001b[A\u001b[A\n",
            "\n",
            " 14%|█▍        | 91/641 [13:39<1:23:04,  9.06s/it]\u001b[A\u001b[A\n",
            "\n",
            " 14%|█▍        | 92/641 [13:48<1:22:27,  9.01s/it]\u001b[A\u001b[A\n",
            "\n",
            " 15%|█▍        | 93/641 [13:57<1:21:52,  8.96s/it]\u001b[A\u001b[A\n",
            "\n",
            " 15%|█▍        | 94/641 [14:06<1:21:44,  8.97s/it]\u001b[A\u001b[A\n",
            "\n",
            " 15%|█▍        | 95/641 [14:15<1:21:21,  8.94s/it]\u001b[A\u001b[A\n",
            "\n",
            " 15%|█▍        | 96/641 [14:24<1:21:03,  8.92s/it]\u001b[A\u001b[A\n",
            "\n",
            " 15%|█▌        | 97/641 [14:33<1:20:54,  8.92s/it]\u001b[A\u001b[A\n",
            "\n",
            " 15%|█▌        | 98/641 [14:42<1:20:38,  8.91s/it]\u001b[A\u001b[A\n",
            "\n",
            " 15%|█▌        | 99/641 [14:50<1:20:21,  8.90s/it]\u001b[A\u001b[A\n",
            "\n",
            " 16%|█▌        | 100/641 [14:59<1:20:28,  8.93s/it]\u001b[A\u001b[A\n",
            "\n",
            " 16%|█▌        | 101/641 [15:08<1:20:21,  8.93s/it]\u001b[A\u001b[A\n",
            "\n",
            " 16%|█▌        | 102/641 [15:17<1:20:10,  8.92s/it]\u001b[A\u001b[A\n",
            "\n",
            " 16%|█▌        | 103/641 [15:26<1:19:58,  8.92s/it]\u001b[A\u001b[A\n",
            "\n",
            " 16%|█▌        | 104/641 [15:35<1:19:48,  8.92s/it]\u001b[A\u001b[A\n",
            "\n",
            " 16%|█▋        | 105/641 [15:44<1:19:39,  8.92s/it]\u001b[A\u001b[A\n",
            "\n",
            " 17%|█▋        | 106/641 [15:53<1:19:22,  8.90s/it]\u001b[A\u001b[A\n",
            "\n",
            " 17%|█▋        | 107/641 [16:02<1:19:10,  8.90s/it]\u001b[A\u001b[A\n",
            "\n",
            " 17%|█▋        | 108/641 [16:11<1:19:11,  8.91s/it]\u001b[A\u001b[A\n",
            "\n",
            " 17%|█▋        | 109/641 [16:20<1:19:01,  8.91s/it]\u001b[A\u001b[A\n",
            "\n",
            " 17%|█▋        | 110/641 [16:29<1:18:52,  8.91s/it]\u001b[A\u001b[A\n",
            "\n",
            " 17%|█▋        | 111/641 [16:37<1:18:48,  8.92s/it]\u001b[A\u001b[A\n",
            "\n",
            " 17%|█▋        | 112/641 [16:46<1:18:25,  8.90s/it]\u001b[A\u001b[A\n",
            "\n",
            " 18%|█▊        | 113/641 [16:55<1:18:17,  8.90s/it]\u001b[A\u001b[A\n",
            "\n",
            " 18%|█▊        | 114/641 [17:04<1:18:10,  8.90s/it]\u001b[A\u001b[A\n",
            "\n",
            " 18%|█▊        | 115/641 [17:13<1:18:09,  8.92s/it]\u001b[A\u001b[A\n",
            "\n",
            " 18%|█▊        | 116/641 [17:22<1:18:27,  8.97s/it]\u001b[A\u001b[A\n",
            "\n",
            " 18%|█▊        | 117/641 [17:31<1:18:16,  8.96s/it]\u001b[A\u001b[A\n",
            "\n",
            " 18%|█▊        | 118/641 [17:40<1:18:00,  8.95s/it]\u001b[A\u001b[A\n",
            "\n",
            " 19%|█▊        | 119/641 [17:49<1:17:41,  8.93s/it]\u001b[A\u001b[A\n",
            "\n",
            " 19%|█▊        | 120/641 [17:58<1:17:30,  8.93s/it]\u001b[A\u001b[A\n",
            "\n",
            " 19%|█▉        | 121/641 [18:07<1:17:21,  8.93s/it]\u001b[A\u001b[A\n",
            "\n",
            " 19%|█▉        | 122/641 [18:16<1:17:06,  8.91s/it]\u001b[A\u001b[A\n",
            "\n",
            " 19%|█▉        | 123/641 [18:25<1:16:53,  8.91s/it]\u001b[A\u001b[A\n",
            "\n",
            " 19%|█▉        | 124/641 [18:33<1:16:39,  8.90s/it]\u001b[A\u001b[A\n",
            "\n",
            " 20%|█▉        | 125/641 [18:42<1:16:32,  8.90s/it]\u001b[A\u001b[A\n",
            "\n",
            " 20%|█▉        | 126/641 [18:51<1:16:23,  8.90s/it]\u001b[A\u001b[A\n",
            "\n",
            " 20%|█▉        | 127/641 [19:00<1:16:10,  8.89s/it]\u001b[A\u001b[A\n",
            "\n",
            " 20%|█▉        | 128/641 [19:09<1:16:10,  8.91s/it]\u001b[A\u001b[A\n",
            "\n",
            " 20%|██        | 129/641 [19:18<1:15:57,  8.90s/it]\u001b[A\u001b[A\n",
            "\n",
            " 20%|██        | 130/641 [19:27<1:15:42,  8.89s/it]\u001b[A\u001b[A\n",
            "\n",
            " 20%|██        | 131/641 [19:36<1:15:34,  8.89s/it]\u001b[A\u001b[A\n",
            "\n",
            " 21%|██        | 132/641 [19:48<1:24:11,  9.93s/it]\u001b[A\u001b[A\n",
            "\n",
            " 21%|██        | 133/641 [19:57<1:21:25,  9.62s/it]\u001b[A\u001b[A\n",
            "\n",
            " 21%|██        | 134/641 [20:06<1:19:45,  9.44s/it]\u001b[A\u001b[A\n",
            "\n",
            " 21%|██        | 135/641 [20:15<1:18:16,  9.28s/it]\u001b[A\u001b[A\n",
            "\n",
            " 21%|██        | 136/641 [20:24<1:17:10,  9.17s/it]\u001b[A\u001b[A\n",
            "\n",
            " 21%|██▏       | 137/641 [20:33<1:16:16,  9.08s/it]\u001b[A\u001b[A\n",
            "\n",
            " 22%|██▏       | 138/641 [20:41<1:15:39,  9.02s/it]\u001b[A\u001b[A\n",
            "\n",
            " 22%|██▏       | 139/641 [20:50<1:15:10,  8.98s/it]\u001b[A\u001b[A\n",
            "\n",
            " 22%|██▏       | 140/641 [20:59<1:14:47,  8.96s/it]\u001b[A\u001b[A\n",
            "\n",
            " 22%|██▏       | 141/641 [21:08<1:14:33,  8.95s/it]\u001b[A\u001b[A\n",
            "\n",
            " 22%|██▏       | 142/641 [21:17<1:14:22,  8.94s/it]\u001b[A\u001b[A\n",
            "\n",
            " 22%|██▏       | 143/641 [21:26<1:14:06,  8.93s/it]\u001b[A\u001b[A\n",
            "\n",
            " 22%|██▏       | 144/641 [21:35<1:13:52,  8.92s/it]\u001b[A\u001b[A\n",
            "\n",
            " 23%|██▎       | 145/641 [21:44<1:13:39,  8.91s/it]\u001b[A\u001b[A\n",
            "\n",
            " 23%|██▎       | 146/641 [21:53<1:13:24,  8.90s/it]\u001b[A\u001b[A\n",
            "\n",
            " 23%|██▎       | 147/641 [22:02<1:13:13,  8.89s/it]\u001b[A\u001b[A\n",
            "\n",
            " 23%|██▎       | 148/641 [22:11<1:13:09,  8.90s/it]\u001b[A\u001b[A\n",
            "\n",
            " 23%|██▎       | 149/641 [22:19<1:12:59,  8.90s/it]\u001b[A\u001b[A\n",
            "\n",
            " 23%|██▎       | 150/641 [22:28<1:12:56,  8.91s/it]\u001b[A\u001b[A\n",
            "\n",
            " 24%|██▎       | 151/641 [22:37<1:13:06,  8.95s/it]\u001b[A\u001b[A\n",
            "\n",
            " 24%|██▎       | 152/641 [22:46<1:12:47,  8.93s/it]\u001b[A\u001b[A\n",
            "\n",
            " 24%|██▍       | 153/641 [22:55<1:12:33,  8.92s/it]\u001b[A\u001b[A\n",
            "\n",
            " 24%|██▍       | 154/641 [23:04<1:12:19,  8.91s/it]\u001b[A\u001b[A\n",
            "\n",
            " 24%|██▍       | 155/641 [23:13<1:12:13,  8.92s/it]\u001b[A\u001b[A\n",
            "\n",
            " 24%|██▍       | 156/641 [23:22<1:12:04,  8.92s/it]\u001b[A\u001b[A\n",
            "\n",
            " 24%|██▍       | 157/641 [23:31<1:11:49,  8.90s/it]\u001b[A\u001b[A\n",
            "\n",
            " 25%|██▍       | 158/641 [23:40<1:11:37,  8.90s/it]\u001b[A\u001b[A\n",
            "\n",
            " 25%|██▍       | 159/641 [23:49<1:11:24,  8.89s/it]\u001b[A\u001b[A\n",
            "\n",
            " 25%|██▍       | 160/641 [23:57<1:11:14,  8.89s/it]\u001b[A\u001b[A\n",
            "\n",
            " 25%|██▌       | 161/641 [24:06<1:11:08,  8.89s/it]\u001b[A\u001b[A\n",
            "\n",
            " 25%|██▌       | 162/641 [24:15<1:11:05,  8.91s/it]\u001b[A\u001b[A\n",
            "\n",
            " 25%|██▌       | 163/641 [24:24<1:10:56,  8.91s/it]\u001b[A\u001b[A\n",
            "\n",
            " 26%|██▌       | 164/641 [24:33<1:10:42,  8.89s/it]\u001b[A\u001b[A\n",
            "\n",
            " 26%|██▌       | 165/641 [24:42<1:10:30,  8.89s/it]\u001b[A\u001b[A\n",
            "\n",
            " 26%|██▌       | 166/641 [24:51<1:10:15,  8.87s/it]\u001b[A\u001b[A\n",
            "\n",
            " 26%|██▌       | 167/641 [25:00<1:10:07,  8.88s/it]\u001b[A\u001b[A\n",
            "\n",
            " 26%|██▌       | 168/641 [25:09<1:10:11,  8.90s/it]\u001b[A\u001b[A\n",
            "\n",
            " 26%|██▋       | 169/641 [25:18<1:10:07,  8.91s/it]\u001b[A\u001b[A\n",
            "\n",
            " 27%|██▋       | 170/641 [25:26<1:09:51,  8.90s/it]\u001b[A\u001b[A\n",
            "\n",
            " 27%|██▋       | 171/641 [25:35<1:09:38,  8.89s/it]\u001b[A\u001b[A\n",
            "\n",
            " 27%|██▋       | 172/641 [25:44<1:09:22,  8.88s/it]\u001b[A\u001b[A\n",
            "\n",
            " 27%|██▋       | 173/641 [25:53<1:09:15,  8.88s/it]\u001b[A\u001b[A\n",
            "\n",
            " 27%|██▋       | 174/641 [26:02<1:09:09,  8.89s/it]\u001b[A\u001b[A\n",
            "\n",
            " 27%|██▋       | 175/641 [26:11<1:09:07,  8.90s/it]\u001b[A\u001b[A\n",
            "\n",
            " 27%|██▋       | 176/641 [26:20<1:08:53,  8.89s/it]\u001b[A\u001b[A\n",
            "\n",
            " 28%|██▊       | 177/641 [26:29<1:08:46,  8.89s/it]\u001b[A\u001b[A\n",
            "\n",
            " 28%|██▊       | 178/641 [26:37<1:08:38,  8.90s/it]\u001b[A\u001b[A\n",
            "\n",
            " 28%|██▊       | 179/641 [26:46<1:08:26,  8.89s/it]\u001b[A\u001b[A\n",
            "\n",
            " 28%|██▊       | 180/641 [26:55<1:08:22,  8.90s/it]\u001b[A\u001b[A\n",
            "\n",
            " 28%|██▊       | 181/641 [27:04<1:08:09,  8.89s/it]\u001b[A\u001b[A\n",
            "\n",
            " 28%|██▊       | 182/641 [27:13<1:08:03,  8.90s/it]\u001b[A\u001b[A\n",
            "\n",
            " 29%|██▊       | 183/641 [27:22<1:07:55,  8.90s/it]\u001b[A\u001b[A\n",
            "\n",
            " 29%|██▊       | 184/641 [27:31<1:07:46,  8.90s/it]\u001b[A\u001b[A\n",
            "\n",
            " 29%|██▉       | 185/641 [27:40<1:07:52,  8.93s/it]\u001b[A\u001b[A\n",
            "\n",
            " 29%|██▉       | 186/641 [27:49<1:07:57,  8.96s/it]\u001b[A\u001b[A\n",
            "\n",
            " 29%|██▉       | 187/641 [27:58<1:07:39,  8.94s/it]\u001b[A\u001b[A\n",
            "\n",
            " 29%|██▉       | 188/641 [28:07<1:07:28,  8.94s/it]\u001b[A\u001b[A\n",
            "\n",
            " 29%|██▉       | 189/641 [28:16<1:07:13,  8.92s/it]\u001b[A\u001b[A\n",
            "\n",
            " 30%|██▉       | 190/641 [28:25<1:07:01,  8.92s/it]\u001b[A\u001b[A\n",
            "\n",
            " 30%|██▉       | 191/641 [28:33<1:06:54,  8.92s/it]\u001b[A\u001b[A\n",
            "\n",
            " 30%|██▉       | 192/641 [28:42<1:06:46,  8.92s/it]\u001b[A\u001b[A\n",
            "\n",
            " 30%|███       | 193/641 [28:51<1:06:34,  8.92s/it]\u001b[A\u001b[A\n",
            "\n",
            " 30%|███       | 194/641 [29:00<1:06:23,  8.91s/it]\u001b[A\u001b[A\n",
            "\n",
            " 30%|███       | 195/641 [29:09<1:06:14,  8.91s/it]\u001b[A\u001b[A\n",
            "\n",
            " 31%|███       | 196/641 [29:18<1:05:59,  8.90s/it]\u001b[A\u001b[A\n",
            "\n",
            " 31%|███       | 197/641 [29:27<1:05:48,  8.89s/it]\u001b[A\u001b[A\n",
            "\n",
            " 31%|███       | 198/641 [29:36<1:05:38,  8.89s/it]\u001b[A\u001b[A\n",
            "\n",
            " 31%|███       | 199/641 [29:45<1:05:31,  8.89s/it]\u001b[A\u001b[A\n",
            "\n",
            " 31%|███       | 200/641 [29:57<1:12:13,  9.83s/it]\u001b[A\u001b[A\n",
            "\n",
            " 31%|███▏      | 201/641 [30:06<1:10:00,  9.55s/it]\u001b[A\u001b[A\n",
            "\n",
            " 32%|███▏      | 202/641 [30:14<1:08:36,  9.38s/it]\u001b[A\u001b[A\n",
            "\n",
            " 32%|███▏      | 203/641 [30:23<1:07:23,  9.23s/it]\u001b[A\u001b[A\n",
            "\n",
            " 32%|███▏      | 204/641 [30:32<1:06:26,  9.12s/it]\u001b[A\u001b[A\n",
            "\n",
            " 32%|███▏      | 205/641 [30:41<1:05:47,  9.05s/it]\u001b[A\u001b[A\n",
            "\n",
            " 32%|███▏      | 206/641 [30:50<1:05:15,  9.00s/it]\u001b[A\u001b[A\n",
            "\n",
            " 32%|███▏      | 207/641 [30:59<1:04:51,  8.97s/it]\u001b[A\u001b[A\n",
            "\n",
            " 32%|███▏      | 208/641 [31:08<1:04:35,  8.95s/it]\u001b[A\u001b[A\n",
            "\n",
            " 33%|███▎      | 209/641 [31:17<1:04:20,  8.94s/it]\u001b[A\u001b[A\n",
            "\n",
            " 33%|███▎      | 210/641 [31:26<1:04:04,  8.92s/it]\u001b[A\u001b[A\n",
            "\n",
            " 33%|███▎      | 211/641 [31:34<1:03:50,  8.91s/it]\u001b[A\u001b[A\n",
            "\n",
            " 33%|███▎      | 212/641 [31:43<1:03:38,  8.90s/it]\u001b[A\u001b[A\n",
            "\n",
            " 33%|███▎      | 213/641 [31:52<1:03:24,  8.89s/it]\u001b[A\u001b[A\n",
            "\n",
            " 33%|███▎      | 214/641 [32:01<1:03:12,  8.88s/it]\u001b[A\u001b[A\n",
            "\n",
            " 34%|███▎      | 215/641 [32:10<1:03:03,  8.88s/it]\u001b[A\u001b[A\n",
            "\n",
            " 34%|███▎      | 216/641 [32:19<1:02:59,  8.89s/it]\u001b[A\u001b[A\n",
            "\n",
            " 34%|███▍      | 217/641 [32:28<1:02:52,  8.90s/it]\u001b[A\u001b[A\n",
            "\n",
            " 34%|███▍      | 218/641 [32:37<1:02:36,  8.88s/it]\u001b[A\u001b[A\n",
            "\n",
            " 34%|███▍      | 219/641 [32:46<1:02:27,  8.88s/it]\u001b[A\u001b[A\n",
            "\n",
            " 34%|███▍      | 220/641 [32:55<1:02:30,  8.91s/it]\u001b[A\u001b[A\n",
            "\n",
            " 34%|███▍      | 221/641 [33:03<1:02:26,  8.92s/it]\u001b[A\u001b[A\n",
            "\n",
            " 35%|███▍      | 222/641 [33:12<1:02:20,  8.93s/it]\u001b[A\u001b[A\n",
            "\n",
            " 35%|███▍      | 223/641 [33:21<1:02:05,  8.91s/it]\u001b[A\u001b[A\n",
            "\n",
            " 35%|███▍      | 224/641 [33:30<1:01:53,  8.91s/it]\u001b[A\u001b[A\n",
            "\n",
            " 35%|███▌      | 225/641 [33:39<1:01:34,  8.88s/it]\u001b[A\u001b[A\n",
            "\n",
            " 35%|███▌      | 226/641 [33:48<1:01:23,  8.88s/it]\u001b[A\u001b[A\n",
            "\n",
            " 35%|███▌      | 227/641 [33:57<1:01:11,  8.87s/it]\u001b[A\u001b[A\n",
            "\n",
            " 36%|███▌      | 228/641 [34:06<1:01:06,  8.88s/it]\u001b[A\u001b[A\n",
            "\n",
            " 36%|███▌      | 229/641 [34:14<1:00:58,  8.88s/it]\u001b[A\u001b[A\n",
            "\n",
            " 36%|███▌      | 230/641 [34:23<1:00:52,  8.89s/it]\u001b[A\u001b[A\n",
            "\n",
            " 36%|███▌      | 231/641 [34:32<1:00:44,  8.89s/it]\u001b[A\u001b[A\n",
            "\n",
            " 36%|███▌      | 232/641 [34:41<1:00:33,  8.88s/it]\u001b[A\u001b[A\n",
            "\n",
            " 36%|███▋      | 233/641 [34:50<1:00:26,  8.89s/it]\u001b[A\u001b[A\n",
            "\n",
            " 37%|███▋      | 234/641 [34:59<1:00:11,  8.87s/it]\u001b[A\u001b[A\n",
            "\n",
            " 37%|███▋      | 235/641 [35:08<1:00:03,  8.88s/it]\u001b[A\u001b[A\n",
            "\n",
            " 37%|███▋      | 236/641 [35:17<1:00:02,  8.90s/it]\u001b[A\u001b[A\n",
            "\n",
            " 37%|███▋      | 237/641 [35:26<59:58,  8.91s/it]  \u001b[A\u001b[A\n",
            "\n",
            " 37%|███▋      | 238/641 [35:34<59:38,  8.88s/it]\u001b[A\u001b[A\n",
            "\n",
            " 37%|███▋      | 239/641 [35:43<59:33,  8.89s/it]\u001b[A\u001b[A\n",
            "\n",
            " 37%|███▋      | 240/641 [35:52<59:27,  8.90s/it]\u001b[A\u001b[A\n",
            "\n",
            " 38%|███▊      | 241/641 [36:01<59:11,  8.88s/it]\u001b[A\u001b[A\n",
            "\n",
            " 38%|███▊      | 242/641 [36:10<59:09,  8.90s/it]\u001b[A\u001b[A\n",
            "\n",
            " 38%|███▊      | 243/641 [36:19<58:58,  8.89s/it]\u001b[A\u001b[A\n",
            "\n",
            " 38%|███▊      | 244/641 [36:28<58:50,  8.89s/it]\u001b[A\u001b[A\n",
            "\n",
            " 38%|███▊      | 245/641 [36:37<58:37,  8.88s/it]\u001b[A\u001b[A\n",
            "\n",
            " 38%|███▊      | 246/641 [36:46<58:27,  8.88s/it]\u001b[A\u001b[A\n",
            "\n",
            " 39%|███▊      | 247/641 [36:54<58:13,  8.87s/it]\u001b[A\u001b[A\n",
            "\n",
            " 39%|███▊      | 248/641 [37:03<58:11,  8.88s/it]\u001b[A\u001b[A\n",
            "\n",
            " 39%|███▉      | 249/641 [37:12<58:06,  8.89s/it]\u001b[A\u001b[A\n",
            "\n",
            " 39%|███▉      | 250/641 [37:21<57:59,  8.90s/it]\u001b[A\u001b[A\n",
            "\n",
            " 39%|███▉      | 251/641 [37:30<57:44,  8.88s/it]\u001b[A\u001b[A\n",
            "\n",
            " 39%|███▉      | 252/641 [37:39<57:37,  8.89s/it]\u001b[A\u001b[A\n",
            "\n",
            " 39%|███▉      | 253/641 [37:48<57:30,  8.89s/it]\u001b[A\u001b[A\n",
            "\n",
            " 40%|███▉      | 254/641 [37:57<57:16,  8.88s/it]\u001b[A\u001b[A\n",
            "\n",
            " 40%|███▉      | 255/641 [38:06<57:25,  8.93s/it]\u001b[A\u001b[A\n",
            "\n",
            " 40%|███▉      | 256/641 [38:15<57:23,  8.95s/it]\u001b[A\u001b[A\n",
            "\n",
            " 40%|████      | 257/641 [38:24<57:08,  8.93s/it]\u001b[A\u001b[A\n",
            "\n",
            " 40%|████      | 258/641 [38:32<56:43,  8.89s/it]\u001b[A\u001b[A\n",
            "\n",
            " 40%|████      | 259/641 [38:41<56:38,  8.90s/it]\u001b[A\u001b[A\n",
            "\n",
            " 41%|████      | 260/641 [38:50<56:26,  8.89s/it]\u001b[A\u001b[A\n",
            "\n",
            " 41%|████      | 261/641 [38:59<56:14,  8.88s/it]\u001b[A\u001b[A\n",
            "\n",
            " 41%|████      | 262/641 [39:08<56:08,  8.89s/it]\u001b[A\u001b[A\n",
            "\n",
            " 41%|████      | 263/641 [39:17<55:59,  8.89s/it]\u001b[A\u001b[A\n",
            "\n",
            " 41%|████      | 264/641 [39:26<55:46,  8.88s/it]\u001b[A\u001b[A\n",
            "\n",
            " 41%|████▏     | 265/641 [39:35<55:36,  8.87s/it]\u001b[A\u001b[A\n",
            "\n",
            " 41%|████▏     | 266/641 [39:43<55:28,  8.88s/it]\u001b[A\u001b[A\n",
            "\n",
            " 42%|████▏     | 267/641 [39:52<55:15,  8.86s/it]\u001b[A\u001b[A\n",
            "\n",
            " 42%|████▏     | 268/641 [40:04<1:00:44,  9.77s/it]\u001b[A\u001b[A\n",
            "\n",
            " 42%|████▏     | 269/641 [40:13<58:59,  9.51s/it]  \u001b[A\u001b[A\n",
            "\n",
            " 42%|████▏     | 270/641 [40:22<57:44,  9.34s/it]\u001b[A\u001b[A\n",
            "\n",
            " 42%|████▏     | 271/641 [40:31<56:58,  9.24s/it]\u001b[A\u001b[A\n",
            "\n",
            " 42%|████▏     | 272/641 [40:40<56:09,  9.13s/it]\u001b[A\u001b[A\n",
            "\n",
            " 43%|████▎     | 273/641 [40:49<55:28,  9.04s/it]\u001b[A\u001b[A\n",
            "\n",
            " 43%|████▎     | 274/641 [40:58<54:57,  8.99s/it]\u001b[A\u001b[A\n",
            "\n",
            " 43%|████▎     | 275/641 [41:06<54:36,  8.95s/it]\u001b[A\u001b[A\n",
            "\n",
            " 43%|████▎     | 276/641 [41:15<54:23,  8.94s/it]\u001b[A\u001b[A\n",
            "\n",
            " 43%|████▎     | 277/641 [41:24<54:12,  8.93s/it]\u001b[A\u001b[A\n",
            "\n",
            " 43%|████▎     | 278/641 [41:33<54:01,  8.93s/it]\u001b[A\u001b[A\n",
            "\n",
            " 44%|████▎     | 279/641 [41:42<53:53,  8.93s/it]\u001b[A\u001b[A\n",
            "\n",
            " 44%|████▎     | 280/641 [41:51<53:36,  8.91s/it]\u001b[A\u001b[A\n",
            "\n",
            " 44%|████▍     | 281/641 [42:00<53:22,  8.90s/it]\u001b[A\u001b[A\n",
            "\n",
            " 44%|████▍     | 282/641 [42:09<53:13,  8.90s/it]\u001b[A\u001b[A\n",
            "\n",
            " 44%|████▍     | 283/641 [42:18<53:03,  8.89s/it]\u001b[A\u001b[A\n",
            "\n",
            " 44%|████▍     | 284/641 [42:26<52:51,  8.88s/it]\u001b[A\u001b[A\n",
            "\n",
            " 44%|████▍     | 285/641 [42:35<52:40,  8.88s/it]\u001b[A\u001b[A\n",
            "\n",
            " 45%|████▍     | 286/641 [42:44<52:28,  8.87s/it]\u001b[A\u001b[A\n",
            "\n",
            " 45%|████▍     | 287/641 [42:53<52:22,  8.88s/it]\u001b[A\u001b[A\n",
            "\n",
            " 45%|████▍     | 288/641 [43:02<52:14,  8.88s/it]\u001b[A\u001b[A\n",
            "\n",
            " 45%|████▌     | 289/641 [43:11<52:08,  8.89s/it]\u001b[A\u001b[A\n",
            "\n",
            " 45%|████▌     | 290/641 [43:20<52:22,  8.95s/it]\u001b[A\u001b[A\n",
            "\n",
            " 45%|████▌     | 291/641 [43:29<52:06,  8.93s/it]\u001b[A\u001b[A\n",
            "\n",
            " 46%|████▌     | 292/641 [43:38<51:48,  8.91s/it]\u001b[A\u001b[A\n",
            "\n",
            " 46%|████▌     | 293/641 [43:47<51:32,  8.89s/it]\u001b[A\u001b[A\n",
            "\n",
            " 46%|████▌     | 294/641 [43:56<51:40,  8.93s/it]\u001b[A\u001b[A\n",
            "\n",
            " 46%|████▌     | 295/641 [44:04<51:24,  8.92s/it]\u001b[A\u001b[A\n",
            "\n",
            " 46%|████▌     | 296/641 [44:13<51:12,  8.91s/it]\u001b[A\u001b[A\n",
            "\n",
            " 46%|████▋     | 297/641 [44:22<51:01,  8.90s/it]\u001b[A\u001b[A\n",
            "\n",
            " 46%|████▋     | 298/641 [44:31<50:47,  8.89s/it]\u001b[A\u001b[A\n",
            "\n",
            " 47%|████▋     | 299/641 [44:40<50:39,  8.89s/it]\u001b[A\u001b[A\n",
            "\n",
            " 47%|████▋     | 300/641 [44:49<50:24,  8.87s/it]\u001b[A\u001b[A\n",
            "\n",
            " 47%|████▋     | 301/641 [44:58<50:18,  8.88s/it]\u001b[A\u001b[A\n",
            "\n",
            " 47%|████▋     | 302/641 [45:07<50:11,  8.88s/it]\u001b[A\u001b[A\n",
            "\n",
            " 47%|████▋     | 303/641 [45:16<50:03,  8.89s/it]\u001b[A\u001b[A\n",
            "\n",
            " 47%|████▋     | 304/641 [45:24<49:54,  8.89s/it]\u001b[A\u001b[A\n",
            "\n",
            " 48%|████▊     | 305/641 [45:33<49:50,  8.90s/it]\u001b[A\u001b[A\n",
            "\n",
            " 48%|████▊     | 306/641 [45:42<49:43,  8.91s/it]\u001b[A\u001b[A\n",
            "\n",
            " 48%|████▊     | 307/641 [45:51<49:28,  8.89s/it]\u001b[A\u001b[A\n",
            "\n",
            " 48%|████▊     | 308/641 [46:00<49:16,  8.88s/it]\u001b[A\u001b[A\n",
            "\n",
            " 48%|████▊     | 309/641 [46:09<49:10,  8.89s/it]\u001b[A\u001b[A\n",
            "\n",
            " 48%|████▊     | 310/641 [46:18<49:04,  8.89s/it]\u001b[A\u001b[A\n",
            "\n",
            " 49%|████▊     | 311/641 [46:27<48:49,  8.88s/it]\u001b[A\u001b[A\n",
            "\n",
            " 49%|████▊     | 312/641 [46:35<48:40,  8.88s/it]\u001b[A\u001b[A\n",
            "\n",
            " 49%|████▉     | 313/641 [46:44<48:28,  8.87s/it]\u001b[A\u001b[A\n",
            "\n",
            " 49%|████▉     | 314/641 [46:53<48:18,  8.86s/it]\u001b[A\u001b[A\n",
            "\n",
            " 49%|████▉     | 315/641 [47:02<48:10,  8.87s/it]\u001b[A\u001b[A\n",
            "\n",
            " 49%|████▉     | 316/641 [47:11<48:05,  8.88s/it]\u001b[A\u001b[A\n",
            "\n",
            " 49%|████▉     | 317/641 [47:20<48:00,  8.89s/it]\u001b[A\u001b[A\n",
            "\n",
            " 50%|████▉     | 318/641 [47:29<47:49,  8.88s/it]\u001b[A\u001b[A\n",
            "\n",
            " 50%|████▉     | 319/641 [47:38<47:38,  8.88s/it]\u001b[A\u001b[A\n",
            "\n",
            " 50%|████▉     | 320/641 [47:46<47:23,  8.86s/it]\u001b[A\u001b[A\n",
            "\n",
            " 50%|█████     | 321/641 [47:55<47:14,  8.86s/it]\u001b[A\u001b[A\n",
            "\n",
            " 50%|█████     | 322/641 [48:04<47:04,  8.85s/it]\u001b[A\u001b[A\n",
            "\n",
            " 50%|█████     | 323/641 [48:13<46:56,  8.86s/it]\u001b[A\u001b[A\n",
            "\n",
            " 51%|█████     | 324/641 [48:22<46:51,  8.87s/it]\u001b[A\u001b[A\n",
            "\n",
            " 51%|█████     | 325/641 [48:31<46:55,  8.91s/it]\u001b[A\u001b[A\n",
            "\n",
            " 51%|█████     | 326/641 [48:40<46:45,  8.91s/it]\u001b[A\u001b[A\n",
            "\n",
            " 51%|█████     | 327/641 [48:49<46:36,  8.91s/it]\u001b[A\u001b[A\n",
            "\n",
            " 51%|█████     | 328/641 [48:58<46:21,  8.89s/it]\u001b[A\u001b[A\n",
            "\n",
            " 51%|█████▏    | 329/641 [49:06<46:10,  8.88s/it]\u001b[A\u001b[A\n",
            "\n",
            " 51%|█████▏    | 330/641 [49:15<46:01,  8.88s/it]\u001b[A\u001b[A\n",
            "\n",
            " 52%|█████▏    | 331/641 [49:24<45:53,  8.88s/it]\u001b[A\u001b[A\n",
            "\n",
            " 52%|█████▏    | 332/641 [49:33<45:42,  8.88s/it]\u001b[A\u001b[A\n",
            "\n",
            " 52%|█████▏    | 333/641 [49:42<45:31,  8.87s/it]\u001b[A\u001b[A\n",
            "\n",
            " 52%|█████▏    | 334/641 [49:51<45:21,  8.87s/it]\u001b[A\u001b[A\n",
            "\n",
            " 52%|█████▏    | 335/641 [50:00<45:11,  8.86s/it]\u001b[A\u001b[A\n",
            "\n",
            " 52%|█████▏    | 336/641 [50:10<47:32,  9.35s/it]\u001b[A\u001b[A\n",
            "\n",
            " 53%|█████▎    | 337/641 [50:20<48:47,  9.63s/it]\u001b[A\u001b[A\n",
            "\n",
            " 53%|█████▎    | 338/641 [50:29<47:27,  9.40s/it]\u001b[A\u001b[A\n",
            "\n",
            " 53%|█████▎    | 339/641 [50:38<46:34,  9.25s/it]\u001b[A\u001b[A\n",
            "\n",
            " 53%|█████▎    | 340/641 [50:47<45:59,  9.17s/it]\u001b[A\u001b[A\n",
            "\n",
            " 53%|█████▎    | 341/641 [50:56<45:28,  9.10s/it]\u001b[A\u001b[A\n",
            "\n",
            " 53%|█████▎    | 342/641 [51:05<44:56,  9.02s/it]\u001b[A\u001b[A\n",
            "\n",
            " 54%|█████▎    | 343/641 [51:14<44:39,  8.99s/it]\u001b[A\u001b[A\n",
            "\n",
            " 54%|█████▎    | 344/641 [51:23<44:23,  8.97s/it]\u001b[A\u001b[A\n",
            "\n",
            " 54%|█████▍    | 345/641 [51:32<44:06,  8.94s/it]\u001b[A\u001b[A\n",
            "\n",
            " 54%|█████▍    | 346/641 [51:40<43:54,  8.93s/it]\u001b[A\u001b[A\n",
            "\n",
            " 54%|█████▍    | 347/641 [51:49<43:43,  8.92s/it]\u001b[A\u001b[A\n",
            "\n",
            " 54%|█████▍    | 348/641 [51:58<43:28,  8.90s/it]\u001b[A\u001b[A\n",
            "\n",
            " 54%|█████▍    | 349/641 [52:07<43:18,  8.90s/it]\u001b[A\u001b[A\n",
            "\n",
            " 55%|█████▍    | 350/641 [52:16<43:11,  8.91s/it]\u001b[A\u001b[A\n",
            "\n",
            " 55%|█████▍    | 351/641 [52:25<43:02,  8.90s/it]\u001b[A\u001b[A\n",
            "\n",
            " 55%|█████▍    | 352/641 [52:34<42:49,  8.89s/it]\u001b[A\u001b[A\n",
            "\n",
            " 55%|█████▌    | 353/641 [52:43<42:39,  8.89s/it]\u001b[A\u001b[A\n",
            "\n",
            " 55%|█████▌    | 354/641 [52:52<42:33,  8.90s/it]\u001b[A\u001b[A\n",
            "\n",
            " 55%|█████▌    | 355/641 [53:00<42:20,  8.88s/it]\u001b[A\u001b[A\n",
            "\n",
            " 56%|█████▌    | 356/641 [53:09<42:12,  8.88s/it]\u001b[A\u001b[A\n",
            "\n",
            " 56%|█████▌    | 357/641 [53:18<42:02,  8.88s/it]\u001b[A\u001b[A\n",
            "\n",
            " 56%|█████▌    | 358/641 [53:27<41:55,  8.89s/it]\u001b[A\u001b[A\n",
            "\n",
            " 56%|█████▌    | 359/641 [53:36<41:48,  8.90s/it]\u001b[A\u001b[A\n",
            "\n",
            " 56%|█████▌    | 360/641 [53:45<41:48,  8.93s/it]\u001b[A\u001b[A\n",
            "\n",
            " 56%|█████▋    | 361/641 [53:54<41:34,  8.91s/it]\u001b[A\u001b[A\n",
            "\n",
            " 56%|█████▋    | 362/641 [54:03<41:20,  8.89s/it]\u001b[A\u001b[A\n",
            "\n",
            " 57%|█████▋    | 363/641 [54:12<41:09,  8.88s/it]\u001b[A\u001b[A\n",
            "\n",
            " 57%|█████▋    | 364/641 [54:21<41:00,  8.88s/it]\u001b[A\u001b[A\n",
            "\n",
            " 57%|█████▋    | 365/641 [54:29<40:52,  8.89s/it]\u001b[A\u001b[A\n",
            "\n",
            " 57%|█████▋    | 366/641 [54:38<40:40,  8.88s/it]\u001b[A\u001b[A\n",
            "\n",
            " 57%|█████▋    | 367/641 [54:47<40:33,  8.88s/it]\u001b[A\u001b[A\n",
            "\n",
            " 57%|█████▋    | 368/641 [54:56<40:17,  8.86s/it]\u001b[A\u001b[A\n",
            "\n",
            " 58%|█████▊    | 369/641 [55:05<40:10,  8.86s/it]\u001b[A\u001b[A\n",
            "\n",
            " 58%|█████▊    | 370/641 [55:14<40:03,  8.87s/it]\u001b[A\u001b[A\n",
            "\n",
            " 58%|█████▊    | 371/641 [55:23<39:56,  8.87s/it]\u001b[A\u001b[A\n",
            "\n",
            " 58%|█████▊    | 372/641 [55:31<39:45,  8.87s/it]\u001b[A\u001b[A\n",
            "\n",
            " 58%|█████▊    | 373/641 [55:40<39:35,  8.87s/it]\u001b[A\u001b[A\n",
            "\n",
            " 58%|█████▊    | 374/641 [55:49<39:30,  8.88s/it]\u001b[A\u001b[A\n",
            "\n",
            " 59%|█████▊    | 375/641 [55:58<39:20,  8.87s/it]\u001b[A\u001b[A\n",
            "\n",
            " 59%|█████▊    | 376/641 [56:07<39:11,  8.87s/it]\u001b[A\u001b[A\n",
            "\n",
            " 59%|█████▉    | 377/641 [56:16<39:00,  8.87s/it]\u001b[A\u001b[A\n",
            "\n",
            " 59%|█████▉    | 378/641 [56:25<38:52,  8.87s/it]\u001b[A\u001b[A\n",
            "\n",
            " 59%|█████▉    | 379/641 [56:34<38:42,  8.86s/it]\u001b[A\u001b[A\n",
            "\n",
            " 59%|█████▉    | 380/641 [56:42<38:31,  8.86s/it]\u001b[A\u001b[A\n",
            "\n",
            " 59%|█████▉    | 381/641 [56:51<38:21,  8.85s/it]\u001b[A\u001b[A\n",
            "\n",
            " 60%|█████▉    | 382/641 [57:00<38:10,  8.84s/it]\u001b[A\u001b[A\n",
            "\n",
            " 60%|█████▉    | 383/641 [57:09<38:05,  8.86s/it]\u001b[A\u001b[A\n",
            "\n",
            " 60%|█████▉    | 384/641 [57:18<37:59,  8.87s/it]\u001b[A\u001b[A\n",
            "\n",
            " 60%|██████    | 385/641 [57:27<37:52,  8.88s/it]\u001b[A\u001b[A\n",
            "\n",
            " 60%|██████    | 386/641 [57:36<37:41,  8.87s/it]\u001b[A\u001b[A\n",
            "\n",
            " 60%|██████    | 387/641 [57:44<37:29,  8.86s/it]\u001b[A\u001b[A\n",
            "\n",
            " 61%|██████    | 388/641 [57:53<37:16,  8.84s/it]\u001b[A\u001b[A\n",
            "\n",
            " 61%|██████    | 389/641 [58:02<37:10,  8.85s/it]\u001b[A\u001b[A\n",
            "\n",
            " 61%|██████    | 390/641 [58:11<37:03,  8.86s/it]\u001b[A\u001b[A\n",
            "\n",
            " 61%|██████    | 391/641 [58:20<36:55,  8.86s/it]\u001b[A\u001b[A\n",
            "\n",
            " 61%|██████    | 392/641 [58:29<36:47,  8.86s/it]\u001b[A\u001b[A\n",
            "\n",
            " 61%|██████▏   | 393/641 [58:38<36:37,  8.86s/it]\u001b[A\u001b[A\n",
            "\n",
            " 61%|██████▏   | 394/641 [58:46<36:27,  8.86s/it]\u001b[A\u001b[A\n",
            "\n",
            " 62%|██████▏   | 395/641 [58:55<36:25,  8.88s/it]\u001b[A\u001b[A\n",
            "\n",
            " 62%|██████▏   | 396/641 [59:04<36:26,  8.92s/it]\u001b[A\u001b[A\n",
            "\n",
            " 62%|██████▏   | 397/641 [59:13<36:09,  8.89s/it]\u001b[A\u001b[A\n",
            "\n",
            " 62%|██████▏   | 398/641 [59:22<35:57,  8.88s/it]\u001b[A\u001b[A\n",
            "\n",
            " 62%|██████▏   | 399/641 [59:31<35:44,  8.86s/it]\u001b[A\u001b[A\n",
            "\n",
            " 62%|██████▏   | 400/641 [59:40<35:32,  8.85s/it]\u001b[A\u001b[A\n",
            "\n",
            " 63%|██████▎   | 401/641 [59:48<35:17,  8.82s/it]\u001b[A\u001b[A\n",
            "\n",
            " 63%|██████▎   | 402/641 [59:57<35:08,  8.82s/it]\u001b[A\u001b[A\n",
            "\n",
            " 63%|██████▎   | 403/641 [1:00:06<35:00,  8.82s/it]\u001b[A\u001b[A\n",
            "\n",
            " 63%|██████▎   | 404/641 [1:00:15<34:51,  8.83s/it]\u001b[A\u001b[A\n",
            "\n",
            " 63%|██████▎   | 405/641 [1:00:27<38:16,  9.73s/it]\u001b[A\u001b[A\n",
            "\n",
            " 63%|██████▎   | 406/641 [1:00:36<36:59,  9.45s/it]\u001b[A\u001b[A\n",
            "\n",
            " 63%|██████▎   | 407/641 [1:00:44<36:06,  9.26s/it]\u001b[A\u001b[A\n",
            "\n",
            " 64%|██████▎   | 408/641 [1:00:53<35:26,  9.13s/it]\u001b[A\u001b[A\n",
            "\n",
            " 64%|██████▍   | 409/641 [1:01:02<34:55,  9.03s/it]\u001b[A\u001b[A\n",
            "\n",
            " 64%|██████▍   | 410/641 [1:01:11<34:33,  8.98s/it]\u001b[A\u001b[A\n",
            "\n",
            " 64%|██████▍   | 411/641 [1:01:20<34:13,  8.93s/it]\u001b[A\u001b[A\n",
            "\n",
            " 64%|██████▍   | 412/641 [1:01:28<33:58,  8.90s/it]\u001b[A\u001b[A\n",
            "\n",
            " 64%|██████▍   | 413/641 [1:01:37<33:43,  8.87s/it]\u001b[A\u001b[A\n",
            "\n",
            " 65%|██████▍   | 414/641 [1:01:46<33:28,  8.85s/it]\u001b[A\u001b[A\n",
            "\n",
            " 65%|██████▍   | 415/641 [1:01:55<33:16,  8.83s/it]\u001b[A\u001b[A\n",
            "\n",
            " 65%|██████▍   | 416/641 [1:02:04<33:04,  8.82s/it]\u001b[A\u001b[A\n",
            "\n",
            " 65%|██████▌   | 417/641 [1:02:12<32:53,  8.81s/it]\u001b[A\u001b[A\n",
            "\n",
            " 65%|██████▌   | 418/641 [1:02:21<32:45,  8.82s/it]\u001b[A\u001b[A\n",
            "\n",
            " 65%|██████▌   | 419/641 [1:02:30<32:36,  8.81s/it]\u001b[A\u001b[A\n",
            "\n",
            " 66%|██████▌   | 420/641 [1:02:39<32:27,  8.81s/it]\u001b[A\u001b[A\n",
            "\n",
            " 66%|██████▌   | 421/641 [1:02:48<32:16,  8.80s/it]\u001b[A\u001b[A\n",
            "\n",
            " 66%|██████▌   | 422/641 [1:02:56<32:08,  8.80s/it]\u001b[A\u001b[A\n",
            "\n",
            " 66%|██████▌   | 423/641 [1:03:05<32:00,  8.81s/it]\u001b[A\u001b[A\n",
            "\n",
            " 66%|██████▌   | 424/641 [1:03:14<31:53,  8.82s/it]\u001b[A\u001b[A\n",
            "\n",
            " 66%|██████▋   | 425/641 [1:03:23<31:44,  8.82s/it]\u001b[A\u001b[A\n",
            "\n",
            " 66%|██████▋   | 426/641 [1:03:32<31:37,  8.82s/it]\u001b[A\u001b[A\n",
            "\n",
            " 67%|██████▋   | 427/641 [1:03:41<31:28,  8.82s/it]\u001b[A\u001b[A\n",
            "\n",
            " 67%|██████▋   | 428/641 [1:03:49<31:16,  8.81s/it]\u001b[A\u001b[A\n",
            "\n",
            " 67%|██████▋   | 429/641 [1:03:58<31:08,  8.81s/it]\u001b[A\u001b[A\n",
            "\n",
            " 67%|██████▋   | 430/641 [1:04:07<31:09,  8.86s/it]\u001b[A\u001b[A\n",
            "\n",
            " 67%|██████▋   | 431/641 [1:04:16<30:58,  8.85s/it]\u001b[A\u001b[A\n",
            "\n",
            " 67%|██████▋   | 432/641 [1:04:25<30:46,  8.84s/it]\u001b[A\u001b[A\n",
            "\n",
            " 68%|██████▊   | 433/641 [1:04:34<30:41,  8.85s/it]\u001b[A\u001b[A\n",
            "\n",
            " 68%|██████▊   | 434/641 [1:04:43<30:27,  8.83s/it]\u001b[A\u001b[A\n",
            "\n",
            " 68%|██████▊   | 435/641 [1:04:51<30:17,  8.82s/it]\u001b[A\u001b[A\n",
            "\n",
            " 68%|██████▊   | 436/641 [1:05:00<30:07,  8.81s/it]\u001b[A\u001b[A\n",
            "\n",
            " 68%|██████▊   | 437/641 [1:05:09<29:57,  8.81s/it]\u001b[A\u001b[A\n",
            "\n",
            " 68%|██████▊   | 438/641 [1:05:18<29:48,  8.81s/it]\u001b[A\u001b[A\n",
            "\n",
            " 68%|██████▊   | 439/641 [1:05:27<29:39,  8.81s/it]\u001b[A\u001b[A\n",
            "\n",
            " 69%|██████▊   | 440/641 [1:05:35<29:30,  8.81s/it]\u001b[A\u001b[A\n",
            "\n",
            " 69%|██████▉   | 441/641 [1:05:44<29:21,  8.81s/it]\u001b[A\u001b[A\n",
            "\n",
            " 69%|██████▉   | 442/641 [1:05:53<29:10,  8.80s/it]\u001b[A\u001b[A\n",
            "\n",
            " 69%|██████▉   | 443/641 [1:06:02<29:04,  8.81s/it]\u001b[A\u001b[A\n",
            "\n",
            " 69%|██████▉   | 444/641 [1:06:11<28:53,  8.80s/it]\u001b[A\u001b[A\n",
            "\n",
            " 69%|██████▉   | 445/641 [1:06:19<28:43,  8.79s/it]\u001b[A\u001b[A\n",
            "\n",
            " 70%|██████▉   | 446/641 [1:06:28<28:34,  8.79s/it]\u001b[A\u001b[A\n",
            "\n",
            " 70%|██████▉   | 447/641 [1:06:37<28:22,  8.77s/it]\u001b[A\u001b[A\n",
            "\n",
            " 70%|██████▉   | 448/641 [1:06:46<28:11,  8.76s/it]\u001b[A\u001b[A\n",
            "\n",
            " 70%|███████   | 449/641 [1:06:54<28:02,  8.76s/it]\u001b[A\u001b[A\n",
            "\n",
            " 70%|███████   | 450/641 [1:07:03<27:53,  8.76s/it]\u001b[A\u001b[A\n",
            "\n",
            " 70%|███████   | 451/641 [1:07:12<27:44,  8.76s/it]\u001b[A\u001b[A\n",
            "\n",
            " 71%|███████   | 452/641 [1:07:21<27:38,  8.78s/it]\u001b[A\u001b[A\n",
            "\n",
            " 71%|███████   | 453/641 [1:07:29<27:31,  8.78s/it]\u001b[A\u001b[A\n",
            "\n",
            " 71%|███████   | 454/641 [1:07:38<27:21,  8.78s/it]\u001b[A\u001b[A\n",
            "\n",
            " 71%|███████   | 455/641 [1:07:47<27:10,  8.76s/it]\u001b[A\u001b[A\n",
            "\n",
            " 71%|███████   | 456/641 [1:07:56<27:03,  8.78s/it]\u001b[A\u001b[A\n",
            "\n",
            " 71%|███████▏  | 457/641 [1:08:04<26:53,  8.77s/it]\u001b[A\u001b[A\n",
            "\n",
            " 71%|███████▏  | 458/641 [1:08:13<26:45,  8.77s/it]\u001b[A\u001b[A\n",
            "\n",
            " 72%|███████▏  | 459/641 [1:08:22<26:38,  8.79s/it]\u001b[A\u001b[A\n",
            "\n",
            " 72%|███████▏  | 460/641 [1:08:31<26:28,  8.78s/it]\u001b[A\u001b[A\n",
            "\n",
            " 72%|███████▏  | 461/641 [1:08:40<26:16,  8.76s/it]\u001b[A\u001b[A\n",
            "\n",
            " 72%|███████▏  | 462/641 [1:08:48<26:09,  8.77s/it]\u001b[A\u001b[A\n",
            "\n",
            " 72%|███████▏  | 463/641 [1:08:57<26:00,  8.77s/it]\u001b[A\u001b[A\n",
            "\n",
            " 72%|███████▏  | 464/641 [1:09:06<25:52,  8.77s/it]\u001b[A\u001b[A\n",
            "\n",
            " 73%|███████▎  | 465/641 [1:09:15<25:46,  8.79s/it]\u001b[A\u001b[A\n",
            "\n",
            " 73%|███████▎  | 466/641 [1:09:24<25:37,  8.79s/it]\u001b[A\u001b[A\n",
            "\n",
            " 73%|███████▎  | 467/641 [1:09:32<25:29,  8.79s/it]\u001b[A\u001b[A\n",
            "\n",
            " 73%|███████▎  | 468/641 [1:09:41<25:20,  8.79s/it]\u001b[A\u001b[A\n",
            "\n",
            " 73%|███████▎  | 469/641 [1:09:50<25:08,  8.77s/it]\u001b[A\u001b[A\n",
            "\n",
            " 73%|███████▎  | 470/641 [1:09:59<25:00,  8.77s/it]\u001b[A\u001b[A\n",
            "\n",
            " 73%|███████▎  | 471/641 [1:10:07<24:51,  8.77s/it]\u001b[A\u001b[A\n",
            "\n",
            " 74%|███████▎  | 472/641 [1:10:16<24:40,  8.76s/it]\u001b[A\u001b[A\n",
            "\n",
            " 74%|███████▍  | 473/641 [1:10:25<24:33,  8.77s/it]\u001b[A\u001b[A\n",
            "\n",
            " 74%|███████▍  | 474/641 [1:10:37<26:52,  9.65s/it]\u001b[A\u001b[A\n",
            "\n",
            " 74%|███████▍  | 475/641 [1:10:45<25:57,  9.38s/it]\u001b[A\u001b[A\n",
            "\n",
            " 74%|███████▍  | 476/641 [1:10:54<25:16,  9.19s/it]\u001b[A\u001b[A\n",
            "\n",
            " 74%|███████▍  | 477/641 [1:11:03<24:44,  9.05s/it]\u001b[A\u001b[A\n",
            "\n",
            " 75%|███████▍  | 478/641 [1:11:12<24:23,  8.98s/it]\u001b[A\u001b[A\n",
            "\n",
            " 75%|███████▍  | 479/641 [1:11:20<24:05,  8.92s/it]\u001b[A\u001b[A\n",
            "\n",
            " 75%|███████▍  | 480/641 [1:11:29<23:48,  8.87s/it]\u001b[A\u001b[A\n",
            "\n",
            " 75%|███████▌  | 481/641 [1:11:38<23:34,  8.84s/it]\u001b[A\u001b[A\n",
            "\n",
            " 75%|███████▌  | 482/641 [1:11:47<23:22,  8.82s/it]\u001b[A\u001b[A\n",
            "\n",
            " 75%|███████▌  | 483/641 [1:11:56<23:11,  8.81s/it]\u001b[A\u001b[A\n",
            "\n",
            " 76%|███████▌  | 484/641 [1:12:04<22:59,  8.79s/it]\u001b[A\u001b[A\n",
            "\n",
            " 76%|███████▌  | 485/641 [1:12:13<22:48,  8.77s/it]\u001b[A\u001b[A\n",
            "\n",
            " 76%|███████▌  | 486/641 [1:12:22<22:37,  8.76s/it]\u001b[A\u001b[A\n",
            "\n",
            " 76%|███████▌  | 487/641 [1:12:31<22:29,  8.77s/it]\u001b[A\u001b[A\n",
            "\n",
            " 76%|███████▌  | 488/641 [1:12:39<22:20,  8.76s/it]\u001b[A\u001b[A\n",
            "\n",
            " 76%|███████▋  | 489/641 [1:12:48<22:10,  8.76s/it]\u001b[A\u001b[A\n",
            "\n",
            " 76%|███████▋  | 490/641 [1:12:57<22:02,  8.76s/it]\u001b[A\u001b[A\n",
            "\n",
            " 77%|███████▋  | 491/641 [1:13:06<21:53,  8.76s/it]\u001b[A\u001b[A\n",
            "\n",
            " 77%|███████▋  | 492/641 [1:13:14<21:44,  8.76s/it]\u001b[A\u001b[A\n",
            "\n",
            " 77%|███████▋  | 493/641 [1:13:23<21:36,  8.76s/it]\u001b[A\u001b[A\n",
            "\n",
            " 77%|███████▋  | 494/641 [1:13:32<21:27,  8.76s/it]\u001b[A\u001b[A\n",
            "\n",
            " 77%|███████▋  | 495/641 [1:13:41<21:18,  8.76s/it]\u001b[A\u001b[A\n",
            "\n",
            " 77%|███████▋  | 496/641 [1:13:49<21:10,  8.76s/it]\u001b[A\u001b[A\n",
            "\n",
            " 78%|███████▊  | 497/641 [1:13:58<21:01,  8.76s/it]\u001b[A\u001b[A\n",
            "\n",
            " 78%|███████▊  | 498/641 [1:14:07<20:50,  8.74s/it]\u001b[A\u001b[A\n",
            "\n",
            " 78%|███████▊  | 499/641 [1:14:16<20:54,  8.83s/it]\u001b[A\u001b[A\n",
            "\n",
            " 78%|███████▊  | 500/641 [1:14:25<20:45,  8.83s/it]\u001b[A\u001b[A\n",
            "\n",
            " 78%|███████▊  | 501/641 [1:14:33<20:36,  8.83s/it]\u001b[A\u001b[A\n",
            "\n",
            " 78%|███████▊  | 502/641 [1:14:42<20:24,  8.81s/it]\u001b[A\u001b[A\n",
            "\n",
            " 78%|███████▊  | 503/641 [1:14:51<20:12,  8.79s/it]\u001b[A\u001b[A\n",
            "\n",
            " 79%|███████▊  | 504/641 [1:15:00<20:01,  8.77s/it]\u001b[A\u001b[A\n",
            "\n",
            " 79%|███████▉  | 505/641 [1:15:08<19:52,  8.77s/it]\u001b[A\u001b[A\n",
            "\n",
            " 79%|███████▉  | 506/641 [1:15:17<19:43,  8.76s/it]\u001b[A\u001b[A\n",
            "\n",
            " 79%|███████▉  | 507/641 [1:15:26<19:33,  8.75s/it]\u001b[A\u001b[A\n",
            "\n",
            " 79%|███████▉  | 508/641 [1:15:35<19:25,  8.76s/it]\u001b[A\u001b[A\n",
            "\n",
            " 79%|███████▉  | 509/641 [1:15:43<19:15,  8.75s/it]\u001b[A\u001b[A\n",
            "\n",
            " 80%|███████▉  | 510/641 [1:15:52<19:05,  8.74s/it]\u001b[A\u001b[A\n",
            "\n",
            " 80%|███████▉  | 511/641 [1:16:01<18:58,  8.75s/it]\u001b[A\u001b[A\n",
            "\n",
            " 80%|███████▉  | 512/641 [1:16:10<18:48,  8.75s/it]\u001b[A\u001b[A\n",
            "\n",
            " 80%|████████  | 513/641 [1:16:19<18:43,  8.78s/it]\u001b[A\u001b[A\n",
            "\n",
            " 80%|████████  | 514/641 [1:16:27<18:34,  8.77s/it]\u001b[A\u001b[A\n",
            "\n",
            " 80%|████████  | 515/641 [1:16:36<18:25,  8.77s/it]\u001b[A\u001b[A\n",
            "\n",
            " 80%|████████  | 516/641 [1:16:45<18:16,  8.77s/it]\u001b[A\u001b[A\n",
            "\n",
            " 81%|████████  | 517/641 [1:16:54<18:05,  8.76s/it]\u001b[A\u001b[A\n",
            "\n",
            " 81%|████████  | 518/641 [1:17:02<17:56,  8.75s/it]\u001b[A\u001b[A\n",
            "\n",
            " 81%|████████  | 519/641 [1:17:11<17:48,  8.76s/it]\u001b[A\u001b[A\n",
            "\n",
            " 81%|████████  | 520/641 [1:17:20<17:39,  8.75s/it]\u001b[A\u001b[A\n",
            "\n",
            " 81%|████████▏ | 521/641 [1:17:29<17:31,  8.76s/it]\u001b[A\u001b[A\n",
            "\n",
            " 81%|████████▏ | 522/641 [1:17:37<17:24,  8.78s/it]\u001b[A\u001b[A\n",
            "\n",
            " 82%|████████▏ | 523/641 [1:17:46<17:13,  8.75s/it]\u001b[A\u001b[A\n",
            "\n",
            " 82%|████████▏ | 524/641 [1:17:55<17:05,  8.77s/it]\u001b[A\u001b[A\n",
            "\n",
            " 82%|████████▏ | 525/641 [1:18:04<16:57,  8.77s/it]\u001b[A\u001b[A\n",
            "\n",
            " 82%|████████▏ | 526/641 [1:18:12<16:48,  8.77s/it]\u001b[A\u001b[A\n",
            "\n",
            " 82%|████████▏ | 527/641 [1:18:21<16:39,  8.77s/it]\u001b[A\u001b[A\n",
            "\n",
            " 82%|████████▏ | 528/641 [1:18:30<16:30,  8.76s/it]\u001b[A\u001b[A\n",
            "\n",
            " 83%|████████▎ | 529/641 [1:18:39<16:20,  8.76s/it]\u001b[A\u001b[A\n",
            "\n",
            " 83%|████████▎ | 530/641 [1:18:48<16:12,  8.76s/it]\u001b[A\u001b[A\n",
            "\n",
            " 83%|████████▎ | 531/641 [1:18:56<16:04,  8.77s/it]\u001b[A\u001b[A\n",
            "\n",
            " 83%|████████▎ | 532/641 [1:19:05<15:55,  8.76s/it]\u001b[A\u001b[A\n",
            "\n",
            " 83%|████████▎ | 533/641 [1:19:14<15:45,  8.75s/it]\u001b[A\u001b[A\n",
            "\n",
            " 83%|████████▎ | 534/641 [1:19:23<15:37,  8.76s/it]\u001b[A\u001b[A\n",
            "\n",
            " 83%|████████▎ | 535/641 [1:19:31<15:27,  8.75s/it]\u001b[A\u001b[A\n",
            "\n",
            " 84%|████████▎ | 536/641 [1:19:40<15:22,  8.78s/it]\u001b[A\u001b[A\n",
            "\n",
            " 84%|████████▍ | 537/641 [1:19:49<15:13,  8.78s/it]\u001b[A\u001b[A\n",
            "\n",
            " 84%|████████▍ | 538/641 [1:19:58<15:04,  8.78s/it]\u001b[A\u001b[A\n",
            "\n",
            " 84%|████████▍ | 539/641 [1:20:06<14:54,  8.77s/it]\u001b[A\u001b[A\n",
            "\n",
            " 84%|████████▍ | 540/641 [1:20:15<14:46,  8.77s/it]\u001b[A\u001b[A\n",
            "\n",
            " 84%|████████▍ | 541/641 [1:20:24<14:36,  8.76s/it]\u001b[A\u001b[A\n",
            "\n",
            " 85%|████████▍ | 542/641 [1:20:33<14:28,  8.78s/it]\u001b[A\u001b[A\n",
            "\n",
            " 85%|████████▍ | 543/641 [1:20:45<16:01,  9.81s/it]\u001b[A\u001b[A\n",
            "\n",
            " 85%|████████▍ | 544/641 [1:20:54<15:20,  9.49s/it]\u001b[A\u001b[A\n",
            "\n",
            " 85%|████████▌ | 545/641 [1:21:03<14:50,  9.28s/it]\u001b[A\u001b[A\n",
            "\n",
            " 85%|████████▌ | 546/641 [1:21:11<14:26,  9.12s/it]\u001b[A\u001b[A\n",
            "\n",
            " 85%|████████▌ | 547/641 [1:21:20<14:09,  9.04s/it]\u001b[A\u001b[A\n",
            "\n",
            " 85%|████████▌ | 548/641 [1:21:29<13:53,  8.97s/it]\u001b[A\u001b[A\n",
            "\n",
            " 86%|████████▌ | 549/641 [1:21:38<13:40,  8.92s/it]\u001b[A\u001b[A\n",
            "\n",
            " 86%|████████▌ | 550/641 [1:21:46<13:26,  8.86s/it]\u001b[A\u001b[A\n",
            "\n",
            " 86%|████████▌ | 551/641 [1:21:55<13:15,  8.84s/it]\u001b[A\u001b[A\n",
            "\n",
            " 86%|████████▌ | 552/641 [1:22:04<13:04,  8.81s/it]\u001b[A\u001b[A\n",
            "\n",
            " 86%|████████▋ | 553/641 [1:22:13<12:53,  8.79s/it]\u001b[A\u001b[A\n",
            "\n",
            " 86%|████████▋ | 554/641 [1:22:22<12:44,  8.79s/it]\u001b[A\u001b[A\n",
            "\n",
            " 87%|████████▋ | 555/641 [1:22:30<12:35,  8.78s/it]\u001b[A\u001b[A\n",
            "\n",
            " 87%|████████▋ | 556/641 [1:22:39<12:25,  8.77s/it]\u001b[A\u001b[A\n",
            "\n",
            " 87%|████████▋ | 557/641 [1:22:48<12:16,  8.77s/it]\u001b[A\u001b[A\n",
            "\n",
            " 87%|████████▋ | 558/641 [1:22:57<12:07,  8.77s/it]\u001b[A\u001b[A\n",
            "\n",
            " 87%|████████▋ | 559/641 [1:23:05<11:59,  8.78s/it]\u001b[A\u001b[A\n",
            "\n",
            " 87%|████████▋ | 560/641 [1:23:14<11:50,  8.77s/it]\u001b[A\u001b[A\n",
            "\n",
            " 88%|████████▊ | 561/641 [1:23:23<11:41,  8.77s/it]\u001b[A\u001b[A\n",
            "\n",
            " 88%|████████▊ | 562/641 [1:23:32<11:32,  8.77s/it]\u001b[A\u001b[A\n",
            "\n",
            " 88%|████████▊ | 563/641 [1:23:40<11:23,  8.76s/it]\u001b[A\u001b[A\n",
            "\n",
            " 88%|████████▊ | 564/641 [1:23:49<11:14,  8.76s/it]\u001b[A\u001b[A\n",
            "\n",
            " 88%|████████▊ | 565/641 [1:23:58<11:06,  8.76s/it]\u001b[A\u001b[A\n",
            "\n",
            " 88%|████████▊ | 566/641 [1:24:07<10:57,  8.76s/it]\u001b[A\u001b[A\n",
            "\n",
            " 88%|████████▊ | 567/641 [1:24:16<10:50,  8.79s/it]\u001b[A\u001b[A\n",
            "\n",
            " 89%|████████▊ | 568/641 [1:24:24<10:40,  8.78s/it]\u001b[A\u001b[A\n",
            "\n",
            " 89%|████████▉ | 569/641 [1:24:33<10:32,  8.78s/it]\u001b[A\u001b[A\n",
            "\n",
            " 89%|████████▉ | 570/641 [1:24:42<10:23,  8.79s/it]\u001b[A\u001b[A\n",
            "\n",
            " 89%|████████▉ | 571/641 [1:24:51<10:16,  8.81s/it]\u001b[A\u001b[A\n",
            "\n",
            " 89%|████████▉ | 572/641 [1:25:00<10:07,  8.81s/it]\u001b[A\u001b[A\n",
            "\n",
            " 89%|████████▉ | 573/641 [1:25:08<09:57,  8.79s/it]\u001b[A\u001b[A\n",
            "\n",
            " 90%|████████▉ | 574/641 [1:25:17<09:48,  8.79s/it]\u001b[A\u001b[A\n",
            "\n",
            " 90%|████████▉ | 575/641 [1:25:26<09:38,  8.77s/it]\u001b[A\u001b[A\n",
            "\n",
            " 90%|████████▉ | 576/641 [1:25:35<09:30,  8.78s/it]\u001b[A\u001b[A\n",
            "\n",
            " 90%|█████████ | 577/641 [1:25:43<09:21,  8.78s/it]\u001b[A\u001b[A\n",
            "\n",
            " 90%|█████████ | 578/641 [1:25:52<09:12,  8.77s/it]\u001b[A\u001b[A\n",
            "\n",
            " 90%|█████████ | 579/641 [1:26:01<09:03,  8.77s/it]\u001b[A\u001b[A\n",
            "\n",
            " 90%|█████████ | 580/641 [1:26:10<08:55,  8.78s/it]\u001b[A\u001b[A\n",
            "\n",
            " 91%|█████████ | 581/641 [1:26:18<08:45,  8.76s/it]\u001b[A\u001b[A\n",
            "\n",
            " 91%|█████████ | 582/641 [1:26:27<08:38,  8.78s/it]\u001b[A\u001b[A\n",
            "\n",
            " 91%|█████████ | 583/641 [1:26:36<08:29,  8.79s/it]\u001b[A\u001b[A\n",
            "\n",
            " 91%|█████████ | 584/641 [1:26:45<08:20,  8.78s/it]\u001b[A\u001b[A\n",
            "\n",
            " 91%|█████████▏| 585/641 [1:26:54<08:11,  8.78s/it]\u001b[A\u001b[A\n",
            "\n",
            " 91%|█████████▏| 586/641 [1:27:02<08:02,  8.78s/it]\u001b[A\u001b[A\n",
            "\n",
            " 92%|█████████▏| 587/641 [1:27:11<07:53,  8.76s/it]\u001b[A\u001b[A\n",
            "\n",
            " 92%|█████████▏| 588/641 [1:27:20<07:44,  8.76s/it]\u001b[A\u001b[A\n",
            "\n",
            " 92%|█████████▏| 589/641 [1:27:29<07:35,  8.76s/it]\u001b[A\u001b[A\n",
            "\n",
            " 92%|█████████▏| 590/641 [1:27:37<07:27,  8.77s/it]\u001b[A\u001b[A\n",
            "\n",
            " 92%|█████████▏| 591/641 [1:27:46<07:18,  8.77s/it]\u001b[A\u001b[A\n",
            "\n",
            " 92%|█████████▏| 592/641 [1:27:55<07:09,  8.77s/it]\u001b[A\u001b[A\n",
            "\n",
            " 93%|█████████▎| 593/641 [1:28:04<07:00,  8.76s/it]\u001b[A\u001b[A\n",
            "\n",
            " 93%|█████████▎| 594/641 [1:28:12<06:51,  8.76s/it]\u001b[A\u001b[A\n",
            "\n",
            " 93%|█████████▎| 595/641 [1:28:21<06:43,  8.76s/it]\u001b[A\u001b[A\n",
            "\n",
            " 93%|█████████▎| 596/641 [1:28:30<06:34,  8.76s/it]\u001b[A\u001b[A\n",
            "\n",
            " 93%|█████████▎| 597/641 [1:28:39<06:25,  8.77s/it]\u001b[A\u001b[A\n",
            "\n",
            " 93%|█████████▎| 598/641 [1:28:47<06:16,  8.76s/it]\u001b[A\u001b[A\n",
            "\n",
            " 93%|█████████▎| 599/641 [1:28:56<06:08,  8.77s/it]\u001b[A\u001b[A\n",
            "\n",
            " 94%|█████████▎| 600/641 [1:29:05<05:59,  8.76s/it]\u001b[A\u001b[A\n",
            "\n",
            " 94%|█████████▍| 601/641 [1:29:14<05:50,  8.77s/it]\u001b[A\u001b[A\n",
            "\n",
            " 94%|█████████▍| 602/641 [1:29:23<05:41,  8.77s/it]\u001b[A\u001b[A\n",
            "\n",
            " 94%|█████████▍| 603/641 [1:29:32<05:35,  8.82s/it]\u001b[A\u001b[A\n",
            "\n",
            " 94%|█████████▍| 604/641 [1:29:40<05:25,  8.81s/it]\u001b[A\u001b[A\n",
            "\n",
            " 94%|█████████▍| 605/641 [1:29:49<05:16,  8.79s/it]\u001b[A\u001b[A\n",
            "\n",
            " 95%|█████████▍| 606/641 [1:29:58<05:07,  8.79s/it]\u001b[A\u001b[A\n",
            "\n",
            " 95%|█████████▍| 607/641 [1:30:07<04:59,  8.81s/it]\u001b[A\u001b[A\n",
            "\n",
            " 95%|█████████▍| 608/641 [1:30:16<04:50,  8.81s/it]\u001b[A\u001b[A\n",
            "\n",
            " 95%|█████████▌| 609/641 [1:30:24<04:42,  8.81s/it]\u001b[A\u001b[A\n",
            "\n",
            " 95%|█████████▌| 610/641 [1:30:33<04:32,  8.81s/it]\u001b[A\u001b[A\n",
            "\n",
            " 95%|█████████▌| 611/641 [1:30:42<04:23,  8.79s/it]\u001b[A\u001b[A\n",
            "\n",
            " 95%|█████████▌| 612/641 [1:30:54<04:46,  9.88s/it]\u001b[A\u001b[A\n",
            "\n",
            " 96%|█████████▌| 613/641 [1:31:04<04:33,  9.75s/it]\u001b[A\u001b[A\n",
            "\n",
            " 96%|█████████▌| 614/641 [1:31:13<04:15,  9.46s/it]\u001b[A\u001b[A\n",
            "\n",
            " 96%|█████████▌| 615/641 [1:31:21<04:00,  9.24s/it]\u001b[A\u001b[A\n",
            "\n",
            " 96%|█████████▌| 616/641 [1:31:30<03:47,  9.10s/it]\u001b[A\u001b[A\n",
            "\n",
            " 96%|█████████▋| 617/641 [1:31:39<03:36,  9.03s/it]\u001b[A\u001b[A\n",
            "\n",
            " 96%|█████████▋| 618/641 [1:31:48<03:25,  8.95s/it]\u001b[A\u001b[A\n",
            "\n",
            " 97%|█████████▋| 619/641 [1:31:56<03:15,  8.89s/it]\u001b[A\u001b[A\n",
            "\n",
            " 97%|█████████▋| 620/641 [1:32:05<03:06,  8.86s/it]\u001b[A\u001b[A\n",
            "\n",
            " 97%|█████████▋| 621/641 [1:32:14<02:56,  8.82s/it]\u001b[A\u001b[A\n",
            "\n",
            " 97%|█████████▋| 622/641 [1:32:23<02:47,  8.81s/it]\u001b[A\u001b[A\n",
            "\n",
            " 97%|█████████▋| 623/641 [1:32:31<02:38,  8.80s/it]\u001b[A\u001b[A\n",
            "\n",
            " 97%|█████████▋| 624/641 [1:32:40<02:29,  8.79s/it]\u001b[A\u001b[A\n",
            "\n",
            " 98%|█████████▊| 625/641 [1:32:49<02:20,  8.77s/it]\u001b[A\u001b[A\n",
            "\n",
            " 98%|█████████▊| 626/641 [1:32:58<02:11,  8.76s/it]\u001b[A\u001b[A\n",
            "\n",
            " 98%|█████████▊| 627/641 [1:33:06<02:02,  8.75s/it]\u001b[A\u001b[A\n",
            "\n",
            " 98%|█████████▊| 628/641 [1:33:15<01:53,  8.74s/it]\u001b[A\u001b[A\n",
            "\n",
            " 98%|█████████▊| 629/641 [1:33:24<01:44,  8.74s/it]\u001b[A\u001b[A\n",
            "\n",
            " 98%|█████████▊| 630/641 [1:33:33<01:36,  8.73s/it]\u001b[A\u001b[A\n",
            "\n",
            " 98%|█████████▊| 631/641 [1:33:41<01:27,  8.74s/it]\u001b[A\u001b[A\n",
            "\n",
            " 99%|█████████▊| 632/641 [1:33:50<01:18,  8.73s/it]\u001b[A\u001b[A\n",
            "\n",
            " 99%|█████████▉| 633/641 [1:33:59<01:09,  8.72s/it]\u001b[A\u001b[A\n",
            "\n",
            " 99%|█████████▉| 634/641 [1:34:08<01:01,  8.74s/it]\u001b[A\u001b[A\n",
            "\n",
            " 99%|█████████▉| 635/641 [1:34:16<00:52,  8.75s/it]\u001b[A\u001b[A\n",
            "\n",
            " 99%|█████████▉| 636/641 [1:34:25<00:43,  8.74s/it]\u001b[A\u001b[A\n",
            "\n",
            " 99%|█████████▉| 637/641 [1:34:34<00:35,  8.75s/it]\u001b[A\u001b[A\n",
            "\n",
            "100%|█████████▉| 638/641 [1:34:43<00:26,  8.75s/it]\u001b[A\u001b[A\n",
            "\n",
            "100%|█████████▉| 639/641 [1:34:51<00:17,  8.74s/it]\u001b[A\u001b[A\n",
            "\n",
            "100%|█████████▉| 640/641 [1:35:00<00:08,  8.73s/it]\u001b[A\u001b[A\n",
            "\n",
            "100%|██████████| 641/641 [1:35:09<00:00,  8.91s/it]\n"
          ],
          "name": "stderr"
        }
      ]
    },
    {
      "cell_type": "code",
      "metadata": {
        "id": "qoHHpQ_YO5yJ",
        "colab_type": "code",
        "colab": {
          "base_uri": "https://localhost:8080/",
          "height": 1000
        },
        "outputId": "6d8d3b3f-f1b4-4b3a-af90-225af65b180f"
      },
      "source": [
        "!zip -r /content/faces_wo_bg.zip /content/images"
      ],
      "execution_count": 71,
      "outputs": [
        {
          "output_type": "stream",
          "text": [
            "  adding: content/images/ (stored 0%)\n",
            "  adding: content/images/faces_people_wo_bg/ (stored 0%)\n",
            "  adding: content/images/faces_people_wo_bg/Connie_Nielsen_0_wo_bg.jpg (deflated 4%)\n",
            "  adding: content/images/faces_people_wo_bg/Chelsea_Kane_0_wo_bg.jpg (deflated 5%)\n",
            "  adding: content/images/faces_people_wo_bg/Monica_Raymund_0_wo_bg.jpg (deflated 4%)\n",
            "  adding: content/images/faces_people_wo_bg/Chase_Masterson_0_wo_bg.jpg (deflated 8%)\n",
            "  adding: content/images/faces_people_wo_bg/Lin_Shaye_0_wo_bg.jpg (deflated 4%)\n",
            "  adding: content/images/faces_people_wo_bg/Jenna_Ushkowitz_0_wo_bg.jpg (deflated 4%)\n",
            "  adding: content/images/faces_people_wo_bg/Ruth_Wilson_0_wo_bg.jpg (deflated 4%)\n",
            "  adding: content/images/faces_people_wo_bg/Katherine_McNamara_0_wo_bg.jpg (deflated 5%)\n",
            "  adding: content/images/faces_people_wo_bg/Sam_Jaeger_0_wo_bg.jpg (deflated 5%)\n",
            "  adding: content/images/faces_people_wo_bg/Gaspard_Ulliel_0_wo_bg.jpg (deflated 3%)\n",
            "  adding: content/images/faces_people_wo_bg/Lindsey_Morgan_0_wo_bg.jpg (deflated 4%)\n",
            "  adding: content/images/faces_people_wo_bg/Donna_Mills_0_wo_bg.jpg (deflated 5%)\n",
            "  adding: content/images/faces_people_wo_bg/Jon_Bernthal_0_wo_bg.jpg (deflated 5%)\n",
            "  adding: content/images/faces_people_wo_bg/Bojana_Novakovic_0_wo_bg.jpg (deflated 4%)\n",
            "  adding: content/images/faces_people_wo_bg/Alicja_Bachleda_0_wo_bg.jpg (deflated 4%)\n",
            "  adding: content/images/faces_people_wo_bg/Janice_Dickinson_0_wo_bg.jpg (deflated 5%)\n",
            "  adding: content/images/faces_people_wo_bg/David_Cassidy_0_wo_bg.jpg (deflated 4%)\n",
            "  adding: content/images/faces_people_wo_bg/Ophelia_Lovibond_0_wo_bg.jpg (deflated 5%)\n",
            "  adding: content/images/faces_people_wo_bg/Ron_Perlman_0_wo_bg.jpg (deflated 5%)\n",
            "  adding: content/images/faces_people_wo_bg/Kari_Matchett_0_wo_bg.jpg (deflated 4%)\n",
            "  adding: content/images/faces_people_wo_bg/Merritt_Wever_0_wo_bg.jpg (deflated 4%)\n",
            "  adding: content/images/faces_people_wo_bg/Natalie_Wood_0_wo_bg.jpg (deflated 3%)\n",
            "  adding: content/images/faces_people_wo_bg/Iain_Glen_0_wo_bg.jpg (deflated 4%)\n",
            "  adding: content/images/faces_people_wo_bg/Sally_Hawkins_0_wo_bg.jpg (deflated 5%)\n",
            "  adding: content/images/faces_people_wo_bg/Jeremy_Shada_0_wo_bg.jpg (deflated 4%)\n",
            "  adding: content/images/faces_people_wo_bg/Julie_Walters_0_wo_bg.jpg (deflated 4%)\n",
            "  adding: content/images/faces_people_wo_bg/Charlyne_Yi_0_wo_bg.jpg (deflated 4%)\n",
            "  adding: content/images/faces_people_wo_bg/Marie_Osmond_0_wo_bg.jpg (deflated 4%)\n",
            "  adding: content/images/faces_people_wo_bg/Sophie_Winkleman_0_wo_bg.jpg (deflated 4%)\n",
            "  adding: content/images/faces_people_wo_bg/Kelly_LeBrock_0_wo_bg.jpg (deflated 4%)\n",
            "  adding: content/images/faces_people_wo_bg/Victoria_Justice_0_wo_bg.jpg (deflated 5%)\n",
            "  adding: content/images/faces_people_wo_bg/Betty_White_0_wo_bg.jpg (deflated 4%)\n",
            "  adding: content/images/faces_people_wo_bg/Patrick_Fugit_0_wo_bg.jpg (deflated 5%)\n",
            "  adding: content/images/faces_people_wo_bg/Rumer_Willis_0_wo_bg.jpg (deflated 5%)\n",
            "  adding: content/images/faces_people_wo_bg/Steven_Anthony_Lawrence_0_wo_bg.jpg (deflated 5%)\n",
            "  adding: content/images/faces_people_wo_bg/Satya_Nadella_0_wo_bg.jpg (deflated 4%)\n",
            "  adding: content/images/faces_people_wo_bg/Steven_Soderbergh_0_wo_bg.jpg (deflated 4%)\n",
            "  adding: content/images/faces_people_wo_bg/Brendan_Gleeson_0_wo_bg.jpg (deflated 4%)\n",
            "  adding: content/images/faces_people_wo_bg/Naomie_Harris_0_wo_bg.jpg (deflated 4%)\n",
            "  adding: content/images/faces_people_wo_bg/Mathilda_May_0_wo_bg.jpg (deflated 4%)\n",
            "  adding: content/images/faces_people_wo_bg/Marley_Shelton_0_wo_bg.jpg (deflated 5%)\n",
            "  adding: content/images/faces_people_wo_bg/Richard_Schiff_0_wo_bg.jpg (deflated 4%)\n",
            "  adding: content/images/faces_people_wo_bg/Andrew_Buchan_0_wo_bg.jpg (deflated 4%)\n",
            "  adding: content/images/faces_people_wo_bg/Elle_Macpherson_0_wo_bg.jpg (deflated 5%)\n",
            "  adding: content/images/faces_people_wo_bg/Gary_Valentine_0_wo_bg.jpg (deflated 4%)\n",
            "  adding: content/images/faces_people_wo_bg/Patrick_Troughton_0_wo_bg.jpg (deflated 3%)\n",
            "  adding: content/images/faces_people_wo_bg/Titus_Welliver_0_wo_bg.jpg (deflated 4%)\n",
            "  adding: content/images/faces_people_wo_bg/Fiona_Gubelmann_0_wo_bg.jpg (deflated 4%)\n",
            "  adding: content/images/faces_people_wo_bg/Rob_Pinkston_0_wo_bg.jpg (deflated 4%)\n",
            "  adding: content/images/faces_people_wo_bg/Janina_Gavankar_0_wo_bg.jpg (deflated 5%)\n",
            "  adding: content/images/faces_people_wo_bg/Jemaine_Clement_0_wo_bg.jpg (deflated 4%)\n",
            "  adding: content/images/faces_people_wo_bg/Toni_Trucks_0_wo_bg.jpg (deflated 4%)\n",
            "  adding: content/images/faces_people_wo_bg/Stephen_Colbert_0_wo_bg.jpg (deflated 4%)\n",
            "  adding: content/images/faces_people_wo_bg/Rebecca_Da_Costa_0_wo_bg.jpg (deflated 4%)\n",
            "  adding: content/images/faces_people_wo_bg/Jamie_Brewer_0_wo_bg.jpg (deflated 4%)\n",
            "  adding: content/images/faces_people_wo_bg/Lauren_Bowles_0_wo_bg.jpg (deflated 5%)\n",
            "  adding: content/images/faces_people_wo_bg/Natalie_Zea_0_wo_bg.jpg (deflated 4%)\n",
            "  adding: content/images/faces_people_wo_bg/Katherine_LaNasa_0_wo_bg.jpg (deflated 5%)\n",
            "  adding: content/images/faces_people_wo_bg/Oliver_Platt_0_wo_bg.jpg (deflated 5%)\n",
            "  adding: content/images/faces_people_wo_bg/Maria_de_Medeiros_0_wo_bg.jpg (deflated 4%)\n",
            "  adding: content/images/faces_people_wo_bg/Tye_Sheridan_0_wo_bg.jpg (deflated 4%)\n",
            "  adding: content/images/faces_people_wo_bg/Wallace_Shawn_0_wo_bg.jpg (deflated 3%)\n",
            "  adding: content/images/faces_people_wo_bg/Rockmond_Dunbar_0_wo_bg.jpg (deflated 4%)\n",
            "  adding: content/images/faces_people_wo_bg/Jon_Favreau_0_wo_bg.jpg (deflated 5%)\n",
            "  adding: content/images/faces_people_wo_bg/Olivia_Thirlby_0_wo_bg.jpg (deflated 5%)\n",
            "  adding: content/images/faces_people_wo_bg/Anthony_Anderson_0_wo_bg.jpg (deflated 4%)\n",
            "  adding: content/images/faces_people_wo_bg/Antonio_Cupo_0_wo_bg.jpg (deflated 4%)\n",
            "  adding: content/images/faces_people_wo_bg/Emma_Bunton_0_wo_bg.jpg (deflated 5%)\n",
            "  adding: content/images/faces_people_wo_bg/Jill_Wagner_0_wo_bg.jpg (deflated 5%)\n",
            "  adding: content/images/faces_people_wo_bg/Rose_McIver_0_wo_bg.jpg (deflated 5%)\n",
            "  adding: content/images/faces_people_wo_bg/Sara_Jean_Underwood_0_wo_bg.jpg (deflated 4%)\n",
            "  adding: content/images/faces_people_wo_bg/Mary_Elizabeth_Winstead_0_wo_bg.jpg (deflated 4%)\n",
            "  adding: content/images/faces_people_wo_bg/Ellen_Burstyn_0_wo_bg.jpg (deflated 4%)\n",
            "  adding: content/images/faces_people_wo_bg/Joe_Lo_Truglio_0_wo_bg.jpg (deflated 5%)\n",
            "  adding: content/images/faces_people_wo_bg/Candice_Swanepoel_0_wo_bg.jpg (deflated 5%)\n",
            "  adding: content/images/faces_people_wo_bg/Aida_Turturro_0_wo_bg.jpg (deflated 4%)\n",
            "  adding: content/images/faces_people_wo_bg/Neal_McDonough_0_wo_bg.jpg (deflated 4%)\n",
            "  adding: content/images/faces_people_wo_bg/Lesley-Anne_Down_0_wo_bg.jpg (deflated 4%)\n",
            "  adding: content/images/faces_people_wo_bg/Eva_Longoria_0_wo_bg.jpg (deflated 4%)\n",
            "  adding: content/images/faces_people_wo_bg/JJ_Feild_0_wo_bg.jpg (deflated 4%)\n",
            "  adding: content/images/faces_people_wo_bg/Dave_Bautista_0_wo_bg.jpg (deflated 4%)\n",
            "  adding: content/images/faces_people_wo_bg/Daniella_Monet_0_wo_bg.jpg (deflated 5%)\n",
            "  adding: content/images/faces_people_wo_bg/Jacinda_Barrett_0_wo_bg.jpg (deflated 4%)\n",
            "  adding: content/images/faces_people_wo_bg/John_Rhys-Davies_0_wo_bg.jpg (deflated 4%)\n",
            "  adding: content/images/faces_people_wo_bg/John_Savage_0_wo_bg.jpg (deflated 4%)\n",
            "  adding: content/images/faces_people_wo_bg/Tawny_Cypress_0_wo_bg.jpg (deflated 4%)\n",
            "  adding: content/images/faces_people_wo_bg/John_Gallagher_Jr_0_wo_bg.jpg (deflated 4%)\n",
            "  adding: content/images/faces_people_wo_bg/Shelley_Winters_0_wo_bg.jpg (deflated 4%)\n",
            "  adding: content/images/faces_people_wo_bg/Joey_McIntyre_0_wo_bg.jpg (deflated 4%)\n",
            "  adding: content/images/faces_people_wo_bg/Mark_Valley_0_wo_bg.jpg (deflated 4%)\n",
            "  adding: content/images/faces_people_wo_bg/Jenifer_Lewis_0_wo_bg.jpg (deflated 4%)\n",
            "  adding: content/images/faces_people_wo_bg/Clive_Owen_0_wo_bg.jpg (deflated 4%)\n",
            "  adding: content/images/faces_people_wo_bg/Azita_Ghanizada_0_wo_bg.jpg (deflated 4%)\n",
            "  adding: content/images/faces_people_wo_bg/Daniel_Feuerriegel_0_wo_bg.jpg (deflated 4%)\n",
            "  adding: content/images/faces_people_wo_bg/Abigail_Spencer_0_wo_bg.jpg (deflated 6%)\n",
            "  adding: content/images/faces_people_wo_bg/Michele_Lee_0_wo_bg.jpg (deflated 4%)\n",
            "  adding: content/images/faces_people_wo_bg/Jennifer_Stone_0_wo_bg.jpg (deflated 4%)\n",
            "  adding: content/images/faces_people_wo_bg/Stormy_Daniels_0_wo_bg.jpg (deflated 4%)\n",
            "  adding: content/images/faces_people_wo_bg/Jane_Badler_0_wo_bg.jpg (deflated 4%)\n",
            "  adding: content/images/faces_people_wo_bg/Bobby_Cannavale_0_wo_bg.jpg (deflated 5%)\n",
            "  adding: content/images/faces_people_wo_bg/Zac_Efron_0_wo_bg.jpg (deflated 4%)\n",
            "  adding: content/images/faces_people_wo_bg/Telma_Hopkins_0_wo_bg.jpg (deflated 4%)\n",
            "  adding: content/images/faces_people_wo_bg/Linda_Fiorentino_0_wo_bg.jpg (deflated 4%)\n",
            "  adding: content/images/faces_people_wo_bg/Jenna_Haze_0_wo_bg.jpg (deflated 4%)\n",
            "  adding: content/images/faces_people_wo_bg/Gage_Golightly_0_wo_bg.jpg (deflated 6%)\n",
            "  adding: content/images/faces_people_wo_bg/Hutch_Dano_0_wo_bg.jpg (deflated 4%)\n",
            "  adding: content/images/faces_people_wo_bg/Lucille_Ball_0_wo_bg.jpg (deflated 4%)\n",
            "  adding: content/images/faces_people_wo_bg/Kellie_Martin_0_wo_bg.jpg (deflated 5%)\n",
            "  adding: content/images/faces_people_wo_bg/Joyce_Giraud_0_wo_bg.jpg (deflated 4%)\n",
            "  adding: content/images/faces_people_wo_bg/Mario_Casas_0_wo_bg.jpg (deflated 4%)\n",
            "  adding: content/images/faces_people_wo_bg/Sarah_Jane_Morris_0_wo_bg.jpg (deflated 5%)\n",
            "  adding: content/images/faces_people_wo_bg/Penn_Jillette_0_wo_bg.jpg (deflated 4%)\n",
            "  adding: content/images/faces_people_wo_bg/Erik_Estrada_0_wo_bg.jpg (deflated 3%)\n",
            "  adding: content/images/faces_people_wo_bg/Danny_Masterson_0_wo_bg.jpg (deflated 4%)\n",
            "  adding: content/images/faces_people_wo_bg/Adrienne_Barbeau_0_wo_bg.jpg (deflated 4%)\n",
            "  adding: content/images/faces_people_wo_bg/Ashley_Jensen_0_wo_bg.jpg (deflated 5%)\n",
            "  adding: content/images/faces_people_wo_bg/Heather_Matarazzo_0_wo_bg.jpg (deflated 5%)\n",
            "  adding: content/images/faces_people_wo_bg/Tavi_Gevinson_0_wo_bg.jpg (deflated 4%)\n",
            "  adding: content/images/faces_people_wo_bg/Alan_Ladd_0_wo_bg.jpg (deflated 4%)\n",
            "  adding: content/images/faces_people_wo_bg/Grace_Lee_Whitney_0_wo_bg.jpg (deflated 4%)\n",
            "  adding: content/images/faces_people_wo_bg/Andy_Milonakis_0_wo_bg.jpg (deflated 5%)\n",
            "  adding: content/images/faces_people_wo_bg/Ashley_Madekwe_0_wo_bg.jpg (deflated 4%)\n",
            "  adding: content/images/faces_people_wo_bg/David_Niven_0_wo_bg.jpg (deflated 5%)\n",
            "  adding: content/images/faces_people_wo_bg/Johnathon_Schaech_0_wo_bg.jpg (deflated 4%)\n",
            "  adding: content/images/faces_people_wo_bg/Susan_Lucci_0_wo_bg.jpg (deflated 6%)\n",
            "  adding: content/images/faces_people_wo_bg/Jordana_Spiro_0_wo_bg.jpg (deflated 4%)\n",
            "  adding: content/images/faces_people_wo_bg/Teala_Dunn_0_wo_bg.jpg (deflated 4%)\n",
            "  adding: content/images/faces_people_wo_bg/Valerie_Bertinelli_0_wo_bg.jpg (deflated 4%)\n",
            "  adding: content/images/faces_people_wo_bg/Ziyi_Zhang_0_wo_bg.jpg (deflated 4%)\n",
            "  adding: content/images/faces_people_wo_bg/Dominic_Cooper_0_wo_bg.jpg (deflated 4%)\n",
            "  adding: content/images/faces_people_wo_bg/Inbar_Lavi_0_wo_bg.jpg (deflated 4%)\n",
            "  adding: content/images/faces_people_wo_bg/Paul_McGann_0_wo_bg.jpg (deflated 4%)\n",
            "  adding: content/images/faces_people_wo_bg/Yvette_Nicole_Brown_0_wo_bg.jpg (deflated 4%)\n",
            "  adding: content/images/faces_people_wo_bg/Morena_Baccarin_0_wo_bg.jpg (deflated 5%)\n",
            "  adding: content/images/faces_people_wo_bg/Vincent_Pastore_0_wo_bg.jpg (deflated 5%)\n",
            "  adding: content/images/faces_people_wo_bg/Andy_Murray_0_wo_bg.jpg (deflated 4%)\n",
            "  adding: content/images/faces_people_wo_bg/Jeffrey_Wright_0_wo_bg.jpg (deflated 4%)\n",
            "  adding: content/images/faces_people_wo_bg/Hector_Elizondo_0_wo_bg.jpg (deflated 5%)\n",
            "  adding: content/images/faces_people_wo_bg/Alex_Trebek_0_wo_bg.jpg (deflated 4%)\n",
            "  adding: content/images/faces_people_wo_bg/Rade_Serbedzija_0_wo_bg.jpg (deflated 5%)\n",
            "  adding: content/images/faces_people_wo_bg/Katheryn_Winnick_0_wo_bg.jpg (deflated 5%)\n",
            "  adding: content/images/faces_people_wo_bg/Daren_Kagasoff_0_wo_bg.jpg (deflated 4%)\n",
            "  adding: content/images/faces_people_wo_bg/Clara_Bow_0_wo_bg.jpg (deflated 5%)\n",
            "  adding: content/images/faces_people_wo_bg/Dean_Cain_0_wo_bg.jpg (deflated 4%)\n",
            "  adding: content/images/faces_people_wo_bg/Chazz_Palminteri_0_wo_bg.jpg (deflated 4%)\n",
            "  adding: content/images/faces_people_wo_bg/Teddy_Sears_0_wo_bg.jpg (deflated 4%)\n",
            "  adding: content/images/faces_people_wo_bg/Yanina_Studilina_0_wo_bg.jpg (deflated 4%)\n",
            "  adding: content/images/faces_people_wo_bg/Liane_Balaban_0_wo_bg.jpg (deflated 4%)\n",
            "  adding: content/images/faces_people_wo_bg/Marc_Forster_0_wo_bg.jpg (deflated 4%)\n",
            "  adding: content/images/faces_people_wo_bg/Charice_0_wo_bg.jpg (deflated 4%)\n",
            "  adding: content/images/faces_people_wo_bg/Peter_Gallagher_0_wo_bg.jpg (deflated 4%)\n",
            "  adding: content/images/faces_people_wo_bg/Jami_Gertz_0_wo_bg.jpg (deflated 5%)\n",
            "  adding: content/images/faces_people_wo_bg/Danielle_Panabaker_0_wo_bg.jpg (deflated 5%)\n",
            "  adding: content/images/faces_people_wo_bg/Sandra_Taylor_0_wo_bg.jpg (deflated 4%)\n",
            "  adding: content/images/faces_people_wo_bg/John_Stamos_0_wo_bg.jpg (deflated 5%)\n",
            "  adding: content/images/faces_people_wo_bg/Michael_Eklund_0_wo_bg.jpg (deflated 4%)\n",
            "  adding: content/images/faces_people_wo_bg/Kenan_Thompson_0_wo_bg.jpg (deflated 4%)\n",
            "  adding: content/images/faces_people_wo_bg/Tony_Curran_0_wo_bg.jpg (deflated 4%)\n",
            "  adding: content/images/faces_people_wo_bg/Sam_Raimi_0_wo_bg.jpg (deflated 4%)\n",
            "  adding: content/images/faces_people_wo_bg/Bonnie_Wright_0_wo_bg.jpg (deflated 4%)\n",
            "  adding: content/images/faces_people_wo_bg/Patrick_Macnee_0_wo_bg.jpg (deflated 5%)\n",
            "  adding: content/images/faces_people_wo_bg/Yvonne_De_Carlo_0_wo_bg.jpg (deflated 4%)\n",
            "  adding: content/images/faces_people_wo_bg/Tiffany_Hines_0_wo_bg.jpg (deflated 5%)\n",
            "  adding: content/images/faces_people_wo_bg/Mika_Boorem_0_wo_bg.jpg (deflated 3%)\n",
            "  adding: content/images/faces_people_wo_bg/Kris_Jenner_0_wo_bg.jpg (deflated 4%)\n",
            "  adding: content/images/faces_people_wo_bg/MyAnna_Buring_0_wo_bg.jpg (deflated 4%)\n",
            "  adding: content/images/faces_people_wo_bg/Chris_Hemsworth_0_wo_bg.jpg (deflated 4%)\n",
            "  adding: content/images/faces_people_wo_bg/Jessie_J_0_wo_bg.jpg (deflated 4%)\n",
            "  adding: content/images/faces_people_wo_bg/Jesse_Williams_0_wo_bg.jpg (deflated 4%)\n",
            "  adding: content/images/faces_people_wo_bg/Miley_Cyrus_0_wo_bg.jpg (deflated 4%)\n",
            "  adding: content/images/faces_people_wo_bg/Jerome_Flynn_0_wo_bg.jpg (deflated 4%)\n",
            "  adding: content/images/faces_people_wo_bg/Tatiana_Maslany_0_wo_bg.jpg (deflated 4%)\n",
            "  adding: content/images/faces_people_wo_bg/Michael_Kelly_0_wo_bg.jpg (deflated 4%)\n",
            "  adding: content/images/faces_people_wo_bg/Laura_Marano_0_wo_bg.jpg (deflated 5%)\n",
            "  adding: content/images/faces_people_wo_bg/Dominic_Keating_0_wo_bg.jpg (deflated 4%)\n",
            "  adding: content/images/faces_people_wo_bg/Marisa_Miller_0_wo_bg.jpg (deflated 4%)\n",
            "  adding: content/images/faces_people_wo_bg/Jeanne_Tripplehorn_0_wo_bg.jpg (deflated 5%)\n",
            "  adding: content/images/faces_people_wo_bg/Ryan_Lee_0_wo_bg.jpg (deflated 4%)\n",
            "  adding: content/images/faces_people_wo_bg/Sasha_Pieterse_0_wo_bg.jpg (deflated 5%)\n",
            "  adding: content/images/faces_people_wo_bg/Nicky_Hilton_0_wo_bg.jpg (deflated 4%)\n",
            "  adding: content/images/faces_people_wo_bg/Ashley_Hinshaw_0_wo_bg.jpg (deflated 5%)\n",
            "  adding: content/images/faces_people_wo_bg/Sam_Waterston_0_wo_bg.jpg (deflated 5%)\n",
            "  adding: content/images/faces_people_wo_bg/John_Krasinski_0_wo_bg.jpg (deflated 4%)\n",
            "  adding: content/images/faces_people_wo_bg/Thomas_Kretschmann_0_wo_bg.jpg (deflated 4%)\n",
            "  adding: content/images/faces_people_wo_bg/Chelsea_Handler_0_wo_bg.jpg (deflated 4%)\n",
            "  adding: content/images/faces_people_wo_bg/Chris_Bauer_0_wo_bg.jpg (deflated 5%)\n",
            "  adding: content/images/faces_people_wo_bg/Matt_Czuchry_0_wo_bg.jpg (deflated 3%)\n",
            "  adding: content/images/faces_people_wo_bg/Robert_Buckley_0_wo_bg.jpg (deflated 4%)\n",
            "  adding: content/images/faces_people_wo_bg/Michelle_Williams_0_wo_bg.jpg (deflated 4%)\n",
            "  adding: content/images/faces_people_wo_bg/Dawn_Olivieri_0_wo_bg.jpg (deflated 6%)\n",
            "  adding: content/images/faces_people_wo_bg/Michael_Fassbender_0_wo_bg.jpg (deflated 4%)\n",
            "  adding: content/images/faces_people_wo_bg/Eric_Schweig_0_wo_bg.jpg (deflated 4%)\n",
            "  adding: content/images/faces_people_wo_bg/Tamer_Hassan_0_wo_bg.jpg (deflated 4%)\n",
            "  adding: content/images/faces_people_wo_bg/Rafael_Amaya_0_wo_bg.jpg (deflated 3%)\n",
            "  adding: content/images/faces_people_wo_bg/Jonathan_Keltz_0_wo_bg.jpg (deflated 4%)\n",
            "  adding: content/images/faces_people_wo_bg/Emily_Atack_0_wo_bg.jpg (deflated 6%)\n",
            "  adding: content/images/faces_people_wo_bg/Paddy_Considine_0_wo_bg.jpg (deflated 4%)\n",
            "  adding: content/images/faces_people_wo_bg/Peter_Krause_0_wo_bg.jpg (deflated 5%)\n",
            "  adding: content/images/faces_people_wo_bg/Andrew_Keegan_0_wo_bg.jpg (deflated 4%)\n",
            "  adding: content/images/faces_people_wo_bg/Thandie_Newton_0_wo_bg.jpg (deflated 5%)\n",
            "  adding: content/images/faces_people_wo_bg/Frances_McDormand_0_wo_bg.jpg (deflated 4%)\n",
            "  adding: content/images/faces_people_wo_bg/Michelle_Stafford_0_wo_bg.jpg (deflated 5%)\n",
            "  adding: content/images/faces_people_wo_bg/Max_Carver_0_wo_bg.jpg (deflated 3%)\n",
            "  adding: content/images/faces_people_wo_bg/Jillian_Harris_0_wo_bg.jpg (deflated 4%)\n",
            "  adding: content/images/faces_people_wo_bg/Laverne_Cox_0_wo_bg.jpg (deflated 5%)\n",
            "  adding: content/images/faces_people_wo_bg/Mathieu_Kassovitz_0_wo_bg.jpg (deflated 4%)\n",
            "  adding: content/images/faces_people_wo_bg/Muttiah_Muralitharan_0_wo_bg.jpg (deflated 4%)\n",
            "  adding: content/images/faces_people_wo_bg/Aaron_Staton_0_wo_bg.jpg (deflated 4%)\n",
            "  adding: content/images/faces_people_wo_bg/Natassia_Malthe_0_wo_bg.jpg (deflated 5%)\n",
            "  adding: content/images/faces_people_wo_bg/Jesse_Bradford_0_wo_bg.jpg (deflated 4%)\n",
            "  adding: content/images/faces_people_wo_bg/Nora_Zehetner_0_wo_bg.jpg (deflated 4%)\n",
            "  adding: content/images/faces_people_wo_bg/Virginie_Ledoyen_0_wo_bg.jpg (deflated 5%)\n",
            "  adding: content/images/faces_people_wo_bg/Ted_Danson_0_wo_bg.jpg (deflated 4%)\n",
            "  adding: content/images/faces_people_wo_bg/Fred_Armisen_0_wo_bg.jpg (deflated 5%)\n",
            "  adding: content/images/faces_people_wo_bg/Diane_Kruger_0_wo_bg.jpg (deflated 5%)\n",
            "  adding: content/images/faces_people_wo_bg/Brenda_Blethyn_0_wo_bg.jpg (deflated 5%)\n",
            "  adding: content/images/faces_people_wo_bg/Justine_Bateman_0_wo_bg.jpg (deflated 3%)\n",
            "  adding: content/images/faces_people_wo_bg/Kelli_Williams_0_wo_bg.jpg (deflated 4%)\n",
            "  adding: content/images/faces_people_wo_bg/Sherri_Saum_0_wo_bg.jpg (deflated 4%)\n",
            "  adding: content/images/faces_people_wo_bg/Sarah_Roemer_0_wo_bg.jpg (deflated 5%)\n",
            "  adding: content/images/faces_people_wo_bg/Kelly_Preston_0_wo_bg.jpg (deflated 5%)\n",
            "  adding: content/images/faces_people_wo_bg/Pope_Benedict_XVI_0_wo_bg.jpg (deflated 4%)\n",
            "  adding: content/images/faces_people_wo_bg/Douglas_Smith_0_wo_bg.jpg (deflated 4%)\n",
            "  adding: content/images/faces_people_wo_bg/Olesya_Rulin_0_wo_bg.jpg (deflated 5%)\n",
            "  adding: content/images/faces_people_wo_bg/Danny_Pino_0_wo_bg.jpg (deflated 4%)\n",
            "  adding: content/images/faces_people_wo_bg/Gina_Carano_0_wo_bg.jpg (deflated 4%)\n",
            "  adding: content/images/faces_people_wo_bg/Taryn_Southern_0_wo_bg.jpg (deflated 4%)\n",
            "  adding: content/images/faces_people_wo_bg/Chris_Riggi_0_wo_bg.jpg (deflated 4%)\n",
            "  adding: content/images/faces_people_wo_bg/Chi_McBride_0_wo_bg.jpg (deflated 4%)\n",
            "  adding: content/images/faces_people_wo_bg/Yifei_Liu_0_wo_bg.jpg (deflated 4%)\n",
            "  adding: content/images/faces_people_wo_bg/Rebecca_Budig_0_wo_bg.jpg (deflated 4%)\n",
            "  adding: content/images/faces_people_wo_bg/Billie_Joe_Armstrong_0_wo_bg.jpg (deflated 4%)\n",
            "  adding: content/images/faces_people_wo_bg/Adam_Lambert_0_wo_bg.jpg (deflated 4%)\n",
            "  adding: content/images/faces_people_wo_bg/Sterling_Knight_0_wo_bg.jpg (deflated 6%)\n",
            "  adding: content/images/faces_people_wo_bg/Sarah_Carter_0_wo_bg.jpg (deflated 5%)\n",
            "  adding: content/images/faces_people_wo_bg/Freema_Agyeman_0_wo_bg.jpg (deflated 4%)\n",
            "  adding: content/images/faces_people_wo_bg/Don_Rickles_0_wo_bg.jpg (deflated 3%)\n",
            "  adding: content/images/faces_people_wo_bg/Dirk_Bogarde_0_wo_bg.jpg (deflated 4%)\n",
            "  adding: content/images/faces_people_wo_bg/Pierre_Niney_0_wo_bg.jpg (deflated 4%)\n",
            "  adding: content/images/faces_people_wo_bg/Dina_Merrill_0_wo_bg.jpg (deflated 5%)\n",
            "  adding: content/images/faces_people_wo_bg/Candace_Cameron_Bure_0_wo_bg.jpg (deflated 5%)\n",
            "  adding: content/images/faces_people_wo_bg/Keegan_Allen_0_wo_bg.jpg (deflated 4%)\n",
            "  adding: content/images/faces_people_wo_bg/Paulo_Costanzo_0_wo_bg.jpg (deflated 3%)\n",
            "  adding: content/images/faces_people_wo_bg/Megan_Fox_0_wo_bg.jpg (deflated 4%)\n",
            "  adding: content/images/faces_people_wo_bg/David_Morrissey_0_wo_bg.jpg (deflated 4%)\n",
            "  adding: content/images/faces_people_wo_bg/June_Squibb_0_wo_bg.jpg (deflated 4%)\n",
            "  adding: content/images/faces_people_wo_bg/Catherine_Hardwicke_0_wo_bg.jpg (deflated 5%)\n",
            "  adding: content/images/faces_people_wo_bg/Geena_Davis_0_wo_bg.jpg (deflated 4%)\n",
            "  adding: content/images/faces_people_wo_bg/Ben_Daniels_0_wo_bg.jpg (deflated 3%)\n",
            "  adding: content/images/faces_people_wo_bg/Emma_Rigby_0_wo_bg.jpg (deflated 4%)\n",
            "  adding: content/images/faces_people_wo_bg/Shiloh_Fernandez_0_wo_bg.jpg (deflated 4%)\n",
            "  adding: content/images/faces_people_wo_bg/Humphrey_Bogart_0_wo_bg.jpg (deflated 4%)\n",
            "  adding: content/images/faces_people_wo_bg/Adelaide_Clemens_0_wo_bg.jpg (deflated 4%)\n",
            "  adding: content/images/faces_people_wo_bg/Loan_Chabanol_0_wo_bg.jpg (deflated 5%)\n",
            "  adding: content/images/faces_people_wo_bg/Michelle_Hurd_0_wo_bg.jpg (deflated 4%)\n",
            "  adding: content/images/faces_people_wo_bg/Hiroyuki_Sanada_0_wo_bg.jpg (deflated 5%)\n",
            "  adding: content/images/faces_people_wo_bg/Katherine_Moennig_0_wo_bg.jpg (deflated 4%)\n",
            "  adding: content/images/faces_people_wo_bg/Kim_Zolciak-Biermann_0_wo_bg.jpg (deflated 4%)\n",
            "  adding: content/images/faces_people_wo_bg/Mary_Jo_Deschanel_0_wo_bg.jpg (deflated 4%)\n",
            "  adding: content/images/faces_people_wo_bg/Ava_Allan_0_wo_bg.jpg (deflated 41%)\n",
            "  adding: content/images/faces_people_wo_bg/Shiri_Appleby_0_wo_bg.jpg (deflated 4%)\n",
            "  adding: content/images/faces_people_wo_bg/Milo_Ventimiglia_0_wo_bg.jpg (deflated 4%)\n",
            "  adding: content/images/faces_people_wo_bg/Carey_Mulligan_0_wo_bg.jpg (deflated 4%)\n",
            "  adding: content/images/faces_people_wo_bg/Kelly_Macdonald_0_wo_bg.jpg (deflated 5%)\n",
            "  adding: content/images/faces_people_wo_bg/Karolina_Wydra_0_wo_bg.jpg (deflated 4%)\n",
            "  adding: content/images/faces_people_wo_bg/Harry_Shum_Jr_0_wo_bg.jpg (deflated 3%)\n",
            "  adding: content/images/faces_people_wo_bg/Kara_Hayward_0_wo_bg.jpg (deflated 5%)\n",
            "  adding: content/images/faces_people_wo_bg/Hayley_Marie_Norman_0_wo_bg.jpg (deflated 4%)\n",
            "  adding: content/images/faces_people_wo_bg/John_Noble_0_wo_bg.jpg (deflated 4%)\n",
            "  adding: content/images/faces_people_wo_bg/Emily_Head_0_wo_bg.jpg (deflated 5%)\n",
            "  adding: content/images/faces_people_wo_bg/Jessica_Marais_0_wo_bg.jpg (deflated 5%)\n",
            "  adding: content/images/faces_people_wo_bg/Marisol_Nichols_0_wo_bg.jpg (deflated 5%)\n",
            "  adding: content/images/faces_people_wo_bg/Garcelle_Beauvais_0_wo_bg.jpg (deflated 4%)\n",
            "  adding: content/images/faces_people_wo_bg/Mehcad_Brooks_0_wo_bg.jpg (deflated 4%)\n",
            "  adding: content/images/faces_people_wo_bg/Andrew_Marr_0_wo_bg.jpg (deflated 4%)\n",
            "  adding: content/images/faces_people_wo_bg/Daniela_Ruah_0_wo_bg.jpg (deflated 4%)\n",
            "  adding: content/images/faces_people_wo_bg/Sarah_Ramos_0_wo_bg.jpg (deflated 4%)\n",
            "  adding: content/images/faces_people_wo_bg/A_0_wo_bg.jpg (deflated 4%)\n",
            "  adding: content/images/faces_people_wo_bg/David_Lyons_0_wo_bg.jpg (deflated 3%)\n",
            "  adding: content/images/faces_people_wo_bg/Riley_Smith_0_wo_bg.jpg (deflated 4%)\n",
            "  adding: content/images/faces_people_wo_bg/Julianne_Nicholson_0_wo_bg.jpg (deflated 5%)\n",
            "  adding: content/images/faces_people_wo_bg/David_Wenham_0_wo_bg.jpg (deflated 4%)\n",
            "  adding: content/images/faces_people_wo_bg/Stepfanie_Kramer_0_wo_bg.jpg (deflated 5%)\n",
            "  adding: content/images/faces_people_wo_bg/Jeffrey_Dean_Morgan_0_wo_bg.jpg (deflated 4%)\n",
            "  adding: content/images/faces_people_wo_bg/Kevin_Smith_0_wo_bg.jpg (deflated 4%)\n",
            "  adding: content/images/faces_people_wo_bg/Ariane_Moffatt_0_wo_bg.jpg (deflated 4%)\n",
            "  adding: content/images/faces_people_wo_bg/Johnny_Knoxville_0_wo_bg.jpg (deflated 4%)\n",
            "  adding: content/images/faces_people_wo_bg/Eleanor_Tomlinson_0_wo_bg.jpg (deflated 4%)\n",
            "  adding: content/images/faces_people_wo_bg/Steve_Jobs_0_wo_bg.jpg (deflated 3%)\n",
            "  adding: content/images/faces_people_wo_bg/Ralph_Macchio_0_wo_bg.jpg (deflated 4%)\n",
            "  adding: content/images/faces_people_wo_bg/Dawn_Wells_0_wo_bg.jpg (deflated 4%)\n",
            "  adding: content/images/faces_people_wo_bg/Jean-Paul_Belmondo_0_wo_bg.jpg (deflated 5%)\n",
            "  adding: content/images/faces_people_wo_bg/Reba_McEntire_0_wo_bg.jpg (deflated 5%)\n",
            "  adding: content/images/faces_people_wo_bg/Padma_Lakshmi_0_wo_bg.jpg (deflated 6%)\n",
            "  adding: content/images/faces_people_wo_bg/Zoe_McLellan_0_wo_bg.jpg (deflated 4%)\n",
            "  adding: content/images/faces_people_wo_bg/Natasha_Gregson_Wagner_0_wo_bg.jpg (deflated 4%)\n",
            "  adding: content/images/faces_people_wo_bg/Jacqueline_Emerson_0_wo_bg.jpg (deflated 5%)\n",
            "  adding: content/images/faces_people_wo_bg/Tamara_Feldman_0_wo_bg.jpg (deflated 4%)\n",
            "  adding: content/images/faces_people_wo_bg/Charlene_Amoia_0_wo_bg.jpg (deflated 4%)\n",
            "  adding: content/images/faces_people_wo_bg/Stacy_Keibler_0_wo_bg.jpg (deflated 4%)\n",
            "  adding: content/images/faces_people_wo_bg/Carlos_Ponce_0_wo_bg.jpg (deflated 3%)\n",
            "  adding: content/images/faces_people_wo_bg/Debra_Jo_Rupp_0_wo_bg.jpg (deflated 4%)\n",
            "  adding: content/images/faces_people_wo_bg/Perrey_Reeves_0_wo_bg.jpg (deflated 5%)\n",
            "  adding: content/images/faces_people_wo_bg/Mary_Kay_Place_0_wo_bg.jpg (deflated 6%)\n",
            "  adding: content/images/faces_people_wo_bg/Sendhil_Ramamurthy_0_wo_bg.jpg (deflated 4%)\n",
            "  adding: content/images/faces_people_wo_bg/Jean_Arthur_0_wo_bg.jpg (deflated 4%)\n",
            "  adding: content/images/faces_people_wo_bg/Pablo_Schreiber_0_wo_bg.jpg (deflated 4%)\n",
            "  adding: content/images/faces_people_wo_bg/Freddie_Stroma_0_wo_bg.jpg (deflated 4%)\n",
            "  adding: content/images/faces_people_wo_bg/Paul_Sorvino_0_wo_bg.jpg (deflated 4%)\n",
            "  adding: content/images/faces_people_wo_bg/Bianca_Lawson_0_wo_bg.jpg (deflated 5%)\n",
            "  adding: content/images/faces_people_wo_bg/Kate_Flannery_0_wo_bg.jpg (deflated 4%)\n",
            "  adding: content/images/faces_people_wo_bg/Loni_Anderson_0_wo_bg.jpg (deflated 4%)\n",
            "  adding: content/images/faces_people_wo_bg/Joel_Gretsch_0_wo_bg.jpg (deflated 6%)\n",
            "  adding: content/images/faces_people_wo_bg/Lucas_Till_0_wo_bg.jpg (deflated 4%)\n",
            "  adding: content/images/faces_people_wo_bg/Dennis_Franz_0_wo_bg.jpg (deflated 4%)\n",
            "  adding: content/images/faces_people_wo_bg/Julia_Stiles_0_wo_bg.jpg (deflated 4%)\n",
            "  adding: content/images/faces_people_wo_bg/Julia_Garner_0_wo_bg.jpg (deflated 4%)\n",
            "  adding: content/images/faces_people_wo_bg/Ron_Livingston_0_wo_bg.jpg (deflated 5%)\n",
            "  adding: content/images/faces_people_wo_bg/Robbie_Kay_0_wo_bg.jpg (deflated 4%)\n",
            "  adding: content/images/faces_people_wo_bg/Pernell_Roberts_0_wo_bg.jpg (deflated 4%)\n",
            "  adding: content/images/faces_people_wo_bg/Wendi_McLendon-Covey_0_wo_bg.jpg (deflated 4%)\n",
            "  adding: content/images/faces_people_wo_bg/Megan_Park_0_wo_bg.jpg (deflated 5%)\n",
            "  adding: content/images/faces_people_wo_bg/Peter_Facinelli_0_wo_bg.jpg (deflated 4%)\n",
            "  adding: content/images/faces_people_wo_bg/Jayma_Mays_0_wo_bg.jpg (deflated 5%)\n",
            "  adding: content/images/faces_people_wo_bg/Ezra_Miller_0_wo_bg.jpg (deflated 5%)\n",
            "  adding: content/images/faces_people_wo_bg/Lindsay_Sloane_0_wo_bg.jpg (deflated 4%)\n",
            "  adding: content/images/faces_people_wo_bg/Karla_Souza_0_wo_bg.jpg (deflated 4%)\n",
            "  adding: content/images/faces_people_wo_bg/Jes_Macallan_0_wo_bg.jpg (deflated 4%)\n",
            "  adding: content/images/faces_people_wo_bg/Lauren_Storm_0_wo_bg.jpg (deflated 5%)\n",
            "  adding: content/images/faces_people_wo_bg/Harvey_Keitel_0_wo_bg.jpg (deflated 5%)\n",
            "  adding: content/images/faces_people_wo_bg/Embeth_Davidtz_0_wo_bg.jpg (deflated 3%)\n",
            "  adding: content/images/faces_people_wo_bg/William_Fichtner_0_wo_bg.jpg (deflated 5%)\n",
            "  adding: content/images/faces_people_wo_bg/Thad_Luckinbill_0_wo_bg.jpg (deflated 4%)\n",
            "  adding: content/images/faces_people_wo_bg/Robert_Conrad_0_wo_bg.jpg (deflated 4%)\n",
            "  adding: content/images/faces_people_wo_bg/James_Purefoy_0_wo_bg.jpg (deflated 4%)\n",
            "  adding: content/images/faces_people_wo_bg/John_Cena_0_wo_bg.jpg (deflated 3%)\n",
            "  adding: content/images/faces_people_wo_bg/Christopher_McDonald_0_wo_bg.jpg (deflated 4%)\n",
            "  adding: content/images/faces_people_wo_bg/Jaime_Winstone_0_wo_bg.jpg (deflated 4%)\n",
            "  adding: content/images/faces_people_wo_bg/Diedrich_Bader_0_wo_bg.jpg (deflated 3%)\n",
            "  adding: content/images/faces_people_wo_bg/Dorothy_Dandridge_0_wo_bg.jpg (deflated 4%)\n",
            "  adding: content/images/faces_people_wo_bg/Tinsel_Korey_0_wo_bg.jpg (deflated 4%)\n",
            "  adding: content/images/faces_people_wo_bg/Anil_Kapoor_0_wo_bg.jpg (deflated 5%)\n",
            "  adding: content/images/faces_people_wo_bg/Peter_Jacobson_0_wo_bg.jpg (deflated 4%)\n",
            "  adding: content/images/faces_people_wo_bg/Francesca_Capaldi_0_wo_bg.jpg (deflated 4%)\n",
            "  adding: content/images/faces_people_wo_bg/Martha_Plimpton_0_wo_bg.jpg (deflated 4%)\n",
            "  adding: content/images/faces_people_wo_bg/Anne_Hathaway_0_wo_bg.jpg (deflated 4%)\n",
            "  adding: content/images/faces_people_wo_bg/Traci_Bingham_0_wo_bg.jpg (deflated 5%)\n",
            "  adding: content/images/faces_people_wo_bg/Alan_Rickman_0_wo_bg.jpg (deflated 4%)\n",
            "  adding: content/images/faces_people_wo_bg/Armand_Assante_0_wo_bg.jpg (deflated 4%)\n",
            "  adding: content/images/faces_people_wo_bg/Keeley_Hawes_0_wo_bg.jpg (deflated 4%)\n",
            "  adding: content/images/faces_people_wo_bg/Jessica_Lowndes_0_wo_bg.jpg (deflated 4%)\n",
            "  adding: content/images/faces_people_wo_bg/Laura_Haddock_0_wo_bg.jpg (deflated 6%)\n",
            "  adding: content/images/faces_people_wo_bg/Mario_Lopez_0_wo_bg.jpg (deflated 4%)\n",
            "  adding: content/images/faces_people_wo_bg/JoAnna_Garcia_Swisher_0_wo_bg.jpg (deflated 6%)\n",
            "  adding: content/images/faces_people_wo_bg/Luke_Bilyk_0_wo_bg.jpg (deflated 4%)\n",
            "  adding: content/images/faces_people_wo_bg/Mark_Harmon_0_wo_bg.jpg (deflated 4%)\n",
            "  adding: content/images/faces_people_wo_bg/Olivia_Cooke_0_wo_bg.jpg (deflated 4%)\n",
            "  adding: content/images/faces_people_wo_bg/Theresa_Randle_0_wo_bg.jpg (deflated 3%)\n",
            "  adding: content/images/faces_people_wo_bg/Anna_Wintour_0_wo_bg.jpg (deflated 4%)\n",
            "  adding: content/images/faces_people_wo_bg/Tom_Skerritt_0_wo_bg.jpg (deflated 6%)\n",
            "  adding: content/images/faces_people_wo_bg/Jeffrey_Donovan_0_wo_bg.jpg (deflated 4%)\n",
            "  adding: content/images/faces_people_wo_bg/Silas_Weir_Mitchell_0_wo_bg.jpg (deflated 4%)\n",
            "  adding: content/images/faces_people_wo_bg/Lesley_Nicol_0_wo_bg.jpg (deflated 4%)\n",
            "  adding: content/images/faces_people_wo_bg/Linda_Evans_0_wo_bg.jpg (deflated 4%)\n",
            "  adding: content/images/faces_people_wo_bg/Eric_McCormack_0_wo_bg.jpg (deflated 5%)\n",
            "  adding: content/images/faces_people_wo_bg/Ted_Levine_0_wo_bg.jpg (deflated 4%)\n",
            "  adding: content/images/faces_people_wo_bg/Paul_Dano_0_wo_bg.jpg (deflated 4%)\n",
            "  adding: content/images/faces_people_wo_bg/Kevin_Hart_0_wo_bg.jpg (deflated 4%)\n",
            "  adding: content/images/faces_people_wo_bg/Virginia_Williams_0_wo_bg.jpg (deflated 5%)\n",
            "  adding: content/images/faces_people_wo_bg/Sasha_Barrese_0_wo_bg.jpg (deflated 5%)\n",
            "  adding: content/images/faces_people_wo_bg/Howard_Keel_0_wo_bg.jpg (deflated 3%)\n",
            "  adding: content/images/faces_people_wo_bg/William_Baldwin_0_wo_bg.jpg (deflated 4%)\n",
            "  adding: content/images/faces_people_wo_bg/John_Carroll_Lynch_0_wo_bg.jpg (deflated 4%)\n",
            "  adding: content/images/faces_people_wo_bg/Mark_Ruffalo_0_wo_bg.jpg (deflated 4%)\n",
            "  adding: content/images/faces_people_wo_bg/Chloe_Dykstra_0_wo_bg.jpg (deflated 5%)\n",
            "  adding: content/images/faces_people_wo_bg/Riz_Ahmed_0_wo_bg.jpg (deflated 4%)\n",
            "  adding: content/images/faces_people_wo_bg/Rosie_Huntington-Whiteley_0_wo_bg.jpg (deflated 5%)\n",
            "  adding: content/images/faces_people_wo_bg/Lisa_Kudrow_0_wo_bg.jpg (deflated 5%)\n",
            "  adding: content/images/faces_people_wo_bg/Gloria_Swanson_0_wo_bg.jpg (deflated 4%)\n",
            "  adding: content/images/faces_people_wo_bg/Ben_Chaplin_0_wo_bg.jpg (deflated 4%)\n",
            "  adding: content/images/faces_people_wo_bg/Kim_Richards_0_wo_bg.jpg (deflated 5%)\n",
            "  adding: content/images/faces_people_wo_bg/Jared_Leto_0_wo_bg.jpg (deflated 5%)\n",
            "  adding: content/images/faces_people_wo_bg/Daniel_Stern_0_wo_bg.jpg (deflated 4%)\n",
            "  adding: content/images/faces_people_wo_bg/Dennis_Haysbert_0_wo_bg.jpg (deflated 4%)\n",
            "  adding: content/images/faces_people_wo_bg/Kay_Panabaker_0_wo_bg.jpg (deflated 4%)\n",
            "  adding: content/images/faces_people_wo_bg/Donna_Murphy_0_wo_bg.jpg (deflated 5%)\n",
            "  adding: content/images/faces_people_wo_bg/Katrina_Bowden_0_wo_bg.jpg (deflated 5%)\n",
            "  adding: content/images/faces_people_wo_bg/John_Hodgman_0_wo_bg.jpg (deflated 4%)\n",
            "  adding: content/images/faces_people_wo_bg/Sarah_Shahi_0_wo_bg.jpg (deflated 4%)\n",
            "  adding: content/images/faces_people_wo_bg/Ollanta_Humala_0_wo_bg.jpg (deflated 4%)\n",
            "  adding: content/images/faces_people_wo_bg/Lucy_Pinder_0_wo_bg.jpg (deflated 4%)\n",
            "  adding: content/images/faces_people_wo_bg/Sam_Huntington_0_wo_bg.jpg (deflated 4%)\n",
            "  adding: content/images/faces_people_wo_bg/Willem_Dafoe_0_wo_bg.jpg (deflated 4%)\n",
            "  adding: content/images/faces_people_wo_bg/Linda_Cardellini_0_wo_bg.jpg (deflated 4%)\n",
            "  adding: content/images/faces_people_wo_bg/Katharine_McPhee_0_wo_bg.jpg (deflated 5%)\n",
            "  adding: content/images/faces_people_wo_bg/Elizabeth_McGovern_0_wo_bg.jpg (deflated 4%)\n",
            "  adding: content/images/faces_people_wo_bg/Shay_Mitchell_0_wo_bg.jpg (deflated 4%)\n",
            "  adding: content/images/faces_people_wo_bg/Stana_Katic_0_wo_bg.jpg (deflated 5%)\n",
            "  adding: content/images/faces_people_wo_bg/Anthony_Mackie_0_wo_bg.jpg (deflated 4%)\n",
            "  adding: content/images/faces_people_wo_bg/Dot-Marie_Jones_0_wo_bg.jpg (deflated 4%)\n",
            "  adding: content/images/faces_people_wo_bg/Nicollette_Sheridan_0_wo_bg.jpg (deflated 5%)\n",
            "  adding: content/images/faces_people_wo_bg/Liana_Liberato_0_wo_bg.jpg (deflated 5%)\n",
            "  adding: content/images/faces_people_wo_bg/Mena_Suvari_0_wo_bg.jpg (deflated 5%)\n",
            "  adding: content/images/faces_people_wo_bg/Helen_Slater_0_wo_bg.jpg (deflated 4%)\n",
            "  adding: content/images/faces_people_wo_bg/Hilary_Swank_0_wo_bg.jpg (deflated 4%)\n",
            "  adding: content/images/faces_people_wo_bg/Alexandra_Daddario_0_wo_bg.jpg (deflated 4%)\n",
            "  adding: content/images/faces_people_wo_bg/Guillaume_Canet_0_wo_bg.jpg (deflated 4%)\n",
            "  adding: content/images/faces_people_wo_bg/Shanola_Hampton_0_wo_bg.jpg (deflated 4%)\n",
            "  adding: content/images/faces_people_wo_bg/Meta_Golding_0_wo_bg.jpg (deflated 5%)\n",
            "  adding: content/images/faces_people_wo_bg/Skai_Jackson_0_wo_bg.jpg (deflated 3%)\n",
            "  adding: content/images/faces_people_wo_bg/Carroll_Baker_0_wo_bg.jpg (deflated 4%)\n",
            "  adding: content/images/faces_people_wo_bg/Kasia_Smutniak_0_wo_bg.jpg (deflated 5%)\n",
            "  adding: content/images/faces_people_wo_bg/Usher_Raymond_0_wo_bg.jpg (deflated 3%)\n",
            "  adding: content/images/faces_people_wo_bg/Candice_Patton_0_wo_bg.jpg (deflated 4%)\n",
            "  adding: content/images/faces_people_wo_bg/Joan_Hickson_0_wo_bg.jpg (deflated 5%)\n",
            "  adding: content/images/faces_people_wo_bg/Nathan_Stewart-Jarrett_0_wo_bg.jpg (deflated 4%)\n",
            "  adding: content/images/faces_people_wo_bg/Matthew_Fox_0_wo_bg.jpg (deflated 5%)\n",
            "  adding: content/images/faces_people_wo_bg/Jenny_Slate_0_wo_bg.jpg (deflated 4%)\n",
            "  adding: content/images/faces_people_wo_bg/Mark_Indelicato_0_wo_bg.jpg (deflated 4%)\n",
            "  adding: content/images/faces_people_wo_bg/Milena_Govich_0_wo_bg.jpg (deflated 5%)\n",
            "  adding: content/images/faces_people_wo_bg/Sabrina_Bryan_0_wo_bg.jpg (deflated 5%)\n",
            "  adding: content/images/faces_people_wo_bg/Lena_Headey_0_wo_bg.jpg (deflated 4%)\n",
            "  adding: content/images/faces_people_wo_bg/Kiele_Sanchez_0_wo_bg.jpg (deflated 4%)\n",
            "  adding: content/images/faces_people_wo_bg/Tichina_Arnold_0_wo_bg.jpg (deflated 4%)\n",
            "  adding: content/images/faces_people_wo_bg/Scott_Disick_0_wo_bg.jpg (deflated 4%)\n",
            "  adding: content/images/faces_people_wo_bg/Heidi_Montag_0_wo_bg.jpg (deflated 5%)\n",
            "  adding: content/images/faces_people_wo_bg/Matt_Bomer_0_wo_bg.jpg (deflated 4%)\n",
            "  adding: content/images/faces_people_wo_bg/Natalia_Tena_0_wo_bg.jpg (deflated 5%)\n",
            "  adding: content/images/faces_people_wo_bg/Asa_Butterfield_0_wo_bg.jpg (deflated 5%)\n",
            "  adding: content/images/faces_people_wo_bg/Meredith_Baxter_0_wo_bg.jpg (deflated 4%)\n",
            "  adding: content/images/faces_people_wo_bg/Drea_de_Matteo_0_wo_bg.jpg (deflated 4%)\n",
            "  adding: content/images/faces_people_wo_bg/Hill_Harper_0_wo_bg.jpg (deflated 4%)\n",
            "  adding: content/images/faces_people_wo_bg/Matt_Letscher_0_wo_bg.jpg (deflated 5%)\n",
            "  adding: content/images/faces_people_wo_bg/Raviv_Ullman_0_wo_bg.jpg (deflated 5%)\n",
            "  adding: content/images/faces_people_wo_bg/Julia_Roberts_0_wo_bg.jpg (deflated 5%)\n",
            "  adding: content/images/faces_people_wo_bg/Robin_Shou_0_wo_bg.jpg (deflated 3%)\n",
            "  adding: content/images/faces_people_wo_bg/Matt_Lanter_0_wo_bg.jpg (deflated 4%)\n",
            "  adding: content/images/faces_people_wo_bg/Dylan_Neal_0_wo_bg.jpg (deflated 4%)\n",
            "  adding: content/images/faces_people_wo_bg/Yul_Brynner_0_wo_bg.jpg (deflated 5%)\n",
            "  adding: content/images/faces_people_wo_bg/Johnny_Messner_0_wo_bg.jpg (deflated 3%)\n",
            "  adding: content/images/faces_people_wo_bg/Greg_Germann_0_wo_bg.jpg (deflated 4%)\n",
            "  adding: content/images/faces_people_wo_bg/Bingbing_Fan_0_wo_bg.jpg (deflated 5%)\n",
            "  adding: content/images/faces_people_wo_bg/Nate_Parker_0_wo_bg.jpg (deflated 4%)\n",
            "  adding: content/images/faces_people_wo_bg/Kit_Harington_0_wo_bg.jpg (deflated 4%)\n",
            "  adding: content/images/faces_people_wo_bg/Swoosie_Kurtz_0_wo_bg.jpg (deflated 5%)\n",
            "  adding: content/images/faces_people_wo_bg/Marisa_Ramirez_0_wo_bg.jpg (deflated 4%)\n",
            "  adding: content/images/faces_people_wo_bg/Qi_Shu_0_wo_bg.jpg (deflated 4%)\n",
            "  adding: content/images/faces_people_wo_bg/Vanessa_Branch_0_wo_bg.jpg (deflated 4%)\n",
            "  adding: content/images/faces_people_wo_bg/Jemima_Rooper_0_wo_bg.jpg (deflated 4%)\n",
            "  adding: content/images/faces_people_wo_bg/Johnny_Galecki_0_wo_bg.jpg (deflated 5%)\n",
            "  adding: content/images/faces_people_wo_bg/Sarah_Wayne_Callies_0_wo_bg.jpg (deflated 4%)\n",
            "  adding: content/images/faces_people_wo_bg/Michael_Stahl-David_0_wo_bg.jpg (deflated 4%)\n",
            "  adding: content/images/faces_people_wo_bg/Kathryn_Hahn_0_wo_bg.jpg (deflated 5%)\n",
            "  adding: content/images/faces_people_wo_bg/Jessica_Hecht_0_wo_bg.jpg (deflated 4%)\n",
            "  adding: content/images/faces_people_wo_bg/James_Anderson_0_wo_bg.jpg (deflated 4%)\n",
            "  adding: content/images/faces_people_wo_bg/Josh_Holloway_0_wo_bg.jpg (deflated 5%)\n",
            "  adding: content/images/faces_people_wo_bg/Bruce_McGill_0_wo_bg.jpg (deflated 5%)\n",
            "  adding: content/images/faces_people_wo_bg/Sara_Ramirez_0_wo_bg.jpg (deflated 4%)\n",
            "  adding: content/images/faces_people_wo_bg/Katie_Stevens_0_wo_bg.jpg (deflated 4%)\n",
            "  adding: content/images/faces_people_wo_bg/Shaun_Cassidy_0_wo_bg.jpg (deflated 5%)\n",
            "  adding: content/images/faces_people_wo_bg/Connie_Stevens_0_wo_bg.jpg (deflated 5%)\n",
            "  adding: content/images/faces_people_wo_bg/Sky_Ferreira_0_wo_bg.jpg (deflated 5%)\n",
            "  adding: content/images/faces_people_wo_bg/Tracy_Morgan_0_wo_bg.jpg (deflated 4%)\n",
            "  adding: content/images/faces_people_wo_bg/Michael_C_0_wo_bg.jpg (deflated 4%)\n",
            "  adding: content/images/faces_people_wo_bg/Kelly_Rutherford_0_wo_bg.jpg (deflated 4%)\n",
            "  adding: content/images/faces_people_wo_bg/Helen_McCrory_0_wo_bg.jpg (deflated 4%)\n",
            "  adding: content/images/faces_people_wo_bg/Julianne_Hough_0_wo_bg.jpg (deflated 4%)\n",
            "  adding: content/images/faces_people_wo_bg/Heather_Hemmens_0_wo_bg.jpg (deflated 5%)\n",
            "  adding: content/images/faces_people_wo_bg/Dan_Stevens_0_wo_bg.jpg (deflated 4%)\n",
            "  adding: content/images/faces_people_wo_bg/Olivia_Wilde_0_wo_bg.jpg (deflated 4%)\n",
            "  adding: content/images/faces_people_wo_bg/Marla_Gibbs_0_wo_bg.jpg (deflated 4%)\n",
            "  adding: content/images/faces_people_wo_bg/Simon_Pegg_0_wo_bg.jpg (deflated 4%)\n",
            "  adding: content/images/faces_people_wo_bg/Nikki_Griffin_0_wo_bg.jpg (deflated 5%)\n",
            "  adding: content/images/faces_people_wo_bg/Paolo_Sorrentino_0_wo_bg.jpg (deflated 4%)\n",
            "  adding: content/images/faces_people_wo_bg/Stephen_Lee_0_wo_bg.jpg (deflated 27%)\n",
            "  adding: content/images/faces_people_wo_bg/Wayne_Rooney_0_wo_bg.jpg (deflated 3%)\n",
            "  adding: content/images/faces_people_wo_bg/Ken_Marino_0_wo_bg.jpg (deflated 3%)\n",
            "  adding: content/images/faces_people_wo_bg/Shaun_Sipos_0_wo_bg.jpg (deflated 4%)\n",
            "  adding: content/images/faces_people_wo_bg/Alan_Alda_0_wo_bg.jpg (deflated 4%)\n",
            "  adding: content/images/faces_people_wo_bg/Cassandra_Peterson_0_wo_bg.jpg (deflated 5%)\n",
            "  adding: content/images/faces_people_wo_bg/Susan_Hayward_0_wo_bg.jpg (deflated 3%)\n",
            "  adding: content/images/faces_people_wo_bg/James_Dean_0_wo_bg.jpg (deflated 5%)\n",
            "  adding: content/images/faces_people_wo_bg/Bryan_Greenberg_0_wo_bg.jpg (deflated 4%)\n",
            "  adding: content/images/faces_people_wo_bg/Nick_Cave_0_wo_bg.jpg (deflated 3%)\n",
            "  adding: content/images/faces_people_wo_bg/Steven_Bauer_0_wo_bg.jpg (deflated 4%)\n",
            "  adding: content/images/faces_people_wo_bg/Kiersten_Warren_0_wo_bg.jpg (deflated 4%)\n",
            "  adding: content/images/faces_people_wo_bg/Scott_Elrod_0_wo_bg.jpg (deflated 4%)\n",
            "  adding: content/images/faces_people_wo_bg/Judy_Landers_0_wo_bg.jpg (deflated 4%)\n",
            "  adding: content/images/faces_people_wo_bg/Tamara_Taylor_0_wo_bg.jpg (deflated 4%)\n",
            "  adding: content/images/faces_people_wo_bg/Masiela_Lusha_0_wo_bg.jpg (deflated 5%)\n",
            "  adding: content/images/faces_people_wo_bg/Gemma_Atkinson_0_wo_bg.jpg (deflated 4%)\n",
            "  adding: content/images/faces_people_wo_bg/Jesse_Spencer_0_wo_bg.jpg (deflated 5%)\n",
            "  adding: content/images/faces_people_wo_bg/Sofia_Coppola_0_wo_bg.jpg (deflated 5%)\n",
            "  adding: content/images/faces_people_wo_bg/RZA_0_wo_bg.jpg (deflated 4%)\n",
            "  adding: content/images/faces_people_wo_bg/Carly_Chaikin_0_wo_bg.jpg (deflated 4%)\n",
            "  adding: content/images/faces_people_wo_bg/Aidan_Gillen_0_wo_bg.jpg (deflated 4%)\n",
            "  adding: content/images/faces_people_wo_bg/Bruno_Ganz_0_wo_bg.jpg (deflated 4%)\n",
            "  adding: content/images/faces_people_wo_bg/Oliver_James_0_wo_bg.jpg (deflated 4%)\n",
            "  adding: content/images/faces_people_wo_bg/Drake_Bell_0_wo_bg.jpg (deflated 5%)\n",
            "  adding: content/images/faces_people_wo_bg/Dennis_Weaver_0_wo_bg.jpg (deflated 5%)\n",
            "  adding: content/images/faces_people_wo_bg/Sheree_J_0_wo_bg.jpg (deflated 4%)\n",
            "  adding: content/images/faces_people_wo_bg/Kimberly_Williams-Paisley_0_wo_bg.jpg (deflated 4%)\n",
            "  adding: content/images/faces_people_wo_bg/Keith_Richards_0_wo_bg.jpg (deflated 4%)\n",
            "  adding: content/images/faces_people_wo_bg/Danielle_Fishel_0_wo_bg.jpg (deflated 4%)\n",
            "  adding: content/images/faces_people_wo_bg/Spencer_Locke_0_wo_bg.jpg (deflated 4%)\n",
            "  adding: content/images/faces_people_wo_bg/Adrianne_Palicki_0_wo_bg.jpg (deflated 4%)\n",
            "  adding: content/images/faces_people_wo_bg/Rik_Mayall_0_wo_bg.jpg (deflated 6%)\n",
            "  adding: content/images/faces_people_wo_bg/Kayden_Kross_0_wo_bg.jpg (deflated 4%)\n",
            "  adding: content/images/faces_people_wo_bg/Jasmine_Guy_0_wo_bg.jpg (deflated 3%)\n",
            "  adding: content/images/faces_people_wo_bg/Lisa_Edelstein_0_wo_bg.jpg (deflated 4%)\n",
            "  adding: content/images/faces_people_wo_bg/Nick_Thune_0_wo_bg.jpg (deflated 16%)\n",
            "  adding: content/images/faces_people_wo_bg/Amandla_Stenberg_0_wo_bg.jpg (deflated 4%)\n",
            "  adding: content/images/faces_people_wo_bg/Selita_Ebanks_0_wo_bg.jpg (deflated 4%)\n",
            "  adding: content/images/faces_people_wo_bg/John_de_Lancie_0_wo_bg.jpg (deflated 5%)\n",
            "  adding: content/images/faces_people_wo_bg/Daniel_Auteuil_0_wo_bg.jpg (deflated 5%)\n",
            "  adding: content/images/faces_people_wo_bg/Sam_Page_0_wo_bg.jpg (deflated 4%)\n",
            "  adding: content/images/faces_people_wo_bg/Halston_Sage_0_wo_bg.jpg (deflated 5%)\n",
            "  adding: content/images/faces_people_wo_bg/Katie_Findlay_0_wo_bg.jpg (deflated 4%)\n",
            "  adding: content/images/faces_people_wo_bg/Johann_Urb_0_wo_bg.jpg (deflated 4%)\n",
            "  adding: content/images/faces_people_wo_bg/Simon_Rex_0_wo_bg.jpg (deflated 5%)\n",
            "  adding: content/images/faces_people_wo_bg/Missi_Pyle_0_wo_bg.jpg (deflated 5%)\n",
            "  adding: content/images/faces_people_wo_bg/Brett_Davern_0_wo_bg.jpg (deflated 3%)\n",
            "  adding: content/images/faces_people_wo_bg/Seth_Rogen_0_wo_bg.jpg (deflated 5%)\n",
            "  adding: content/images/faces_people_wo_bg/Jake_Cherry_0_wo_bg.jpg (deflated 4%)\n",
            "  adding: content/images/faces_people_wo_bg/Kenton_Duty_0_wo_bg.jpg (deflated 3%)\n",
            "  adding: content/images/faces_people_wo_bg/Kelly_Rowan_0_wo_bg.jpg (deflated 5%)\n",
            "  adding: content/images/faces_people_wo_bg/Shane_West_0_wo_bg.jpg (deflated 5%)\n",
            "  adding: content/images/faces_people_wo_bg/Samantha_Barks_0_wo_bg.jpg (deflated 5%)\n",
            "  adding: content/images/faces_people_wo_bg/Matt_Berry_0_wo_bg.jpg (deflated 5%)\n",
            "  adding: content/images/faces_people_wo_bg/Jonathan_Sadowski_0_wo_bg.jpg (deflated 4%)\n",
            "  adding: content/images/faces_people_wo_bg/Jill_St_0_wo_bg.jpg (deflated 5%)\n",
            "  adding: content/images/faces_people_wo_bg/Celeste_Holm_0_wo_bg.jpg (deflated 4%)\n",
            "  adding: content/images/faces_people_wo_bg/Jennifer_Finnigan_0_wo_bg.jpg (deflated 5%)\n",
            "  adding: content/images/faces_people_wo_bg/Monica_Potter_0_wo_bg.jpg (deflated 6%)\n",
            "  adding: content/images/faces_people_wo_bg/Josh_Radnor_0_wo_bg.jpg (deflated 4%)\n",
            "  adding: content/images/faces_people_wo_bg/Smokey_Robinson_0_wo_bg.jpg (deflated 4%)\n",
            "  adding: content/images/faces_people_wo_bg/Aaron_Tveit_0_wo_bg.jpg (deflated 4%)\n",
            "  adding: content/images/faces_people_wo_bg/Louis_Theroux_0_wo_bg.jpg (deflated 4%)\n",
            "  adding: content/images/faces_people_wo_bg/Jodi_Benson_0_wo_bg.jpg (deflated 5%)\n",
            "  adding: content/images/faces_people_wo_bg/Jimmy_Bennett_0_wo_bg.jpg (deflated 5%)\n",
            "  adding: content/images/faces_people_wo_bg/Preity_Zinta_0_wo_bg.jpg (deflated 4%)\n",
            "  adding: content/images/faces_people_wo_bg/China_Chow_0_wo_bg.jpg (deflated 4%)\n",
            "  adding: content/images/faces_people_wo_bg/Lindsay_Price_0_wo_bg.jpg (deflated 6%)\n",
            "  adding: content/images/faces_people_wo_bg/Selena_0_wo_bg.jpg (deflated 5%)\n",
            "  adding: content/images/faces_people_wo_bg/Zsa_Zsa_Gabor_0_wo_bg.jpg (deflated 5%)\n",
            "  adding: content/images/faces_people_wo_bg/Lena_Horne_0_wo_bg.jpg (deflated 4%)\n",
            "  adding: content/images/faces_people_wo_bg/Melissa_George_0_wo_bg.jpg (deflated 6%)\n",
            "  adding: content/images/faces_people_wo_bg/Ronda_Rousey_0_wo_bg.jpg (deflated 5%)\n",
            "  adding: content/images/faces_people_wo_bg/Alan_Cumming_0_wo_bg.jpg (deflated 4%)\n",
            "  adding: content/images/faces_people_wo_bg/Cara_Delevingne_0_wo_bg.jpg (deflated 5%)\n",
            "  adding: content/images/faces_people_wo_bg/Judy_Sheindlin_0_wo_bg.jpg (deflated 4%)\n",
            "  adding: content/images/faces_people_wo_bg/Nazanin_Boniadi_0_wo_bg.jpg (deflated 4%)\n",
            "  adding: content/images/faces_people_wo_bg/Reece_Ritchie_0_wo_bg.jpg (deflated 4%)\n",
            "  adding: content/images/faces_people_wo_bg/Mary_Astor_0_wo_bg.jpg (deflated 4%)\n",
            "  adding: content/images/faces_people_wo_bg/Alex_Borstein_0_wo_bg.jpg (deflated 4%)\n",
            "  adding: content/images/faces_people_wo_bg/Kay_Francis_0_wo_bg.jpg (deflated 4%)\n",
            "  adding: content/images/faces_people_wo_bg/Annabeth_Gish_0_wo_bg.jpg (deflated 4%)\n",
            "  adding: content/images/faces_people_wo_bg/Ryan_Potter_0_wo_bg.jpg (deflated 3%)\n",
            "  adding: content/images/faces_people_wo_bg/Helen_Hunt_0_wo_bg.jpg (deflated 4%)\n",
            "  adding: content/images/faces_people_wo_bg/Caitriona_Balfe_0_wo_bg.jpg (deflated 5%)\n",
            "  adding: content/images/faces_people_wo_bg/Valorie_Curry_0_wo_bg.jpg (deflated 5%)\n",
            "  adding: content/images/faces_people_wo_bg/Lizzy_Caplan_0_wo_bg.jpg (deflated 4%)\n",
            "  adding: content/images/faces_people_wo_bg/Donna_Reed_0_wo_bg.jpg (deflated 4%)\n",
            "  adding: content/images/faces_people_wo_bg/Nick_Bateman_0_wo_bg.jpg (deflated 3%)\n",
            "  adding: content/images/faces_people_wo_bg/J_0_wo_bg.jpg (deflated 4%)\n",
            "  adding: content/images/faces_people_wo_bg/Cameron_Boyce_0_wo_bg.jpg (deflated 4%)\n",
            "  adding: content/images/faces_people_wo_bg/.ipynb_checkpoints/ (stored 0%)\n",
            "  adding: content/images/faces_people_wo_bg/Catalina_Sandino_Moreno_0_wo_bg.jpg (deflated 4%)\n",
            "  adding: content/images/faces_people_wo_bg/Ginger_Rogers_0_wo_bg.jpg (deflated 4%)\n",
            "  adding: content/images/faces_people_wo_bg/Tyler_Perry_0_wo_bg.jpg (deflated 6%)\n",
            "  adding: content/images/faces_people_wo_bg/John_Nettles_0_wo_bg.jpg (deflated 4%)\n",
            "  adding: content/images/faces_people_wo_bg/David_Chokachi_0_wo_bg.jpg (deflated 4%)\n",
            "  adding: content/images/faces_people_wo_bg/Anna_Maria_Perez_de_Tagle_0_wo_bg.jpg (deflated 5%)\n",
            "  adding: content/images/faces_people_wo_bg/Devon_Bostick_0_wo_bg.jpg (deflated 4%)\n",
            "  adding: content/images/faces_people_wo_bg/Vincent_Martella_0_wo_bg.jpg (deflated 4%)\n",
            "  adding: content/images/faces_people_wo_bg/Alain_Delon_0_wo_bg.jpg (deflated 5%)\n",
            "  adding: content/images/faces_people_wo_bg/Mark_Feuerstein_0_wo_bg.jpg (deflated 4%)\n",
            "  adding: content/images/faces_people_wo_bg/Callie_Thorne_0_wo_bg.jpg (deflated 5%)\n",
            "  adding: content/images/faces_people_wo_bg/Nathalie_Emmanuel_0_wo_bg.jpg (deflated 4%)\n",
            "  adding: content/images/faces_people_wo_bg/Arden_Myrin_0_wo_bg.jpg (deflated 4%)\n",
            "  adding: content/images/faces_people_wo_bg/Nestor_Carbonell_0_wo_bg.jpg (deflated 4%)\n",
            "  adding: content/images/faces_people_wo_bg/Nathaniel_Buzolic_0_wo_bg.jpg (deflated 3%)\n",
            "  adding: content/images/faces_people_wo_bg/Robert_Hoffman_0_wo_bg.jpg (deflated 4%)\n",
            "  adding: content/images/faces_people_wo_bg/Paul_Adelstein_0_wo_bg.jpg (deflated 4%)\n",
            "  adding: content/images/faces_people_wo_bg/Justin_Kirk_0_wo_bg.jpg (deflated 4%)\n",
            "  adding: content/images/faces_people_wo_bg/Freddie_Mercury_0_wo_bg.jpg (deflated 3%)\n",
            "  adding: content/images/faces_people_wo_bg/Jenna_Coleman_0_wo_bg.jpg (deflated 4%)\n",
            "  adding: content/images/faces_people_wo_bg/Henry_Simmons_0_wo_bg.jpg (deflated 4%)\n",
            "  adding: content/images/faces_people_wo_bg/Philip_Baker_Hall_0_wo_bg.jpg (deflated 4%)\n",
            "  adding: content/images/faces_people_wo_bg/Cameron_Bright_0_wo_bg.jpg (deflated 4%)\n",
            "  adding: content/images/faces_people_wo_bg/Richard_Belzer_0_wo_bg.jpg (deflated 4%)\n",
            "  adding: content/images/faces_people_wo_bg/James_Badge_Dale_0_wo_bg.jpg (deflated 4%)\n",
            "  adding: content/images/faces_people_wo_bg/Simon_Callow_0_wo_bg.jpg (deflated 4%)\n",
            "  adding: content/images/faces_people_wo_bg/Olga_Kurylenko_0_wo_bg.jpg (deflated 5%)\n",
            "  adding: content/images/faces_people_wo_bg/Jeff_Goldblum_0_wo_bg.jpg (deflated 4%)\n",
            "  adding: content/images/faces_people_wo_bg/Carrie_Keagan_0_wo_bg.jpg (deflated 5%)\n",
            "  adding: content/images/faces_people_wo_bg/Raini_Rodriguez_0_wo_bg.jpg (deflated 4%)\n",
            "  adding: content/images/faces_people_wo_bg/Luke_Wilson_0_wo_bg.jpg (deflated 6%)\n",
            "  adding: content/images/faces_people_wo_bg/David_Koechner_0_wo_bg.jpg (deflated 4%)\n",
            "  adding: content/images/faces_people_wo_bg/Jacob_Vargas_0_wo_bg.jpg (deflated 4%)\n",
            "  adding: content/images/faces_people_wo_bg/Patrick_Wilson_0_wo_bg.jpg (deflated 5%)\n",
            "  adding: content/images/faces_people_wo_bg/Keith_David_0_wo_bg.jpg (deflated 5%)\n",
            "  adding: content/images/faces_people_wo_bg/Wesley_Jonathan_0_wo_bg.jpg (deflated 4%)\n",
            "  adding: content/images/faces_people_wo_bg/David_Mamet_0_wo_bg.jpg (deflated 4%)\n",
            "  adding: content/images/faces_people_wo_bg/Billy_Miller_0_wo_bg.jpg (deflated 4%)\n",
            "  adding: content/images/faces_people_wo_bg/Jeannie_Mai_0_wo_bg.jpg (deflated 3%)\n",
            "  adding: content/images/faces_people_wo_bg/Eric_Braeden_0_wo_bg.jpg (deflated 4%)\n",
            "  adding: content/images/faces_people_wo_bg/Margot_Kidder_0_wo_bg.jpg (deflated 4%)\n",
            "  adding: content/images/faces_people_wo_bg/Matthew_Macfadyen_0_wo_bg.jpg (deflated 4%)\n",
            "  adding: content/images/faces_people_wo_bg/Greg_Vaughan_0_wo_bg.jpg (deflated 4%)\n",
            "  adding: content/images/faces_people_wo_bg/Lauren_London_0_wo_bg.jpg (deflated 4%)\n",
            "  adding: content/images/faces_people_wo_bg/Jena_Malone_0_wo_bg.jpg (deflated 4%)\n",
            "  adding: content/images/faces_people_wo_bg/Linda_Gray_0_wo_bg.jpg (deflated 5%)\n",
            "  adding: content/images/faces_people_wo_bg/Alexander_Ludwig_0_wo_bg.jpg (deflated 4%)\n",
            "  adding: content/images/faces_people_wo_bg/Craig_Olejnik_0_wo_bg.jpg (deflated 3%)\n",
            "  adding: content/images/faces_people_wo_bg/Kirsten_Vangsness_0_wo_bg.jpg (deflated 5%)\n",
            "  adding: content/images/faces_people_wo_bg/Olivia_Holt_0_wo_bg.jpg (deflated 5%)\n",
            "  adding: content/images/faces_people_wo_bg/Ana_Gasteyer_0_wo_bg.jpg (deflated 5%)\n",
            "  adding: content/images/faces_people_wo_bg/Olivia_Hallinan_0_wo_bg.jpg (deflated 4%)\n",
            "  adding: content/images/faces_people_wo_bg/David_Oyelowo_0_wo_bg.jpg (deflated 4%)\n",
            "  adding: content/images/faces_people_wo_bg/Penny_Johnson_0_wo_bg.jpg (deflated 4%)\n",
            "  adding: content/images/faces_people_wo_bg/Wesley_Snipes_0_wo_bg.jpg (deflated 4%)\n",
            "  adding: content/images/faces_people_wo_bg/Michael_Ealy_0_wo_bg.jpg (deflated 4%)\n",
            "  adding: content/images/faces_people_wo_bg/Marlee_Matlin_0_wo_bg.jpg (deflated 5%)\n",
            "  adding: content/images/faces_people_wo_bg/Carrie_Preston_0_wo_bg.jpg (deflated 4%)\n",
            "  adding: content/images/faces_people_wo_bg/Daphne_Zuniga_0_wo_bg.jpg (deflated 5%)\n",
            "  adding: content/images/faces_people_wo_bg/D_0_wo_bg.jpg (deflated 4%)\n",
            "  adding: content/images/faces_people_wo_bg/Drew_Seeley_0_wo_bg.jpg (deflated 4%)\n",
            "  adding: content/images/faces_people_wo_bg/Patrick_Swayze_0_wo_bg.jpg (deflated 4%)\n",
            "  adding: content/images/faces_people_wo_bg/Katherine_Bailess_0_wo_bg.jpg (deflated 4%)\n",
            "  adding: content/images/faces_people_wo_bg/Loretta_Devine_0_wo_bg.jpg (deflated 3%)\n",
            "  adding: content/images/faces_people_wo_bg/Eddie_Izzard_0_wo_bg.jpg (deflated 4%)\n",
            "  adding: content/images/faces_people_wo_bg/Ben_Miller_0_wo_bg.jpg (deflated 4%)\n",
            "  adding: content/images/faces_people_wo_bg/Bradley_Steven_Perry_0_wo_bg.jpg (deflated 3%)\n",
            "  adding: content/images/faces_people_wo_bg/Jordin_Sparks_0_wo_bg.jpg (deflated 4%)\n",
            "  adding: content/images/faces_people_wo_bg/Trevor_Donovan_0_wo_bg.jpg (deflated 4%)\n",
            "  adding: content/images/faces_people_wo_bg/Sanaa_Lathan_0_wo_bg.jpg (deflated 4%)\n",
            "  adding: content/images/faces_people_wo_bg/Lori_Singer_0_wo_bg.jpg (deflated 4%)\n",
            "  adding: content/images/faces_people_wo_bg/Chelsea_Hobbs_0_wo_bg.jpg (deflated 5%)\n",
            "  adding: content/images/faces_people_wo_bg/Dan_Fogler_0_wo_bg.jpg (deflated 5%)\n",
            "  adding: content/images/faces_people_wo_bg/Jane_Lynch_0_wo_bg.jpg (deflated 4%)\n",
            "  adding: content/images/faces_people_wo_bg/Stephen_Mangan_0_wo_bg.jpg (deflated 4%)\n"
          ],
          "name": "stdout"
        }
      ]
    },
    {
      "cell_type": "code",
      "metadata": {
        "id": "MmmhkHtfIskA",
        "colab_type": "code",
        "colab": {}
      },
      "source": [
        "!cp /content/faces_wo_bg.zip \"/content/drive/My Drive/Made with ML/datasets\""
      ],
      "execution_count": 72,
      "outputs": []
    }
  ]
}