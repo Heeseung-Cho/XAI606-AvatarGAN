{
  "nbformat": 4,
  "nbformat_minor": 0,
  "metadata": {
    "colab": {
      "name": "face_segmentation.ipynb",
      "provenance": [],
      "collapsed_sections": [],
      "include_colab_link": true
    },
    "kernelspec": {
      "name": "python3",
      "display_name": "Python 3"
    },
    "accelerator": "GPU",
    "widgets": {
      "application/vnd.jupyter.widget-state+json": {
        "b52d2a18e39f4f7fb7a06c660447f2a5": {
          "model_module": "@jupyter-widgets/controls",
          "model_name": "HBoxModel",
          "state": {
            "_view_name": "HBoxView",
            "_dom_classes": [],
            "_model_name": "HBoxModel",
            "_view_module": "@jupyter-widgets/controls",
            "_model_module_version": "1.5.0",
            "_view_count": null,
            "_view_module_version": "1.5.0",
            "box_style": "",
            "layout": "IPY_MODEL_a4a23ea5f6154e1f9f8d7eac188d1f42",
            "_model_module": "@jupyter-widgets/controls",
            "children": [
              "IPY_MODEL_c3f90add91394ff995a6b014731b0b80",
              "IPY_MODEL_25f623a7b26642d983a0f1368c887b14"
            ]
          }
        },
        "a4a23ea5f6154e1f9f8d7eac188d1f42": {
          "model_module": "@jupyter-widgets/base",
          "model_name": "LayoutModel",
          "state": {
            "_view_name": "LayoutView",
            "grid_template_rows": null,
            "right": null,
            "justify_content": null,
            "_view_module": "@jupyter-widgets/base",
            "overflow": null,
            "_model_module_version": "1.2.0",
            "_view_count": null,
            "flex_flow": null,
            "width": null,
            "min_width": null,
            "border": null,
            "align_items": null,
            "bottom": null,
            "_model_module": "@jupyter-widgets/base",
            "top": null,
            "grid_column": null,
            "overflow_y": null,
            "overflow_x": null,
            "grid_auto_flow": null,
            "grid_area": null,
            "grid_template_columns": null,
            "flex": null,
            "_model_name": "LayoutModel",
            "justify_items": null,
            "grid_row": null,
            "max_height": null,
            "align_content": null,
            "visibility": null,
            "align_self": null,
            "height": null,
            "min_height": null,
            "padding": null,
            "grid_auto_rows": null,
            "grid_gap": null,
            "max_width": null,
            "order": null,
            "_view_module_version": "1.2.0",
            "grid_template_areas": null,
            "object_position": null,
            "object_fit": null,
            "grid_auto_columns": null,
            "margin": null,
            "display": null,
            "left": null
          }
        },
        "c3f90add91394ff995a6b014731b0b80": {
          "model_module": "@jupyter-widgets/controls",
          "model_name": "FloatProgressModel",
          "state": {
            "_view_name": "ProgressView",
            "style": "IPY_MODEL_79cf374244e84cb3895fa16db015fa86",
            "_dom_classes": [],
            "description": "Processing Sandra_Oh (1 image(s)): 100%",
            "_model_name": "FloatProgressModel",
            "bar_style": "success",
            "max": 2622,
            "_view_module": "@jupyter-widgets/controls",
            "_model_module_version": "1.5.0",
            "value": 2622,
            "_view_count": null,
            "_view_module_version": "1.5.0",
            "orientation": "horizontal",
            "min": 0,
            "description_tooltip": null,
            "_model_module": "@jupyter-widgets/controls",
            "layout": "IPY_MODEL_3bbed32239fe43fca1577c21bc831a32"
          }
        },
        "25f623a7b26642d983a0f1368c887b14": {
          "model_module": "@jupyter-widgets/controls",
          "model_name": "HTMLModel",
          "state": {
            "_view_name": "HTMLView",
            "style": "IPY_MODEL_f23c48278e1944c5a62a81d265e55172",
            "_dom_classes": [],
            "description": "",
            "_model_name": "HTMLModel",
            "placeholder": "​",
            "_view_module": "@jupyter-widgets/controls",
            "_model_module_version": "1.5.0",
            "value": " 2622/2622 [1:50:17&lt;00:00,  2.52s/it]",
            "_view_count": null,
            "_view_module_version": "1.5.0",
            "description_tooltip": null,
            "_model_module": "@jupyter-widgets/controls",
            "layout": "IPY_MODEL_8651292ee7724a78af4d03d9e209ec67"
          }
        },
        "79cf374244e84cb3895fa16db015fa86": {
          "model_module": "@jupyter-widgets/controls",
          "model_name": "ProgressStyleModel",
          "state": {
            "_view_name": "StyleView",
            "_model_name": "ProgressStyleModel",
            "description_width": "initial",
            "_view_module": "@jupyter-widgets/base",
            "_model_module_version": "1.5.0",
            "_view_count": null,
            "_view_module_version": "1.2.0",
            "bar_color": null,
            "_model_module": "@jupyter-widgets/controls"
          }
        },
        "3bbed32239fe43fca1577c21bc831a32": {
          "model_module": "@jupyter-widgets/base",
          "model_name": "LayoutModel",
          "state": {
            "_view_name": "LayoutView",
            "grid_template_rows": null,
            "right": null,
            "justify_content": null,
            "_view_module": "@jupyter-widgets/base",
            "overflow": null,
            "_model_module_version": "1.2.0",
            "_view_count": null,
            "flex_flow": null,
            "width": null,
            "min_width": null,
            "border": null,
            "align_items": null,
            "bottom": null,
            "_model_module": "@jupyter-widgets/base",
            "top": null,
            "grid_column": null,
            "overflow_y": null,
            "overflow_x": null,
            "grid_auto_flow": null,
            "grid_area": null,
            "grid_template_columns": null,
            "flex": null,
            "_model_name": "LayoutModel",
            "justify_items": null,
            "grid_row": null,
            "max_height": null,
            "align_content": null,
            "visibility": null,
            "align_self": null,
            "height": null,
            "min_height": null,
            "padding": null,
            "grid_auto_rows": null,
            "grid_gap": null,
            "max_width": null,
            "order": null,
            "_view_module_version": "1.2.0",
            "grid_template_areas": null,
            "object_position": null,
            "object_fit": null,
            "grid_auto_columns": null,
            "margin": null,
            "display": null,
            "left": null
          }
        },
        "f23c48278e1944c5a62a81d265e55172": {
          "model_module": "@jupyter-widgets/controls",
          "model_name": "DescriptionStyleModel",
          "state": {
            "_view_name": "StyleView",
            "_model_name": "DescriptionStyleModel",
            "description_width": "",
            "_view_module": "@jupyter-widgets/base",
            "_model_module_version": "1.5.0",
            "_view_count": null,
            "_view_module_version": "1.2.0",
            "_model_module": "@jupyter-widgets/controls"
          }
        },
        "8651292ee7724a78af4d03d9e209ec67": {
          "model_module": "@jupyter-widgets/base",
          "model_name": "LayoutModel",
          "state": {
            "_view_name": "LayoutView",
            "grid_template_rows": null,
            "right": null,
            "justify_content": null,
            "_view_module": "@jupyter-widgets/base",
            "overflow": null,
            "_model_module_version": "1.2.0",
            "_view_count": null,
            "flex_flow": null,
            "width": null,
            "min_width": null,
            "border": null,
            "align_items": null,
            "bottom": null,
            "_model_module": "@jupyter-widgets/base",
            "top": null,
            "grid_column": null,
            "overflow_y": null,
            "overflow_x": null,
            "grid_auto_flow": null,
            "grid_area": null,
            "grid_template_columns": null,
            "flex": null,
            "_model_name": "LayoutModel",
            "justify_items": null,
            "grid_row": null,
            "max_height": null,
            "align_content": null,
            "visibility": null,
            "align_self": null,
            "height": null,
            "min_height": null,
            "padding": null,
            "grid_auto_rows": null,
            "grid_gap": null,
            "max_width": null,
            "order": null,
            "_view_module_version": "1.2.0",
            "grid_template_areas": null,
            "object_position": null,
            "object_fit": null,
            "grid_auto_columns": null,
            "margin": null,
            "display": null,
            "left": null
          }
        },
        "45106e8b921c47cb8c992cc60f801ee2": {
          "model_module": "@jupyter-widgets/controls",
          "model_name": "HBoxModel",
          "state": {
            "_view_name": "HBoxView",
            "_dom_classes": [],
            "_model_name": "HBoxModel",
            "_view_module": "@jupyter-widgets/controls",
            "_model_module_version": "1.5.0",
            "_view_count": null,
            "_view_module_version": "1.5.0",
            "box_style": "",
            "layout": "IPY_MODEL_fce6aa13fb1c484c9bb89b9da4361b49",
            "_model_module": "@jupyter-widgets/controls",
            "children": [
              "IPY_MODEL_2490427636c04bf28a9bf9d2ab738665",
              "IPY_MODEL_8380093103054bdc82b44d9a58184b42"
            ]
          }
        },
        "fce6aa13fb1c484c9bb89b9da4361b49": {
          "model_module": "@jupyter-widgets/base",
          "model_name": "LayoutModel",
          "state": {
            "_view_name": "LayoutView",
            "grid_template_rows": null,
            "right": null,
            "justify_content": null,
            "_view_module": "@jupyter-widgets/base",
            "overflow": null,
            "_model_module_version": "1.2.0",
            "_view_count": null,
            "flex_flow": null,
            "width": null,
            "min_width": null,
            "border": null,
            "align_items": null,
            "bottom": null,
            "_model_module": "@jupyter-widgets/base",
            "top": null,
            "grid_column": null,
            "overflow_y": null,
            "overflow_x": null,
            "grid_auto_flow": null,
            "grid_area": null,
            "grid_template_columns": null,
            "flex": null,
            "_model_name": "LayoutModel",
            "justify_items": null,
            "grid_row": null,
            "max_height": null,
            "align_content": null,
            "visibility": null,
            "align_self": null,
            "height": null,
            "min_height": null,
            "padding": null,
            "grid_auto_rows": null,
            "grid_gap": null,
            "max_width": null,
            "order": null,
            "_view_module_version": "1.2.0",
            "grid_template_areas": null,
            "object_position": null,
            "object_fit": null,
            "grid_auto_columns": null,
            "margin": null,
            "display": null,
            "left": null
          }
        },
        "2490427636c04bf28a9bf9d2ab738665": {
          "model_module": "@jupyter-widgets/controls",
          "model_name": "FloatProgressModel",
          "state": {
            "_view_name": "ProgressView",
            "style": "IPY_MODEL_50307a2668c8430c9cf701c922d4d36f",
            "_dom_classes": [],
            "description": "Processing Odeya_Rush_1.jpg: 100%",
            "_model_name": "FloatProgressModel",
            "bar_style": "success",
            "max": 2589,
            "_view_module": "@jupyter-widgets/controls",
            "_model_module_version": "1.5.0",
            "value": 2589,
            "_view_count": null,
            "_view_module_version": "1.5.0",
            "orientation": "horizontal",
            "min": 0,
            "description_tooltip": null,
            "_model_module": "@jupyter-widgets/controls",
            "layout": "IPY_MODEL_a321a5532f98469684a6c202af9da1f8"
          }
        },
        "8380093103054bdc82b44d9a58184b42": {
          "model_module": "@jupyter-widgets/controls",
          "model_name": "HTMLModel",
          "state": {
            "_view_name": "HTMLView",
            "style": "IPY_MODEL_2479bc516c4e4c1194354ca418a48daf",
            "_dom_classes": [],
            "description": "",
            "_model_name": "HTMLModel",
            "placeholder": "​",
            "_view_module": "@jupyter-widgets/controls",
            "_model_module_version": "1.5.0",
            "value": " 2589/2589 [20:18&lt;00:00,  2.12it/s]",
            "_view_count": null,
            "_view_module_version": "1.5.0",
            "description_tooltip": null,
            "_model_module": "@jupyter-widgets/controls",
            "layout": "IPY_MODEL_22f86ccc1fd74c4383596bdca3d048a5"
          }
        },
        "50307a2668c8430c9cf701c922d4d36f": {
          "model_module": "@jupyter-widgets/controls",
          "model_name": "ProgressStyleModel",
          "state": {
            "_view_name": "StyleView",
            "_model_name": "ProgressStyleModel",
            "description_width": "initial",
            "_view_module": "@jupyter-widgets/base",
            "_model_module_version": "1.5.0",
            "_view_count": null,
            "_view_module_version": "1.2.0",
            "bar_color": null,
            "_model_module": "@jupyter-widgets/controls"
          }
        },
        "a321a5532f98469684a6c202af9da1f8": {
          "model_module": "@jupyter-widgets/base",
          "model_name": "LayoutModel",
          "state": {
            "_view_name": "LayoutView",
            "grid_template_rows": null,
            "right": null,
            "justify_content": null,
            "_view_module": "@jupyter-widgets/base",
            "overflow": null,
            "_model_module_version": "1.2.0",
            "_view_count": null,
            "flex_flow": null,
            "width": null,
            "min_width": null,
            "border": null,
            "align_items": null,
            "bottom": null,
            "_model_module": "@jupyter-widgets/base",
            "top": null,
            "grid_column": null,
            "overflow_y": null,
            "overflow_x": null,
            "grid_auto_flow": null,
            "grid_area": null,
            "grid_template_columns": null,
            "flex": null,
            "_model_name": "LayoutModel",
            "justify_items": null,
            "grid_row": null,
            "max_height": null,
            "align_content": null,
            "visibility": null,
            "align_self": null,
            "height": null,
            "min_height": null,
            "padding": null,
            "grid_auto_rows": null,
            "grid_gap": null,
            "max_width": null,
            "order": null,
            "_view_module_version": "1.2.0",
            "grid_template_areas": null,
            "object_position": null,
            "object_fit": null,
            "grid_auto_columns": null,
            "margin": null,
            "display": null,
            "left": null
          }
        },
        "2479bc516c4e4c1194354ca418a48daf": {
          "model_module": "@jupyter-widgets/controls",
          "model_name": "DescriptionStyleModel",
          "state": {
            "_view_name": "StyleView",
            "_model_name": "DescriptionStyleModel",
            "description_width": "",
            "_view_module": "@jupyter-widgets/base",
            "_model_module_version": "1.5.0",
            "_view_count": null,
            "_view_module_version": "1.2.0",
            "_model_module": "@jupyter-widgets/controls"
          }
        },
        "22f86ccc1fd74c4383596bdca3d048a5": {
          "model_module": "@jupyter-widgets/base",
          "model_name": "LayoutModel",
          "state": {
            "_view_name": "LayoutView",
            "grid_template_rows": null,
            "right": null,
            "justify_content": null,
            "_view_module": "@jupyter-widgets/base",
            "overflow": null,
            "_model_module_version": "1.2.0",
            "_view_count": null,
            "flex_flow": null,
            "width": null,
            "min_width": null,
            "border": null,
            "align_items": null,
            "bottom": null,
            "_model_module": "@jupyter-widgets/base",
            "top": null,
            "grid_column": null,
            "overflow_y": null,
            "overflow_x": null,
            "grid_auto_flow": null,
            "grid_area": null,
            "grid_template_columns": null,
            "flex": null,
            "_model_name": "LayoutModel",
            "justify_items": null,
            "grid_row": null,
            "max_height": null,
            "align_content": null,
            "visibility": null,
            "align_self": null,
            "height": null,
            "min_height": null,
            "padding": null,
            "grid_auto_rows": null,
            "grid_gap": null,
            "max_width": null,
            "order": null,
            "_view_module_version": "1.2.0",
            "grid_template_areas": null,
            "object_position": null,
            "object_fit": null,
            "grid_auto_columns": null,
            "margin": null,
            "display": null,
            "left": null
          }
        }
      }
    }
  },
  "cells": [
    {
      "cell_type": "markdown",
      "metadata": {
        "id": "view-in-github",
        "colab_type": "text"
      },
      "source": [
        "<a href=\"https://colab.research.google.com/github/Leinadh/PeruvianImageGenerator/blob/master/face_segmentation.ipynb\" target=\"_parent\"><img src=\"https://colab.research.google.com/assets/colab-badge.svg\" alt=\"Open In Colab\"/></a>"
      ]
    },
    {
      "cell_type": "code",
      "metadata": {
        "id": "opYS4xCynqx1",
        "colab_type": "code",
        "colab": {
          "base_uri": "https://localhost:8080/",
          "height": 35
        },
        "outputId": "7dba9b84-be1b-4711-9276-6c884f5a4822"
      },
      "source": [
        "from google.colab import drive\n",
        "drive.mount('/content/drive')"
      ],
      "execution_count": 1,
      "outputs": [
        {
          "output_type": "stream",
          "text": [
            "Drive already mounted at /content/drive; to attempt to forcibly remount, call drive.mount(\"/content/drive\", force_remount=True).\n"
          ],
          "name": "stdout"
        }
      ]
    },
    {
      "cell_type": "code",
      "metadata": {
        "id": "5L-D644Q_liL",
        "colab_type": "code",
        "colab": {}
      },
      "source": [
        "# !tar -zxvf '/content/drive/My Drive/Made with ML/datasets/vgg_face_dataset.tar.gz'"
      ],
      "execution_count": 2,
      "outputs": []
    },
    {
      "cell_type": "markdown",
      "metadata": {
        "id": "PP_Sud4__4pL",
        "colab_type": "text"
      },
      "source": [
        "# Image Preprocessing"
      ]
    },
    {
      "cell_type": "code",
      "metadata": {
        "id": "zq4ivZdV_6Py",
        "colab_type": "code",
        "colab": {}
      },
      "source": [
        "!rm -r PeruvianImageGenerator/ # to delete file cloned before"
      ],
      "execution_count": 17,
      "outputs": []
    },
    {
      "cell_type": "code",
      "metadata": {
        "id": "T-KboMs_Flpn",
        "colab_type": "code",
        "colab": {
          "base_uri": "https://localhost:8080/",
          "height": 159
        },
        "outputId": "ec8b5b08-e619-4065-a7e3-bd694f443fca"
      },
      "source": [
        "!git clone https://github.com/Leinadh/PeruvianImageGenerator.git"
      ],
      "execution_count": 18,
      "outputs": [
        {
          "output_type": "stream",
          "text": [
            "Cloning into 'PeruvianImageGenerator'...\n",
            "remote: Enumerating objects: 15, done.\u001b[K\n",
            "remote: Counting objects:   6% (1/15)\u001b[K\rremote: Counting objects:  13% (2/15)\u001b[K\rremote: Counting objects:  20% (3/15)\u001b[K\rremote: Counting objects:  26% (4/15)\u001b[K\rremote: Counting objects:  33% (5/15)\u001b[K\rremote: Counting objects:  40% (6/15)\u001b[K\rremote: Counting objects:  46% (7/15)\u001b[K\rremote: Counting objects:  53% (8/15)\u001b[K\rremote: Counting objects:  60% (9/15)\u001b[K\rremote: Counting objects:  66% (10/15)\u001b[K\rremote: Counting objects:  73% (11/15)\u001b[K\rremote: Counting objects:  80% (12/15)\u001b[K\rremote: Counting objects:  86% (13/15)\u001b[K\rremote: Counting objects:  93% (14/15)\u001b[K\rremote: Counting objects: 100% (15/15)\u001b[K\rremote: Counting objects: 100% (15/15), done.\u001b[K\n",
            "remote: Compressing objects: 100% (12/12), done.\u001b[K\n",
            "remote: Total 14406 (delta 5), reused 10 (delta 3), pack-reused 14391\u001b[K\n",
            "Receiving objects: 100% (14406/14406), 595.16 MiB | 29.54 MiB/s, done.\n",
            "Resolving deltas: 100% (26/26), done.\n",
            "Checking out files: 100% (14324/14324), done.\n"
          ],
          "name": "stdout"
        }
      ]
    },
    {
      "cell_type": "code",
      "metadata": {
        "id": "rDvWHPv44LN4",
        "colab_type": "code",
        "colab": {
          "base_uri": "https://localhost:8080/",
          "height": 35
        },
        "outputId": "58811028-8457-4576-960e-abb22f0dd06c"
      },
      "source": [
        "# !cd PeruvianImageGenerator/; git pull"
      ],
      "execution_count": 27,
      "outputs": [
        {
          "output_type": "stream",
          "text": [
            "Already up to date.\n"
          ],
          "name": "stdout"
        }
      ]
    },
    {
      "cell_type": "code",
      "metadata": {
        "id": "IGlVyQpEFoDI",
        "colab_type": "code",
        "colab": {}
      },
      "source": [
        "import PeruvianImageGenerator.scripts.download_faces as dlf\n",
        "import PeruvianImageGenerator.scripts.plot_utils as plot_utils"
      ],
      "execution_count": 31,
      "outputs": []
    },
    {
      "cell_type": "code",
      "metadata": {
        "id": "bQioj4yhFqJ6",
        "colab_type": "code",
        "colab": {
          "base_uri": "https://localhost:8080/",
          "height": 173,
          "referenced_widgets": [
            "b52d2a18e39f4f7fb7a06c660447f2a5",
            "a4a23ea5f6154e1f9f8d7eac188d1f42",
            "c3f90add91394ff995a6b014731b0b80",
            "25f623a7b26642d983a0f1368c887b14",
            "79cf374244e84cb3895fa16db015fa86",
            "3bbed32239fe43fca1577c21bc831a32",
            "f23c48278e1944c5a62a81d265e55172",
            "8651292ee7724a78af4d03d9e209ec67"
          ]
        },
        "outputId": "ec77e111-67cd-4791-df78-74ffec13e38b"
      },
      "source": [
        "data_path = '/content/PeruvianImageGenerator/datasets/face_datasets/vgg_face_dataset/files'\n",
        "target_path='/content/tmp/face_images/'\n",
        "\n",
        "dlf.download_vgg_images(data_path, num_people=2622, num_images=1, target_path=target_path,\n",
        "                        offset_x_percent=33, offset_top_percent=70,\n",
        "                        offset_bottom_percent=20, min_pose=3, min_score=0,\n",
        "                        curation=False, formats_allowed=['jpg', 'jpeg'], from_notebook=True)"
      ],
      "execution_count": 7,
      "outputs": [
        {
          "output_type": "display_data",
          "data": {
            "application/vnd.jupyter.widget-view+json": {
              "model_id": "b52d2a18e39f4f7fb7a06c660447f2a5",
              "version_minor": 0,
              "version_major": 2
            },
            "text/plain": [
              "HBox(children=(FloatProgress(value=0.0, max=2622.0), HTML(value='')))"
            ]
          },
          "metadata": {
            "tags": []
          }
        },
        {
          "output_type": "stream",
          "text": [
            "/usr/local/lib/python3.6/dist-packages/PIL/TiffImagePlugin.py:788: UserWarning: Corrupt EXIF data.  Expecting to read 4 bytes but only got 0. \n",
            "  warnings.warn(str(msg))\n",
            "/usr/local/lib/python3.6/dist-packages/PIL/TiffImagePlugin.py:788: UserWarning: Corrupt EXIF data.  Expecting to read 2 bytes but only got 0. \n",
            "  warnings.warn(str(msg))\n"
          ],
          "name": "stderr"
        },
        {
          "output_type": "stream",
          "text": [
            "\n",
            "Downloading time: 80.59 min\n",
            "\n"
          ],
          "name": "stdout"
        }
      ]
    },
    {
      "cell_type": "code",
      "metadata": {
        "id": "8LvZTd4_3d1H",
        "colab_type": "code",
        "colab": {
          "base_uri": "https://localhost:8080/",
          "height": 639
        },
        "outputId": "46840c6b-9001-4d1d-fd7f-09cdb5af17d9"
      },
      "source": [
        "dlf.clean_corrupt_files(target_path, formats_allowed=['jpg', 'jpeg'])"
      ],
      "execution_count": 8,
      "outputs": [
        {
          "output_type": "stream",
          "text": [
            "Removing corrupt file: Fred_Astaire_1.jpg\n",
            "Removing corrupt file: Jane_Campion_1.jpg\n",
            "Removing corrupt file: Marcello_Mastroianni_1.jpg\n",
            "Removing corrupt file: Alan_Tudyk_1.jpg\n",
            "Removing corrupt file: Claude_Rains_1.jpg\n",
            "Removing corrupt file: Ty_Olsson_1.jpg\n",
            "Removing corrupt file: Andy_Richter_1.jpg\n",
            "Removing corrupt file: Marlene_Dietrich_1.jpg\n",
            "Removing corrupt file: Adam_Rodriguez_1.jpg\n",
            "Removing corrupt file: Seth_Green_1.jpg\n",
            "Removing corrupt file: Alexander_Siddig_1.jpg\n",
            "Removing corrupt file: Abel_Ferrara_1.jpg\n",
            "Removing corrupt file: Lee_Marvin_1.jpg\n",
            "Removing corrupt file: Grace_Zabriskie_1.jpg\n",
            "Removing corrupt file: Dwight_Schultz_1.jpg\n",
            "Removing corrupt file: Jim_Sturgess_1.jpg\n",
            "Removing corrupt file: Sal_Mineo_1.jpg\n",
            "Removing corrupt file: Suzanne_Pleshette_1.jpg\n",
            "Removing corrupt file: Christina_Moore_1.jpg\n",
            "Removing corrupt file: John_Amos_1.jpg\n",
            "Removing corrupt file: James_Stewart_1.jpg\n",
            "Removing corrupt file: Myrna_Loy_1.jpg\n",
            "Removing corrupt file: Gloria_Reuben_1.jpg\n",
            "Removing corrupt file: Diana_Rigg_1.jpg\n",
            "Removing corrupt file: Dean_Martin_1.jpg\n",
            "Removing corrupt file: Jack_Lemmon_1.jpg\n",
            "Removing corrupt file: Joey_Heatherton_1.jpg\n",
            "Removing corrupt file: Dorothy_Malone_1.jpg\n",
            "Removing corrupt file: Russell_Peters_1.jpg\n",
            "Removing corrupt file: William_Devane_1.jpg\n",
            "Removing corrupt file: Jeffrey_Hunter_1.jpg\n",
            "Removing corrupt file: Ida_Lupino_1.jpg\n",
            "Removing corrupt file: Olivia_de_Havilland_1.jpg\n",
            "\n",
            "33 file(s) removed\n"
          ],
          "name": "stdout"
        }
      ]
    },
    {
      "cell_type": "code",
      "metadata": {
        "id": "Dkw6PmAlguBp",
        "colab_type": "code",
        "colab": {}
      },
      "source": [
        "# !zip -r -q /content/face_images.zip tmp/face_images"
      ],
      "execution_count": 9,
      "outputs": []
    },
    {
      "cell_type": "markdown",
      "metadata": {
        "id": "j5p1yJ4Z4TkV",
        "colab_type": "text"
      },
      "source": [
        "# Image Segmentation"
      ]
    },
    {
      "cell_type": "code",
      "metadata": {
        "id": "mXtqKtVyVbmv",
        "colab_type": "code",
        "colab": {}
      },
      "source": [
        "# !pip install keras-segmentation"
      ],
      "execution_count": 13,
      "outputs": []
    },
    {
      "cell_type": "code",
      "metadata": {
        "id": "RAqWhXVUS7eh",
        "colab_type": "code",
        "colab": {}
      },
      "source": [
        "import numpy as np\n",
        "from PIL import Image\n",
        "import os"
      ],
      "execution_count": 15,
      "outputs": []
    },
    {
      "cell_type": "markdown",
      "metadata": {
        "id": "rVf02HMPAzwV",
        "colab_type": "text"
      },
      "source": [
        "## Show random image"
      ]
    },
    {
      "cell_type": "code",
      "metadata": {
        "id": "ysA1SVe_VKgN",
        "colab_type": "code",
        "colab": {
          "base_uri": "https://localhost:8080/",
          "height": 139
        },
        "outputId": "eb627d9a-f158-4885-ef99-1a1489d0a180"
      },
      "source": [
        "path = '/content/tmp/face_images/'\n",
        "random_img = np.random.choice(os.listdir(path))\n",
        "print(random_img)\n",
        "Image.open(path + '/' + random_img)"
      ],
      "execution_count": 94,
      "outputs": [
        {
          "output_type": "stream",
          "text": [
            "Janina_Gavankar_1.jpg\n"
          ],
          "name": "stdout"
        },
        {
          "output_type": "execute_result",
          "data": {
            "image/png": "[encoded data removed]",
            "text/plain": [
              "<PIL.JpegImagePlugin.JpegImageFile image mode=RGB size=88x104 at 0x7FC285433B38>"
            ]
          },
          "metadata": {
            "tags": []
          },
          "execution_count": 94
        }
      ]
    },
    {
      "cell_type": "markdown",
      "metadata": {
        "id": "vRUG1rotA_aU",
        "colab_type": "text"
      },
      "source": [
        "## Remove background"
      ]
    },
    {
      "cell_type": "code",
      "metadata": {
        "id": "mvvMNZnW5xCu",
        "colab_type": "code",
        "colab": {}
      },
      "source": [
        "import PeruvianImageGenerator.scripts.download_faces as dlf"
      ],
      "execution_count": 40,
      "outputs": []
    },
    {
      "cell_type": "code",
      "metadata": {
        "id": "CIx_EIW2F4C4",
        "colab_type": "code",
        "colab": {
          "base_uri": "https://localhost:8080/",
          "height": 176,
          "referenced_widgets": [
            "45106e8b921c47cb8c992cc60f801ee2",
            "fce6aa13fb1c484c9bb89b9da4361b49",
            "2490427636c04bf28a9bf9d2ab738665",
            "8380093103054bdc82b44d9a58184b42",
            "50307a2668c8430c9cf701c922d4d36f",
            "a321a5532f98469684a6c202af9da1f8",
            "2479bc516c4e4c1194354ca418a48daf",
            "22f86ccc1fd74c4383596bdca3d048a5"
          ]
        },
        "outputId": "ad45466a-e52a-4efc-a391-c285f6366065"
      },
      "source": [
        "images_path = '/content/tmp/face_images/'\n",
        "masks_path = '/content/tmp/masks/'\n",
        "output_path = '/content/face_images_wo_bg/'\n",
        "\n",
        "dlf.remove_background(images_path, masks_path, output_path, from_notebook=True)\n",
        "\n"
      ],
      "execution_count": 41,
      "outputs": [
        {
          "output_type": "stream",
          "text": [
            "f\n"
          ],
          "name": "stdout"
        },
        {
          "output_type": "display_data",
          "data": {
            "application/vnd.jupyter.widget-view+json": {
              "model_id": "45106e8b921c47cb8c992cc60f801ee2",
              "version_minor": 0,
              "version_major": 2
            },
            "text/plain": [
              "HBox(children=(FloatProgress(value=0.0, max=2589.0), HTML(value='')))"
            ]
          },
          "metadata": {
            "tags": []
          }
        },
        {
          "output_type": "stream",
          "text": [
            "WARNING:tensorflow:9 out of the last 9 calls to <function Model.make_predict_function.<locals>.predict_function at 0x7f871bfc9d08> triggered tf.function retracing. Tracing is expensive and the excessive number of tracings could be due to (1) creating @tf.function repeatedly in a loop, (2) passing tensors with different shapes, (3) passing Python objects instead of tensors. For (1), please define your @tf.function outside of the loop. For (2), @tf.function has experimental_relax_shapes=True option that relaxes argument shapes that can avoid unnecessary retracing. For (3), please refer to https://www.tensorflow.org/tutorials/customization/performance#python_or_tensor_args and https://www.tensorflow.org/api_docs/python/tf/function for  more details.\n",
            "\n",
            "Background removed\n",
            "Processing time: 20.31 min\n",
            "\n"
          ],
          "name": "stdout"
        }
      ]
    },
    {
      "cell_type": "code",
      "metadata": {
        "id": "qoHHpQ_YO5yJ",
        "colab_type": "code",
        "colab": {}
      },
      "source": [
        "!zip -r -q /content/face_images_wo_bg.zip face_images_wo_bg"
      ],
      "execution_count": 42,
      "outputs": []
    },
    {
      "cell_type": "code",
      "metadata": {
        "id": "MmmhkHtfIskA",
        "colab_type": "code",
        "colab": {}
      },
      "source": [
        "!cp -r /content/face_images_wo_bg.zip \"/content/drive/My Drive/Made with ML/datasets/face_images_wo_bg-10-08-2020.zip\" #copy to"
      ],
      "execution_count": 43,
      "outputs": []
    }
  ]
}